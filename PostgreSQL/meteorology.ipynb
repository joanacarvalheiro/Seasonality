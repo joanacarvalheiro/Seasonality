{
 "cells": [
  {
   "cell_type": "markdown",
   "metadata": {},
   "source": [
    "# Importações"
   ]
  },
  {
   "cell_type": "code",
   "execution_count": 106,
   "metadata": {},
   "outputs": [],
   "source": [
    "import psycopg2\n",
    "import pandas as pd\n",
    "from sqlalchemy import create_engine, Column, Integer, DateTime, String, Float\n",
    "from sqlalchemy.orm import declarative_base\n",
    "from sqlalchemy.orm import sessionmaker"
   ]
  },
  {
   "cell_type": "markdown",
   "metadata": {},
   "source": [
    "#  PostgreSQL"
   ]
  },
  {
   "cell_type": "markdown",
   "metadata": {},
   "source": [
    "### 1. Conexão "
   ]
  },
  {
   "cell_type": "code",
   "execution_count": 107,
   "metadata": {},
   "outputs": [],
   "source": [
    "db_config = {\n",
    "    'bucket': 'Seasonality',\n",
    "    'user': 'postgres',\n",
    "    'password': 'postgres',\n",
    "    'host': 'localhost',  \n",
    "    'port': 5432,\n",
    "    'table': 'meteorology' \n",
    "}\n",
    "\n",
    "db_url = f\"postgresql://{db_config['user']}:{db_config['password']}@{db_config['host']}:{db_config['port']}/{db_config['bucket']}\"\n",
    "table_name = db_config['table']"
   ]
  },
  {
   "cell_type": "code",
   "execution_count": 174,
   "metadata": {},
   "outputs": [],
   "source": [
    "csv_file = \"../csv_meteorology/Lisbon 2024-09-22 to 2024-11-01.csv\""
   ]
  },
  {
   "cell_type": "markdown",
   "metadata": {},
   "source": [
    "### 2. Definição do modelo de dados"
   ]
  },
  {
   "cell_type": "code",
   "execution_count": 109,
   "metadata": {},
   "outputs": [],
   "source": [
    "# Base para definição dos modelos\n",
    "Base = declarative_base()\n",
    "\n",
    "# Definir o modelo para a tabela\n",
    "class Meteorology(Base):\n",
    "    __tablename__ = table_name\n",
    "    datetime = Column(DateTime, primary_key=True)\n",
    "    temp = Column(Float)\n",
    "    feelslike = Column(Float)\n",
    "    dew = Column(Float)\n",
    "    humidity = Column(Float)\n",
    "    precip = Column(Float)\n",
    "    precipprob = Column(Float)\n",
    "    preciptype = Column(String)\n",
    "    windgust = Column(Float)\n",
    "    windspeed = Column(Float)\n",
    "    winddir = Column(Float)\n",
    "    sealevelpressure = Column(Float)\n",
    "    cloudcover = Column(Float)\n",
    "    visibility = Column(Float)\n",
    "    conditions = Column(String)\n",
    "    stations = Column(String)"
   ]
  },
  {
   "cell_type": "markdown",
   "metadata": {},
   "source": [
    "### 3. Guardar CSV no PostgreSql"
   ]
  },
  {
   "cell_type": "code",
   "execution_count": 175,
   "metadata": {},
   "outputs": [
    {
     "name": "stdout",
     "output_type": "stream",
     "text": [
      "Dados do CSV importados para a tabela meteorology com sucesso!\n"
     ]
    }
   ],
   "source": [
    "engine = create_engine(db_url)\n",
    "\n",
    "def import_csv_to_postgres(csv_file, table_name):\n",
    "    # Carregar os dados do CSV usando pandas\n",
    "    df = pd.read_csv(csv_file)\n",
    "    \n",
    "    # Remover colunas sem valores\n",
    "    df = df.drop(columns=['name', 'icon', 'snow', 'snowdepth', 'solarradiation', 'solarenergy', 'uvindex', 'severerisk'])\n",
    "    \n",
    "    # Substituir NaN por None (NULL no PostgreSQL)\n",
    "    df = df.where(pd.notna(df), None)\n",
    "    \n",
    "    # Criar as tabelas no banco de dados com a chave primária definida\n",
    "    Base.metadata.create_all(engine)\n",
    "    \n",
    "    # Inserir os dados no banco de dados, criando a tabela automaticamente\n",
    "    df.to_sql(table_name, engine, if_exists='append', index=False)\n",
    "    print(f\"Dados do CSV importados para a tabela {table_name} com sucesso!\")\n",
    "\n",
    "def main():\n",
    "    try:\n",
    "        import_csv_to_postgres(csv_file, table_name)\n",
    "    except Exception as e:\n",
    "        print(f\"Erro ao importar os dados: {e}\")\n",
    "\n",
    "if __name__ == \"__main__\":\n",
    "    main()\n"
   ]
  }
 ],
 "metadata": {
  "kernelspec": {
   "display_name": "Python 3",
   "language": "python",
   "name": "python3"
  },
  "language_info": {
   "codemirror_mode": {
    "name": "ipython",
    "version": 3
   },
   "file_extension": ".py",
   "mimetype": "text/x-python",
   "name": "python",
   "nbconvert_exporter": "python",
   "pygments_lexer": "ipython3",
   "version": "3.12.8"
  }
 },
 "nbformat": 4,
 "nbformat_minor": 2
}
