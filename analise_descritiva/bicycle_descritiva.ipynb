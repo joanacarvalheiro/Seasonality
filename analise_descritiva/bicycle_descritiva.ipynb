{
 "cells": [
  {
   "cell_type": "markdown",
   "metadata": {},
   "source": [
    "# Importações"
   ]
  },
  {
   "cell_type": "code",
   "execution_count": null,
   "metadata": {},
   "outputs": [],
   "source": [
    "import pandas as pd \n",
    "import numpy as np"
   ]
  },
  {
   "cell_type": "markdown",
   "metadata": {},
   "source": [
    "# Importar dados do PostgreSQL"
   ]
  },
  {
   "cell_type": "code",
   "execution_count": null,
   "metadata": {},
   "outputs": [],
   "source": [
    "# Como a Api ainda não esta a funcionar, vou importar os dados de um csv\n",
    "df = pd.read_csv('../all_bike_counts.csv', parse_dates=['detected'], dtype='int32')\n",
    "df = df.set_index('detected')\n",
    "df.info()"
   ]
  },
  {
   "cell_type": "code",
   "execution_count": null,
   "metadata": {},
   "outputs": [],
   "source": [
    "df_loc = pd.read_csv('../all_counter_locations.csv')\n",
    "df_loc.info()\n",
    "print()"
   ]
  },
  {
   "cell_type": "markdown",
   "metadata": {},
   "source": [
    "# Analises"
   ]
  },
  {
   "cell_type": "code",
   "execution_count": null,
   "metadata": {},
   "outputs": [],
   "source": [
    "df.index"
   ]
  },
  {
   "cell_type": "code",
   "execution_count": null,
   "metadata": {},
   "outputs": [],
   "source": [
    "df.tail()"
   ]
  },
  {
   "cell_type": "code",
   "execution_count": null,
   "metadata": {},
   "outputs": [],
   "source": [
    "df.loc['2022'].tail(2)"
   ]
  },
  {
   "cell_type": "code",
   "execution_count": null,
   "metadata": {},
   "outputs": [],
   "source": [
    "df.resample('D').first().dropna().index[[0, -1]]"
   ]
  },
  {
   "cell_type": "code",
   "execution_count": null,
   "metadata": {},
   "outputs": [],
   "source": [
    "df.resample('D').first().dropna().iloc[[0, -1]]"
   ]
  },
  {
   "cell_type": "code",
   "execution_count": null,
   "metadata": {},
   "outputs": [],
   "source": [
    "# Seleciona o primeiro e o último dia com os contadores\n",
    "df_mostrar = df.resample('D').first().dropna().iloc[[0, -1]]\n",
    "\n",
    "# Identifica as colunas que representam os contadores e direções\n",
    "contador_cols = [col for col in df.columns if col.startswith('direction_') or col.startswith('count_')]\n",
    "\n",
    "# Identifica o primeiro e o último contador\n",
    "primeiro_contador = sorted(set(int(col.split('_')[1]) for col in contador_cols))[0]\n",
    "ultimo_contador = sorted(set(int(col.split('_')[1]) for col in contador_cols))[-1]\n",
    "\n",
    "# Seleciona as colunas para o primeiro e o último contador\n",
    "primeiro_contador_cols = [f'direction_{primeiro_contador}', f'count_{primeiro_contador}']\n",
    "ultimo_contador_cols = [f'direction_{ultimo_contador}', f'count_{ultimo_contador}']\n",
    "\n",
    "# Exibe as colunas desejadas\n",
    "df_selecionado = df_mostrar[primeiro_contador_cols + ultimo_contador_cols]\n",
    "\n",
    "# Exibe o resultado\n",
    "df_selecionado\n"
   ]
  },
  {
   "cell_type": "code",
   "execution_count": null,
   "metadata": {},
   "outputs": [],
   "source": [
    "df_loc.head(2)"
   ]
  },
  {
   "cell_type": "markdown",
   "metadata": {},
   "source": [
    "### Identificar se há dias com valores a zéro"
   ]
  },
  {
   "cell_type": "code",
   "execution_count": null,
   "metadata": {},
   "outputs": [],
   "source": [
    "location_ids = [2,3,4,8,9,12,13]  \n",
    "contadores = [f\"count_{loc}\" for loc in location_ids]"
   ]
  },
  {
   "cell_type": "code",
   "execution_count": null,
   "metadata": {},
   "outputs": [],
   "source": [
    "df_daily = df.resample('D').sum()"
   ]
  },
  {
   "cell_type": "code",
   "execution_count": null,
   "metadata": {},
   "outputs": [],
   "source": [
    "# Identificar zeros na série\n",
    "for contador in contadores:\n",
    "    if contador in df_daily.columns:  \n",
    "        series = df_daily[contador].copy()  \n",
    "        zero_indices = series[series == 0].index  \n",
    "\n",
    "        if not zero_indices.empty:\n",
    "            print(f\"Zeros encontrados no contador '{contador}' nas datas: {list(zero_indices)}\")"
   ]
  },
  {
   "cell_type": "markdown",
   "metadata": {},
   "source": [
    "São sempre os mesmos dias que estão a zéros em todos os contadores. "
   ]
  }
 ],
 "metadata": {
  "language_info": {
   "name": "python"
  }
 },
 "nbformat": 4,
 "nbformat_minor": 2
}
