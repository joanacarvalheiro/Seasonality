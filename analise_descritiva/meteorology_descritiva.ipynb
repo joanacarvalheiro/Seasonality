{
 "cells": [
  {
   "cell_type": "markdown",
   "metadata": {},
   "source": [
    "# Importações"
   ]
  },
  {
   "cell_type": "code",
   "execution_count": null,
   "metadata": {},
   "outputs": [],
   "source": [
    "import pandas as pd\n",
    "from sqlalchemy import create_engine\n",
    "import numpy as np"
   ]
  },
  {
   "cell_type": "markdown",
   "metadata": {},
   "source": [
    "# Conexão ao PostgreSQl"
   ]
  },
  {
   "cell_type": "code",
   "execution_count": null,
   "metadata": {},
   "outputs": [],
   "source": [
    "#user = \"avnadmin\"\n",
    "#password = \"AVNS_9fZb3BkX9qGXxKpxsrZ\"\n",
    "#host = \"postgresql-iscac.f.aivencloud.com\"\n",
    "#port = \"25674\"\n",
    "#bucket = \"Seasonality\"\n",
    "\n",
    "bucket = 'Seasonality'\n",
    "user = 'postgres'\n",
    "password = 'postgres'\n",
    "host = 'localhost'\n",
    "port = 5432\n",
    "\n",
    "\n",
    "# URL de conexão com PostgreSQL\n",
    "engine = create_engine(f'postgresql+psycopg2://{user}:{password}@{host}:{port}/{bucket}')\n",
    "\n",
    "#Nome da tabela \n",
    "meteorology ='meteorology'"
   ]
  },
  {
   "cell_type": "markdown",
   "metadata": {},
   "source": [
    "# Importar dados do PostgreSQl"
   ]
  },
  {
   "cell_type": "code",
   "execution_count": null,
   "metadata": {},
   "outputs": [],
   "source": [
    "try:\n",
    "    # Ler os dados da tabela no DataFrame\n",
    "    df = pd.read_sql(f\"SELECT * FROM {meteorology}\", con=engine)\n",
    "    \n",
    "    # Exibir as duas primeiras colunas\n",
    "    print(df.head())  \n",
    "except Exception as e:\n",
    "    print(f\"Erro ao importar os dados: {e}\")"
   ]
  },
  {
   "cell_type": "markdown",
   "metadata": {},
   "source": [
    "# Analises"
   ]
  },
  {
   "cell_type": "code",
   "execution_count": null,
   "metadata": {},
   "outputs": [],
   "source": [
    "df"
   ]
  },
  {
   "cell_type": "code",
   "execution_count": null,
   "metadata": {},
   "outputs": [],
   "source": [
    "df[['datetime', 'temp', 'precip', 'windspeed']]"
   ]
  },
  {
   "cell_type": "code",
   "execution_count": null,
   "metadata": {},
   "outputs": [],
   "source": [
    "print(df.dtypes)"
   ]
  },
  {
   "cell_type": "code",
   "execution_count": null,
   "metadata": {},
   "outputs": [],
   "source": [
    "print('Com NaN')\n",
    "print('O ano 2021 tem',df[df['datetime'].dt.year == 2021]['precip'].isna().sum(), 'NaN')\n",
    "print('O ano 2022 tem', df[df['datetime'].dt.year == 2022]['precip'].isna().sum(), 'NaN')\n",
    "print('O ano 2023 tem', df[df['datetime'].dt.year == 2023]['precip'].isna().sum(), 'NaN')\n",
    "print('O ano 2024 tem', df[df['datetime'].dt.year == 2024]['precip'].isna().sum(), 'NaN')\n",
    "print('')\n",
    "print('Com valores 0')\n",
    "print((df[df['datetime'].dt.year == 2021]['precip'] == 0).sum())\n",
    "print((df[df['datetime'].dt.year == 2022]['precip'] == 0).sum())\n",
    "print((df[df['datetime'].dt.year == 2023]['precip'] == 0).sum())\n",
    "print((df[df['datetime'].dt.year == 2024]['precip'] == 0).sum())"
   ]
  },
  {
   "cell_type": "code",
   "execution_count": null,
   "metadata": {},
   "outputs": [],
   "source": [
    "df.isnull().sum()"
   ]
  },
  {
   "cell_type": "code",
   "execution_count": null,
   "metadata": {},
   "outputs": [],
   "source": [
    "df.index"
   ]
  },
  {
   "cell_type": "code",
   "execution_count": null,
   "metadata": {},
   "outputs": [],
   "source": [
    "df.info()"
   ]
  },
  {
   "cell_type": "code",
   "execution_count": null,
   "metadata": {},
   "outputs": [],
   "source": [
    "# Obtém o valor máximo e o valor mínimo da coluna 'precip'\n",
    "precip_max = df['precip'].max()\n",
    "precip_min = df['precip'].min()\n",
    "\n",
    "print(f'Máximo de precipitação {precip_max}')\n",
    "print(f'Mínimo de precipitação: {precip_min}')"
   ]
  },
  {
   "cell_type": "code",
   "execution_count": null,
   "metadata": {},
   "outputs": [],
   "source": [
    "# Obtém o valor máximo e o valor mínimo da coluna 'temp'\n",
    "temp_max = df['temp'].max()\n",
    "temp_min = df['temp'].min()\n",
    "\n",
    "print(f'Máximo de temp: {temp_max}')\n",
    "print(f'Mínimo de temp: {temp_min}')"
   ]
  },
  {
   "cell_type": "code",
   "execution_count": null,
   "metadata": {},
   "outputs": [],
   "source": [
    "# Verificar se há valores não numéricos na coluna 'temp'\n",
    "print(df['temp'].apply(pd.to_numeric, errors='coerce').isna().sum())\n"
   ]
  }
 ],
 "metadata": {
  "language_info": {
   "name": "python"
  }
 },
 "nbformat": 4,
 "nbformat_minor": 2
}
