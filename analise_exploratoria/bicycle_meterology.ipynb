{
 "cells": [
  {
   "cell_type": "markdown",
   "metadata": {},
   "source": [
    "# Importações"
   ]
  },
  {
   "cell_type": "code",
   "execution_count": null,
   "metadata": {},
   "outputs": [],
   "source": [
    "import pandas as pd \n",
    "import numpy as np\n",
    "import matplotlib.pyplot as plt\n",
    "from matplotlib.offsetbox import AnchoredText\n",
    "import plotly.express as px\n",
    "from sqlalchemy import create_engine"
   ]
  },
  {
   "cell_type": "markdown",
   "metadata": {},
   "source": [
    "# Conexão ao PostgreSQl"
   ]
  },
  {
   "cell_type": "markdown",
   "metadata": {},
   "source": [
    "### Dados de meterology"
   ]
  },
  {
   "cell_type": "code",
   "execution_count": null,
   "metadata": {},
   "outputs": [],
   "source": [
    "user = \"avnadmin\"\n",
    "password = \"AVNS_9fZb3BkX9qGXxKpxsrZ\"\n",
    "host = \"postgresql-iscac.f.aivencloud.com\"\n",
    "port = \"25674\"\n",
    "bucket = \"Seasonality\"\n",
    "\n",
    "# URL de conexão com PostgreSQL\n",
    "engine = create_engine(f'postgresql+psycopg2://{user}:{password}@{host}:{port}/{bucket}')\n",
    "\n",
    "#Nome da tabela \n",
    "meteorology ='meteorology'"
   ]
  },
  {
   "cell_type": "markdown",
   "metadata": {},
   "source": [
    "### Dados de bicycle"
   ]
  },
  {
   "cell_type": "code",
   "execution_count": null,
   "metadata": {},
   "outputs": [],
   "source": [
    "# user = \"avnadmin\"\n",
    "# password = \"AVNS_9fZb3BkX9qGXxKpxsrZ\"\n",
    "# host = \"postgresql-iscac.f.aivencloud.com\"\n",
    "# port = \"25674\"\n",
    "# bucket = \"Seasonality\"\n",
    "\n",
    "# # URL de conexão com PostgreSQL\n",
    "# engine = create_engine(f'postgresql+psycopg2://{user}:{password}@{host}:{port}/{bucket}')\n",
    "\n",
    "# #Nome da tabela \n",
    "# meteorology ='bicycle_counter'"
   ]
  },
  {
   "cell_type": "markdown",
   "metadata": {},
   "source": [
    "# Importar dados do PostgreSQl"
   ]
  },
  {
   "cell_type": "markdown",
   "metadata": {},
   "source": [
    "### Dados de meterology"
   ]
  },
  {
   "cell_type": "code",
   "execution_count": null,
   "metadata": {},
   "outputs": [],
   "source": [
    "try:\n",
    "    # Ler os dados da tabela no DataFrame\n",
    "    df = pd.read_sql(f\"SELECT * FROM {meteorology}\", con=engine)\n",
    "    \n",
    "    # Exibir as duas primeiras colunas\n",
    "    print(df.head())  # Seleciona apenas as duas primeiras colunas e mostra as 5 primeiras linhas\n",
    "except Exception as e:\n",
    "    print(f\"Erro ao importar os dados: {e}\")"
   ]
  },
  {
   "cell_type": "markdown",
   "metadata": {},
   "source": [
    "### Dados de bicycle"
   ]
  },
  {
   "cell_type": "markdown",
   "metadata": {},
   "source": [
    "# Analises"
   ]
  }
 ],
 "metadata": {
  "language_info": {
   "name": "python"
  }
 },
 "nbformat": 4,
 "nbformat_minor": 2
}
