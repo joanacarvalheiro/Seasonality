{
 "cells": [
  {
   "cell_type": "markdown",
   "metadata": {},
   "source": [
    "# Importações"
   ]
  },
  {
   "cell_type": "code",
   "execution_count": 1,
   "metadata": {},
   "outputs": [],
   "source": [
    "import pandas as pd\n",
    "from sqlalchemy import create_engine"
   ]
  },
  {
   "cell_type": "markdown",
   "metadata": {},
   "source": [
    "# Conexão ao PostgreSQl"
   ]
  },
  {
   "cell_type": "code",
   "execution_count": 6,
   "metadata": {},
   "outputs": [],
   "source": [
    "user = \"avnadmin\"\n",
    "password = \"AVNS_9fZb3BkX9qGXxKpxsrZ\"\n",
    "host = \"postgresql-iscac.f.aivencloud.com\"\n",
    "port = \"25674\"\n",
    "bucket = \"Seasonality\"\n",
    "\n",
    "# URL de conexão com PostgreSQL\n",
    "engine = create_engine(f'postgresql+psycopg2://{user}:{password}@{host}:{port}/{bucket}')\n",
    "\n",
    "#Nome da tabela \n",
    "meteorology ='meteorology'"
   ]
  },
  {
   "cell_type": "markdown",
   "metadata": {},
   "source": [
    "# Importar dados do PostgreSQl"
   ]
  },
  {
   "cell_type": "code",
   "execution_count": 8,
   "metadata": {},
   "outputs": [
    {
     "name": "stdout",
     "output_type": "stream",
     "text": [
      "             datetime  temp  feelslike   dew  humidity  precip  precipprob  \\\n",
      "0 2021-08-01 00:00:00  17.6       17.6  11.7     68.66     0.0         0.0   \n",
      "1 2021-08-01 01:00:00  17.4       17.4  12.6     73.22     0.0         0.0   \n",
      "2 2021-08-01 02:00:00  17.1       17.1  12.7     75.40     0.0         0.0   \n",
      "3 2021-08-01 03:00:00  17.1       17.1  12.7     75.35     0.0         0.0   \n",
      "4 2021-08-01 04:00:00  17.0       17.0  12.4     74.52     0.0         0.0   \n",
      "\n",
      "  preciptype  windgust  windspeed  winddir  sealevelpressure  cloudcover  \\\n",
      "0       None       NaN       25.0    337.0            1020.7         NaN   \n",
      "1       None       NaN       18.2    338.0            1020.7         NaN   \n",
      "2       None       NaN       17.9    329.0            1020.0         NaN   \n",
      "3       None       NaN       11.2    329.0            1019.9         NaN   \n",
      "4       None       NaN        8.4    349.0            1019.5         NaN   \n",
      "\n",
      "   visibility conditions                                  stations  \n",
      "0        10.0      Clear  08535099999,08536099999,LPPT,08579099999  \n",
      "1        10.0      Clear  08535099999,08536099999,LPPT,08579099999  \n",
      "2        10.0      Clear  08535099999,08536099999,LPPT,08579099999  \n",
      "3        10.0      Clear  08535099999,08536099999,LPPT,08579099999  \n",
      "4        10.0      Clear  08535099999,08536099999,LPPT,08579099999  \n"
     ]
    }
   ],
   "source": [
    "try:\n",
    "    # Ler os dados da tabela no DataFrame\n",
    "    df = pd.read_sql(f\"SELECT * FROM {meteorology}\", con=engine)\n",
    "    \n",
    "    # Exibir as duas primeiras colunas\n",
    "    print(df.head())  # Seleciona apenas as duas primeiras colunas e mostra as 5 primeiras linhas\n",
    "except Exception as e:\n",
    "    print(f\"Erro ao importar os dados: {e}\")"
   ]
  }
 ],
 "metadata": {
  "kernelspec": {
   "display_name": "Python 3",
   "language": "python",
   "name": "python3"
  },
  "language_info": {
   "codemirror_mode": {
    "name": "ipython",
    "version": 3
   },
   "file_extension": ".py",
   "mimetype": "text/x-python",
   "name": "python",
   "nbconvert_exporter": "python",
   "pygments_lexer": "ipython3",
   "version": "3.12.8"
  }
 },
 "nbformat": 4,
 "nbformat_minor": 2
}
