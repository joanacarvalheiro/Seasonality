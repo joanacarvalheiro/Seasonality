{
 "cells": [
  {
   "cell_type": "markdown",
   "id": "79dd58ad",
   "metadata": {},
   "source": [
    "# Importações"
   ]
  },
  {
   "cell_type": "code",
   "execution_count": null,
   "id": "6084478d",
   "metadata": {},
   "outputs": [
    {
     "name": "stderr",
     "output_type": "stream",
     "text": [
      "c:\\Users\\joana\\AppData\\Local\\Programs\\Python\\Python312\\Lib\\site-packages\\tqdm\\auto.py:21: TqdmWarning: IProgress not found. Please update jupyter and ipywidgets. See https://ipywidgets.readthedocs.io/en/stable/user_install.html\n",
      "  from .autonotebook import tqdm as notebook_tqdm\n"
     ]
    }
   ],
   "source": [
    "import pandas as pd \n",
    "import numpy as np\n",
    "import matplotlib.pyplot as plt\n",
    "from matplotlib.offsetbox import AnchoredText\n",
    "import plotly.express as px\n",
    "from sqlalchemy import create_engine\n",
    "from statsmodels.tsa.seasonal import STL\n",
    "from statsforecast import StatsForecast\n",
    "from statsforecast.models import MSTL, AutoARIMA\n",
    "from utilsforecast.plotting import plot_series\n",
    "from datetime import date, timedelta\n",
    "import calendar"
   ]
  },
  {
   "cell_type": "markdown",
   "id": "34ed37d9",
   "metadata": {},
   "source": [
    "# Conexão"
   ]
  },
  {
   "cell_type": "code",
   "execution_count": 2,
   "id": "ce2d11c1",
   "metadata": {},
   "outputs": [
    {
     "name": "stdout",
     "output_type": "stream",
     "text": [
      "<class 'pandas.core.frame.DataFrame'>\n",
      "DatetimeIndex: 943 entries, 2021-08-01 to 2024-02-29\n",
      "Data columns (total 62 columns):\n",
      " #   Column        Non-Null Count  Dtype\n",
      "---  ------        --------------  -----\n",
      " 0   direction_2   943 non-null    int32\n",
      " 1   count_2       943 non-null    int32\n",
      " 2   direction_3   943 non-null    int32\n",
      " 3   count_3       943 non-null    int32\n",
      " 4   direction_4   943 non-null    int32\n",
      " 5   count_4       943 non-null    int32\n",
      " 6   direction_5   943 non-null    int32\n",
      " 7   count_5       943 non-null    int32\n",
      " 8   direction_6   943 non-null    int32\n",
      " 9   count_6       943 non-null    int32\n",
      " 10  direction_7   943 non-null    int32\n",
      " 11  count_7       943 non-null    int32\n",
      " 12  direction_8   943 non-null    int32\n",
      " 13  count_8       943 non-null    int32\n",
      " 14  direction_9   943 non-null    int32\n",
      " 15  count_9       943 non-null    int32\n",
      " 16  direction_10  943 non-null    int32\n",
      " 17  count_10      943 non-null    int32\n",
      " 18  direction_11  943 non-null    int32\n",
      " 19  count_11      943 non-null    int32\n",
      " 20  direction_12  943 non-null    int32\n",
      " 21  count_12      943 non-null    int32\n",
      " 22  direction_13  943 non-null    int32\n",
      " 23  count_13      943 non-null    int32\n",
      " 24  direction_14  943 non-null    int32\n",
      " 25  count_14      943 non-null    int32\n",
      " 26  direction_15  943 non-null    int32\n",
      " 27  count_15      943 non-null    int32\n",
      " 28  direction_16  943 non-null    int32\n",
      " 29  count_16      943 non-null    int32\n",
      " 30  direction_17  943 non-null    int32\n",
      " 31  count_17      943 non-null    int32\n",
      " 32  direction_19  943 non-null    int32\n",
      " 33  count_19      943 non-null    int32\n",
      " 34  direction_20  943 non-null    int32\n",
      " 35  count_20      943 non-null    int32\n",
      " 36  direction_21  943 non-null    int32\n",
      " 37  count_21      943 non-null    int32\n",
      " 38  direction_22  943 non-null    int32\n",
      " 39  count_22      943 non-null    int32\n",
      " 40  direction_24  943 non-null    int32\n",
      " 41  count_24      943 non-null    int32\n",
      " 42  direction_25  943 non-null    int32\n",
      " 43  count_25      943 non-null    int32\n",
      " 44  direction_26  943 non-null    int32\n",
      " 45  count_26      943 non-null    int32\n",
      " 46  direction_28  943 non-null    int32\n",
      " 47  count_28      943 non-null    int32\n",
      " 48  direction_29  943 non-null    int32\n",
      " 49  count_29      943 non-null    int32\n",
      " 50  direction_30  943 non-null    int32\n",
      " 51  count_30      943 non-null    int32\n",
      " 52  direction_31  943 non-null    int32\n",
      " 53  count_31      943 non-null    int32\n",
      " 54  direction_32  943 non-null    int32\n",
      " 55  count_32      943 non-null    int32\n",
      " 56  direction_33  943 non-null    int32\n",
      " 57  count_33      943 non-null    int32\n",
      " 58  direction_34  943 non-null    int32\n",
      " 59  count_34      943 non-null    int32\n",
      " 60  direction_35  943 non-null    int32\n",
      " 61  count_35      943 non-null    int32\n",
      "dtypes: int32(62)\n",
      "memory usage: 235.8 KB\n"
     ]
    }
   ],
   "source": [
    "df_daily_filled = pd.read_csv('../df_daily_filled.csv', parse_dates=['detected'], dtype='int32')\n",
    "df_daily_filled = df_daily_filled.set_index('detected')\n",
    "df_daily_filled.info()"
   ]
  },
  {
   "cell_type": "code",
   "execution_count": 3,
   "id": "e5789d87",
   "metadata": {},
   "outputs": [
    {
     "name": "stdout",
     "output_type": "stream",
     "text": [
      "<class 'pandas.core.frame.DataFrame'>\n",
      "RangeIndex: 31 entries, 0 to 30\n",
      "Data columns (total 9 columns):\n",
      " #   Column             Non-Null Count  Dtype  \n",
      "---  ------             --------------  -----  \n",
      " 0   locationId         31 non-null     int64  \n",
      " 1   tenantIdentifier   31 non-null     object \n",
      " 2   name               31 non-null     object \n",
      " 3   cp7                31 non-null     object \n",
      " 4   freguesia          31 non-null     object \n",
      " 5   directionPositive  0 non-null      float64\n",
      " 6   directionNegative  0 non-null      float64\n",
      " 7   latitude           31 non-null     float64\n",
      " 8   longitude          31 non-null     float64\n",
      "dtypes: float64(4), int64(1), object(4)\n",
      "memory usage: 2.3+ KB\n",
      "\n",
      "            direction_2  count_2  direction_3  count_3  direction_4  count_4  \\\n",
      "detected                                                                       \n",
      "2021-08-01          219      327          155      323          138      424   \n",
      "2021-08-02          144      252          194      381          117      372   \n",
      "\n",
      "            direction_5  count_5  direction_6  count_6  ...  direction_31  \\\n",
      "detected                                                ...                 \n",
      "2021-08-01          238      341          539      673  ...            55   \n",
      "2021-08-02          249      364          735      907  ...            52   \n",
      "\n",
      "            count_31  direction_32  count_32  direction_33  count_33  \\\n",
      "detected                                                               \n",
      "2021-08-01        94           359       500           401       769   \n",
      "2021-08-02       101           377       486           355       590   \n",
      "\n",
      "            direction_34  count_34  direction_35  count_35  \n",
      "detected                                                    \n",
      "2021-08-01           354       691           526      1149  \n",
      "2021-08-02           436       777           523      1163  \n",
      "\n",
      "[2 rows x 62 columns]\n"
     ]
    }
   ],
   "source": [
    "df_loc = pd.read_csv('../all_counter_locations.csv')\n",
    "df_loc.info()\n",
    "print()\n",
    "print(df_daily_filled.head(2))"
   ]
  },
  {
   "cell_type": "code",
   "execution_count": 4,
   "id": "918dee33",
   "metadata": {},
   "outputs": [
    {
     "data": {
      "text/html": [
       "<div>\n",
       "<style scoped>\n",
       "    .dataframe tbody tr th:only-of-type {\n",
       "        vertical-align: middle;\n",
       "    }\n",
       "\n",
       "    .dataframe tbody tr th {\n",
       "        vertical-align: top;\n",
       "    }\n",
       "\n",
       "    .dataframe thead th {\n",
       "        text-align: right;\n",
       "    }\n",
       "</style>\n",
       "<table border=\"1\" class=\"dataframe\">\n",
       "  <thead>\n",
       "    <tr style=\"text-align: right;\">\n",
       "      <th></th>\n",
       "      <th>unique_id</th>\n",
       "      <th>ds</th>\n",
       "      <th>y</th>\n",
       "    </tr>\n",
       "  </thead>\n",
       "  <tbody>\n",
       "    <tr>\n",
       "      <th>0</th>\n",
       "      <td>8</td>\n",
       "      <td>2021-08-01</td>\n",
       "      <td>106</td>\n",
       "    </tr>\n",
       "    <tr>\n",
       "      <th>1</th>\n",
       "      <td>8</td>\n",
       "      <td>2021-08-02</td>\n",
       "      <td>91</td>\n",
       "    </tr>\n",
       "    <tr>\n",
       "      <th>2</th>\n",
       "      <td>8</td>\n",
       "      <td>2021-08-03</td>\n",
       "      <td>115</td>\n",
       "    </tr>\n",
       "    <tr>\n",
       "      <th>3</th>\n",
       "      <td>8</td>\n",
       "      <td>2021-08-04</td>\n",
       "      <td>104</td>\n",
       "    </tr>\n",
       "    <tr>\n",
       "      <th>4</th>\n",
       "      <td>8</td>\n",
       "      <td>2021-08-05</td>\n",
       "      <td>107</td>\n",
       "    </tr>\n",
       "    <tr>\n",
       "      <th>...</th>\n",
       "      <td>...</td>\n",
       "      <td>...</td>\n",
       "      <td>...</td>\n",
       "    </tr>\n",
       "    <tr>\n",
       "      <th>938</th>\n",
       "      <td>8</td>\n",
       "      <td>2024-02-25</td>\n",
       "      <td>75</td>\n",
       "    </tr>\n",
       "    <tr>\n",
       "      <th>939</th>\n",
       "      <td>8</td>\n",
       "      <td>2024-02-26</td>\n",
       "      <td>112</td>\n",
       "    </tr>\n",
       "    <tr>\n",
       "      <th>940</th>\n",
       "      <td>8</td>\n",
       "      <td>2024-02-27</td>\n",
       "      <td>137</td>\n",
       "    </tr>\n",
       "    <tr>\n",
       "      <th>941</th>\n",
       "      <td>8</td>\n",
       "      <td>2024-02-28</td>\n",
       "      <td>156</td>\n",
       "    </tr>\n",
       "    <tr>\n",
       "      <th>942</th>\n",
       "      <td>8</td>\n",
       "      <td>2024-02-29</td>\n",
       "      <td>151</td>\n",
       "    </tr>\n",
       "  </tbody>\n",
       "</table>\n",
       "<p>943 rows × 3 columns</p>\n",
       "</div>"
      ],
      "text/plain": [
       "     unique_id         ds    y\n",
       "0            8 2021-08-01  106\n",
       "1            8 2021-08-02   91\n",
       "2            8 2021-08-03  115\n",
       "3            8 2021-08-04  104\n",
       "4            8 2021-08-05  107\n",
       "..         ...        ...  ...\n",
       "938          8 2024-02-25   75\n",
       "939          8 2024-02-26  112\n",
       "940          8 2024-02-27  137\n",
       "941          8 2024-02-28  156\n",
       "942          8 2024-02-29  151\n",
       "\n",
       "[943 rows x 3 columns]"
      ]
     },
     "execution_count": 4,
     "metadata": {},
     "output_type": "execute_result"
    }
   ],
   "source": [
    "#sem variavel exogena\n",
    "df_daily_filled = df_daily_filled.resample('D').sum()\n",
    "df_8 = df_daily_filled.filter(['count_8']).reset_index().assign(unique_id = 8)\n",
    "df_8 = df_8.filter(['unique_id','detected','count_8'])\n",
    "df_8.columns = ['unique_id','ds','y']\n",
    "df_8"
   ]
  },
  {
   "cell_type": "code",
   "execution_count": 5,
   "id": "37114ac2",
   "metadata": {},
   "outputs": [],
   "source": [
    "def calcular_pascoa(ano):\n",
    "    \"\"\"Calcula a data da Páscoa para um dado ano (algoritmo de Meeus/Jones/Butcher).\"\"\"\n",
    "    a = ano % 19\n",
    "    b = ano // 100\n",
    "    c = ano % 100\n",
    "    d = b // 4\n",
    "    e = b % 4\n",
    "    f = (b + 8) // 25\n",
    "    g = (b - f + 1) // 3\n",
    "    h = (19 * a + b - d - g + 15) % 30\n",
    "    i = c // 4\n",
    "    k = c % 4\n",
    "    l = (32 + 2 * e + 2 * i - h - k) % 7\n",
    "    m = (a + 11 * h + 22 * l) // 451\n",
    "    mes = (h + l - 7 * m + 114) // 31\n",
    "    dia = ((h + l - 7 * m + 114) % 31) + 1\n",
    "    return date(ano, mes, dia)\n",
    "\n",
    "#feriados \n",
    "def calcular_feriados_portugal(anos, incluir_lisboa=False):\n",
    "    feriados = []\n",
    "\n",
    "    for ano in anos:\n",
    "        # Feriados\n",
    "        feriados += [\n",
    "            date(ano, 1, 1),   # Ano Novo\n",
    "            date(ano, 4, 25),  # Dia da Liberdade\n",
    "            date(ano, 5, 1),   # Dia do Trabalhador\n",
    "            date(ano, 6, 10),  # Dia de Portugal\n",
    "            date(ano, 8, 15),  # Assunção de Nossa Senhora\n",
    "            date(ano, 10, 5),  # Implantação da República\n",
    "            date(ano, 11, 1),  # Dia de Todos os Santos\n",
    "            date(ano, 12, 1),  # Restauração da Independência\n",
    "            date(ano, 12, 8),  # Imaculada Conceição\n",
    "            date(ano, 12, 25), # Natal\n",
    "            date(ano, 6, 13),  # Santo António\n",
    "        ]\n",
    "\n",
    "        # Feriados Domingo de Páscoa\n",
    "        pascoa = calcular_pascoa(ano)\n",
    "        feriados += [\n",
    "            pascoa - timedelta(days=47), # Carnaval\n",
    "            pascoa - timedelta(days=2),  # Sexta-feira Santa\n",
    "            pascoa + timedelta(days=1),  # Segunda-feira de Páscoa \n",
    "            pascoa + timedelta(days=60), # Corpo de Deus\n",
    "        ]\n",
    "\n",
    "    return set(feriados)\n"
   ]
  },
  {
   "cell_type": "code",
   "execution_count": 6,
   "id": "97e05ddb",
   "metadata": {},
   "outputs": [],
   "source": [
    "anos = df_daily_filled.index.year.unique()\n",
    "feriados = calcular_feriados_portugal(anos, incluir_lisboa=True)\n",
    "\n",
    "df_daily_filled['holiday'] = df_daily_filled.index.date\n",
    "df_daily_filled['holiday'] = df_daily_filled['holiday'].apply(\n",
    "    lambda x: 1 if x in feriados else 0\n",
    ")\n"
   ]
  },
  {
   "cell_type": "code",
   "execution_count": 7,
   "id": "560d9045",
   "metadata": {},
   "outputs": [],
   "source": [
    "#fim de semana\n",
    "df_daily_filled['weekend'] = df_daily_filled.index.weekday.isin([5, 6]).astype(int)\n",
    "df_daily_filled['exog'] = ((df_daily_filled['holiday'] == 1) | (df_daily_filled['weekend'] == 1)).astype(int)\n"
   ]
  },
  {
   "cell_type": "code",
   "execution_count": 8,
   "id": "5376a660",
   "metadata": {},
   "outputs": [
    {
     "data": {
      "text/html": [
       "<div>\n",
       "<style scoped>\n",
       "    .dataframe tbody tr th:only-of-type {\n",
       "        vertical-align: middle;\n",
       "    }\n",
       "\n",
       "    .dataframe tbody tr th {\n",
       "        vertical-align: top;\n",
       "    }\n",
       "\n",
       "    .dataframe thead th {\n",
       "        text-align: right;\n",
       "    }\n",
       "</style>\n",
       "<table border=\"1\" class=\"dataframe\">\n",
       "  <thead>\n",
       "    <tr style=\"text-align: right;\">\n",
       "      <th></th>\n",
       "      <th>unique_id</th>\n",
       "      <th>ds</th>\n",
       "      <th>y</th>\n",
       "      <th>X</th>\n",
       "    </tr>\n",
       "  </thead>\n",
       "  <tbody>\n",
       "    <tr>\n",
       "      <th>0</th>\n",
       "      <td>8</td>\n",
       "      <td>2021-08-01</td>\n",
       "      <td>106</td>\n",
       "      <td>1</td>\n",
       "    </tr>\n",
       "    <tr>\n",
       "      <th>1</th>\n",
       "      <td>8</td>\n",
       "      <td>2021-08-02</td>\n",
       "      <td>91</td>\n",
       "      <td>0</td>\n",
       "    </tr>\n",
       "    <tr>\n",
       "      <th>2</th>\n",
       "      <td>8</td>\n",
       "      <td>2021-08-03</td>\n",
       "      <td>115</td>\n",
       "      <td>0</td>\n",
       "    </tr>\n",
       "    <tr>\n",
       "      <th>3</th>\n",
       "      <td>8</td>\n",
       "      <td>2021-08-04</td>\n",
       "      <td>104</td>\n",
       "      <td>0</td>\n",
       "    </tr>\n",
       "    <tr>\n",
       "      <th>4</th>\n",
       "      <td>8</td>\n",
       "      <td>2021-08-05</td>\n",
       "      <td>107</td>\n",
       "      <td>0</td>\n",
       "    </tr>\n",
       "    <tr>\n",
       "      <th>...</th>\n",
       "      <td>...</td>\n",
       "      <td>...</td>\n",
       "      <td>...</td>\n",
       "      <td>...</td>\n",
       "    </tr>\n",
       "    <tr>\n",
       "      <th>360</th>\n",
       "      <td>8</td>\n",
       "      <td>2022-07-27</td>\n",
       "      <td>131</td>\n",
       "      <td>0</td>\n",
       "    </tr>\n",
       "    <tr>\n",
       "      <th>361</th>\n",
       "      <td>8</td>\n",
       "      <td>2022-07-28</td>\n",
       "      <td>115</td>\n",
       "      <td>0</td>\n",
       "    </tr>\n",
       "    <tr>\n",
       "      <th>362</th>\n",
       "      <td>8</td>\n",
       "      <td>2022-07-29</td>\n",
       "      <td>99</td>\n",
       "      <td>0</td>\n",
       "    </tr>\n",
       "    <tr>\n",
       "      <th>363</th>\n",
       "      <td>8</td>\n",
       "      <td>2022-07-30</td>\n",
       "      <td>75</td>\n",
       "      <td>1</td>\n",
       "    </tr>\n",
       "    <tr>\n",
       "      <th>364</th>\n",
       "      <td>8</td>\n",
       "      <td>2022-07-31</td>\n",
       "      <td>79</td>\n",
       "      <td>1</td>\n",
       "    </tr>\n",
       "  </tbody>\n",
       "</table>\n",
       "<p>365 rows × 4 columns</p>\n",
       "</div>"
      ],
      "text/plain": [
       "     unique_id         ds    y  X\n",
       "0            8 2021-08-01  106  1\n",
       "1            8 2021-08-02   91  0\n",
       "2            8 2021-08-03  115  0\n",
       "3            8 2021-08-04  104  0\n",
       "4            8 2021-08-05  107  0\n",
       "..         ...        ...  ... ..\n",
       "360          8 2022-07-27  131  0\n",
       "361          8 2022-07-28  115  0\n",
       "362          8 2022-07-29   99  0\n",
       "363          8 2022-07-30   75  1\n",
       "364          8 2022-07-31   79  1\n",
       "\n",
       "[365 rows x 4 columns]"
      ]
     },
     "execution_count": 8,
     "metadata": {},
     "output_type": "execute_result"
    }
   ],
   "source": [
    "#com variavel exogena \n",
    "df_8_1 = df_daily_filled[['count_8', 'exog']].reset_index().assign(unique_id=8)\n",
    "df_8_1.columns = ['ds', 'y', 'X', 'unique_id']\n",
    "df_8_1 = df_8_1[['unique_id', 'ds', 'y', 'X']].query('ds < \"2022-08-01\"')\n",
    "df_8_1"
   ]
  },
  {
   "cell_type": "markdown",
   "id": "78fe97d5",
   "metadata": {},
   "source": [
    "# MSTL forecast"
   ]
  },
  {
   "cell_type": "code",
   "execution_count": 9,
   "id": "76b2e12f",
   "metadata": {},
   "outputs": [
    {
     "name": "stdout",
     "output_type": "stream",
     "text": [
      "   unique_id         ds        MSTL  MSTL-lo-99.7  MSTL-hi-99.7\n",
      "0          8 2022-08-01  118.129478     49.413067    186.845886\n"
     ]
    }
   ],
   "source": [
    "#model = AutoARIMA(season_length=7)\n",
    "model = MSTL(season_length=[7], trend_forecaster=AutoARIMA())\n",
    "\n",
    "sf = StatsForecast(\n",
    "    models=[model],\n",
    "    freq='D',\n",
    "    n_jobs=-1\n",
    ")\n",
    "\n",
    "sf.fit(df_8_1)\n",
    "\n",
    "# Criar o DataFrame de previsão para o próximo dia\n",
    "future_dates = pd.date_range(start='2024-03-01', periods=1, freq='D')\n",
    "future_exog = pd.DataFrame({\n",
    "    'ds': future_dates,\n",
    "    'X': [0]  \n",
    "})\n",
    "future_exog['unique_id'] = 8  \n",
    "\n",
    "# Realizar a previsão\n",
    "levels=[99.7]\n",
    "fcst = sf.forecast(df=df_8_1, X_df=future_exog, h=1, level=levels, fitted=True)\n",
    "\n",
    "# Exibir as previsões\n",
    "print(fcst)\n"
   ]
  },
  {
   "cell_type": "code",
   "execution_count": 10,
   "id": "0e703603",
   "metadata": {},
   "outputs": [],
   "source": [
    "# models = [MSTL(season_length = [7])]\n",
    "# sf = StatsForecast(\n",
    "#     models=models, \n",
    "#     freq='D',\n",
    "#     n_jobs=-1,\n",
    "# )\n",
    "\n",
    "# horizon = 7\n",
    "# levels = [99] \n",
    "\n",
    "# fcst = sf.forecast(df=df_8_1, h=7, level=[99], fitted=True)\n",
    "# fcst.head()"
   ]
  },
  {
   "cell_type": "code",
   "execution_count": 11,
   "id": "cad13b7f",
   "metadata": {},
   "outputs": [
    {
     "data": {
      "text/html": [
       "<div>\n",
       "<style scoped>\n",
       "    .dataframe tbody tr th:only-of-type {\n",
       "        vertical-align: middle;\n",
       "    }\n",
       "\n",
       "    .dataframe tbody tr th {\n",
       "        vertical-align: top;\n",
       "    }\n",
       "\n",
       "    .dataframe thead th {\n",
       "        text-align: right;\n",
       "    }\n",
       "</style>\n",
       "<table border=\"1\" class=\"dataframe\">\n",
       "  <thead>\n",
       "    <tr style=\"text-align: right;\">\n",
       "      <th></th>\n",
       "      <th>unique_id</th>\n",
       "      <th>ds</th>\n",
       "      <th>y</th>\n",
       "      <th>MSTL</th>\n",
       "      <th>MSTL-lo-99.7</th>\n",
       "      <th>MSTL-hi-99.7</th>\n",
       "    </tr>\n",
       "  </thead>\n",
       "  <tbody>\n",
       "    <tr>\n",
       "      <th>0</th>\n",
       "      <td>8</td>\n",
       "      <td>2021-08-01</td>\n",
       "      <td>106.0</td>\n",
       "      <td>97.394295</td>\n",
       "      <td>28.677883</td>\n",
       "      <td>166.110703</td>\n",
       "    </tr>\n",
       "    <tr>\n",
       "      <th>1</th>\n",
       "      <td>8</td>\n",
       "      <td>2021-08-02</td>\n",
       "      <td>91.0</td>\n",
       "      <td>98.473061</td>\n",
       "      <td>29.756651</td>\n",
       "      <td>167.189468</td>\n",
       "    </tr>\n",
       "    <tr>\n",
       "      <th>2</th>\n",
       "      <td>8</td>\n",
       "      <td>2021-08-03</td>\n",
       "      <td>115.0</td>\n",
       "      <td>95.154320</td>\n",
       "      <td>26.437908</td>\n",
       "      <td>163.870728</td>\n",
       "    </tr>\n",
       "    <tr>\n",
       "      <th>3</th>\n",
       "      <td>8</td>\n",
       "      <td>2021-08-04</td>\n",
       "      <td>104.0</td>\n",
       "      <td>108.334389</td>\n",
       "      <td>39.617977</td>\n",
       "      <td>177.050797</td>\n",
       "    </tr>\n",
       "    <tr>\n",
       "      <th>4</th>\n",
       "      <td>8</td>\n",
       "      <td>2021-08-05</td>\n",
       "      <td>107.0</td>\n",
       "      <td>99.840744</td>\n",
       "      <td>31.124329</td>\n",
       "      <td>168.557159</td>\n",
       "    </tr>\n",
       "  </tbody>\n",
       "</table>\n",
       "</div>"
      ],
      "text/plain": [
       "   unique_id         ds      y        MSTL  MSTL-lo-99.7  MSTL-hi-99.7\n",
       "0          8 2021-08-01  106.0   97.394295     28.677883    166.110703\n",
       "1          8 2021-08-02   91.0   98.473061     29.756651    167.189468\n",
       "2          8 2021-08-03  115.0   95.154320     26.437908    163.870728\n",
       "3          8 2021-08-04  104.0  108.334389     39.617977    177.050797\n",
       "4          8 2021-08-05  107.0   99.840744     31.124329    168.557159"
      ]
     },
     "execution_count": 11,
     "metadata": {},
     "output_type": "execute_result"
    }
   ],
   "source": [
    "insample_forecasts = sf.forecast_fitted_values()\n",
    "insample_forecasts.head()\n"
   ]
  },
  {
   "cell_type": "code",
   "execution_count": 12,
   "id": "d58d605a",
   "metadata": {},
   "outputs": [
    {
     "data": {
      "text/html": [
       "<div>\n",
       "<style scoped>\n",
       "    .dataframe tbody tr th:only-of-type {\n",
       "        vertical-align: middle;\n",
       "    }\n",
       "\n",
       "    .dataframe tbody tr th {\n",
       "        vertical-align: top;\n",
       "    }\n",
       "\n",
       "    .dataframe thead th {\n",
       "        text-align: right;\n",
       "    }\n",
       "</style>\n",
       "<table border=\"1\" class=\"dataframe\">\n",
       "  <thead>\n",
       "    <tr style=\"text-align: right;\">\n",
       "      <th></th>\n",
       "      <th>unique_id</th>\n",
       "      <th>ds</th>\n",
       "      <th>y</th>\n",
       "      <th>MSTL</th>\n",
       "      <th>MSTL-lo-99.7</th>\n",
       "      <th>MSTL-hi-99.7</th>\n",
       "    </tr>\n",
       "  </thead>\n",
       "  <tbody>\n",
       "    <tr>\n",
       "      <th>146</th>\n",
       "      <td>8</td>\n",
       "      <td>2021-12-25</td>\n",
       "      <td>276.0</td>\n",
       "      <td>91.666786</td>\n",
       "      <td>22.950373</td>\n",
       "      <td>160.383194</td>\n",
       "    </tr>\n",
       "    <tr>\n",
       "      <th>147</th>\n",
       "      <td>8</td>\n",
       "      <td>2021-12-26</td>\n",
       "      <td>389.0</td>\n",
       "      <td>228.984833</td>\n",
       "      <td>160.268417</td>\n",
       "      <td>297.701233</td>\n",
       "    </tr>\n",
       "    <tr>\n",
       "      <th>148</th>\n",
       "      <td>8</td>\n",
       "      <td>2021-12-27</td>\n",
       "      <td>50.0</td>\n",
       "      <td>174.463547</td>\n",
       "      <td>105.747131</td>\n",
       "      <td>243.179962</td>\n",
       "    </tr>\n",
       "  </tbody>\n",
       "</table>\n",
       "</div>"
      ],
      "text/plain": [
       "     unique_id         ds      y        MSTL  MSTL-lo-99.7  MSTL-hi-99.7\n",
       "146          8 2021-12-25  276.0   91.666786     22.950373    160.383194\n",
       "147          8 2021-12-26  389.0  228.984833    160.268417    297.701233\n",
       "148          8 2021-12-27   50.0  174.463547    105.747131    243.179962"
      ]
     },
     "execution_count": 12,
     "metadata": {},
     "output_type": "execute_result"
    }
   ],
   "source": [
    "# anomalies = insample_forecasts[~insample_forecasts['y'].between(insample_forecasts['MSTL-lo-99'], insample_forecasts['MSTL-hi-99'])]\n",
    "# anomalies\n",
    "anomalies = insample_forecasts[\n",
    "    ~insample_forecasts['y'].between(\n",
    "        insample_forecasts.iloc[:,4],\n",
    "        insample_forecasts.iloc[:,5]\n",
    "    )\n",
    "]\n",
    "\n",
    "anomalies"
   ]
  },
  {
   "cell_type": "code",
   "execution_count": 13,
   "id": "bb6bafda",
   "metadata": {},
   "outputs": [
    {
     "data": {
      "application/vnd.plotly.v1+json": {
       "config": {
        "plotlyServerURL": "https://plot.ly"
       },
       "data": [
        {
         "legendgroup": "y",
         "line": {
          "color": "#1f77b4",
          "width": 1
         },
         "mode": "lines",
         "name": "y",
         "showlegend": true,
         "type": "scatter",
         "x": [
          "2021-08-01T00:00:00.000000000",
          "2021-08-02T00:00:00.000000000",
          "2021-08-03T00:00:00.000000000",
          "2021-08-04T00:00:00.000000000",
          "2021-08-05T00:00:00.000000000",
          "2021-08-06T00:00:00.000000000",
          "2021-08-07T00:00:00.000000000",
          "2021-08-08T00:00:00.000000000",
          "2021-08-09T00:00:00.000000000",
          "2021-08-10T00:00:00.000000000",
          "2021-08-11T00:00:00.000000000",
          "2021-08-12T00:00:00.000000000",
          "2021-08-13T00:00:00.000000000",
          "2021-08-14T00:00:00.000000000",
          "2021-08-15T00:00:00.000000000",
          "2021-08-16T00:00:00.000000000",
          "2021-08-17T00:00:00.000000000",
          "2021-08-18T00:00:00.000000000",
          "2021-08-19T00:00:00.000000000",
          "2021-08-20T00:00:00.000000000",
          "2021-08-21T00:00:00.000000000",
          "2021-08-22T00:00:00.000000000",
          "2021-08-23T00:00:00.000000000",
          "2021-08-24T00:00:00.000000000",
          "2021-08-25T00:00:00.000000000",
          "2021-08-26T00:00:00.000000000",
          "2021-08-27T00:00:00.000000000",
          "2021-08-28T00:00:00.000000000",
          "2021-08-29T00:00:00.000000000",
          "2021-08-30T00:00:00.000000000",
          "2021-08-31T00:00:00.000000000",
          "2021-09-01T00:00:00.000000000",
          "2021-09-02T00:00:00.000000000",
          "2021-09-03T00:00:00.000000000",
          "2021-09-04T00:00:00.000000000",
          "2021-09-05T00:00:00.000000000",
          "2021-09-06T00:00:00.000000000",
          "2021-09-07T00:00:00.000000000",
          "2021-09-08T00:00:00.000000000",
          "2021-09-09T00:00:00.000000000",
          "2021-09-10T00:00:00.000000000",
          "2021-09-11T00:00:00.000000000",
          "2021-09-12T00:00:00.000000000",
          "2021-09-13T00:00:00.000000000",
          "2021-09-14T00:00:00.000000000",
          "2021-09-15T00:00:00.000000000",
          "2021-09-16T00:00:00.000000000",
          "2021-09-17T00:00:00.000000000",
          "2021-09-18T00:00:00.000000000",
          "2021-09-19T00:00:00.000000000",
          "2021-09-20T00:00:00.000000000",
          "2021-09-21T00:00:00.000000000",
          "2021-09-22T00:00:00.000000000",
          "2021-09-23T00:00:00.000000000",
          "2021-09-24T00:00:00.000000000",
          "2021-09-25T00:00:00.000000000",
          "2021-09-26T00:00:00.000000000",
          "2021-09-27T00:00:00.000000000",
          "2021-09-28T00:00:00.000000000",
          "2021-09-29T00:00:00.000000000",
          "2021-09-30T00:00:00.000000000",
          "2021-10-01T00:00:00.000000000",
          "2021-10-02T00:00:00.000000000",
          "2021-10-03T00:00:00.000000000",
          "2021-10-04T00:00:00.000000000",
          "2021-10-05T00:00:00.000000000",
          "2021-10-06T00:00:00.000000000",
          "2021-10-07T00:00:00.000000000",
          "2021-10-08T00:00:00.000000000",
          "2021-10-09T00:00:00.000000000",
          "2021-10-10T00:00:00.000000000",
          "2021-10-11T00:00:00.000000000",
          "2021-10-12T00:00:00.000000000",
          "2021-10-13T00:00:00.000000000",
          "2021-10-14T00:00:00.000000000",
          "2021-10-15T00:00:00.000000000",
          "2021-10-16T00:00:00.000000000",
          "2021-10-17T00:00:00.000000000",
          "2021-10-18T00:00:00.000000000",
          "2021-10-19T00:00:00.000000000",
          "2021-10-20T00:00:00.000000000",
          "2021-10-21T00:00:00.000000000",
          "2021-10-22T00:00:00.000000000",
          "2021-10-23T00:00:00.000000000",
          "2021-10-24T00:00:00.000000000",
          "2021-10-25T00:00:00.000000000",
          "2021-10-26T00:00:00.000000000",
          "2021-10-27T00:00:00.000000000",
          "2021-10-28T00:00:00.000000000",
          "2021-10-29T00:00:00.000000000",
          "2021-10-30T00:00:00.000000000",
          "2021-10-31T00:00:00.000000000",
          "2021-11-01T00:00:00.000000000",
          "2021-11-02T00:00:00.000000000",
          "2021-11-03T00:00:00.000000000",
          "2021-11-04T00:00:00.000000000",
          "2021-11-05T00:00:00.000000000",
          "2021-11-06T00:00:00.000000000",
          "2021-11-07T00:00:00.000000000",
          "2021-11-08T00:00:00.000000000",
          "2021-11-09T00:00:00.000000000",
          "2021-11-10T00:00:00.000000000",
          "2021-11-11T00:00:00.000000000",
          "2021-11-12T00:00:00.000000000",
          "2021-11-13T00:00:00.000000000",
          "2021-11-14T00:00:00.000000000",
          "2021-11-15T00:00:00.000000000",
          "2021-11-16T00:00:00.000000000",
          "2021-11-17T00:00:00.000000000",
          "2021-11-18T00:00:00.000000000",
          "2021-11-19T00:00:00.000000000",
          "2021-11-20T00:00:00.000000000",
          "2021-11-21T00:00:00.000000000",
          "2021-11-22T00:00:00.000000000",
          "2021-11-23T00:00:00.000000000",
          "2021-11-24T00:00:00.000000000",
          "2021-11-25T00:00:00.000000000",
          "2021-11-26T00:00:00.000000000",
          "2021-11-27T00:00:00.000000000",
          "2021-11-28T00:00:00.000000000",
          "2021-11-29T00:00:00.000000000",
          "2021-11-30T00:00:00.000000000",
          "2021-12-01T00:00:00.000000000",
          "2021-12-02T00:00:00.000000000",
          "2021-12-03T00:00:00.000000000",
          "2021-12-04T00:00:00.000000000",
          "2021-12-05T00:00:00.000000000",
          "2021-12-06T00:00:00.000000000",
          "2021-12-07T00:00:00.000000000",
          "2021-12-08T00:00:00.000000000",
          "2021-12-09T00:00:00.000000000",
          "2021-12-10T00:00:00.000000000",
          "2021-12-11T00:00:00.000000000",
          "2021-12-12T00:00:00.000000000",
          "2021-12-13T00:00:00.000000000",
          "2021-12-14T00:00:00.000000000",
          "2021-12-15T00:00:00.000000000",
          "2021-12-16T00:00:00.000000000",
          "2021-12-17T00:00:00.000000000",
          "2021-12-18T00:00:00.000000000",
          "2021-12-19T00:00:00.000000000",
          "2021-12-20T00:00:00.000000000",
          "2021-12-21T00:00:00.000000000",
          "2021-12-22T00:00:00.000000000",
          "2021-12-23T00:00:00.000000000",
          "2021-12-24T00:00:00.000000000",
          "2021-12-25T00:00:00.000000000",
          "2021-12-26T00:00:00.000000000",
          "2021-12-27T00:00:00.000000000",
          "2021-12-28T00:00:00.000000000",
          "2021-12-29T00:00:00.000000000",
          "2021-12-30T00:00:00.000000000",
          "2021-12-31T00:00:00.000000000",
          "2022-01-01T00:00:00.000000000",
          "2022-01-02T00:00:00.000000000",
          "2022-01-03T00:00:00.000000000",
          "2022-01-04T00:00:00.000000000",
          "2022-01-05T00:00:00.000000000",
          "2022-01-06T00:00:00.000000000",
          "2022-01-07T00:00:00.000000000",
          "2022-01-08T00:00:00.000000000",
          "2022-01-09T00:00:00.000000000",
          "2022-01-10T00:00:00.000000000",
          "2022-01-11T00:00:00.000000000",
          "2022-01-12T00:00:00.000000000",
          "2022-01-13T00:00:00.000000000",
          "2022-01-14T00:00:00.000000000",
          "2022-01-15T00:00:00.000000000",
          "2022-01-16T00:00:00.000000000",
          "2022-01-17T00:00:00.000000000",
          "2022-01-18T00:00:00.000000000",
          "2022-01-19T00:00:00.000000000",
          "2022-01-20T00:00:00.000000000",
          "2022-01-21T00:00:00.000000000",
          "2022-01-22T00:00:00.000000000",
          "2022-01-23T00:00:00.000000000",
          "2022-01-24T00:00:00.000000000",
          "2022-01-25T00:00:00.000000000",
          "2022-01-26T00:00:00.000000000",
          "2022-01-27T00:00:00.000000000",
          "2022-01-28T00:00:00.000000000",
          "2022-01-29T00:00:00.000000000",
          "2022-01-30T00:00:00.000000000",
          "2022-01-31T00:00:00.000000000",
          "2022-02-01T00:00:00.000000000",
          "2022-02-02T00:00:00.000000000",
          "2022-02-03T00:00:00.000000000",
          "2022-02-04T00:00:00.000000000",
          "2022-02-05T00:00:00.000000000",
          "2022-02-06T00:00:00.000000000",
          "2022-02-07T00:00:00.000000000",
          "2022-02-08T00:00:00.000000000",
          "2022-02-09T00:00:00.000000000",
          "2022-02-10T00:00:00.000000000",
          "2022-02-11T00:00:00.000000000",
          "2022-02-12T00:00:00.000000000",
          "2022-02-13T00:00:00.000000000",
          "2022-02-14T00:00:00.000000000",
          "2022-02-15T00:00:00.000000000",
          "2022-02-16T00:00:00.000000000",
          "2022-02-17T00:00:00.000000000",
          "2022-02-18T00:00:00.000000000",
          "2022-02-19T00:00:00.000000000",
          "2022-02-20T00:00:00.000000000",
          "2022-02-21T00:00:00.000000000",
          "2022-02-22T00:00:00.000000000",
          "2022-02-23T00:00:00.000000000",
          "2022-02-24T00:00:00.000000000",
          "2022-02-25T00:00:00.000000000",
          "2022-02-26T00:00:00.000000000",
          "2022-02-27T00:00:00.000000000",
          "2022-02-28T00:00:00.000000000",
          "2022-03-01T00:00:00.000000000",
          "2022-03-02T00:00:00.000000000",
          "2022-03-03T00:00:00.000000000",
          "2022-03-04T00:00:00.000000000",
          "2022-03-05T00:00:00.000000000",
          "2022-03-06T00:00:00.000000000",
          "2022-03-07T00:00:00.000000000",
          "2022-03-08T00:00:00.000000000",
          "2022-03-09T00:00:00.000000000",
          "2022-03-10T00:00:00.000000000",
          "2022-03-11T00:00:00.000000000",
          "2022-03-12T00:00:00.000000000",
          "2022-03-13T00:00:00.000000000",
          "2022-03-14T00:00:00.000000000",
          "2022-03-15T00:00:00.000000000",
          "2022-03-16T00:00:00.000000000",
          "2022-03-17T00:00:00.000000000",
          "2022-03-18T00:00:00.000000000",
          "2022-03-19T00:00:00.000000000",
          "2022-03-20T00:00:00.000000000",
          "2022-03-21T00:00:00.000000000",
          "2022-03-22T00:00:00.000000000",
          "2022-03-23T00:00:00.000000000",
          "2022-03-24T00:00:00.000000000",
          "2022-03-25T00:00:00.000000000",
          "2022-03-26T00:00:00.000000000",
          "2022-03-27T00:00:00.000000000",
          "2022-03-28T00:00:00.000000000",
          "2022-03-29T00:00:00.000000000",
          "2022-03-30T00:00:00.000000000",
          "2022-03-31T00:00:00.000000000",
          "2022-04-01T00:00:00.000000000",
          "2022-04-02T00:00:00.000000000",
          "2022-04-03T00:00:00.000000000",
          "2022-04-04T00:00:00.000000000",
          "2022-04-05T00:00:00.000000000",
          "2022-04-06T00:00:00.000000000",
          "2022-04-07T00:00:00.000000000",
          "2022-04-08T00:00:00.000000000",
          "2022-04-09T00:00:00.000000000",
          "2022-04-10T00:00:00.000000000",
          "2022-04-11T00:00:00.000000000",
          "2022-04-12T00:00:00.000000000",
          "2022-04-13T00:00:00.000000000",
          "2022-04-14T00:00:00.000000000",
          "2022-04-15T00:00:00.000000000",
          "2022-04-16T00:00:00.000000000",
          "2022-04-17T00:00:00.000000000",
          "2022-04-18T00:00:00.000000000",
          "2022-04-19T00:00:00.000000000",
          "2022-04-20T00:00:00.000000000",
          "2022-04-21T00:00:00.000000000",
          "2022-04-22T00:00:00.000000000",
          "2022-04-23T00:00:00.000000000",
          "2022-04-24T00:00:00.000000000",
          "2022-04-25T00:00:00.000000000",
          "2022-04-26T00:00:00.000000000",
          "2022-04-27T00:00:00.000000000",
          "2022-04-28T00:00:00.000000000",
          "2022-04-29T00:00:00.000000000",
          "2022-04-30T00:00:00.000000000",
          "2022-05-01T00:00:00.000000000",
          "2022-05-02T00:00:00.000000000",
          "2022-05-03T00:00:00.000000000",
          "2022-05-04T00:00:00.000000000",
          "2022-05-05T00:00:00.000000000",
          "2022-05-06T00:00:00.000000000",
          "2022-05-07T00:00:00.000000000",
          "2022-05-08T00:00:00.000000000",
          "2022-05-09T00:00:00.000000000",
          "2022-05-10T00:00:00.000000000",
          "2022-05-11T00:00:00.000000000",
          "2022-05-12T00:00:00.000000000",
          "2022-05-13T00:00:00.000000000",
          "2022-05-14T00:00:00.000000000",
          "2022-05-15T00:00:00.000000000",
          "2022-05-16T00:00:00.000000000",
          "2022-05-17T00:00:00.000000000",
          "2022-05-18T00:00:00.000000000",
          "2022-05-19T00:00:00.000000000",
          "2022-05-20T00:00:00.000000000",
          "2022-05-21T00:00:00.000000000",
          "2022-05-22T00:00:00.000000000",
          "2022-05-23T00:00:00.000000000",
          "2022-05-24T00:00:00.000000000",
          "2022-05-25T00:00:00.000000000",
          "2022-05-26T00:00:00.000000000",
          "2022-05-27T00:00:00.000000000",
          "2022-05-28T00:00:00.000000000",
          "2022-05-29T00:00:00.000000000",
          "2022-05-30T00:00:00.000000000",
          "2022-05-31T00:00:00.000000000",
          "2022-06-01T00:00:00.000000000",
          "2022-06-02T00:00:00.000000000",
          "2022-06-03T00:00:00.000000000",
          "2022-06-04T00:00:00.000000000",
          "2022-06-05T00:00:00.000000000",
          "2022-06-06T00:00:00.000000000",
          "2022-06-07T00:00:00.000000000",
          "2022-06-08T00:00:00.000000000",
          "2022-06-09T00:00:00.000000000",
          "2022-06-10T00:00:00.000000000",
          "2022-06-11T00:00:00.000000000",
          "2022-06-12T00:00:00.000000000",
          "2022-06-13T00:00:00.000000000",
          "2022-06-14T00:00:00.000000000",
          "2022-06-15T00:00:00.000000000",
          "2022-06-16T00:00:00.000000000",
          "2022-06-17T00:00:00.000000000",
          "2022-06-18T00:00:00.000000000",
          "2022-06-19T00:00:00.000000000",
          "2022-06-20T00:00:00.000000000",
          "2022-06-21T00:00:00.000000000",
          "2022-06-22T00:00:00.000000000",
          "2022-06-23T00:00:00.000000000",
          "2022-06-24T00:00:00.000000000",
          "2022-06-25T00:00:00.000000000",
          "2022-06-26T00:00:00.000000000",
          "2022-06-27T00:00:00.000000000",
          "2022-06-28T00:00:00.000000000",
          "2022-06-29T00:00:00.000000000",
          "2022-06-30T00:00:00.000000000",
          "2022-07-01T00:00:00.000000000",
          "2022-07-02T00:00:00.000000000",
          "2022-07-03T00:00:00.000000000",
          "2022-07-04T00:00:00.000000000",
          "2022-07-05T00:00:00.000000000",
          "2022-07-06T00:00:00.000000000",
          "2022-07-07T00:00:00.000000000",
          "2022-07-08T00:00:00.000000000",
          "2022-07-09T00:00:00.000000000",
          "2022-07-10T00:00:00.000000000",
          "2022-07-11T00:00:00.000000000",
          "2022-07-12T00:00:00.000000000",
          "2022-07-13T00:00:00.000000000",
          "2022-07-14T00:00:00.000000000",
          "2022-07-15T00:00:00.000000000",
          "2022-07-16T00:00:00.000000000",
          "2022-07-17T00:00:00.000000000",
          "2022-07-18T00:00:00.000000000",
          "2022-07-19T00:00:00.000000000",
          "2022-07-20T00:00:00.000000000",
          "2022-07-21T00:00:00.000000000",
          "2022-07-22T00:00:00.000000000",
          "2022-07-23T00:00:00.000000000",
          "2022-07-24T00:00:00.000000000",
          "2022-07-25T00:00:00.000000000",
          "2022-07-26T00:00:00.000000000",
          "2022-07-27T00:00:00.000000000",
          "2022-07-28T00:00:00.000000000",
          "2022-07-29T00:00:00.000000000",
          "2022-07-30T00:00:00.000000000",
          "2022-07-31T00:00:00.000000000"
         ],
         "xaxis": "x",
         "y": {
          "bdata": "AADUQgAAtkIAAOZCAADQQgAA1kIAAJpCAACOQgAAmkIAALBCAACGQgAAikIAAJpCAAB4QgAAbEIAAIpCAACcQgAAmkIAAJpCAACiQgAAgEIAAIhCAACgQgAAlEIAALhCAACcQgAAsEIAAK5CAABYQgAAwEIAALpCAADGQgAAqkIAAJZCAACqQgAAnEIAAMBCAAC6QgAAkEIAALhCAACoQgAA0EIAANRCAADuQgAAYEIAAHxCAAC6QgAA1EIAAIhCAAC+QgAAqEIAALxCAADSQgAA4kIAAK5CAACWQgAArkIAAMRCAADGQgAAsEIAAMpCAACuQgAAzkIAALJCAAC+QgAAvkIAAMpCAAD+QgAAukIAAN5CAADEQgAAukIAAPZCAADcQgAABEMAAANDAAD4QgAAyEIAAMpCAAAGQwAACkMAALRCAACQQgAA9kIAAOhCAADaQgAAzEIAAA1DAAALQwAABUMAAOJCAACKQgAA+kIAAMBCAACyQgAAsEIAADFDAADuQgAAjkIAANJCAADsQgAABkMAAAdDAAD4QgAA6EIAAIhCAADmQgAAAEMAAPpCAAC6QgAA2kIAAM5CAABcQgAArEIAAMJCAADcQgAABEMAAJpCAADgQgAAZEIAAIhCAACyQgAA5EIAAGxCAADCQgAA3kIAAFBCAACYQgAAxkIAAKBCAABYQgAAkEIAAIBCAACoQgAA6kIAALpCAADoQgAA9kIAAOpCAADcQgAAkEIAALpCAADiQgAAHEIAAExCAAA8QgAACEIAAIpDAIDCQwAASEIAAIZCAAB8QgAAfEIAAHhCAACAQgAAwkIAAHRCAABcQgAAfEIAAK5CAABoQgAAqEIAAMJCAACwQgAAtkIAAL5CAACeQgAAhEIAAJZCAAB8QgAAgkIAAJJCAABkQgAA1kIAAKxCAACEQgAAzkIAAI5CAACAQgAApEIAAIhCAACOQgAAUEIAAHhCAACgQgAAuEIAAKhCAACaQgAAskIAAI5CAADkQgAAukIAANZCAADKQgAAukIAAKRCAACAQgAAeEIAAKhCAACuQgAAxEIAAMJCAACoQgAAPEIAAJxCAADqQgAA/EIAAAVDAADEQgAA6EIAAKRCAADWQgAAgkIAANBCAACsQgAAIEIAAFRCAAAYQgAAxEIAAJhCAADAQgAAnkIAAO5CAAC2QgAAEEIAALhCAACQQgAAnkIAAGxCAACMQgAAokIAAIpCAAAcQgAAbEIAABRCAAAMQgAAiEIAAKRCAACQQgAAskIAAJhCAACYQgAAxEIAALpCAACkQgAAtEIAAKhCAACQQgAAmkIAANJCAADQQgAAskIAAPhBAACyQgAAdEIAALZCAADSQgAAkEIAAJRCAAB4QgAAGEIAALJCAACcQgAAoEIAAHRCAAAcQgAAJEIAAKhCAACsQgAAbEIAAKZCAACuQgAAuEIAALRCAACIQgAArEIAAOxCAAAQQwAAAUMAANRCAACgQgAA3EIAAOJCAADwQgAABEMAAARDAAC8QgAAtEIAAJRCAAC4QgAAykIAAAlDAAAXQwAAzkIAAIBCAACgQgAA3kIAAMJCAAAGQwAACkMAAPxCAAC4QgAA0EIAALRCAACyQgAA3kIAAMZCAACaQgAAZEIAAKJCAADQQgAA0kIAAOpCAAAJQwAAkkIAABxCAACKQgAAhEIAANRCAACiQgAAsEIAANBCAACUQgAAgEIAAOBCAADMQgAA3EIAAP5CAADUQgAAykIAAPZCAADuQgAAzEIAAM5CAADiQgAAA0MAAKZCAAB4QgAA7kIAAAxDAADeQgAA+EIAAMJCAABwQgAAcEIAAMpCAAAOQwAA1EIAANJCAADYQgAAlkIAAI5CAAAAQwAABkMAABNDAAABQwAAAEMAANRCAADCQgAAFkMAACNDAAADQwAA5kIAAMZCAACWQgAAnkI=",
          "dtype": "f4"
         },
         "yaxis": "y"
        },
        {
         "legendgroup": "MSTL",
         "line": {
          "color": "#17becf",
          "width": 1
         },
         "mode": "lines",
         "name": "MSTL",
         "showlegend": true,
         "type": "scatter",
         "x": [
          "2021-08-01T00:00:00.000000000",
          "2021-08-02T00:00:00.000000000",
          "2021-08-03T00:00:00.000000000",
          "2021-08-04T00:00:00.000000000",
          "2021-08-05T00:00:00.000000000",
          "2021-08-06T00:00:00.000000000",
          "2021-08-07T00:00:00.000000000",
          "2021-08-08T00:00:00.000000000",
          "2021-08-09T00:00:00.000000000",
          "2021-08-10T00:00:00.000000000",
          "2021-08-11T00:00:00.000000000",
          "2021-08-12T00:00:00.000000000",
          "2021-08-13T00:00:00.000000000",
          "2021-08-14T00:00:00.000000000",
          "2021-08-15T00:00:00.000000000",
          "2021-08-16T00:00:00.000000000",
          "2021-08-17T00:00:00.000000000",
          "2021-08-18T00:00:00.000000000",
          "2021-08-19T00:00:00.000000000",
          "2021-08-20T00:00:00.000000000",
          "2021-08-21T00:00:00.000000000",
          "2021-08-22T00:00:00.000000000",
          "2021-08-23T00:00:00.000000000",
          "2021-08-24T00:00:00.000000000",
          "2021-08-25T00:00:00.000000000",
          "2021-08-26T00:00:00.000000000",
          "2021-08-27T00:00:00.000000000",
          "2021-08-28T00:00:00.000000000",
          "2021-08-29T00:00:00.000000000",
          "2021-08-30T00:00:00.000000000",
          "2021-08-31T00:00:00.000000000",
          "2021-09-01T00:00:00.000000000",
          "2021-09-02T00:00:00.000000000",
          "2021-09-03T00:00:00.000000000",
          "2021-09-04T00:00:00.000000000",
          "2021-09-05T00:00:00.000000000",
          "2021-09-06T00:00:00.000000000",
          "2021-09-07T00:00:00.000000000",
          "2021-09-08T00:00:00.000000000",
          "2021-09-09T00:00:00.000000000",
          "2021-09-10T00:00:00.000000000",
          "2021-09-11T00:00:00.000000000",
          "2021-09-12T00:00:00.000000000",
          "2021-09-13T00:00:00.000000000",
          "2021-09-14T00:00:00.000000000",
          "2021-09-15T00:00:00.000000000",
          "2021-09-16T00:00:00.000000000",
          "2021-09-17T00:00:00.000000000",
          "2021-09-18T00:00:00.000000000",
          "2021-09-19T00:00:00.000000000",
          "2021-09-20T00:00:00.000000000",
          "2021-09-21T00:00:00.000000000",
          "2021-09-22T00:00:00.000000000",
          "2021-09-23T00:00:00.000000000",
          "2021-09-24T00:00:00.000000000",
          "2021-09-25T00:00:00.000000000",
          "2021-09-26T00:00:00.000000000",
          "2021-09-27T00:00:00.000000000",
          "2021-09-28T00:00:00.000000000",
          "2021-09-29T00:00:00.000000000",
          "2021-09-30T00:00:00.000000000",
          "2021-10-01T00:00:00.000000000",
          "2021-10-02T00:00:00.000000000",
          "2021-10-03T00:00:00.000000000",
          "2021-10-04T00:00:00.000000000",
          "2021-10-05T00:00:00.000000000",
          "2021-10-06T00:00:00.000000000",
          "2021-10-07T00:00:00.000000000",
          "2021-10-08T00:00:00.000000000",
          "2021-10-09T00:00:00.000000000",
          "2021-10-10T00:00:00.000000000",
          "2021-10-11T00:00:00.000000000",
          "2021-10-12T00:00:00.000000000",
          "2021-10-13T00:00:00.000000000",
          "2021-10-14T00:00:00.000000000",
          "2021-10-15T00:00:00.000000000",
          "2021-10-16T00:00:00.000000000",
          "2021-10-17T00:00:00.000000000",
          "2021-10-18T00:00:00.000000000",
          "2021-10-19T00:00:00.000000000",
          "2021-10-20T00:00:00.000000000",
          "2021-10-21T00:00:00.000000000",
          "2021-10-22T00:00:00.000000000",
          "2021-10-23T00:00:00.000000000",
          "2021-10-24T00:00:00.000000000",
          "2021-10-25T00:00:00.000000000",
          "2021-10-26T00:00:00.000000000",
          "2021-10-27T00:00:00.000000000",
          "2021-10-28T00:00:00.000000000",
          "2021-10-29T00:00:00.000000000",
          "2021-10-30T00:00:00.000000000",
          "2021-10-31T00:00:00.000000000",
          "2021-11-01T00:00:00.000000000",
          "2021-11-02T00:00:00.000000000",
          "2021-11-03T00:00:00.000000000",
          "2021-11-04T00:00:00.000000000",
          "2021-11-05T00:00:00.000000000",
          "2021-11-06T00:00:00.000000000",
          "2021-11-07T00:00:00.000000000",
          "2021-11-08T00:00:00.000000000",
          "2021-11-09T00:00:00.000000000",
          "2021-11-10T00:00:00.000000000",
          "2021-11-11T00:00:00.000000000",
          "2021-11-12T00:00:00.000000000",
          "2021-11-13T00:00:00.000000000",
          "2021-11-14T00:00:00.000000000",
          "2021-11-15T00:00:00.000000000",
          "2021-11-16T00:00:00.000000000",
          "2021-11-17T00:00:00.000000000",
          "2021-11-18T00:00:00.000000000",
          "2021-11-19T00:00:00.000000000",
          "2021-11-20T00:00:00.000000000",
          "2021-11-21T00:00:00.000000000",
          "2021-11-22T00:00:00.000000000",
          "2021-11-23T00:00:00.000000000",
          "2021-11-24T00:00:00.000000000",
          "2021-11-25T00:00:00.000000000",
          "2021-11-26T00:00:00.000000000",
          "2021-11-27T00:00:00.000000000",
          "2021-11-28T00:00:00.000000000",
          "2021-11-29T00:00:00.000000000",
          "2021-11-30T00:00:00.000000000",
          "2021-12-01T00:00:00.000000000",
          "2021-12-02T00:00:00.000000000",
          "2021-12-03T00:00:00.000000000",
          "2021-12-04T00:00:00.000000000",
          "2021-12-05T00:00:00.000000000",
          "2021-12-06T00:00:00.000000000",
          "2021-12-07T00:00:00.000000000",
          "2021-12-08T00:00:00.000000000",
          "2021-12-09T00:00:00.000000000",
          "2021-12-10T00:00:00.000000000",
          "2021-12-11T00:00:00.000000000",
          "2021-12-12T00:00:00.000000000",
          "2021-12-13T00:00:00.000000000",
          "2021-12-14T00:00:00.000000000",
          "2021-12-15T00:00:00.000000000",
          "2021-12-16T00:00:00.000000000",
          "2021-12-17T00:00:00.000000000",
          "2021-12-18T00:00:00.000000000",
          "2021-12-19T00:00:00.000000000",
          "2021-12-20T00:00:00.000000000",
          "2021-12-21T00:00:00.000000000",
          "2021-12-22T00:00:00.000000000",
          "2021-12-23T00:00:00.000000000",
          "2021-12-24T00:00:00.000000000",
          "2021-12-25T00:00:00.000000000",
          "2021-12-26T00:00:00.000000000",
          "2021-12-27T00:00:00.000000000",
          "2021-12-28T00:00:00.000000000",
          "2021-12-29T00:00:00.000000000",
          "2021-12-30T00:00:00.000000000",
          "2021-12-31T00:00:00.000000000",
          "2022-01-01T00:00:00.000000000",
          "2022-01-02T00:00:00.000000000",
          "2022-01-03T00:00:00.000000000",
          "2022-01-04T00:00:00.000000000",
          "2022-01-05T00:00:00.000000000",
          "2022-01-06T00:00:00.000000000",
          "2022-01-07T00:00:00.000000000",
          "2022-01-08T00:00:00.000000000",
          "2022-01-09T00:00:00.000000000",
          "2022-01-10T00:00:00.000000000",
          "2022-01-11T00:00:00.000000000",
          "2022-01-12T00:00:00.000000000",
          "2022-01-13T00:00:00.000000000",
          "2022-01-14T00:00:00.000000000",
          "2022-01-15T00:00:00.000000000",
          "2022-01-16T00:00:00.000000000",
          "2022-01-17T00:00:00.000000000",
          "2022-01-18T00:00:00.000000000",
          "2022-01-19T00:00:00.000000000",
          "2022-01-20T00:00:00.000000000",
          "2022-01-21T00:00:00.000000000",
          "2022-01-22T00:00:00.000000000",
          "2022-01-23T00:00:00.000000000",
          "2022-01-24T00:00:00.000000000",
          "2022-01-25T00:00:00.000000000",
          "2022-01-26T00:00:00.000000000",
          "2022-01-27T00:00:00.000000000",
          "2022-01-28T00:00:00.000000000",
          "2022-01-29T00:00:00.000000000",
          "2022-01-30T00:00:00.000000000",
          "2022-01-31T00:00:00.000000000",
          "2022-02-01T00:00:00.000000000",
          "2022-02-02T00:00:00.000000000",
          "2022-02-03T00:00:00.000000000",
          "2022-02-04T00:00:00.000000000",
          "2022-02-05T00:00:00.000000000",
          "2022-02-06T00:00:00.000000000",
          "2022-02-07T00:00:00.000000000",
          "2022-02-08T00:00:00.000000000",
          "2022-02-09T00:00:00.000000000",
          "2022-02-10T00:00:00.000000000",
          "2022-02-11T00:00:00.000000000",
          "2022-02-12T00:00:00.000000000",
          "2022-02-13T00:00:00.000000000",
          "2022-02-14T00:00:00.000000000",
          "2022-02-15T00:00:00.000000000",
          "2022-02-16T00:00:00.000000000",
          "2022-02-17T00:00:00.000000000",
          "2022-02-18T00:00:00.000000000",
          "2022-02-19T00:00:00.000000000",
          "2022-02-20T00:00:00.000000000",
          "2022-02-21T00:00:00.000000000",
          "2022-02-22T00:00:00.000000000",
          "2022-02-23T00:00:00.000000000",
          "2022-02-24T00:00:00.000000000",
          "2022-02-25T00:00:00.000000000",
          "2022-02-26T00:00:00.000000000",
          "2022-02-27T00:00:00.000000000",
          "2022-02-28T00:00:00.000000000",
          "2022-03-01T00:00:00.000000000",
          "2022-03-02T00:00:00.000000000",
          "2022-03-03T00:00:00.000000000",
          "2022-03-04T00:00:00.000000000",
          "2022-03-05T00:00:00.000000000",
          "2022-03-06T00:00:00.000000000",
          "2022-03-07T00:00:00.000000000",
          "2022-03-08T00:00:00.000000000",
          "2022-03-09T00:00:00.000000000",
          "2022-03-10T00:00:00.000000000",
          "2022-03-11T00:00:00.000000000",
          "2022-03-12T00:00:00.000000000",
          "2022-03-13T00:00:00.000000000",
          "2022-03-14T00:00:00.000000000",
          "2022-03-15T00:00:00.000000000",
          "2022-03-16T00:00:00.000000000",
          "2022-03-17T00:00:00.000000000",
          "2022-03-18T00:00:00.000000000",
          "2022-03-19T00:00:00.000000000",
          "2022-03-20T00:00:00.000000000",
          "2022-03-21T00:00:00.000000000",
          "2022-03-22T00:00:00.000000000",
          "2022-03-23T00:00:00.000000000",
          "2022-03-24T00:00:00.000000000",
          "2022-03-25T00:00:00.000000000",
          "2022-03-26T00:00:00.000000000",
          "2022-03-27T00:00:00.000000000",
          "2022-03-28T00:00:00.000000000",
          "2022-03-29T00:00:00.000000000",
          "2022-03-30T00:00:00.000000000",
          "2022-03-31T00:00:00.000000000",
          "2022-04-01T00:00:00.000000000",
          "2022-04-02T00:00:00.000000000",
          "2022-04-03T00:00:00.000000000",
          "2022-04-04T00:00:00.000000000",
          "2022-04-05T00:00:00.000000000",
          "2022-04-06T00:00:00.000000000",
          "2022-04-07T00:00:00.000000000",
          "2022-04-08T00:00:00.000000000",
          "2022-04-09T00:00:00.000000000",
          "2022-04-10T00:00:00.000000000",
          "2022-04-11T00:00:00.000000000",
          "2022-04-12T00:00:00.000000000",
          "2022-04-13T00:00:00.000000000",
          "2022-04-14T00:00:00.000000000",
          "2022-04-15T00:00:00.000000000",
          "2022-04-16T00:00:00.000000000",
          "2022-04-17T00:00:00.000000000",
          "2022-04-18T00:00:00.000000000",
          "2022-04-19T00:00:00.000000000",
          "2022-04-20T00:00:00.000000000",
          "2022-04-21T00:00:00.000000000",
          "2022-04-22T00:00:00.000000000",
          "2022-04-23T00:00:00.000000000",
          "2022-04-24T00:00:00.000000000",
          "2022-04-25T00:00:00.000000000",
          "2022-04-26T00:00:00.000000000",
          "2022-04-27T00:00:00.000000000",
          "2022-04-28T00:00:00.000000000",
          "2022-04-29T00:00:00.000000000",
          "2022-04-30T00:00:00.000000000",
          "2022-05-01T00:00:00.000000000",
          "2022-05-02T00:00:00.000000000",
          "2022-05-03T00:00:00.000000000",
          "2022-05-04T00:00:00.000000000",
          "2022-05-05T00:00:00.000000000",
          "2022-05-06T00:00:00.000000000",
          "2022-05-07T00:00:00.000000000",
          "2022-05-08T00:00:00.000000000",
          "2022-05-09T00:00:00.000000000",
          "2022-05-10T00:00:00.000000000",
          "2022-05-11T00:00:00.000000000",
          "2022-05-12T00:00:00.000000000",
          "2022-05-13T00:00:00.000000000",
          "2022-05-14T00:00:00.000000000",
          "2022-05-15T00:00:00.000000000",
          "2022-05-16T00:00:00.000000000",
          "2022-05-17T00:00:00.000000000",
          "2022-05-18T00:00:00.000000000",
          "2022-05-19T00:00:00.000000000",
          "2022-05-20T00:00:00.000000000",
          "2022-05-21T00:00:00.000000000",
          "2022-05-22T00:00:00.000000000",
          "2022-05-23T00:00:00.000000000",
          "2022-05-24T00:00:00.000000000",
          "2022-05-25T00:00:00.000000000",
          "2022-05-26T00:00:00.000000000",
          "2022-05-27T00:00:00.000000000",
          "2022-05-28T00:00:00.000000000",
          "2022-05-29T00:00:00.000000000",
          "2022-05-30T00:00:00.000000000",
          "2022-05-31T00:00:00.000000000",
          "2022-06-01T00:00:00.000000000",
          "2022-06-02T00:00:00.000000000",
          "2022-06-03T00:00:00.000000000",
          "2022-06-04T00:00:00.000000000",
          "2022-06-05T00:00:00.000000000",
          "2022-06-06T00:00:00.000000000",
          "2022-06-07T00:00:00.000000000",
          "2022-06-08T00:00:00.000000000",
          "2022-06-09T00:00:00.000000000",
          "2022-06-10T00:00:00.000000000",
          "2022-06-11T00:00:00.000000000",
          "2022-06-12T00:00:00.000000000",
          "2022-06-13T00:00:00.000000000",
          "2022-06-14T00:00:00.000000000",
          "2022-06-15T00:00:00.000000000",
          "2022-06-16T00:00:00.000000000",
          "2022-06-17T00:00:00.000000000",
          "2022-06-18T00:00:00.000000000",
          "2022-06-19T00:00:00.000000000",
          "2022-06-20T00:00:00.000000000",
          "2022-06-21T00:00:00.000000000",
          "2022-06-22T00:00:00.000000000",
          "2022-06-23T00:00:00.000000000",
          "2022-06-24T00:00:00.000000000",
          "2022-06-25T00:00:00.000000000",
          "2022-06-26T00:00:00.000000000",
          "2022-06-27T00:00:00.000000000",
          "2022-06-28T00:00:00.000000000",
          "2022-06-29T00:00:00.000000000",
          "2022-06-30T00:00:00.000000000",
          "2022-07-01T00:00:00.000000000",
          "2022-07-02T00:00:00.000000000",
          "2022-07-03T00:00:00.000000000",
          "2022-07-04T00:00:00.000000000",
          "2022-07-05T00:00:00.000000000",
          "2022-07-06T00:00:00.000000000",
          "2022-07-07T00:00:00.000000000",
          "2022-07-08T00:00:00.000000000",
          "2022-07-09T00:00:00.000000000",
          "2022-07-10T00:00:00.000000000",
          "2022-07-11T00:00:00.000000000",
          "2022-07-12T00:00:00.000000000",
          "2022-07-13T00:00:00.000000000",
          "2022-07-14T00:00:00.000000000",
          "2022-07-15T00:00:00.000000000",
          "2022-07-16T00:00:00.000000000",
          "2022-07-17T00:00:00.000000000",
          "2022-07-18T00:00:00.000000000",
          "2022-07-19T00:00:00.000000000",
          "2022-07-20T00:00:00.000000000",
          "2022-07-21T00:00:00.000000000",
          "2022-07-22T00:00:00.000000000",
          "2022-07-23T00:00:00.000000000",
          "2022-07-24T00:00:00.000000000",
          "2022-07-25T00:00:00.000000000",
          "2022-07-26T00:00:00.000000000",
          "2022-07-27T00:00:00.000000000",
          "2022-07-28T00:00:00.000000000",
          "2022-07-29T00:00:00.000000000",
          "2022-07-30T00:00:00.000000000",
          "2022-07-31T00:00:00.000000000"
         ],
         "xaxis": "x",
         "y": {
          "bdata": "4cnCQjXyxEIDT75CNavYQnaux0KlEb9CnCaaQkgTvULFoqpCJm/AQlF4okKbRK9Cj42cQmWNiUJu6qdCE7eaQlGzrEL7aKZCgzOpQkcHmkJtAoZCcMysQrWjnkJL7qJCxze3QqB9oUKsRqRCLISaQnSFm0JrnbZCUYasQqpPwELL/KdCcqObQlbboUJV07ZCWuOtQuuhskJp5alCvwS1QpNDokK8JbhCW1bMQuxowkJaH4xC0Pe6QnayrUK8Vr9CQd2OQhwDzULdAp9Cne64QjQw1kISz7lCY9OvQndgoEKyPLlCDfO7QjzlukIj4MlCVH2yQt8YtUJQD7ZCWUKuQq/zxELIXLpCcGbXQsecykIF/7pCnIK4Qr5CukKXT8dCAoPlQuu60kKaueJClC7kQjjYs0KCQMtCFKzTQkuB+UKWhu1Cxz7HQgGzvkJx4rNCe4faQv8D10Lfwd5CWY/1QptG+kIV5epCLaWXQtWNwkJUru9COSzYQnDIxkImENpCUyoOQ44GeEI0H89CkV/ZQr5Y9kI1DeRCx7IBQ+a+40Ij0o1C6qDGQjV26kIljPtCF47ZQusw30Iy8eBCdGt7QsyXu0Iy6M9CXOXbQv2VxkIT8vVCg66sQrkGoUKhIrNC4pi7QtTpykLrjbxCDNGXQsALzUI1VadCfa3FQtoXpkLbhsNC1j6LQiB2kUKGwKBCqFugQnFp/UJQ6Z5CI6qqQtPlr0LFS8NC/6q1Qqaw6UKdavtCVHqOQpC6xELD6kFCw/qeQqtbWUJlVbdCHvxkQ6t2LkN2JSZCY0bNQuA+nkLcC5VC6WHgQmTf/0KsAYlCpB2PQnH5iUIdpZ9CQhqUQkEMvULTfP5CNd12QrLlqkIaNKFCW2a6QpGRjEIopLJClYjbQmmNYUJp+qRCoDGYQstfmUInrbVCTJ2SQmAytkIlPLFCgjGgQsZNn0K05LNCHkaNQhyngUKNFJlCHpOWQm/ts0LQnrNCQqmmQtXdnEJ4oIFCif2pQt+Dx0KPkb1Cu/DOQtzQsEKux7VCyTVqQmTDtUI5zZZC8a3QQmm+tELgarNCzZK1QkyKX0Lu36dC1/6nQjM760LU7c9CvZbVQn+FtkJqXJpCKX3GQn5bx0L4nrNCRBjVQrZXrkIVlpFC2npTQrN6oELMQLhCPkGvQp42ukJ3j6ZCBtrYQnQib0JudZ5CKJSwQqKwp0LkPqtCtj6cQgceqkKd2XdCXAizQkz9VUJa36ZCHlRxQqDijkIZRpxCXeBqQmMRpEIZhJpCWeybQp6gqEKogr1Cu9SpQv0EgEI29LZC4F6fQiFin0Ly4LlCjkjCQopktUIQ1YtCQvJ2QiCEv0IUEopCW6XaQpp+tUJClJBC5OqDQtFilUKjIHtC3gXBQgF+vUJ6PalCIGGDQolnMkL1Q4BCY0apQqdFqUL0irRCOhGwQpKrkUI5X4JCZe2dQu9BnkJKTLNC1IvzQhvQ50IAX7hCyfWVQpdqnkK2zthCRW/HQk7oAkNnuPFC+rTJQqTBjUJ9QrdCYNeyQhuryEKDQvZC7JACQ47R1UJ0JI5CMKefQtWUwUL/GdpCY1nrQr4hBkMa18hCCrOmQsEWtELhTNpCwgzFQj6R6UJxO/dCvbiuQtTwekLHy5lCYqHEQqiIzUI2NeBCmHzyQt490ELVf1lCIR2NQl+tukLWVq5CJ8bcQiPgvUJYH7JCsV+IQie+k0JqubZCyeXjQho+vUIb9+dC2/nMQoMWh0Knq61COFD2Qps/6kLGb8xCnqbiQh4BzEKMzahC+j+TQg0C0EJu9f1CDKzpQj2B3kLH/NtCuJOFQoAAikJ8JtFC/2DrQgEV70K8l9FC4+3JQlrYkUJnfo5Ci6rZQhgwAkNUKuBCLdkAQ/9X1EIrnKpC4dqsQt9x9UJV3A9DNUwBQ1YI9UIKIdpCXDmWQtTpm0I=",
          "dtype": "f4"
         },
         "yaxis": "y"
        },
        {
         "fill": "toself",
         "fillcolor": "#17becf",
         "legendgroup": "MSTL_level_99.7",
         "line": {
          "color": "#17becf",
          "width": 1
         },
         "mode": "lines",
         "name": "MSTL_level_99.7",
         "opacity": 0.0030000000000000027,
         "showlegend": true,
         "type": "scatter",
         "x": [
          "2021-08-01T00:00:00.000000000",
          "2021-08-02T00:00:00.000000000",
          "2021-08-03T00:00:00.000000000",
          "2021-08-04T00:00:00.000000000",
          "2021-08-05T00:00:00.000000000",
          "2021-08-06T00:00:00.000000000",
          "2021-08-07T00:00:00.000000000",
          "2021-08-08T00:00:00.000000000",
          "2021-08-09T00:00:00.000000000",
          "2021-08-10T00:00:00.000000000",
          "2021-08-11T00:00:00.000000000",
          "2021-08-12T00:00:00.000000000",
          "2021-08-13T00:00:00.000000000",
          "2021-08-14T00:00:00.000000000",
          "2021-08-15T00:00:00.000000000",
          "2021-08-16T00:00:00.000000000",
          "2021-08-17T00:00:00.000000000",
          "2021-08-18T00:00:00.000000000",
          "2021-08-19T00:00:00.000000000",
          "2021-08-20T00:00:00.000000000",
          "2021-08-21T00:00:00.000000000",
          "2021-08-22T00:00:00.000000000",
          "2021-08-23T00:00:00.000000000",
          "2021-08-24T00:00:00.000000000",
          "2021-08-25T00:00:00.000000000",
          "2021-08-26T00:00:00.000000000",
          "2021-08-27T00:00:00.000000000",
          "2021-08-28T00:00:00.000000000",
          "2021-08-29T00:00:00.000000000",
          "2021-08-30T00:00:00.000000000",
          "2021-08-31T00:00:00.000000000",
          "2021-09-01T00:00:00.000000000",
          "2021-09-02T00:00:00.000000000",
          "2021-09-03T00:00:00.000000000",
          "2021-09-04T00:00:00.000000000",
          "2021-09-05T00:00:00.000000000",
          "2021-09-06T00:00:00.000000000",
          "2021-09-07T00:00:00.000000000",
          "2021-09-08T00:00:00.000000000",
          "2021-09-09T00:00:00.000000000",
          "2021-09-10T00:00:00.000000000",
          "2021-09-11T00:00:00.000000000",
          "2021-09-12T00:00:00.000000000",
          "2021-09-13T00:00:00.000000000",
          "2021-09-14T00:00:00.000000000",
          "2021-09-15T00:00:00.000000000",
          "2021-09-16T00:00:00.000000000",
          "2021-09-17T00:00:00.000000000",
          "2021-09-18T00:00:00.000000000",
          "2021-09-19T00:00:00.000000000",
          "2021-09-20T00:00:00.000000000",
          "2021-09-21T00:00:00.000000000",
          "2021-09-22T00:00:00.000000000",
          "2021-09-23T00:00:00.000000000",
          "2021-09-24T00:00:00.000000000",
          "2021-09-25T00:00:00.000000000",
          "2021-09-26T00:00:00.000000000",
          "2021-09-27T00:00:00.000000000",
          "2021-09-28T00:00:00.000000000",
          "2021-09-29T00:00:00.000000000",
          "2021-09-30T00:00:00.000000000",
          "2021-10-01T00:00:00.000000000",
          "2021-10-02T00:00:00.000000000",
          "2021-10-03T00:00:00.000000000",
          "2021-10-04T00:00:00.000000000",
          "2021-10-05T00:00:00.000000000",
          "2021-10-06T00:00:00.000000000",
          "2021-10-07T00:00:00.000000000",
          "2021-10-08T00:00:00.000000000",
          "2021-10-09T00:00:00.000000000",
          "2021-10-10T00:00:00.000000000",
          "2021-10-11T00:00:00.000000000",
          "2021-10-12T00:00:00.000000000",
          "2021-10-13T00:00:00.000000000",
          "2021-10-14T00:00:00.000000000",
          "2021-10-15T00:00:00.000000000",
          "2021-10-16T00:00:00.000000000",
          "2021-10-17T00:00:00.000000000",
          "2021-10-18T00:00:00.000000000",
          "2021-10-19T00:00:00.000000000",
          "2021-10-20T00:00:00.000000000",
          "2021-10-21T00:00:00.000000000",
          "2021-10-22T00:00:00.000000000",
          "2021-10-23T00:00:00.000000000",
          "2021-10-24T00:00:00.000000000",
          "2021-10-25T00:00:00.000000000",
          "2021-10-26T00:00:00.000000000",
          "2021-10-27T00:00:00.000000000",
          "2021-10-28T00:00:00.000000000",
          "2021-10-29T00:00:00.000000000",
          "2021-10-30T00:00:00.000000000",
          "2021-10-31T00:00:00.000000000",
          "2021-11-01T00:00:00.000000000",
          "2021-11-02T00:00:00.000000000",
          "2021-11-03T00:00:00.000000000",
          "2021-11-04T00:00:00.000000000",
          "2021-11-05T00:00:00.000000000",
          "2021-11-06T00:00:00.000000000",
          "2021-11-07T00:00:00.000000000",
          "2021-11-08T00:00:00.000000000",
          "2021-11-09T00:00:00.000000000",
          "2021-11-10T00:00:00.000000000",
          "2021-11-11T00:00:00.000000000",
          "2021-11-12T00:00:00.000000000",
          "2021-11-13T00:00:00.000000000",
          "2021-11-14T00:00:00.000000000",
          "2021-11-15T00:00:00.000000000",
          "2021-11-16T00:00:00.000000000",
          "2021-11-17T00:00:00.000000000",
          "2021-11-18T00:00:00.000000000",
          "2021-11-19T00:00:00.000000000",
          "2021-11-20T00:00:00.000000000",
          "2021-11-21T00:00:00.000000000",
          "2021-11-22T00:00:00.000000000",
          "2021-11-23T00:00:00.000000000",
          "2021-11-24T00:00:00.000000000",
          "2021-11-25T00:00:00.000000000",
          "2021-11-26T00:00:00.000000000",
          "2021-11-27T00:00:00.000000000",
          "2021-11-28T00:00:00.000000000",
          "2021-11-29T00:00:00.000000000",
          "2021-11-30T00:00:00.000000000",
          "2021-12-01T00:00:00.000000000",
          "2021-12-02T00:00:00.000000000",
          "2021-12-03T00:00:00.000000000",
          "2021-12-04T00:00:00.000000000",
          "2021-12-05T00:00:00.000000000",
          "2021-12-06T00:00:00.000000000",
          "2021-12-07T00:00:00.000000000",
          "2021-12-08T00:00:00.000000000",
          "2021-12-09T00:00:00.000000000",
          "2021-12-10T00:00:00.000000000",
          "2021-12-11T00:00:00.000000000",
          "2021-12-12T00:00:00.000000000",
          "2021-12-13T00:00:00.000000000",
          "2021-12-14T00:00:00.000000000",
          "2021-12-15T00:00:00.000000000",
          "2021-12-16T00:00:00.000000000",
          "2021-12-17T00:00:00.000000000",
          "2021-12-18T00:00:00.000000000",
          "2021-12-19T00:00:00.000000000",
          "2021-12-20T00:00:00.000000000",
          "2021-12-21T00:00:00.000000000",
          "2021-12-22T00:00:00.000000000",
          "2021-12-23T00:00:00.000000000",
          "2021-12-24T00:00:00.000000000",
          "2021-12-25T00:00:00.000000000",
          "2021-12-26T00:00:00.000000000",
          "2021-12-27T00:00:00.000000000",
          "2021-12-28T00:00:00.000000000",
          "2021-12-29T00:00:00.000000000",
          "2021-12-30T00:00:00.000000000",
          "2021-12-31T00:00:00.000000000",
          "2022-01-01T00:00:00.000000000",
          "2022-01-02T00:00:00.000000000",
          "2022-01-03T00:00:00.000000000",
          "2022-01-04T00:00:00.000000000",
          "2022-01-05T00:00:00.000000000",
          "2022-01-06T00:00:00.000000000",
          "2022-01-07T00:00:00.000000000",
          "2022-01-08T00:00:00.000000000",
          "2022-01-09T00:00:00.000000000",
          "2022-01-10T00:00:00.000000000",
          "2022-01-11T00:00:00.000000000",
          "2022-01-12T00:00:00.000000000",
          "2022-01-13T00:00:00.000000000",
          "2022-01-14T00:00:00.000000000",
          "2022-01-15T00:00:00.000000000",
          "2022-01-16T00:00:00.000000000",
          "2022-01-17T00:00:00.000000000",
          "2022-01-18T00:00:00.000000000",
          "2022-01-19T00:00:00.000000000",
          "2022-01-20T00:00:00.000000000",
          "2022-01-21T00:00:00.000000000",
          "2022-01-22T00:00:00.000000000",
          "2022-01-23T00:00:00.000000000",
          "2022-01-24T00:00:00.000000000",
          "2022-01-25T00:00:00.000000000",
          "2022-01-26T00:00:00.000000000",
          "2022-01-27T00:00:00.000000000",
          "2022-01-28T00:00:00.000000000",
          "2022-01-29T00:00:00.000000000",
          "2022-01-30T00:00:00.000000000",
          "2022-01-31T00:00:00.000000000",
          "2022-02-01T00:00:00.000000000",
          "2022-02-02T00:00:00.000000000",
          "2022-02-03T00:00:00.000000000",
          "2022-02-04T00:00:00.000000000",
          "2022-02-05T00:00:00.000000000",
          "2022-02-06T00:00:00.000000000",
          "2022-02-07T00:00:00.000000000",
          "2022-02-08T00:00:00.000000000",
          "2022-02-09T00:00:00.000000000",
          "2022-02-10T00:00:00.000000000",
          "2022-02-11T00:00:00.000000000",
          "2022-02-12T00:00:00.000000000",
          "2022-02-13T00:00:00.000000000",
          "2022-02-14T00:00:00.000000000",
          "2022-02-15T00:00:00.000000000",
          "2022-02-16T00:00:00.000000000",
          "2022-02-17T00:00:00.000000000",
          "2022-02-18T00:00:00.000000000",
          "2022-02-19T00:00:00.000000000",
          "2022-02-20T00:00:00.000000000",
          "2022-02-21T00:00:00.000000000",
          "2022-02-22T00:00:00.000000000",
          "2022-02-23T00:00:00.000000000",
          "2022-02-24T00:00:00.000000000",
          "2022-02-25T00:00:00.000000000",
          "2022-02-26T00:00:00.000000000",
          "2022-02-27T00:00:00.000000000",
          "2022-02-28T00:00:00.000000000",
          "2022-03-01T00:00:00.000000000",
          "2022-03-02T00:00:00.000000000",
          "2022-03-03T00:00:00.000000000",
          "2022-03-04T00:00:00.000000000",
          "2022-03-05T00:00:00.000000000",
          "2022-03-06T00:00:00.000000000",
          "2022-03-07T00:00:00.000000000",
          "2022-03-08T00:00:00.000000000",
          "2022-03-09T00:00:00.000000000",
          "2022-03-10T00:00:00.000000000",
          "2022-03-11T00:00:00.000000000",
          "2022-03-12T00:00:00.000000000",
          "2022-03-13T00:00:00.000000000",
          "2022-03-14T00:00:00.000000000",
          "2022-03-15T00:00:00.000000000",
          "2022-03-16T00:00:00.000000000",
          "2022-03-17T00:00:00.000000000",
          "2022-03-18T00:00:00.000000000",
          "2022-03-19T00:00:00.000000000",
          "2022-03-20T00:00:00.000000000",
          "2022-03-21T00:00:00.000000000",
          "2022-03-22T00:00:00.000000000",
          "2022-03-23T00:00:00.000000000",
          "2022-03-24T00:00:00.000000000",
          "2022-03-25T00:00:00.000000000",
          "2022-03-26T00:00:00.000000000",
          "2022-03-27T00:00:00.000000000",
          "2022-03-28T00:00:00.000000000",
          "2022-03-29T00:00:00.000000000",
          "2022-03-30T00:00:00.000000000",
          "2022-03-31T00:00:00.000000000",
          "2022-04-01T00:00:00.000000000",
          "2022-04-02T00:00:00.000000000",
          "2022-04-03T00:00:00.000000000",
          "2022-04-04T00:00:00.000000000",
          "2022-04-05T00:00:00.000000000",
          "2022-04-06T00:00:00.000000000",
          "2022-04-07T00:00:00.000000000",
          "2022-04-08T00:00:00.000000000",
          "2022-04-09T00:00:00.000000000",
          "2022-04-10T00:00:00.000000000",
          "2022-04-11T00:00:00.000000000",
          "2022-04-12T00:00:00.000000000",
          "2022-04-13T00:00:00.000000000",
          "2022-04-14T00:00:00.000000000",
          "2022-04-15T00:00:00.000000000",
          "2022-04-16T00:00:00.000000000",
          "2022-04-17T00:00:00.000000000",
          "2022-04-18T00:00:00.000000000",
          "2022-04-19T00:00:00.000000000",
          "2022-04-20T00:00:00.000000000",
          "2022-04-21T00:00:00.000000000",
          "2022-04-22T00:00:00.000000000",
          "2022-04-23T00:00:00.000000000",
          "2022-04-24T00:00:00.000000000",
          "2022-04-25T00:00:00.000000000",
          "2022-04-26T00:00:00.000000000",
          "2022-04-27T00:00:00.000000000",
          "2022-04-28T00:00:00.000000000",
          "2022-04-29T00:00:00.000000000",
          "2022-04-30T00:00:00.000000000",
          "2022-05-01T00:00:00.000000000",
          "2022-05-02T00:00:00.000000000",
          "2022-05-03T00:00:00.000000000",
          "2022-05-04T00:00:00.000000000",
          "2022-05-05T00:00:00.000000000",
          "2022-05-06T00:00:00.000000000",
          "2022-05-07T00:00:00.000000000",
          "2022-05-08T00:00:00.000000000",
          "2022-05-09T00:00:00.000000000",
          "2022-05-10T00:00:00.000000000",
          "2022-05-11T00:00:00.000000000",
          "2022-05-12T00:00:00.000000000",
          "2022-05-13T00:00:00.000000000",
          "2022-05-14T00:00:00.000000000",
          "2022-05-15T00:00:00.000000000",
          "2022-05-16T00:00:00.000000000",
          "2022-05-17T00:00:00.000000000",
          "2022-05-18T00:00:00.000000000",
          "2022-05-19T00:00:00.000000000",
          "2022-05-20T00:00:00.000000000",
          "2022-05-21T00:00:00.000000000",
          "2022-05-22T00:00:00.000000000",
          "2022-05-23T00:00:00.000000000",
          "2022-05-24T00:00:00.000000000",
          "2022-05-25T00:00:00.000000000",
          "2022-05-26T00:00:00.000000000",
          "2022-05-27T00:00:00.000000000",
          "2022-05-28T00:00:00.000000000",
          "2022-05-29T00:00:00.000000000",
          "2022-05-30T00:00:00.000000000",
          "2022-05-31T00:00:00.000000000",
          "2022-06-01T00:00:00.000000000",
          "2022-06-02T00:00:00.000000000",
          "2022-06-03T00:00:00.000000000",
          "2022-06-04T00:00:00.000000000",
          "2022-06-05T00:00:00.000000000",
          "2022-06-06T00:00:00.000000000",
          "2022-06-07T00:00:00.000000000",
          "2022-06-08T00:00:00.000000000",
          "2022-06-09T00:00:00.000000000",
          "2022-06-10T00:00:00.000000000",
          "2022-06-11T00:00:00.000000000",
          "2022-06-12T00:00:00.000000000",
          "2022-06-13T00:00:00.000000000",
          "2022-06-14T00:00:00.000000000",
          "2022-06-15T00:00:00.000000000",
          "2022-06-16T00:00:00.000000000",
          "2022-06-17T00:00:00.000000000",
          "2022-06-18T00:00:00.000000000",
          "2022-06-19T00:00:00.000000000",
          "2022-06-20T00:00:00.000000000",
          "2022-06-21T00:00:00.000000000",
          "2022-06-22T00:00:00.000000000",
          "2022-06-23T00:00:00.000000000",
          "2022-06-24T00:00:00.000000000",
          "2022-06-25T00:00:00.000000000",
          "2022-06-26T00:00:00.000000000",
          "2022-06-27T00:00:00.000000000",
          "2022-06-28T00:00:00.000000000",
          "2022-06-29T00:00:00.000000000",
          "2022-06-30T00:00:00.000000000",
          "2022-07-01T00:00:00.000000000",
          "2022-07-02T00:00:00.000000000",
          "2022-07-03T00:00:00.000000000",
          "2022-07-04T00:00:00.000000000",
          "2022-07-05T00:00:00.000000000",
          "2022-07-06T00:00:00.000000000",
          "2022-07-07T00:00:00.000000000",
          "2022-07-08T00:00:00.000000000",
          "2022-07-09T00:00:00.000000000",
          "2022-07-10T00:00:00.000000000",
          "2022-07-11T00:00:00.000000000",
          "2022-07-12T00:00:00.000000000",
          "2022-07-13T00:00:00.000000000",
          "2022-07-14T00:00:00.000000000",
          "2022-07-15T00:00:00.000000000",
          "2022-07-16T00:00:00.000000000",
          "2022-07-17T00:00:00.000000000",
          "2022-07-18T00:00:00.000000000",
          "2022-07-19T00:00:00.000000000",
          "2022-07-20T00:00:00.000000000",
          "2022-07-21T00:00:00.000000000",
          "2022-07-22T00:00:00.000000000",
          "2022-07-23T00:00:00.000000000",
          "2022-07-24T00:00:00.000000000",
          "2022-07-25T00:00:00.000000000",
          "2022-07-26T00:00:00.000000000",
          "2022-07-27T00:00:00.000000000",
          "2022-07-28T00:00:00.000000000",
          "2022-07-29T00:00:00.000000000",
          "2022-07-30T00:00:00.000000000",
          "2022-07-31T00:00:00.000000000",
          "2022-07-31T00:00:00.000000000",
          "2022-07-30T00:00:00.000000000",
          "2022-07-29T00:00:00.000000000",
          "2022-07-28T00:00:00.000000000",
          "2022-07-27T00:00:00.000000000",
          "2022-07-26T00:00:00.000000000",
          "2022-07-25T00:00:00.000000000",
          "2022-07-24T00:00:00.000000000",
          "2022-07-23T00:00:00.000000000",
          "2022-07-22T00:00:00.000000000",
          "2022-07-21T00:00:00.000000000",
          "2022-07-20T00:00:00.000000000",
          "2022-07-19T00:00:00.000000000",
          "2022-07-18T00:00:00.000000000",
          "2022-07-17T00:00:00.000000000",
          "2022-07-16T00:00:00.000000000",
          "2022-07-15T00:00:00.000000000",
          "2022-07-14T00:00:00.000000000",
          "2022-07-13T00:00:00.000000000",
          "2022-07-12T00:00:00.000000000",
          "2022-07-11T00:00:00.000000000",
          "2022-07-10T00:00:00.000000000",
          "2022-07-09T00:00:00.000000000",
          "2022-07-08T00:00:00.000000000",
          "2022-07-07T00:00:00.000000000",
          "2022-07-06T00:00:00.000000000",
          "2022-07-05T00:00:00.000000000",
          "2022-07-04T00:00:00.000000000",
          "2022-07-03T00:00:00.000000000",
          "2022-07-02T00:00:00.000000000",
          "2022-07-01T00:00:00.000000000",
          "2022-06-30T00:00:00.000000000",
          "2022-06-29T00:00:00.000000000",
          "2022-06-28T00:00:00.000000000",
          "2022-06-27T00:00:00.000000000",
          "2022-06-26T00:00:00.000000000",
          "2022-06-25T00:00:00.000000000",
          "2022-06-24T00:00:00.000000000",
          "2022-06-23T00:00:00.000000000",
          "2022-06-22T00:00:00.000000000",
          "2022-06-21T00:00:00.000000000",
          "2022-06-20T00:00:00.000000000",
          "2022-06-19T00:00:00.000000000",
          "2022-06-18T00:00:00.000000000",
          "2022-06-17T00:00:00.000000000",
          "2022-06-16T00:00:00.000000000",
          "2022-06-15T00:00:00.000000000",
          "2022-06-14T00:00:00.000000000",
          "2022-06-13T00:00:00.000000000",
          "2022-06-12T00:00:00.000000000",
          "2022-06-11T00:00:00.000000000",
          "2022-06-10T00:00:00.000000000",
          "2022-06-09T00:00:00.000000000",
          "2022-06-08T00:00:00.000000000",
          "2022-06-07T00:00:00.000000000",
          "2022-06-06T00:00:00.000000000",
          "2022-06-05T00:00:00.000000000",
          "2022-06-04T00:00:00.000000000",
          "2022-06-03T00:00:00.000000000",
          "2022-06-02T00:00:00.000000000",
          "2022-06-01T00:00:00.000000000",
          "2022-05-31T00:00:00.000000000",
          "2022-05-30T00:00:00.000000000",
          "2022-05-29T00:00:00.000000000",
          "2022-05-28T00:00:00.000000000",
          "2022-05-27T00:00:00.000000000",
          "2022-05-26T00:00:00.000000000",
          "2022-05-25T00:00:00.000000000",
          "2022-05-24T00:00:00.000000000",
          "2022-05-23T00:00:00.000000000",
          "2022-05-22T00:00:00.000000000",
          "2022-05-21T00:00:00.000000000",
          "2022-05-20T00:00:00.000000000",
          "2022-05-19T00:00:00.000000000",
          "2022-05-18T00:00:00.000000000",
          "2022-05-17T00:00:00.000000000",
          "2022-05-16T00:00:00.000000000",
          "2022-05-15T00:00:00.000000000",
          "2022-05-14T00:00:00.000000000",
          "2022-05-13T00:00:00.000000000",
          "2022-05-12T00:00:00.000000000",
          "2022-05-11T00:00:00.000000000",
          "2022-05-10T00:00:00.000000000",
          "2022-05-09T00:00:00.000000000",
          "2022-05-08T00:00:00.000000000",
          "2022-05-07T00:00:00.000000000",
          "2022-05-06T00:00:00.000000000",
          "2022-05-05T00:00:00.000000000",
          "2022-05-04T00:00:00.000000000",
          "2022-05-03T00:00:00.000000000",
          "2022-05-02T00:00:00.000000000",
          "2022-05-01T00:00:00.000000000",
          "2022-04-30T00:00:00.000000000",
          "2022-04-29T00:00:00.000000000",
          "2022-04-28T00:00:00.000000000",
          "2022-04-27T00:00:00.000000000",
          "2022-04-26T00:00:00.000000000",
          "2022-04-25T00:00:00.000000000",
          "2022-04-24T00:00:00.000000000",
          "2022-04-23T00:00:00.000000000",
          "2022-04-22T00:00:00.000000000",
          "2022-04-21T00:00:00.000000000",
          "2022-04-20T00:00:00.000000000",
          "2022-04-19T00:00:00.000000000",
          "2022-04-18T00:00:00.000000000",
          "2022-04-17T00:00:00.000000000",
          "2022-04-16T00:00:00.000000000",
          "2022-04-15T00:00:00.000000000",
          "2022-04-14T00:00:00.000000000",
          "2022-04-13T00:00:00.000000000",
          "2022-04-12T00:00:00.000000000",
          "2022-04-11T00:00:00.000000000",
          "2022-04-10T00:00:00.000000000",
          "2022-04-09T00:00:00.000000000",
          "2022-04-08T00:00:00.000000000",
          "2022-04-07T00:00:00.000000000",
          "2022-04-06T00:00:00.000000000",
          "2022-04-05T00:00:00.000000000",
          "2022-04-04T00:00:00.000000000",
          "2022-04-03T00:00:00.000000000",
          "2022-04-02T00:00:00.000000000",
          "2022-04-01T00:00:00.000000000",
          "2022-03-31T00:00:00.000000000",
          "2022-03-30T00:00:00.000000000",
          "2022-03-29T00:00:00.000000000",
          "2022-03-28T00:00:00.000000000",
          "2022-03-27T00:00:00.000000000",
          "2022-03-26T00:00:00.000000000",
          "2022-03-25T00:00:00.000000000",
          "2022-03-24T00:00:00.000000000",
          "2022-03-23T00:00:00.000000000",
          "2022-03-22T00:00:00.000000000",
          "2022-03-21T00:00:00.000000000",
          "2022-03-20T00:00:00.000000000",
          "2022-03-19T00:00:00.000000000",
          "2022-03-18T00:00:00.000000000",
          "2022-03-17T00:00:00.000000000",
          "2022-03-16T00:00:00.000000000",
          "2022-03-15T00:00:00.000000000",
          "2022-03-14T00:00:00.000000000",
          "2022-03-13T00:00:00.000000000",
          "2022-03-12T00:00:00.000000000",
          "2022-03-11T00:00:00.000000000",
          "2022-03-10T00:00:00.000000000",
          "2022-03-09T00:00:00.000000000",
          "2022-03-08T00:00:00.000000000",
          "2022-03-07T00:00:00.000000000",
          "2022-03-06T00:00:00.000000000",
          "2022-03-05T00:00:00.000000000",
          "2022-03-04T00:00:00.000000000",
          "2022-03-03T00:00:00.000000000",
          "2022-03-02T00:00:00.000000000",
          "2022-03-01T00:00:00.000000000",
          "2022-02-28T00:00:00.000000000",
          "2022-02-27T00:00:00.000000000",
          "2022-02-26T00:00:00.000000000",
          "2022-02-25T00:00:00.000000000",
          "2022-02-24T00:00:00.000000000",
          "2022-02-23T00:00:00.000000000",
          "2022-02-22T00:00:00.000000000",
          "2022-02-21T00:00:00.000000000",
          "2022-02-20T00:00:00.000000000",
          "2022-02-19T00:00:00.000000000",
          "2022-02-18T00:00:00.000000000",
          "2022-02-17T00:00:00.000000000",
          "2022-02-16T00:00:00.000000000",
          "2022-02-15T00:00:00.000000000",
          "2022-02-14T00:00:00.000000000",
          "2022-02-13T00:00:00.000000000",
          "2022-02-12T00:00:00.000000000",
          "2022-02-11T00:00:00.000000000",
          "2022-02-10T00:00:00.000000000",
          "2022-02-09T00:00:00.000000000",
          "2022-02-08T00:00:00.000000000",
          "2022-02-07T00:00:00.000000000",
          "2022-02-06T00:00:00.000000000",
          "2022-02-05T00:00:00.000000000",
          "2022-02-04T00:00:00.000000000",
          "2022-02-03T00:00:00.000000000",
          "2022-02-02T00:00:00.000000000",
          "2022-02-01T00:00:00.000000000",
          "2022-01-31T00:00:00.000000000",
          "2022-01-30T00:00:00.000000000",
          "2022-01-29T00:00:00.000000000",
          "2022-01-28T00:00:00.000000000",
          "2022-01-27T00:00:00.000000000",
          "2022-01-26T00:00:00.000000000",
          "2022-01-25T00:00:00.000000000",
          "2022-01-24T00:00:00.000000000",
          "2022-01-23T00:00:00.000000000",
          "2022-01-22T00:00:00.000000000",
          "2022-01-21T00:00:00.000000000",
          "2022-01-20T00:00:00.000000000",
          "2022-01-19T00:00:00.000000000",
          "2022-01-18T00:00:00.000000000",
          "2022-01-17T00:00:00.000000000",
          "2022-01-16T00:00:00.000000000",
          "2022-01-15T00:00:00.000000000",
          "2022-01-14T00:00:00.000000000",
          "2022-01-13T00:00:00.000000000",
          "2022-01-12T00:00:00.000000000",
          "2022-01-11T00:00:00.000000000",
          "2022-01-10T00:00:00.000000000",
          "2022-01-09T00:00:00.000000000",
          "2022-01-08T00:00:00.000000000",
          "2022-01-07T00:00:00.000000000",
          "2022-01-06T00:00:00.000000000",
          "2022-01-05T00:00:00.000000000",
          "2022-01-04T00:00:00.000000000",
          "2022-01-03T00:00:00.000000000",
          "2022-01-02T00:00:00.000000000",
          "2022-01-01T00:00:00.000000000",
          "2021-12-31T00:00:00.000000000",
          "2021-12-30T00:00:00.000000000",
          "2021-12-29T00:00:00.000000000",
          "2021-12-28T00:00:00.000000000",
          "2021-12-27T00:00:00.000000000",
          "2021-12-26T00:00:00.000000000",
          "2021-12-25T00:00:00.000000000",
          "2021-12-24T00:00:00.000000000",
          "2021-12-23T00:00:00.000000000",
          "2021-12-22T00:00:00.000000000",
          "2021-12-21T00:00:00.000000000",
          "2021-12-20T00:00:00.000000000",
          "2021-12-19T00:00:00.000000000",
          "2021-12-18T00:00:00.000000000",
          "2021-12-17T00:00:00.000000000",
          "2021-12-16T00:00:00.000000000",
          "2021-12-15T00:00:00.000000000",
          "2021-12-14T00:00:00.000000000",
          "2021-12-13T00:00:00.000000000",
          "2021-12-12T00:00:00.000000000",
          "2021-12-11T00:00:00.000000000",
          "2021-12-10T00:00:00.000000000",
          "2021-12-09T00:00:00.000000000",
          "2021-12-08T00:00:00.000000000",
          "2021-12-07T00:00:00.000000000",
          "2021-12-06T00:00:00.000000000",
          "2021-12-05T00:00:00.000000000",
          "2021-12-04T00:00:00.000000000",
          "2021-12-03T00:00:00.000000000",
          "2021-12-02T00:00:00.000000000",
          "2021-12-01T00:00:00.000000000",
          "2021-11-30T00:00:00.000000000",
          "2021-11-29T00:00:00.000000000",
          "2021-11-28T00:00:00.000000000",
          "2021-11-27T00:00:00.000000000",
          "2021-11-26T00:00:00.000000000",
          "2021-11-25T00:00:00.000000000",
          "2021-11-24T00:00:00.000000000",
          "2021-11-23T00:00:00.000000000",
          "2021-11-22T00:00:00.000000000",
          "2021-11-21T00:00:00.000000000",
          "2021-11-20T00:00:00.000000000",
          "2021-11-19T00:00:00.000000000",
          "2021-11-18T00:00:00.000000000",
          "2021-11-17T00:00:00.000000000",
          "2021-11-16T00:00:00.000000000",
          "2021-11-15T00:00:00.000000000",
          "2021-11-14T00:00:00.000000000",
          "2021-11-13T00:00:00.000000000",
          "2021-11-12T00:00:00.000000000",
          "2021-11-11T00:00:00.000000000",
          "2021-11-10T00:00:00.000000000",
          "2021-11-09T00:00:00.000000000",
          "2021-11-08T00:00:00.000000000",
          "2021-11-07T00:00:00.000000000",
          "2021-11-06T00:00:00.000000000",
          "2021-11-05T00:00:00.000000000",
          "2021-11-04T00:00:00.000000000",
          "2021-11-03T00:00:00.000000000",
          "2021-11-02T00:00:00.000000000",
          "2021-11-01T00:00:00.000000000",
          "2021-10-31T00:00:00.000000000",
          "2021-10-30T00:00:00.000000000",
          "2021-10-29T00:00:00.000000000",
          "2021-10-28T00:00:00.000000000",
          "2021-10-27T00:00:00.000000000",
          "2021-10-26T00:00:00.000000000",
          "2021-10-25T00:00:00.000000000",
          "2021-10-24T00:00:00.000000000",
          "2021-10-23T00:00:00.000000000",
          "2021-10-22T00:00:00.000000000",
          "2021-10-21T00:00:00.000000000",
          "2021-10-20T00:00:00.000000000",
          "2021-10-19T00:00:00.000000000",
          "2021-10-18T00:00:00.000000000",
          "2021-10-17T00:00:00.000000000",
          "2021-10-16T00:00:00.000000000",
          "2021-10-15T00:00:00.000000000",
          "2021-10-14T00:00:00.000000000",
          "2021-10-13T00:00:00.000000000",
          "2021-10-12T00:00:00.000000000",
          "2021-10-11T00:00:00.000000000",
          "2021-10-10T00:00:00.000000000",
          "2021-10-09T00:00:00.000000000",
          "2021-10-08T00:00:00.000000000",
          "2021-10-07T00:00:00.000000000",
          "2021-10-06T00:00:00.000000000",
          "2021-10-05T00:00:00.000000000",
          "2021-10-04T00:00:00.000000000",
          "2021-10-03T00:00:00.000000000",
          "2021-10-02T00:00:00.000000000",
          "2021-10-01T00:00:00.000000000",
          "2021-09-30T00:00:00.000000000",
          "2021-09-29T00:00:00.000000000",
          "2021-09-28T00:00:00.000000000",
          "2021-09-27T00:00:00.000000000",
          "2021-09-26T00:00:00.000000000",
          "2021-09-25T00:00:00.000000000",
          "2021-09-24T00:00:00.000000000",
          "2021-09-23T00:00:00.000000000",
          "2021-09-22T00:00:00.000000000",
          "2021-09-21T00:00:00.000000000",
          "2021-09-20T00:00:00.000000000",
          "2021-09-19T00:00:00.000000000",
          "2021-09-18T00:00:00.000000000",
          "2021-09-17T00:00:00.000000000",
          "2021-09-16T00:00:00.000000000",
          "2021-09-15T00:00:00.000000000",
          "2021-09-14T00:00:00.000000000",
          "2021-09-13T00:00:00.000000000",
          "2021-09-12T00:00:00.000000000",
          "2021-09-11T00:00:00.000000000",
          "2021-09-10T00:00:00.000000000",
          "2021-09-09T00:00:00.000000000",
          "2021-09-08T00:00:00.000000000",
          "2021-09-07T00:00:00.000000000",
          "2021-09-06T00:00:00.000000000",
          "2021-09-05T00:00:00.000000000",
          "2021-09-04T00:00:00.000000000",
          "2021-09-03T00:00:00.000000000",
          "2021-09-02T00:00:00.000000000",
          "2021-09-01T00:00:00.000000000",
          "2021-08-31T00:00:00.000000000",
          "2021-08-30T00:00:00.000000000",
          "2021-08-29T00:00:00.000000000",
          "2021-08-28T00:00:00.000000000",
          "2021-08-27T00:00:00.000000000",
          "2021-08-26T00:00:00.000000000",
          "2021-08-25T00:00:00.000000000",
          "2021-08-24T00:00:00.000000000",
          "2021-08-23T00:00:00.000000000",
          "2021-08-22T00:00:00.000000000",
          "2021-08-21T00:00:00.000000000",
          "2021-08-20T00:00:00.000000000",
          "2021-08-19T00:00:00.000000000",
          "2021-08-18T00:00:00.000000000",
          "2021-08-17T00:00:00.000000000",
          "2021-08-16T00:00:00.000000000",
          "2021-08-15T00:00:00.000000000",
          "2021-08-14T00:00:00.000000000",
          "2021-08-13T00:00:00.000000000",
          "2021-08-12T00:00:00.000000000",
          "2021-08-11T00:00:00.000000000",
          "2021-08-10T00:00:00.000000000",
          "2021-08-09T00:00:00.000000000",
          "2021-08-08T00:00:00.000000000",
          "2021-08-07T00:00:00.000000000",
          "2021-08-06T00:00:00.000000000",
          "2021-08-05T00:00:00.000000000",
          "2021-08-04T00:00:00.000000000",
          "2021-08-03T00:00:00.000000000",
          "2021-08-02T00:00:00.000000000",
          "2021-08-01T00:00:00.000000000"
         ],
         "xaxis": "x",
         "y": {
          "bdata": "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",
          "dtype": "f4"
         },
         "yaxis": "y"
        },
        {
         "fillcolor": "#17becf",
         "legendgroup": "MSTL_anomalies_level_99.7",
         "line": {
          "color": "#17becf",
          "width": 0.7
         },
         "marker": {
          "line": {
           "color": "red",
           "width": 0.5
          },
          "size": 4
         },
         "mode": "markers",
         "name": "MSTL_anomalies_level_99.7",
         "opacity": 0.997,
         "showlegend": true,
         "type": "scatter",
         "x": [
          "2021-12-25T00:00:00.000000000",
          "2021-12-26T00:00:00.000000000",
          "2021-12-27T00:00:00.000000000"
         ],
         "xaxis": "x",
         "y": {
          "bdata": "AACKQwCAwkMAAEhC",
          "dtype": "f4"
         },
         "yaxis": "y"
        }
       ],
       "layout": {
        "annotations": [
         {
          "font": {
           "size": 10
          },
          "showarrow": false,
          "text": "unique_id=8",
          "x": 0.5,
          "xanchor": "center",
          "xref": "paper",
          "y": 1,
          "yanchor": "bottom",
          "yref": "paper"
         },
         {
          "font": {
           "size": 10
          },
          "showarrow": false,
          "text": "Time [ds]",
          "x": 0.5,
          "xanchor": "center",
          "xref": "paper",
          "y": 0,
          "yanchor": "top",
          "yref": "paper",
          "yshift": -30
         },
         {
          "font": {
           "size": 10
          },
          "showarrow": false,
          "text": "Target [y]",
          "textangle": -90,
          "x": 0,
          "xanchor": "right",
          "xref": "paper",
          "xshift": -40,
          "y": 0.5,
          "yanchor": "middle",
          "yref": "paper"
         }
        ],
        "autosize": true,
        "font": {
         "size": 10
        },
        "height": 200,
        "margin": {
         "b": 50,
         "l": 60,
         "r": 10,
         "t": 20
        },
        "template": {
         "data": {
          "bar": [
           {
            "error_x": {
             "color": "#2a3f5f"
            },
            "error_y": {
             "color": "#2a3f5f"
            },
            "marker": {
             "line": {
              "color": "white",
              "width": 0.5
             },
             "pattern": {
              "fillmode": "overlay",
              "size": 10,
              "solidity": 0.2
             }
            },
            "type": "bar"
           }
          ],
          "barpolar": [
           {
            "marker": {
             "line": {
              "color": "white",
              "width": 0.5
             },
             "pattern": {
              "fillmode": "overlay",
              "size": 10,
              "solidity": 0.2
             }
            },
            "type": "barpolar"
           }
          ],
          "carpet": [
           {
            "aaxis": {
             "endlinecolor": "#2a3f5f",
             "gridcolor": "#C8D4E3",
             "linecolor": "#C8D4E3",
             "minorgridcolor": "#C8D4E3",
             "startlinecolor": "#2a3f5f"
            },
            "baxis": {
             "endlinecolor": "#2a3f5f",
             "gridcolor": "#C8D4E3",
             "linecolor": "#C8D4E3",
             "minorgridcolor": "#C8D4E3",
             "startlinecolor": "#2a3f5f"
            },
            "type": "carpet"
           }
          ],
          "choropleth": [
           {
            "colorbar": {
             "outlinewidth": 0,
             "ticks": ""
            },
            "type": "choropleth"
           }
          ],
          "contour": [
           {
            "colorbar": {
             "outlinewidth": 0,
             "ticks": ""
            },
            "colorscale": [
             [
              0,
              "#0d0887"
             ],
             [
              0.1111111111111111,
              "#46039f"
             ],
             [
              0.2222222222222222,
              "#7201a8"
             ],
             [
              0.3333333333333333,
              "#9c179e"
             ],
             [
              0.4444444444444444,
              "#bd3786"
             ],
             [
              0.5555555555555556,
              "#d8576b"
             ],
             [
              0.6666666666666666,
              "#ed7953"
             ],
             [
              0.7777777777777778,
              "#fb9f3a"
             ],
             [
              0.8888888888888888,
              "#fdca26"
             ],
             [
              1,
              "#f0f921"
             ]
            ],
            "type": "contour"
           }
          ],
          "contourcarpet": [
           {
            "colorbar": {
             "outlinewidth": 0,
             "ticks": ""
            },
            "type": "contourcarpet"
           }
          ],
          "heatmap": [
           {
            "colorbar": {
             "outlinewidth": 0,
             "ticks": ""
            },
            "colorscale": [
             [
              0,
              "#0d0887"
             ],
             [
              0.1111111111111111,
              "#46039f"
             ],
             [
              0.2222222222222222,
              "#7201a8"
             ],
             [
              0.3333333333333333,
              "#9c179e"
             ],
             [
              0.4444444444444444,
              "#bd3786"
             ],
             [
              0.5555555555555556,
              "#d8576b"
             ],
             [
              0.6666666666666666,
              "#ed7953"
             ],
             [
              0.7777777777777778,
              "#fb9f3a"
             ],
             [
              0.8888888888888888,
              "#fdca26"
             ],
             [
              1,
              "#f0f921"
             ]
            ],
            "type": "heatmap"
           }
          ],
          "histogram": [
           {
            "marker": {
             "pattern": {
              "fillmode": "overlay",
              "size": 10,
              "solidity": 0.2
             }
            },
            "type": "histogram"
           }
          ],
          "histogram2d": [
           {
            "colorbar": {
             "outlinewidth": 0,
             "ticks": ""
            },
            "colorscale": [
             [
              0,
              "#0d0887"
             ],
             [
              0.1111111111111111,
              "#46039f"
             ],
             [
              0.2222222222222222,
              "#7201a8"
             ],
             [
              0.3333333333333333,
              "#9c179e"
             ],
             [
              0.4444444444444444,
              "#bd3786"
             ],
             [
              0.5555555555555556,
              "#d8576b"
             ],
             [
              0.6666666666666666,
              "#ed7953"
             ],
             [
              0.7777777777777778,
              "#fb9f3a"
             ],
             [
              0.8888888888888888,
              "#fdca26"
             ],
             [
              1,
              "#f0f921"
             ]
            ],
            "type": "histogram2d"
           }
          ],
          "histogram2dcontour": [
           {
            "colorbar": {
             "outlinewidth": 0,
             "ticks": ""
            },
            "colorscale": [
             [
              0,
              "#0d0887"
             ],
             [
              0.1111111111111111,
              "#46039f"
             ],
             [
              0.2222222222222222,
              "#7201a8"
             ],
             [
              0.3333333333333333,
              "#9c179e"
             ],
             [
              0.4444444444444444,
              "#bd3786"
             ],
             [
              0.5555555555555556,
              "#d8576b"
             ],
             [
              0.6666666666666666,
              "#ed7953"
             ],
             [
              0.7777777777777778,
              "#fb9f3a"
             ],
             [
              0.8888888888888888,
              "#fdca26"
             ],
             [
              1,
              "#f0f921"
             ]
            ],
            "type": "histogram2dcontour"
           }
          ],
          "mesh3d": [
           {
            "colorbar": {
             "outlinewidth": 0,
             "ticks": ""
            },
            "type": "mesh3d"
           }
          ],
          "parcoords": [
           {
            "line": {
             "colorbar": {
              "outlinewidth": 0,
              "ticks": ""
             }
            },
            "type": "parcoords"
           }
          ],
          "pie": [
           {
            "automargin": true,
            "type": "pie"
           }
          ],
          "scatter": [
           {
            "fillpattern": {
             "fillmode": "overlay",
             "size": 10,
             "solidity": 0.2
            },
            "type": "scatter"
           }
          ],
          "scatter3d": [
           {
            "line": {
             "colorbar": {
              "outlinewidth": 0,
              "ticks": ""
             }
            },
            "marker": {
             "colorbar": {
              "outlinewidth": 0,
              "ticks": ""
             }
            },
            "type": "scatter3d"
           }
          ],
          "scattercarpet": [
           {
            "marker": {
             "colorbar": {
              "outlinewidth": 0,
              "ticks": ""
             }
            },
            "type": "scattercarpet"
           }
          ],
          "scattergeo": [
           {
            "marker": {
             "colorbar": {
              "outlinewidth": 0,
              "ticks": ""
             }
            },
            "type": "scattergeo"
           }
          ],
          "scattergl": [
           {
            "marker": {
             "colorbar": {
              "outlinewidth": 0,
              "ticks": ""
             }
            },
            "type": "scattergl"
           }
          ],
          "scattermap": [
           {
            "marker": {
             "colorbar": {
              "outlinewidth": 0,
              "ticks": ""
             }
            },
            "type": "scattermap"
           }
          ],
          "scattermapbox": [
           {
            "marker": {
             "colorbar": {
              "outlinewidth": 0,
              "ticks": ""
             }
            },
            "type": "scattermapbox"
           }
          ],
          "scatterpolar": [
           {
            "marker": {
             "colorbar": {
              "outlinewidth": 0,
              "ticks": ""
             }
            },
            "type": "scatterpolar"
           }
          ],
          "scatterpolargl": [
           {
            "marker": {
             "colorbar": {
              "outlinewidth": 0,
              "ticks": ""
             }
            },
            "type": "scatterpolargl"
           }
          ],
          "scatterternary": [
           {
            "marker": {
             "colorbar": {
              "outlinewidth": 0,
              "ticks": ""
             }
            },
            "type": "scatterternary"
           }
          ],
          "surface": [
           {
            "colorbar": {
             "outlinewidth": 0,
             "ticks": ""
            },
            "colorscale": [
             [
              0,
              "#0d0887"
             ],
             [
              0.1111111111111111,
              "#46039f"
             ],
             [
              0.2222222222222222,
              "#7201a8"
             ],
             [
              0.3333333333333333,
              "#9c179e"
             ],
             [
              0.4444444444444444,
              "#bd3786"
             ],
             [
              0.5555555555555556,
              "#d8576b"
             ],
             [
              0.6666666666666666,
              "#ed7953"
             ],
             [
              0.7777777777777778,
              "#fb9f3a"
             ],
             [
              0.8888888888888888,
              "#fdca26"
             ],
             [
              1,
              "#f0f921"
             ]
            ],
            "type": "surface"
           }
          ],
          "table": [
           {
            "cells": {
             "fill": {
              "color": "#EBF0F8"
             },
             "line": {
              "color": "white"
             }
            },
            "header": {
             "fill": {
              "color": "#C8D4E3"
             },
             "line": {
              "color": "white"
             }
            },
            "type": "table"
           }
          ]
         },
         "layout": {
          "annotationdefaults": {
           "arrowcolor": "#2a3f5f",
           "arrowhead": 0,
           "arrowwidth": 1
          },
          "autotypenumbers": "strict",
          "coloraxis": {
           "colorbar": {
            "outlinewidth": 0,
            "ticks": ""
           }
          },
          "colorscale": {
           "diverging": [
            [
             0,
             "#8e0152"
            ],
            [
             0.1,
             "#c51b7d"
            ],
            [
             0.2,
             "#de77ae"
            ],
            [
             0.3,
             "#f1b6da"
            ],
            [
             0.4,
             "#fde0ef"
            ],
            [
             0.5,
             "#f7f7f7"
            ],
            [
             0.6,
             "#e6f5d0"
            ],
            [
             0.7,
             "#b8e186"
            ],
            [
             0.8,
             "#7fbc41"
            ],
            [
             0.9,
             "#4d9221"
            ],
            [
             1,
             "#276419"
            ]
           ],
           "sequential": [
            [
             0,
             "#0d0887"
            ],
            [
             0.1111111111111111,
             "#46039f"
            ],
            [
             0.2222222222222222,
             "#7201a8"
            ],
            [
             0.3333333333333333,
             "#9c179e"
            ],
            [
             0.4444444444444444,
             "#bd3786"
            ],
            [
             0.5555555555555556,
             "#d8576b"
            ],
            [
             0.6666666666666666,
             "#ed7953"
            ],
            [
             0.7777777777777778,
             "#fb9f3a"
            ],
            [
             0.8888888888888888,
             "#fdca26"
            ],
            [
             1,
             "#f0f921"
            ]
           ],
           "sequentialminus": [
            [
             0,
             "#0d0887"
            ],
            [
             0.1111111111111111,
             "#46039f"
            ],
            [
             0.2222222222222222,
             "#7201a8"
            ],
            [
             0.3333333333333333,
             "#9c179e"
            ],
            [
             0.4444444444444444,
             "#bd3786"
            ],
            [
             0.5555555555555556,
             "#d8576b"
            ],
            [
             0.6666666666666666,
             "#ed7953"
            ],
            [
             0.7777777777777778,
             "#fb9f3a"
            ],
            [
             0.8888888888888888,
             "#fdca26"
            ],
            [
             1,
             "#f0f921"
            ]
           ]
          },
          "colorway": [
           "#636efa",
           "#EF553B",
           "#00cc96",
           "#ab63fa",
           "#FFA15A",
           "#19d3f3",
           "#FF6692",
           "#B6E880",
           "#FF97FF",
           "#FECB52"
          ],
          "font": {
           "color": "#2a3f5f"
          },
          "geo": {
           "bgcolor": "white",
           "lakecolor": "white",
           "landcolor": "white",
           "showlakes": true,
           "showland": true,
           "subunitcolor": "#C8D4E3"
          },
          "hoverlabel": {
           "align": "left"
          },
          "hovermode": "closest",
          "mapbox": {
           "style": "light"
          },
          "paper_bgcolor": "white",
          "plot_bgcolor": "white",
          "polar": {
           "angularaxis": {
            "gridcolor": "#EBF0F8",
            "linecolor": "#EBF0F8",
            "ticks": ""
           },
           "bgcolor": "white",
           "radialaxis": {
            "gridcolor": "#EBF0F8",
            "linecolor": "#EBF0F8",
            "ticks": ""
           }
          },
          "scene": {
           "xaxis": {
            "backgroundcolor": "white",
            "gridcolor": "#DFE8F3",
            "gridwidth": 2,
            "linecolor": "#EBF0F8",
            "showbackground": true,
            "ticks": "",
            "zerolinecolor": "#EBF0F8"
           },
           "yaxis": {
            "backgroundcolor": "white",
            "gridcolor": "#DFE8F3",
            "gridwidth": 2,
            "linecolor": "#EBF0F8",
            "showbackground": true,
            "ticks": "",
            "zerolinecolor": "#EBF0F8"
           },
           "zaxis": {
            "backgroundcolor": "white",
            "gridcolor": "#DFE8F3",
            "gridwidth": 2,
            "linecolor": "#EBF0F8",
            "showbackground": true,
            "ticks": "",
            "zerolinecolor": "#EBF0F8"
           }
          },
          "shapedefaults": {
           "line": {
            "color": "#2a3f5f"
           }
          },
          "ternary": {
           "aaxis": {
            "gridcolor": "#DFE8F3",
            "linecolor": "#A2B1C6",
            "ticks": ""
           },
           "baxis": {
            "gridcolor": "#DFE8F3",
            "linecolor": "#A2B1C6",
            "ticks": ""
           },
           "bgcolor": "white",
           "caxis": {
            "gridcolor": "#DFE8F3",
            "linecolor": "#A2B1C6",
            "ticks": ""
           }
          },
          "title": {
           "x": 0.05
          },
          "xaxis": {
           "automargin": true,
           "gridcolor": "#EBF0F8",
           "linecolor": "#EBF0F8",
           "ticks": "",
           "title": {
            "standoff": 15
           },
           "zerolinecolor": "#EBF0F8",
           "zerolinewidth": 2
          },
          "yaxis": {
           "automargin": true,
           "gridcolor": "#EBF0F8",
           "linecolor": "#EBF0F8",
           "ticks": "",
           "title": {
            "standoff": 15
           },
           "zerolinecolor": "#EBF0F8",
           "zerolinewidth": 2
          }
         }
        },
        "xaxis": {
         "anchor": "y",
         "domain": [
          0,
          1
         ],
         "showticklabels": true,
         "visible": true
        },
        "yaxis": {
         "anchor": "x",
         "domain": [
          0,
          1
         ]
        }
       }
      }
     },
     "metadata": {},
     "output_type": "display_data"
    }
   ],
   "source": [
    "plot_series(forecasts_df=insample_forecasts, level=levels, plot_anomalies=True, engine='plotly')"
   ]
  },
  {
   "cell_type": "markdown",
   "id": "516f1861",
   "metadata": {},
   "source": [
    "# Função dinamica"
   ]
  },
  {
   "cell_type": "code",
   "execution_count": 14,
   "id": "82d8da56",
   "metadata": {},
   "outputs": [],
   "source": [
    "def fill_zeros(df_daily_filled, max_weeks_back=5):\n",
    "    df_filled = df_daily_filled.copy()\n",
    "    for col in df_daily_filled.columns:\n",
    "        if col.startswith('count_'):\n",
    "            zero_dates = df_daily_filled[df_daily_filled[col] == 0].index\n",
    "            for datetime in zero_dates:\n",
    "                for weeks_back in range(1, max_weeks_back + 1):\n",
    "                    prev_week = datetime - pd.Timedelta(weeks=weeks_back)\n",
    "                    if prev_week in df_daily_filled.index:\n",
    "                        prev_value = df_daily_filled.loc[prev_week, col]\n",
    "                        if prev_value != 0:\n",
    "                            df_filled.loc[datetime, col] = prev_value\n",
    "                            break\n",
    "    return df_filled\n"
   ]
  },
  {
   "cell_type": "code",
   "execution_count": 15,
   "metadata": {},
   "outputs": [],
   "source": [
    "def aplica_algoritmo(df_daily_filled, contador_id, exog_col='exog',\n",
    "                     start_date='2021-08-01', end_date='2022-08-01',\n",
    "                     season_length=[7], n_jobs=-1, datas_corrigidas_previamente=None):\n",
    "    \n",
    "    if contador_id is None:\n",
    "        raise ValueError(\"É necessário especificar o 'contador_id'.\")\n",
    "    \n",
    "    if contador_id not in df_daily_filled.columns:\n",
    "        raise ValueError(f\"Contador {contador_id} não encontrado no DataFrame.\")\n",
    "    \n",
    "    if exog_col not in df_daily_filled.columns:\n",
    "        raise ValueError(f\"Coluna exógena {exog_col} não encontrada no DataFrame.\")\n",
    "    \n",
    "    if datas_corrigidas_previamente is None:\n",
    "        datas_corrigidas_previamente = set()\n",
    "    \n",
    "    # 1. Filtrar dados históricos até à data limite\n",
    "    df_hist = df_daily_filled.loc[start_date:end_date].copy()\n",
    "    df_hist[contador_id] = df_hist[contador_id].astype(float)\n",
    "\n",
    "    # 2. Substituir dias com zéros \n",
    "    df_hist_corr = fill_zeros(df_hist)\n",
    "    \n",
    "\n",
    "    # 3. Preparar dados para StatsForecast\n",
    "    unique_id = contador_id\n",
    "    df_model = df_hist_corr[[contador_id, exog_col]].reset_index().assign(unique_id=unique_id)\n",
    "    df_model.columns = ['ds', 'y', 'X', 'unique_id']\n",
    "    df_model = df_model[['unique_id', 'ds', 'y', 'X']]\n",
    "\n",
    "    # 4. Ajustar o modelo\n",
    "    model = MSTL(season_length=season_length, trend_forecaster=AutoARIMA())\n",
    "    sf = StatsForecast(models=[model], freq='D', n_jobs=n_jobs)\n",
    "    sf.fit(df_model)\n",
    "    \n",
    "    \n",
    "    # 5. Previsão (1 dia à frente apenas, para completar fitting)\n",
    "    future_dates = pd.date_range(start=df_model['ds'].max() + pd.Timedelta(days=1), periods=1, freq='D')\n",
    "    future_exog_values = [1 if d.date() in feriados else 0 for d in future_dates]\n",
    "\n",
    "    future_exog = pd.DataFrame({\n",
    "        'ds': future_dates,\n",
    "        'X': future_exog_values,\n",
    "        'unique_id': [contador_id] * len(future_dates)      \n",
    "    })\n",
    "\n",
    "    levels=[99.7]\n",
    "    sf.forecast(df=df_model, X_df=future_exog, h=1, level=levels, fitted=True)\n",
    "\n",
    "    # 6. Obter previsões in-sample e identificar outliers\n",
    "    insample_fcst = sf.forecast_fitted_values()\n",
    "    insample_fcst.columns = ['unique_id', 'ds', 'y', 'fitted', 'lo_99_7', 'hi_99_7']\n",
    "\n",
    "    anomalies = insample_fcst[\n",
    "        ~insample_fcst['y'].between(insample_fcst['lo_99_7'], insample_fcst['hi_99_7'])\n",
    "    ].copy()\n",
    "\n",
    "    novas_datas_corrigidas = set()\n",
    "\n",
    "    # 7. Corrigir anomalias\n",
    "    for _, row in anomalies.iterrows():\n",
    "        dia = row['ds']\n",
    "        \n",
    "        if dia in datas_corrigidas_previamente or dia in novas_datas_corrigidas:\n",
    "            continue\n",
    "\n",
    "        y = row['y']\n",
    "        hi = row['hi_99_7']\n",
    "        lo = row['lo_99_7']\n",
    "        historico = df_hist_corr.loc[df_hist_corr.index < dia, contador_id]\n",
    "\n",
    "        if historico.empty:\n",
    "            continue\n",
    "\n",
    "        max_hist = historico.max()\n",
    "\n",
    "        if y > hi:\n",
    "            novo_valor = min(hi, max_hist)\n",
    "        elif y < lo:\n",
    "            novo_valor = lo\n",
    "        else:\n",
    "            continue\n",
    "\n",
    "        df_hist_corr.loc[dia, contador_id] = novo_valor\n",
    "        novas_datas_corrigidas.add(dia)\n",
    "\n",
    "\n",
    "    # 9. Retornar histórico corrigido, anomalias, datas corrigidas e componente semanal\n",
    "    return df_hist_corr, anomalies, novas_datas_corrigidas\n",
    "\n"
   ]
  },
  {
   "cell_type": "code",
   "execution_count": 16,
   "id": "88780ac8",
   "metadata": {},
   "outputs": [],
   "source": [
    "#para um periodo de 2 semanas no maximo: \n",
    "\n",
    "# def get_one_more_week(df_daily_filled, df_hist, weeks_added, max_weeks=2):\n",
    "#     if weeks_added >= max_weeks:\n",
    "#         return df_hist, weeks_added, False\n",
    "\n",
    "#     last_date = df_hist.index.max()\n",
    "#     next_week_start = last_date + pd.Timedelta(days=1)\n",
    "#     next_week_end = next_week_start + pd.Timedelta(days=6)\n",
    "#     df_next_week = df_daily_filled.loc[next_week_start:next_week_end]\n",
    "\n",
    "#     if df_next_week.empty:\n",
    "#         return df_hist, weeks_added, False\n",
    "\n",
    "#     df_hist_updated = pd.concat([df_hist, df_next_week])\n",
    "#     return df_hist_updated, weeks_added + 1, True\n",
    "\n",
    "\n",
    "# para todos os dados: \n",
    "\n",
    "# def get_one_more_week(df_daily_filled, df_hist, weeks_added):\n",
    "#     last_date = df_hist.index.max()\n",
    "#     next_week_start = last_date + pd.Timedelta(days=1)\n",
    "#     next_week_end = next_week_start + pd.Timedelta(days=6)\n",
    "\n",
    "#     df_next_week = df_daily_filled.loc[next_week_start:next_week_end]\n",
    "\n",
    "#     if df_next_week.empty:\n",
    "#         return df_hist, weeks_added, False\n",
    "\n",
    "#     df_hist_updated = pd.concat([df_hist, df_next_week])\n",
    "#     return df_hist_updated, weeks_added + 1, True\n",
    "\n",
    "\n",
    "\n",
    "# Rolling windows (janela deslizante), avança de uma semana e elimina uma semana do inicio\n",
    "def get_one_more_week_rolling(df_daily_filled, df_hist, weeks_added, janela_semanas=52):\n",
    "    last_date = df_hist.index.max()\n",
    "    next_week_start = last_date + pd.Timedelta(days=1)\n",
    "    next_week_end = next_week_start + pd.Timedelta(days=6)\n",
    "\n",
    "    df_next_week = df_daily_filled.loc[next_week_start:next_week_end]\n",
    "\n",
    "    if df_next_week.empty:\n",
    "        return df_hist, weeks_added, False\n",
    "\n",
    "    # Concatenar nova semana\n",
    "    df_hist_updated = pd.concat([df_hist, df_next_week])\n",
    "\n",
    "    # Manter janela de tamanho fixo (em semanas)\n",
    "    dias_janela = janela_semanas * 7\n",
    "    min_date = df_hist_updated.index.max() - pd.Timedelta(days=dias_janela - 1)\n",
    "    df_hist_updated = df_hist_updated[df_hist_updated.index >= min_date]\n",
    "\n",
    "    return df_hist_updated, weeks_added + 1, True\n"
   ]
  },
  {
   "cell_type": "code",
   "execution_count": 17,
   "id": "919c478c",
   "metadata": {
    "vscode": {
     "languageId": "ruby"
    }
   },
   "outputs": [
    {
     "name": "stdout",
     "output_type": "stream",
     "text": [
      "Semana 1 processada com 1 novos outliers.\n",
      "Semana 2 processada com 1 novos outliers.\n",
      "Semana 3 processada com 0 novos outliers.\n",
      "Semana 4 processada com 0 novos outliers.\n",
      "Semana 5 processada com 0 novos outliers.\n",
      "Semana 6 processada com 0 novos outliers.\n",
      "Semana 7 processada com 1 novos outliers.\n",
      "Semana 8 processada com 0 novos outliers.\n",
      "Semana 9 processada com 0 novos outliers.\n",
      "Semana 10 processada com 0 novos outliers.\n",
      "Semana 11 processada com 1 novos outliers.\n",
      "Semana 12 processada com 1 novos outliers.\n",
      "Semana 13 processada com 1 novos outliers.\n",
      "Semana 14 processada com 0 novos outliers.\n",
      "Semana 15 processada com 0 novos outliers.\n",
      "Semana 16 processada com 0 novos outliers.\n",
      "Semana 17 processada com 0 novos outliers.\n",
      "Semana 18 processada com 0 novos outliers.\n",
      "Semana 19 processada com 1 novos outliers.\n",
      "Semana 20 processada com 0 novos outliers.\n",
      "Semana 21 processada com 0 novos outliers.\n",
      "Semana 22 processada com 1 novos outliers.\n",
      "Semana 23 processada com 0 novos outliers.\n",
      "Semana 24 processada com 1 novos outliers.\n",
      "Semana 25 processada com 1 novos outliers.\n",
      "Semana 26 processada com 0 novos outliers.\n",
      "Semana 27 processada com 0 novos outliers.\n",
      "Semana 28 processada com 0 novos outliers.\n",
      "Semana 29 processada com 0 novos outliers.\n",
      "Semana 30 processada com 0 novos outliers.\n",
      "Semana 31 processada com 0 novos outliers.\n",
      "Semana 32 processada com 0 novos outliers.\n",
      "Semana 33 processada com 0 novos outliers.\n",
      "Semana 34 processada com 0 novos outliers.\n",
      "Semana 35 processada com 0 novos outliers.\n",
      "Semana 36 processada com 0 novos outliers.\n",
      "Semana 37 processada com 0 novos outliers.\n",
      "Semana 38 processada com 0 novos outliers.\n",
      "Semana 39 processada com 0 novos outliers.\n",
      "Semana 40 processada com 0 novos outliers.\n",
      "Semana 41 processada com 0 novos outliers.\n",
      "Semana 42 processada com 0 novos outliers.\n",
      "Semana 43 processada com 0 novos outliers.\n",
      "Semana 44 processada com 0 novos outliers.\n",
      "Semana 45 processada com 1 novos outliers.\n",
      "Semana 46 processada com 0 novos outliers.\n",
      "Semana 47 processada com 0 novos outliers.\n",
      "Semana 48 processada com 0 novos outliers.\n",
      "Semana 49 processada com 0 novos outliers.\n",
      "Semana 50 processada com 0 novos outliers.\n",
      "Semana 51 processada com 0 novos outliers.\n",
      "Semana 52 processada com 0 novos outliers.\n",
      "Semana 53 processada com 0 novos outliers.\n",
      "Semana 54 processada com 0 novos outliers.\n",
      "Semana 55 processada com 0 novos outliers.\n",
      "Semana 56 processada com 0 novos outliers.\n",
      "Semana 57 processada com 0 novos outliers.\n",
      "Semana 58 processada com 0 novos outliers.\n",
      "Semana 59 processada com 0 novos outliers.\n",
      "Semana 60 processada com 0 novos outliers.\n",
      "Semana 61 processada com 0 novos outliers.\n",
      "Semana 62 processada com 1 novos outliers.\n",
      "Semana 63 processada com 0 novos outliers.\n",
      "Semana 64 processada com 1 novos outliers.\n",
      "Semana 65 processada com 0 novos outliers.\n",
      "Semana 66 processada com 2 novos outliers.\n",
      "Semana 67 processada com 0 novos outliers.\n",
      "Semana 68 processada com 0 novos outliers.\n",
      "Semana 69 processada com 0 novos outliers.\n",
      "Semana 70 processada com 1 novos outliers.\n",
      "Semana 71 processada com 1 novos outliers.\n",
      "Semana 72 processada com 0 novos outliers.\n",
      "Semana 73 processada com 0 novos outliers.\n",
      "Semana 74 processada com 1 novos outliers.\n",
      "Semana 75 processada com 0 novos outliers.\n",
      "Semana 76 processada com 1 novos outliers.\n",
      "Semana 77 processada com 0 novos outliers.\n",
      "Semana 78 processada com 0 novos outliers.\n",
      "Semana 79 processada com 0 novos outliers.\n",
      "Semana 80 processada com 1 novos outliers.\n",
      "Semana 81 processada com 0 novos outliers.\n",
      "Semana 82 processada com 0 novos outliers.\n",
      "Semana 83 processada com 0 novos outliers.\n",
      "Não há mais semanas para adicionar.\n"
     ]
    }
   ],
   "source": [
    "# # Dicionários para guardar resultados de cada contador <- para todos os contadores\n",
    "# resultados_corrigidos_por_contador = {}\n",
    "# anomalias_por_contador = {}\n",
    "\n",
    "resultados_corrigidos = [] # <- quando for para todos os contadores esta linha e as 2 proximas não são necessarias\n",
    "todas_anomalias = []\n",
    "datas_corrigidas_global = set()\n",
    "\n",
    "contador_id = 'count_8' # <- quando for para todos os contadores tem de ser eliminada\n",
    "exog_col = 'exog'\n",
    "start_date = '2021-08-01'\n",
    "end_date_inicial = '2022-07-31'\n",
    "#max_semanas = 2\n",
    "semanas_adicionadas = 0 #quando for para todos os contadores tem de ser eliminada\n",
    "\n",
    "# for contador_id in colunas_contadores:  <- par todos os contadores\n",
    "#     if not contador_id.startswith(\"count_\"):\n",
    "#         continue  # ignora colunas que não são contadores\n",
    "\n",
    "#     print(f\"\\n### PROCESSANDO {contador_id} ###\")\n",
    "\n",
    "#     resultados_corrigidos = []\n",
    "#     todas_anomalias = []\n",
    "#     datas_corrigidas_global = set()\n",
    "#     semanas_adicionadas = 0\n",
    "\n",
    "    # Aplicar primeira vez\n",
    "df_hist_atual, anomalies_iniciais, datas_corrigidas = aplica_algoritmo(\n",
    "    df_daily_filled=df_daily_filled,\n",
    "    contador_id=contador_id,\n",
    "    exog_col=exog_col,\n",
    "    start_date=start_date,\n",
    "    end_date=end_date_inicial,\n",
    "    datas_corrigidas_previamente=datas_corrigidas_global\n",
    ")\n",
    "\n",
    "    # Atualizar listas\n",
    "datas_corrigidas_global.update(datas_corrigidas)\n",
    "resultados_corrigidos.append(df_hist_atual.copy())\n",
    "todas_anomalias.append(anomalies_iniciais)\n",
    "\n",
    "    # Loop\n",
    "while True:    \n",
    "#while semanas_adicionadas < max_semanas:\n",
    "    df_hist_atual, semanas_adicionadas, conseguiu_adicionar = get_one_more_week_rolling(\n",
    "        df_daily_filled=df_daily_filled,\n",
    "        df_hist=df_hist_atual,\n",
    "        weeks_added=semanas_adicionadas,\n",
    "        #max_weeks=max_semanas\n",
    "        janela_semanas=52  # ou outro valor\n",
    "    )\n",
    "\n",
    "    if not conseguiu_adicionar:\n",
    "        print(\"Não há mais semanas para adicionar.\")\n",
    "        break\n",
    "\n",
    "    df_corrigido, novas_anomalias, novas_datas_corrigidas = aplica_algoritmo(\n",
    "        df_daily_filled=df_hist_atual,\n",
    "        contador_id=contador_id,\n",
    "        exog_col=exog_col,\n",
    "        start_date=start_date,\n",
    "        end_date=df_hist_atual.index.max().strftime('%Y-%m-%d'),\n",
    "        datas_corrigidas_previamente=datas_corrigidas_global\n",
    "    )\n",
    "\n",
    "    # Filtrar anomalias para ignorar as que já foram corrigidas antes\n",
    "    novas_anomalias = novas_anomalias[~novas_anomalias['ds'].isin(datas_corrigidas_global)].copy()\n",
    "\n",
    "    # Atualizar conjunto global das datas corrigidas\n",
    "    datas_corrigidas_global.update(novas_datas_corrigidas)\n",
    "\n",
    "    df_hist_atual = df_corrigido.copy()\n",
    "    resultados_corrigidos.append(df_hist_atual.copy())\n",
    "    todas_anomalias.append(novas_anomalias)\n",
    "\n",
    "    print(f\"Semana {semanas_adicionadas} processada com {len(novas_anomalias)} novos outliers.\")\n",
    "\n",
    "\n",
    "    # # Guardar resultados <- para todos os contadores\n",
    "    # resultados_corrigidos_por_contador[contador_id] = resultados_corrigidos\n",
    "    # anomalias_por_contador[contador_id] = pd.concat(todas_anomalias, ignore_index=True)"
   ]
  },
  {
   "cell_type": "code",
   "execution_count": 18,
   "id": "8fcfafef",
   "metadata": {},
   "outputs": [
    {
     "data": {
      "text/html": [
       "<div>\n",
       "<style scoped>\n",
       "    .dataframe tbody tr th:only-of-type {\n",
       "        vertical-align: middle;\n",
       "    }\n",
       "\n",
       "    .dataframe tbody tr th {\n",
       "        vertical-align: top;\n",
       "    }\n",
       "\n",
       "    .dataframe thead th {\n",
       "        text-align: right;\n",
       "    }\n",
       "</style>\n",
       "<table border=\"1\" class=\"dataframe\">\n",
       "  <thead>\n",
       "    <tr style=\"text-align: right;\">\n",
       "      <th></th>\n",
       "      <th>unique_id</th>\n",
       "      <th>ds</th>\n",
       "      <th>y</th>\n",
       "      <th>fitted</th>\n",
       "      <th>lo_99_7</th>\n",
       "      <th>hi_99_7</th>\n",
       "    </tr>\n",
       "  </thead>\n",
       "  <tbody>\n",
       "    <tr>\n",
       "      <th>146</th>\n",
       "      <td>count_8</td>\n",
       "      <td>2021-12-25</td>\n",
       "      <td>276.0</td>\n",
       "      <td>91.666785</td>\n",
       "      <td>22.950374</td>\n",
       "      <td>160.383197</td>\n",
       "    </tr>\n",
       "    <tr>\n",
       "      <th>147</th>\n",
       "      <td>count_8</td>\n",
       "      <td>2021-12-26</td>\n",
       "      <td>389.0</td>\n",
       "      <td>228.984836</td>\n",
       "      <td>160.268424</td>\n",
       "      <td>297.701248</td>\n",
       "    </tr>\n",
       "    <tr>\n",
       "      <th>148</th>\n",
       "      <td>count_8</td>\n",
       "      <td>2021-12-27</td>\n",
       "      <td>50.0</td>\n",
       "      <td>174.463543</td>\n",
       "      <td>105.747131</td>\n",
       "      <td>243.179955</td>\n",
       "    </tr>\n",
       "    <tr>\n",
       "      <th>87</th>\n",
       "      <td>count_8</td>\n",
       "      <td>2021-11-04</td>\n",
       "      <td>177.0</td>\n",
       "      <td>109.819141</td>\n",
       "      <td>56.880014</td>\n",
       "      <td>162.758267</td>\n",
       "    </tr>\n",
       "    <tr>\n",
       "      <th>357</th>\n",
       "      <td>count_8</td>\n",
       "      <td>2022-08-08</td>\n",
       "      <td>14.0</td>\n",
       "      <td>119.927474</td>\n",
       "      <td>64.477089</td>\n",
       "      <td>175.377859</td>\n",
       "    </tr>\n",
       "    <tr>\n",
       "      <th>358</th>\n",
       "      <td>count_8</td>\n",
       "      <td>2022-09-13</td>\n",
       "      <td>233.0</td>\n",
       "      <td>164.812446</td>\n",
       "      <td>108.727536</td>\n",
       "      <td>220.897356</td>\n",
       "    </tr>\n",
       "    <tr>\n",
       "      <th>357</th>\n",
       "      <td>count_8</td>\n",
       "      <td>2022-10-10</td>\n",
       "      <td>84.0</td>\n",
       "      <td>142.506784</td>\n",
       "      <td>85.557143</td>\n",
       "      <td>199.456425</td>\n",
       "    </tr>\n",
       "    <tr>\n",
       "      <th>359</th>\n",
       "      <td>count_8</td>\n",
       "      <td>2022-10-19</td>\n",
       "      <td>90.0</td>\n",
       "      <td>147.520689</td>\n",
       "      <td>90.363700</td>\n",
       "      <td>204.677677</td>\n",
       "    </tr>\n",
       "    <tr>\n",
       "      <th>358</th>\n",
       "      <td>count_8</td>\n",
       "      <td>2022-10-25</td>\n",
       "      <td>281.0</td>\n",
       "      <td>187.569480</td>\n",
       "      <td>128.324823</td>\n",
       "      <td>246.814137</td>\n",
       "    </tr>\n",
       "    <tr>\n",
       "      <th>8</th>\n",
       "      <td>count_8</td>\n",
       "      <td>2021-12-21</td>\n",
       "      <td>39.0</td>\n",
       "      <td>98.193451</td>\n",
       "      <td>39.097650</td>\n",
       "      <td>157.289252</td>\n",
       "    </tr>\n",
       "    <tr>\n",
       "      <th>332</th>\n",
       "      <td>count_8</td>\n",
       "      <td>2022-12-01</td>\n",
       "      <td>70.0</td>\n",
       "      <td>128.363063</td>\n",
       "      <td>70.468549</td>\n",
       "      <td>186.257577</td>\n",
       "    </tr>\n",
       "    <tr>\n",
       "      <th>363</th>\n",
       "      <td>count_8</td>\n",
       "      <td>2023-01-15</td>\n",
       "      <td>163.0</td>\n",
       "      <td>70.605960</td>\n",
       "      <td>9.598684</td>\n",
       "      <td>131.613236</td>\n",
       "    </tr>\n",
       "    <tr>\n",
       "      <th>347</th>\n",
       "      <td>count_8</td>\n",
       "      <td>2023-01-06</td>\n",
       "      <td>187.0</td>\n",
       "      <td>125.726496</td>\n",
       "      <td>65.136155</td>\n",
       "      <td>186.316836</td>\n",
       "    </tr>\n",
       "    <tr>\n",
       "      <th>360</th>\n",
       "      <td>count_8</td>\n",
       "      <td>2023-06-08</td>\n",
       "      <td>53.0</td>\n",
       "      <td>123.537559</td>\n",
       "      <td>58.295383</td>\n",
       "      <td>188.779735</td>\n",
       "    </tr>\n",
       "    <tr>\n",
       "      <th>360</th>\n",
       "      <td>count_8</td>\n",
       "      <td>2023-10-05</td>\n",
       "      <td>104.0</td>\n",
       "      <td>172.041341</td>\n",
       "      <td>104.588081</td>\n",
       "      <td>239.494600</td>\n",
       "    </tr>\n",
       "    <tr>\n",
       "      <th>358</th>\n",
       "      <td>count_8</td>\n",
       "      <td>2023-10-17</td>\n",
       "      <td>109.0</td>\n",
       "      <td>191.155253</td>\n",
       "      <td>122.888521</td>\n",
       "      <td>259.421984</td>\n",
       "    </tr>\n",
       "    <tr>\n",
       "      <th>346</th>\n",
       "      <td>count_8</td>\n",
       "      <td>2023-10-19</td>\n",
       "      <td>87.0</td>\n",
       "      <td>157.814621</td>\n",
       "      <td>88.068592</td>\n",
       "      <td>227.560650</td>\n",
       "    </tr>\n",
       "    <tr>\n",
       "      <th>359</th>\n",
       "      <td>count_8</td>\n",
       "      <td>2023-11-01</td>\n",
       "      <td>70.0</td>\n",
       "      <td>168.831546</td>\n",
       "      <td>99.085517</td>\n",
       "      <td>238.577575</td>\n",
       "    </tr>\n",
       "    <tr>\n",
       "      <th>361</th>\n",
       "      <td>count_8</td>\n",
       "      <td>2023-12-01</td>\n",
       "      <td>80.0</td>\n",
       "      <td>152.594237</td>\n",
       "      <td>84.038068</td>\n",
       "      <td>221.150407</td>\n",
       "    </tr>\n",
       "    <tr>\n",
       "      <th>363</th>\n",
       "      <td>count_8</td>\n",
       "      <td>2023-12-10</td>\n",
       "      <td>167.0</td>\n",
       "      <td>69.664245</td>\n",
       "      <td>-1.419355</td>\n",
       "      <td>140.747844</td>\n",
       "    </tr>\n",
       "    <tr>\n",
       "      <th>357</th>\n",
       "      <td>count_8</td>\n",
       "      <td>2023-12-25</td>\n",
       "      <td>29.0</td>\n",
       "      <td>111.096523</td>\n",
       "      <td>40.560363</td>\n",
       "      <td>181.632683</td>\n",
       "    </tr>\n",
       "    <tr>\n",
       "      <th>359</th>\n",
       "      <td>count_8</td>\n",
       "      <td>2024-01-10</td>\n",
       "      <td>247.0</td>\n",
       "      <td>155.009472</td>\n",
       "      <td>83.762874</td>\n",
       "      <td>226.256070</td>\n",
       "    </tr>\n",
       "    <tr>\n",
       "      <th>360</th>\n",
       "      <td>count_8</td>\n",
       "      <td>2024-02-08</td>\n",
       "      <td>67.0</td>\n",
       "      <td>151.680920</td>\n",
       "      <td>80.707754</td>\n",
       "      <td>222.654086</td>\n",
       "    </tr>\n",
       "  </tbody>\n",
       "</table>\n",
       "</div>"
      ],
      "text/plain": [
       "    unique_id         ds      y      fitted     lo_99_7     hi_99_7\n",
       "146   count_8 2021-12-25  276.0   91.666785   22.950374  160.383197\n",
       "147   count_8 2021-12-26  389.0  228.984836  160.268424  297.701248\n",
       "148   count_8 2021-12-27   50.0  174.463543  105.747131  243.179955\n",
       "87    count_8 2021-11-04  177.0  109.819141   56.880014  162.758267\n",
       "357   count_8 2022-08-08   14.0  119.927474   64.477089  175.377859\n",
       "358   count_8 2022-09-13  233.0  164.812446  108.727536  220.897356\n",
       "357   count_8 2022-10-10   84.0  142.506784   85.557143  199.456425\n",
       "359   count_8 2022-10-19   90.0  147.520689   90.363700  204.677677\n",
       "358   count_8 2022-10-25  281.0  187.569480  128.324823  246.814137\n",
       "8     count_8 2021-12-21   39.0   98.193451   39.097650  157.289252\n",
       "332   count_8 2022-12-01   70.0  128.363063   70.468549  186.257577\n",
       "363   count_8 2023-01-15  163.0   70.605960    9.598684  131.613236\n",
       "347   count_8 2023-01-06  187.0  125.726496   65.136155  186.316836\n",
       "360   count_8 2023-06-08   53.0  123.537559   58.295383  188.779735\n",
       "360   count_8 2023-10-05  104.0  172.041341  104.588081  239.494600\n",
       "358   count_8 2023-10-17  109.0  191.155253  122.888521  259.421984\n",
       "346   count_8 2023-10-19   87.0  157.814621   88.068592  227.560650\n",
       "359   count_8 2023-11-01   70.0  168.831546   99.085517  238.577575\n",
       "361   count_8 2023-12-01   80.0  152.594237   84.038068  221.150407\n",
       "363   count_8 2023-12-10  167.0   69.664245   -1.419355  140.747844\n",
       "357   count_8 2023-12-25   29.0  111.096523   40.560363  181.632683\n",
       "359   count_8 2024-01-10  247.0  155.009472   83.762874  226.256070\n",
       "360   count_8 2024-02-08   67.0  151.680920   80.707754  222.654086"
      ]
     },
     "execution_count": 18,
     "metadata": {},
     "output_type": "execute_result"
    }
   ],
   "source": [
    "#Juntar todas as anomalias detetadas \n",
    "anomalias_totais = pd.concat(todas_anomalias)\n",
    "anomalias_totais\n",
    "\n",
    "# Para todos os contadores\n",
    "# anomalias_totais = pd.concat(\n",
    "#     [df.assign(contador=contador_id) for contador_id, df in anomalias_por_contador.items() if not df.empty],\n",
    "#     ignore_index=True\n",
    "# )\n",
    "\n",
    "# if anomalias_totais.empty:\n",
    "#     print(\"Nenhuma anomalia encontrada.\")\n",
    "# else:\n",
    "#     print(anomalias_totais[['ds', 'contador', 'y', 'lo_99_7', 'hi_99_7']])\n",
    "\n"
   ]
  },
  {
   "cell_type": "code",
   "execution_count": 19,
   "id": "28089520",
   "metadata": {},
   "outputs": [
    {
     "data": {
      "application/vnd.plotly.v1+json": {
       "config": {
        "plotlyServerURL": "https://plot.ly"
       },
       "data": [
        {
         "hovertemplate": "detected=%{x}<br>Contagem=%{y}<extra></extra>",
         "legendgroup": "",
         "line": {
          "color": "#636efa",
          "dash": "solid"
         },
         "marker": {
          "symbol": "circle"
         },
         "mode": "lines",
         "name": "",
         "orientation": "v",
         "showlegend": false,
         "type": "scatter",
         "x": [
          "2021-08-01T00:00:00.000000000",
          "2021-08-02T00:00:00.000000000",
          "2021-08-03T00:00:00.000000000",
          "2021-08-04T00:00:00.000000000",
          "2021-08-05T00:00:00.000000000",
          "2021-08-06T00:00:00.000000000",
          "2021-08-07T00:00:00.000000000",
          "2021-08-08T00:00:00.000000000",
          "2021-08-09T00:00:00.000000000",
          "2021-08-10T00:00:00.000000000",
          "2021-08-11T00:00:00.000000000",
          "2021-08-12T00:00:00.000000000",
          "2021-08-13T00:00:00.000000000",
          "2021-08-14T00:00:00.000000000",
          "2021-08-15T00:00:00.000000000",
          "2021-08-16T00:00:00.000000000",
          "2021-08-17T00:00:00.000000000",
          "2021-08-18T00:00:00.000000000",
          "2021-08-19T00:00:00.000000000",
          "2021-08-20T00:00:00.000000000",
          "2021-08-21T00:00:00.000000000",
          "2021-08-22T00:00:00.000000000",
          "2021-08-23T00:00:00.000000000",
          "2021-08-24T00:00:00.000000000",
          "2021-08-25T00:00:00.000000000",
          "2021-08-26T00:00:00.000000000",
          "2021-08-27T00:00:00.000000000",
          "2021-08-28T00:00:00.000000000",
          "2021-08-29T00:00:00.000000000",
          "2021-08-30T00:00:00.000000000",
          "2021-08-31T00:00:00.000000000",
          "2021-09-01T00:00:00.000000000",
          "2021-09-02T00:00:00.000000000",
          "2021-09-03T00:00:00.000000000",
          "2021-09-04T00:00:00.000000000",
          "2021-09-05T00:00:00.000000000",
          "2021-09-06T00:00:00.000000000",
          "2021-09-07T00:00:00.000000000",
          "2021-09-08T00:00:00.000000000",
          "2021-09-09T00:00:00.000000000",
          "2021-09-10T00:00:00.000000000",
          "2021-09-11T00:00:00.000000000",
          "2021-09-12T00:00:00.000000000",
          "2021-09-13T00:00:00.000000000",
          "2021-09-14T00:00:00.000000000",
          "2021-09-15T00:00:00.000000000",
          "2021-09-16T00:00:00.000000000",
          "2021-09-17T00:00:00.000000000",
          "2021-09-18T00:00:00.000000000",
          "2021-09-19T00:00:00.000000000",
          "2021-09-20T00:00:00.000000000",
          "2021-09-21T00:00:00.000000000",
          "2021-09-22T00:00:00.000000000",
          "2021-09-23T00:00:00.000000000",
          "2021-09-24T00:00:00.000000000",
          "2021-09-25T00:00:00.000000000",
          "2021-09-26T00:00:00.000000000",
          "2021-09-27T00:00:00.000000000",
          "2021-09-28T00:00:00.000000000",
          "2021-09-29T00:00:00.000000000",
          "2021-09-30T00:00:00.000000000",
          "2021-10-01T00:00:00.000000000",
          "2021-10-02T00:00:00.000000000",
          "2021-10-03T00:00:00.000000000",
          "2021-10-04T00:00:00.000000000",
          "2021-10-05T00:00:00.000000000",
          "2021-10-06T00:00:00.000000000",
          "2021-10-07T00:00:00.000000000",
          "2021-10-08T00:00:00.000000000",
          "2021-10-09T00:00:00.000000000",
          "2021-10-10T00:00:00.000000000",
          "2021-10-11T00:00:00.000000000",
          "2021-10-12T00:00:00.000000000",
          "2021-10-13T00:00:00.000000000",
          "2021-10-14T00:00:00.000000000",
          "2021-10-15T00:00:00.000000000",
          "2021-10-16T00:00:00.000000000",
          "2021-10-17T00:00:00.000000000",
          "2021-10-18T00:00:00.000000000",
          "2021-10-19T00:00:00.000000000",
          "2021-10-20T00:00:00.000000000",
          "2021-10-21T00:00:00.000000000",
          "2021-10-22T00:00:00.000000000",
          "2021-10-23T00:00:00.000000000",
          "2021-10-24T00:00:00.000000000",
          "2021-10-25T00:00:00.000000000",
          "2021-10-26T00:00:00.000000000",
          "2021-10-27T00:00:00.000000000",
          "2021-10-28T00:00:00.000000000",
          "2021-10-29T00:00:00.000000000",
          "2021-10-30T00:00:00.000000000",
          "2021-10-31T00:00:00.000000000",
          "2021-11-01T00:00:00.000000000",
          "2021-11-02T00:00:00.000000000",
          "2021-11-03T00:00:00.000000000",
          "2021-11-04T00:00:00.000000000",
          "2021-11-05T00:00:00.000000000",
          "2021-11-06T00:00:00.000000000",
          "2021-11-07T00:00:00.000000000",
          "2021-11-08T00:00:00.000000000",
          "2021-11-09T00:00:00.000000000",
          "2021-11-10T00:00:00.000000000",
          "2021-11-11T00:00:00.000000000",
          "2021-11-12T00:00:00.000000000",
          "2021-11-13T00:00:00.000000000",
          "2021-11-14T00:00:00.000000000",
          "2021-11-15T00:00:00.000000000",
          "2021-11-16T00:00:00.000000000",
          "2021-11-17T00:00:00.000000000",
          "2021-11-18T00:00:00.000000000",
          "2021-11-19T00:00:00.000000000",
          "2021-11-20T00:00:00.000000000",
          "2021-11-21T00:00:00.000000000",
          "2021-11-22T00:00:00.000000000",
          "2021-11-23T00:00:00.000000000",
          "2021-11-24T00:00:00.000000000",
          "2021-11-25T00:00:00.000000000",
          "2021-11-26T00:00:00.000000000",
          "2021-11-27T00:00:00.000000000",
          "2021-11-28T00:00:00.000000000",
          "2021-11-29T00:00:00.000000000",
          "2021-11-30T00:00:00.000000000",
          "2021-12-01T00:00:00.000000000",
          "2021-12-02T00:00:00.000000000",
          "2021-12-03T00:00:00.000000000",
          "2021-12-04T00:00:00.000000000",
          "2021-12-05T00:00:00.000000000",
          "2021-12-06T00:00:00.000000000",
          "2021-12-07T00:00:00.000000000",
          "2021-12-08T00:00:00.000000000",
          "2021-12-09T00:00:00.000000000",
          "2021-12-10T00:00:00.000000000",
          "2021-12-11T00:00:00.000000000",
          "2021-12-12T00:00:00.000000000",
          "2021-12-13T00:00:00.000000000",
          "2021-12-14T00:00:00.000000000",
          "2021-12-15T00:00:00.000000000",
          "2021-12-16T00:00:00.000000000",
          "2021-12-17T00:00:00.000000000",
          "2021-12-18T00:00:00.000000000",
          "2021-12-19T00:00:00.000000000",
          "2021-12-20T00:00:00.000000000",
          "2021-12-21T00:00:00.000000000",
          "2021-12-22T00:00:00.000000000",
          "2021-12-23T00:00:00.000000000",
          "2021-12-24T00:00:00.000000000",
          "2021-12-25T00:00:00.000000000",
          "2021-12-26T00:00:00.000000000",
          "2021-12-27T00:00:00.000000000",
          "2021-12-28T00:00:00.000000000",
          "2021-12-29T00:00:00.000000000",
          "2021-12-30T00:00:00.000000000",
          "2021-12-31T00:00:00.000000000",
          "2022-01-01T00:00:00.000000000",
          "2022-01-02T00:00:00.000000000",
          "2022-01-03T00:00:00.000000000",
          "2022-01-04T00:00:00.000000000",
          "2022-01-05T00:00:00.000000000",
          "2022-01-06T00:00:00.000000000",
          "2022-01-07T00:00:00.000000000",
          "2022-01-08T00:00:00.000000000",
          "2022-01-09T00:00:00.000000000",
          "2022-01-10T00:00:00.000000000",
          "2022-01-11T00:00:00.000000000",
          "2022-01-12T00:00:00.000000000",
          "2022-01-13T00:00:00.000000000",
          "2022-01-14T00:00:00.000000000",
          "2022-01-15T00:00:00.000000000",
          "2022-01-16T00:00:00.000000000",
          "2022-01-17T00:00:00.000000000",
          "2022-01-18T00:00:00.000000000",
          "2022-01-19T00:00:00.000000000",
          "2022-01-20T00:00:00.000000000",
          "2022-01-21T00:00:00.000000000",
          "2022-01-22T00:00:00.000000000",
          "2022-01-23T00:00:00.000000000",
          "2022-01-24T00:00:00.000000000",
          "2022-01-25T00:00:00.000000000",
          "2022-01-26T00:00:00.000000000",
          "2022-01-27T00:00:00.000000000",
          "2022-01-28T00:00:00.000000000",
          "2022-01-29T00:00:00.000000000",
          "2022-01-30T00:00:00.000000000",
          "2022-01-31T00:00:00.000000000",
          "2022-02-01T00:00:00.000000000",
          "2022-02-02T00:00:00.000000000",
          "2022-02-03T00:00:00.000000000",
          "2022-02-04T00:00:00.000000000",
          "2022-02-05T00:00:00.000000000",
          "2022-02-06T00:00:00.000000000",
          "2022-02-07T00:00:00.000000000",
          "2022-02-08T00:00:00.000000000",
          "2022-02-09T00:00:00.000000000",
          "2022-02-10T00:00:00.000000000",
          "2022-02-11T00:00:00.000000000",
          "2022-02-12T00:00:00.000000000",
          "2022-02-13T00:00:00.000000000",
          "2022-02-14T00:00:00.000000000",
          "2022-02-15T00:00:00.000000000",
          "2022-02-16T00:00:00.000000000",
          "2022-02-17T00:00:00.000000000",
          "2022-02-18T00:00:00.000000000",
          "2022-02-19T00:00:00.000000000",
          "2022-02-20T00:00:00.000000000",
          "2022-02-21T00:00:00.000000000",
          "2022-02-22T00:00:00.000000000",
          "2022-02-23T00:00:00.000000000",
          "2022-02-24T00:00:00.000000000",
          "2022-02-25T00:00:00.000000000",
          "2022-02-26T00:00:00.000000000",
          "2022-02-27T00:00:00.000000000",
          "2022-02-28T00:00:00.000000000",
          "2022-03-01T00:00:00.000000000",
          "2022-03-02T00:00:00.000000000",
          "2022-03-03T00:00:00.000000000",
          "2022-03-04T00:00:00.000000000",
          "2022-03-05T00:00:00.000000000",
          "2022-03-06T00:00:00.000000000",
          "2022-03-07T00:00:00.000000000",
          "2022-03-08T00:00:00.000000000",
          "2022-03-09T00:00:00.000000000",
          "2022-03-10T00:00:00.000000000",
          "2022-03-11T00:00:00.000000000",
          "2022-03-12T00:00:00.000000000",
          "2022-03-13T00:00:00.000000000",
          "2022-03-14T00:00:00.000000000",
          "2022-03-15T00:00:00.000000000",
          "2022-03-16T00:00:00.000000000",
          "2022-03-17T00:00:00.000000000",
          "2022-03-18T00:00:00.000000000",
          "2022-03-19T00:00:00.000000000",
          "2022-03-20T00:00:00.000000000",
          "2022-03-21T00:00:00.000000000",
          "2022-03-22T00:00:00.000000000",
          "2022-03-23T00:00:00.000000000",
          "2022-03-24T00:00:00.000000000",
          "2022-03-25T00:00:00.000000000",
          "2022-03-26T00:00:00.000000000",
          "2022-03-27T00:00:00.000000000",
          "2022-03-28T00:00:00.000000000",
          "2022-03-29T00:00:00.000000000",
          "2022-03-30T00:00:00.000000000",
          "2022-03-31T00:00:00.000000000",
          "2022-04-01T00:00:00.000000000",
          "2022-04-02T00:00:00.000000000",
          "2022-04-03T00:00:00.000000000",
          "2022-04-04T00:00:00.000000000",
          "2022-04-05T00:00:00.000000000",
          "2022-04-06T00:00:00.000000000",
          "2022-04-07T00:00:00.000000000",
          "2022-04-08T00:00:00.000000000",
          "2022-04-09T00:00:00.000000000",
          "2022-04-10T00:00:00.000000000",
          "2022-04-11T00:00:00.000000000",
          "2022-04-12T00:00:00.000000000",
          "2022-04-13T00:00:00.000000000",
          "2022-04-14T00:00:00.000000000",
          "2022-04-15T00:00:00.000000000",
          "2022-04-16T00:00:00.000000000",
          "2022-04-17T00:00:00.000000000",
          "2022-04-18T00:00:00.000000000",
          "2022-04-19T00:00:00.000000000",
          "2022-04-20T00:00:00.000000000",
          "2022-04-21T00:00:00.000000000",
          "2022-04-22T00:00:00.000000000",
          "2022-04-23T00:00:00.000000000",
          "2022-04-24T00:00:00.000000000",
          "2022-04-25T00:00:00.000000000",
          "2022-04-26T00:00:00.000000000",
          "2022-04-27T00:00:00.000000000",
          "2022-04-28T00:00:00.000000000",
          "2022-04-29T00:00:00.000000000",
          "2022-04-30T00:00:00.000000000",
          "2022-05-01T00:00:00.000000000",
          "2022-05-02T00:00:00.000000000",
          "2022-05-03T00:00:00.000000000",
          "2022-05-04T00:00:00.000000000",
          "2022-05-05T00:00:00.000000000",
          "2022-05-06T00:00:00.000000000",
          "2022-05-07T00:00:00.000000000",
          "2022-05-08T00:00:00.000000000",
          "2022-05-09T00:00:00.000000000",
          "2022-05-10T00:00:00.000000000",
          "2022-05-11T00:00:00.000000000",
          "2022-05-12T00:00:00.000000000",
          "2022-05-13T00:00:00.000000000",
          "2022-05-14T00:00:00.000000000",
          "2022-05-15T00:00:00.000000000",
          "2022-05-16T00:00:00.000000000",
          "2022-05-17T00:00:00.000000000",
          "2022-05-18T00:00:00.000000000",
          "2022-05-19T00:00:00.000000000",
          "2022-05-20T00:00:00.000000000",
          "2022-05-21T00:00:00.000000000",
          "2022-05-22T00:00:00.000000000",
          "2022-05-23T00:00:00.000000000",
          "2022-05-24T00:00:00.000000000",
          "2022-05-25T00:00:00.000000000",
          "2022-05-26T00:00:00.000000000",
          "2022-05-27T00:00:00.000000000",
          "2022-05-28T00:00:00.000000000",
          "2022-05-29T00:00:00.000000000",
          "2022-05-30T00:00:00.000000000",
          "2022-05-31T00:00:00.000000000",
          "2022-06-01T00:00:00.000000000",
          "2022-06-02T00:00:00.000000000",
          "2022-06-03T00:00:00.000000000",
          "2022-06-04T00:00:00.000000000",
          "2022-06-05T00:00:00.000000000",
          "2022-06-06T00:00:00.000000000",
          "2022-06-07T00:00:00.000000000",
          "2022-06-08T00:00:00.000000000",
          "2022-06-09T00:00:00.000000000",
          "2022-06-10T00:00:00.000000000",
          "2022-06-11T00:00:00.000000000",
          "2022-06-12T00:00:00.000000000",
          "2022-06-13T00:00:00.000000000",
          "2022-06-14T00:00:00.000000000",
          "2022-06-15T00:00:00.000000000",
          "2022-06-16T00:00:00.000000000",
          "2022-06-17T00:00:00.000000000",
          "2022-06-18T00:00:00.000000000",
          "2022-06-19T00:00:00.000000000",
          "2022-06-20T00:00:00.000000000",
          "2022-06-21T00:00:00.000000000",
          "2022-06-22T00:00:00.000000000",
          "2022-06-23T00:00:00.000000000",
          "2022-06-24T00:00:00.000000000",
          "2022-06-25T00:00:00.000000000",
          "2022-06-26T00:00:00.000000000",
          "2022-06-27T00:00:00.000000000",
          "2022-06-28T00:00:00.000000000",
          "2022-06-29T00:00:00.000000000",
          "2022-06-30T00:00:00.000000000",
          "2022-07-01T00:00:00.000000000",
          "2022-07-02T00:00:00.000000000",
          "2022-07-03T00:00:00.000000000",
          "2022-07-04T00:00:00.000000000",
          "2022-07-05T00:00:00.000000000",
          "2022-07-06T00:00:00.000000000",
          "2022-07-07T00:00:00.000000000",
          "2022-07-08T00:00:00.000000000",
          "2022-07-09T00:00:00.000000000",
          "2022-07-10T00:00:00.000000000",
          "2022-07-11T00:00:00.000000000",
          "2022-07-12T00:00:00.000000000",
          "2022-07-13T00:00:00.000000000",
          "2022-07-14T00:00:00.000000000",
          "2022-07-15T00:00:00.000000000",
          "2022-07-16T00:00:00.000000000",
          "2022-07-17T00:00:00.000000000",
          "2022-07-18T00:00:00.000000000",
          "2022-07-19T00:00:00.000000000",
          "2022-07-20T00:00:00.000000000",
          "2022-07-21T00:00:00.000000000",
          "2022-07-22T00:00:00.000000000",
          "2022-07-23T00:00:00.000000000",
          "2022-07-24T00:00:00.000000000",
          "2022-07-25T00:00:00.000000000",
          "2022-07-26T00:00:00.000000000",
          "2022-07-27T00:00:00.000000000",
          "2022-07-28T00:00:00.000000000",
          "2022-07-29T00:00:00.000000000",
          "2022-07-30T00:00:00.000000000",
          "2022-07-31T00:00:00.000000000",
          "2022-08-01T00:00:00.000000000",
          "2022-08-02T00:00:00.000000000",
          "2022-08-03T00:00:00.000000000",
          "2022-08-04T00:00:00.000000000",
          "2022-08-05T00:00:00.000000000",
          "2022-08-06T00:00:00.000000000",
          "2022-08-07T00:00:00.000000000",
          "2022-08-08T00:00:00.000000000",
          "2022-08-09T00:00:00.000000000",
          "2022-08-10T00:00:00.000000000",
          "2022-08-11T00:00:00.000000000",
          "2022-08-12T00:00:00.000000000",
          "2022-08-13T00:00:00.000000000",
          "2022-08-14T00:00:00.000000000",
          "2022-08-15T00:00:00.000000000",
          "2022-08-16T00:00:00.000000000",
          "2022-08-17T00:00:00.000000000",
          "2022-08-18T00:00:00.000000000",
          "2022-08-19T00:00:00.000000000",
          "2022-08-20T00:00:00.000000000",
          "2022-08-21T00:00:00.000000000",
          "2022-08-22T00:00:00.000000000",
          "2022-08-23T00:00:00.000000000",
          "2022-08-24T00:00:00.000000000",
          "2022-08-25T00:00:00.000000000",
          "2022-08-26T00:00:00.000000000",
          "2022-08-27T00:00:00.000000000",
          "2022-08-28T00:00:00.000000000",
          "2022-08-29T00:00:00.000000000",
          "2022-08-30T00:00:00.000000000",
          "2022-08-31T00:00:00.000000000",
          "2022-09-01T00:00:00.000000000",
          "2022-09-02T00:00:00.000000000",
          "2022-09-03T00:00:00.000000000",
          "2022-09-04T00:00:00.000000000",
          "2022-09-05T00:00:00.000000000",
          "2022-09-06T00:00:00.000000000",
          "2022-09-07T00:00:00.000000000",
          "2022-09-08T00:00:00.000000000",
          "2022-09-09T00:00:00.000000000",
          "2022-09-10T00:00:00.000000000",
          "2022-09-11T00:00:00.000000000",
          "2022-09-12T00:00:00.000000000",
          "2022-09-13T00:00:00.000000000",
          "2022-09-14T00:00:00.000000000",
          "2022-09-15T00:00:00.000000000",
          "2022-09-16T00:00:00.000000000",
          "2022-09-17T00:00:00.000000000",
          "2022-09-18T00:00:00.000000000",
          "2022-09-19T00:00:00.000000000",
          "2022-09-20T00:00:00.000000000",
          "2022-09-21T00:00:00.000000000",
          "2022-09-22T00:00:00.000000000",
          "2022-09-23T00:00:00.000000000",
          "2022-09-24T00:00:00.000000000",
          "2022-09-25T00:00:00.000000000",
          "2022-09-26T00:00:00.000000000",
          "2022-09-27T00:00:00.000000000",
          "2022-09-28T00:00:00.000000000",
          "2022-09-29T00:00:00.000000000",
          "2022-09-30T00:00:00.000000000",
          "2022-10-01T00:00:00.000000000",
          "2022-10-02T00:00:00.000000000",
          "2022-10-03T00:00:00.000000000",
          "2022-10-04T00:00:00.000000000",
          "2022-10-05T00:00:00.000000000",
          "2022-10-06T00:00:00.000000000",
          "2022-10-07T00:00:00.000000000",
          "2022-10-08T00:00:00.000000000",
          "2022-10-09T00:00:00.000000000",
          "2022-10-10T00:00:00.000000000",
          "2022-10-11T00:00:00.000000000",
          "2022-10-12T00:00:00.000000000",
          "2022-10-13T00:00:00.000000000",
          "2022-10-14T00:00:00.000000000",
          "2022-10-15T00:00:00.000000000",
          "2022-10-16T00:00:00.000000000",
          "2022-10-17T00:00:00.000000000",
          "2022-10-18T00:00:00.000000000",
          "2022-10-19T00:00:00.000000000",
          "2022-10-20T00:00:00.000000000",
          "2022-10-21T00:00:00.000000000",
          "2022-10-22T00:00:00.000000000",
          "2022-10-23T00:00:00.000000000",
          "2022-10-24T00:00:00.000000000",
          "2022-10-25T00:00:00.000000000",
          "2022-10-26T00:00:00.000000000",
          "2022-10-27T00:00:00.000000000",
          "2022-10-28T00:00:00.000000000",
          "2022-10-29T00:00:00.000000000",
          "2022-10-30T00:00:00.000000000",
          "2022-10-31T00:00:00.000000000",
          "2022-11-01T00:00:00.000000000",
          "2022-11-02T00:00:00.000000000",
          "2022-11-03T00:00:00.000000000",
          "2022-11-04T00:00:00.000000000",
          "2022-11-05T00:00:00.000000000",
          "2022-11-06T00:00:00.000000000",
          "2022-11-07T00:00:00.000000000",
          "2022-11-08T00:00:00.000000000",
          "2022-11-09T00:00:00.000000000",
          "2022-11-10T00:00:00.000000000",
          "2022-11-11T00:00:00.000000000",
          "2022-11-12T00:00:00.000000000",
          "2022-11-13T00:00:00.000000000",
          "2022-11-14T00:00:00.000000000",
          "2022-11-15T00:00:00.000000000",
          "2022-11-16T00:00:00.000000000",
          "2022-11-17T00:00:00.000000000",
          "2022-11-18T00:00:00.000000000",
          "2022-11-19T00:00:00.000000000",
          "2022-11-20T00:00:00.000000000",
          "2022-11-21T00:00:00.000000000",
          "2022-11-22T00:00:00.000000000",
          "2022-11-23T00:00:00.000000000",
          "2022-11-24T00:00:00.000000000",
          "2022-11-25T00:00:00.000000000",
          "2022-11-26T00:00:00.000000000",
          "2022-11-27T00:00:00.000000000",
          "2022-11-28T00:00:00.000000000",
          "2022-11-29T00:00:00.000000000",
          "2022-11-30T00:00:00.000000000",
          "2022-12-01T00:00:00.000000000",
          "2022-12-02T00:00:00.000000000",
          "2022-12-03T00:00:00.000000000",
          "2022-12-04T00:00:00.000000000",
          "2022-12-05T00:00:00.000000000",
          "2022-12-06T00:00:00.000000000",
          "2022-12-07T00:00:00.000000000",
          "2022-12-08T00:00:00.000000000",
          "2022-12-09T00:00:00.000000000",
          "2022-12-10T00:00:00.000000000",
          "2022-12-11T00:00:00.000000000",
          "2022-12-12T00:00:00.000000000",
          "2022-12-13T00:00:00.000000000",
          "2022-12-14T00:00:00.000000000",
          "2022-12-15T00:00:00.000000000",
          "2022-12-16T00:00:00.000000000",
          "2022-12-17T00:00:00.000000000",
          "2022-12-18T00:00:00.000000000",
          "2022-12-19T00:00:00.000000000",
          "2022-12-20T00:00:00.000000000",
          "2022-12-21T00:00:00.000000000",
          "2022-12-22T00:00:00.000000000",
          "2022-12-23T00:00:00.000000000",
          "2022-12-24T00:00:00.000000000",
          "2022-12-25T00:00:00.000000000",
          "2022-12-26T00:00:00.000000000",
          "2022-12-27T00:00:00.000000000",
          "2022-12-28T00:00:00.000000000",
          "2022-12-29T00:00:00.000000000",
          "2022-12-30T00:00:00.000000000",
          "2022-12-31T00:00:00.000000000",
          "2023-01-01T00:00:00.000000000",
          "2023-01-02T00:00:00.000000000",
          "2023-01-03T00:00:00.000000000",
          "2023-01-04T00:00:00.000000000",
          "2023-01-05T00:00:00.000000000",
          "2023-01-06T00:00:00.000000000",
          "2023-01-07T00:00:00.000000000",
          "2023-01-08T00:00:00.000000000",
          "2023-01-09T00:00:00.000000000",
          "2023-01-10T00:00:00.000000000",
          "2023-01-11T00:00:00.000000000",
          "2023-01-12T00:00:00.000000000",
          "2023-01-13T00:00:00.000000000",
          "2023-01-14T00:00:00.000000000",
          "2023-01-15T00:00:00.000000000",
          "2023-01-16T00:00:00.000000000",
          "2023-01-17T00:00:00.000000000",
          "2023-01-18T00:00:00.000000000",
          "2023-01-19T00:00:00.000000000",
          "2023-01-20T00:00:00.000000000",
          "2023-01-21T00:00:00.000000000",
          "2023-01-22T00:00:00.000000000",
          "2023-01-23T00:00:00.000000000",
          "2023-01-24T00:00:00.000000000",
          "2023-01-25T00:00:00.000000000",
          "2023-01-26T00:00:00.000000000",
          "2023-01-27T00:00:00.000000000",
          "2023-01-28T00:00:00.000000000",
          "2023-01-29T00:00:00.000000000",
          "2023-01-30T00:00:00.000000000",
          "2023-01-31T00:00:00.000000000",
          "2023-02-01T00:00:00.000000000",
          "2023-02-02T00:00:00.000000000",
          "2023-02-03T00:00:00.000000000",
          "2023-02-04T00:00:00.000000000",
          "2023-02-05T00:00:00.000000000",
          "2023-02-06T00:00:00.000000000",
          "2023-02-07T00:00:00.000000000",
          "2023-02-08T00:00:00.000000000",
          "2023-02-09T00:00:00.000000000",
          "2023-02-10T00:00:00.000000000",
          "2023-02-11T00:00:00.000000000",
          "2023-02-12T00:00:00.000000000",
          "2023-02-13T00:00:00.000000000",
          "2023-02-14T00:00:00.000000000",
          "2023-02-15T00:00:00.000000000",
          "2023-02-16T00:00:00.000000000",
          "2023-02-17T00:00:00.000000000",
          "2023-02-18T00:00:00.000000000",
          "2023-02-19T00:00:00.000000000",
          "2023-02-20T00:00:00.000000000",
          "2023-02-21T00:00:00.000000000",
          "2023-02-22T00:00:00.000000000",
          "2023-02-23T00:00:00.000000000",
          "2023-02-24T00:00:00.000000000",
          "2023-02-25T00:00:00.000000000",
          "2023-02-26T00:00:00.000000000",
          "2023-02-27T00:00:00.000000000",
          "2023-02-28T00:00:00.000000000",
          "2023-03-01T00:00:00.000000000",
          "2023-03-02T00:00:00.000000000",
          "2023-03-03T00:00:00.000000000",
          "2023-03-04T00:00:00.000000000",
          "2023-03-05T00:00:00.000000000",
          "2023-03-06T00:00:00.000000000",
          "2023-03-07T00:00:00.000000000",
          "2023-03-08T00:00:00.000000000",
          "2023-03-09T00:00:00.000000000",
          "2023-03-10T00:00:00.000000000",
          "2023-03-11T00:00:00.000000000",
          "2023-03-12T00:00:00.000000000",
          "2023-03-13T00:00:00.000000000",
          "2023-03-14T00:00:00.000000000",
          "2023-03-15T00:00:00.000000000",
          "2023-03-16T00:00:00.000000000",
          "2023-03-17T00:00:00.000000000",
          "2023-03-18T00:00:00.000000000",
          "2023-03-19T00:00:00.000000000",
          "2023-03-20T00:00:00.000000000",
          "2023-03-21T00:00:00.000000000",
          "2023-03-22T00:00:00.000000000",
          "2023-03-23T00:00:00.000000000",
          "2023-03-24T00:00:00.000000000",
          "2023-03-25T00:00:00.000000000",
          "2023-03-26T00:00:00.000000000",
          "2023-03-27T00:00:00.000000000",
          "2023-03-28T00:00:00.000000000",
          "2023-03-29T00:00:00.000000000",
          "2023-03-30T00:00:00.000000000",
          "2023-03-31T00:00:00.000000000",
          "2023-04-01T00:00:00.000000000",
          "2023-04-02T00:00:00.000000000",
          "2023-04-03T00:00:00.000000000",
          "2023-04-04T00:00:00.000000000",
          "2023-04-05T00:00:00.000000000",
          "2023-04-06T00:00:00.000000000",
          "2023-04-07T00:00:00.000000000",
          "2023-04-08T00:00:00.000000000",
          "2023-04-09T00:00:00.000000000",
          "2023-04-10T00:00:00.000000000",
          "2023-04-11T00:00:00.000000000",
          "2023-04-12T00:00:00.000000000",
          "2023-04-13T00:00:00.000000000",
          "2023-04-14T00:00:00.000000000",
          "2023-04-15T00:00:00.000000000",
          "2023-04-16T00:00:00.000000000",
          "2023-04-17T00:00:00.000000000",
          "2023-04-18T00:00:00.000000000",
          "2023-04-19T00:00:00.000000000",
          "2023-04-20T00:00:00.000000000",
          "2023-04-21T00:00:00.000000000",
          "2023-04-22T00:00:00.000000000",
          "2023-04-23T00:00:00.000000000",
          "2023-04-24T00:00:00.000000000",
          "2023-04-25T00:00:00.000000000",
          "2023-04-26T00:00:00.000000000",
          "2023-04-27T00:00:00.000000000",
          "2023-04-28T00:00:00.000000000",
          "2023-04-29T00:00:00.000000000",
          "2023-04-30T00:00:00.000000000",
          "2023-05-01T00:00:00.000000000",
          "2023-05-02T00:00:00.000000000",
          "2023-05-03T00:00:00.000000000",
          "2023-05-04T00:00:00.000000000",
          "2023-05-05T00:00:00.000000000",
          "2023-05-06T00:00:00.000000000",
          "2023-05-07T00:00:00.000000000",
          "2023-05-08T00:00:00.000000000",
          "2023-05-09T00:00:00.000000000",
          "2023-05-10T00:00:00.000000000",
          "2023-05-11T00:00:00.000000000",
          "2023-05-12T00:00:00.000000000",
          "2023-05-13T00:00:00.000000000",
          "2023-05-14T00:00:00.000000000",
          "2023-05-15T00:00:00.000000000",
          "2023-05-16T00:00:00.000000000",
          "2023-05-17T00:00:00.000000000",
          "2023-05-18T00:00:00.000000000",
          "2023-05-19T00:00:00.000000000",
          "2023-05-20T00:00:00.000000000",
          "2023-05-21T00:00:00.000000000",
          "2023-05-22T00:00:00.000000000",
          "2023-05-23T00:00:00.000000000",
          "2023-05-24T00:00:00.000000000",
          "2023-05-25T00:00:00.000000000",
          "2023-05-26T00:00:00.000000000",
          "2023-05-27T00:00:00.000000000",
          "2023-05-28T00:00:00.000000000",
          "2023-05-29T00:00:00.000000000",
          "2023-05-30T00:00:00.000000000",
          "2023-05-31T00:00:00.000000000",
          "2023-06-01T00:00:00.000000000",
          "2023-06-02T00:00:00.000000000",
          "2023-06-03T00:00:00.000000000",
          "2023-06-04T00:00:00.000000000",
          "2023-06-05T00:00:00.000000000",
          "2023-06-06T00:00:00.000000000",
          "2023-06-07T00:00:00.000000000",
          "2023-06-08T00:00:00.000000000",
          "2023-06-09T00:00:00.000000000",
          "2023-06-10T00:00:00.000000000",
          "2023-06-11T00:00:00.000000000",
          "2023-06-12T00:00:00.000000000",
          "2023-06-13T00:00:00.000000000",
          "2023-06-14T00:00:00.000000000",
          "2023-06-15T00:00:00.000000000",
          "2023-06-16T00:00:00.000000000",
          "2023-06-17T00:00:00.000000000",
          "2023-06-18T00:00:00.000000000",
          "2023-06-19T00:00:00.000000000",
          "2023-06-20T00:00:00.000000000",
          "2023-06-21T00:00:00.000000000",
          "2023-06-22T00:00:00.000000000",
          "2023-06-23T00:00:00.000000000",
          "2023-06-24T00:00:00.000000000",
          "2023-06-25T00:00:00.000000000",
          "2023-06-26T00:00:00.000000000",
          "2023-06-27T00:00:00.000000000",
          "2023-06-28T00:00:00.000000000",
          "2023-06-29T00:00:00.000000000",
          "2023-06-30T00:00:00.000000000",
          "2023-07-01T00:00:00.000000000",
          "2023-07-02T00:00:00.000000000",
          "2023-07-03T00:00:00.000000000",
          "2023-07-04T00:00:00.000000000",
          "2023-07-05T00:00:00.000000000",
          "2023-07-06T00:00:00.000000000",
          "2023-07-07T00:00:00.000000000",
          "2023-07-08T00:00:00.000000000",
          "2023-07-09T00:00:00.000000000",
          "2023-07-10T00:00:00.000000000",
          "2023-07-11T00:00:00.000000000",
          "2023-07-12T00:00:00.000000000",
          "2023-07-13T00:00:00.000000000",
          "2023-07-14T00:00:00.000000000",
          "2023-07-15T00:00:00.000000000",
          "2023-07-16T00:00:00.000000000",
          "2023-07-17T00:00:00.000000000",
          "2023-07-18T00:00:00.000000000",
          "2023-07-19T00:00:00.000000000",
          "2023-07-20T00:00:00.000000000",
          "2023-07-21T00:00:00.000000000",
          "2023-07-22T00:00:00.000000000",
          "2023-07-23T00:00:00.000000000",
          "2023-07-24T00:00:00.000000000",
          "2023-07-25T00:00:00.000000000",
          "2023-07-26T00:00:00.000000000",
          "2023-07-27T00:00:00.000000000",
          "2023-07-28T00:00:00.000000000",
          "2023-07-29T00:00:00.000000000",
          "2023-07-30T00:00:00.000000000",
          "2023-07-31T00:00:00.000000000",
          "2023-08-01T00:00:00.000000000",
          "2023-08-02T00:00:00.000000000",
          "2023-08-03T00:00:00.000000000",
          "2023-08-04T00:00:00.000000000",
          "2023-08-05T00:00:00.000000000",
          "2023-08-06T00:00:00.000000000",
          "2023-08-07T00:00:00.000000000",
          "2023-08-08T00:00:00.000000000",
          "2023-08-09T00:00:00.000000000",
          "2023-08-10T00:00:00.000000000",
          "2023-08-11T00:00:00.000000000",
          "2023-08-12T00:00:00.000000000",
          "2023-08-13T00:00:00.000000000",
          "2023-08-14T00:00:00.000000000",
          "2023-08-15T00:00:00.000000000",
          "2023-08-16T00:00:00.000000000",
          "2023-08-17T00:00:00.000000000",
          "2023-08-18T00:00:00.000000000",
          "2023-08-19T00:00:00.000000000",
          "2023-08-20T00:00:00.000000000",
          "2023-08-21T00:00:00.000000000",
          "2023-08-22T00:00:00.000000000",
          "2023-08-23T00:00:00.000000000",
          "2023-08-24T00:00:00.000000000",
          "2023-08-25T00:00:00.000000000",
          "2023-08-26T00:00:00.000000000",
          "2023-08-27T00:00:00.000000000",
          "2023-08-28T00:00:00.000000000",
          "2023-08-29T00:00:00.000000000",
          "2023-08-30T00:00:00.000000000",
          "2023-08-31T00:00:00.000000000",
          "2023-09-01T00:00:00.000000000",
          "2023-09-02T00:00:00.000000000",
          "2023-09-03T00:00:00.000000000",
          "2023-09-04T00:00:00.000000000",
          "2023-09-05T00:00:00.000000000",
          "2023-09-06T00:00:00.000000000",
          "2023-09-07T00:00:00.000000000",
          "2023-09-08T00:00:00.000000000",
          "2023-09-09T00:00:00.000000000",
          "2023-09-10T00:00:00.000000000",
          "2023-09-11T00:00:00.000000000",
          "2023-09-12T00:00:00.000000000",
          "2023-09-13T00:00:00.000000000",
          "2023-09-14T00:00:00.000000000",
          "2023-09-15T00:00:00.000000000",
          "2023-09-16T00:00:00.000000000",
          "2023-09-17T00:00:00.000000000",
          "2023-09-18T00:00:00.000000000",
          "2023-09-19T00:00:00.000000000",
          "2023-09-20T00:00:00.000000000",
          "2023-09-21T00:00:00.000000000",
          "2023-09-22T00:00:00.000000000",
          "2023-09-23T00:00:00.000000000",
          "2023-09-24T00:00:00.000000000",
          "2023-09-25T00:00:00.000000000",
          "2023-09-26T00:00:00.000000000",
          "2023-09-27T00:00:00.000000000",
          "2023-09-28T00:00:00.000000000",
          "2023-09-29T00:00:00.000000000",
          "2023-09-30T00:00:00.000000000",
          "2023-10-01T00:00:00.000000000",
          "2023-10-02T00:00:00.000000000",
          "2023-10-03T00:00:00.000000000",
          "2023-10-04T00:00:00.000000000",
          "2023-10-05T00:00:00.000000000",
          "2023-10-06T00:00:00.000000000",
          "2023-10-07T00:00:00.000000000",
          "2023-10-08T00:00:00.000000000",
          "2023-10-09T00:00:00.000000000",
          "2023-10-10T00:00:00.000000000",
          "2023-10-11T00:00:00.000000000",
          "2023-10-12T00:00:00.000000000",
          "2023-10-13T00:00:00.000000000",
          "2023-10-14T00:00:00.000000000",
          "2023-10-15T00:00:00.000000000",
          "2023-10-16T00:00:00.000000000",
          "2023-10-17T00:00:00.000000000",
          "2023-10-18T00:00:00.000000000",
          "2023-10-19T00:00:00.000000000",
          "2023-10-20T00:00:00.000000000",
          "2023-10-21T00:00:00.000000000",
          "2023-10-22T00:00:00.000000000",
          "2023-10-23T00:00:00.000000000",
          "2023-10-24T00:00:00.000000000",
          "2023-10-25T00:00:00.000000000",
          "2023-10-26T00:00:00.000000000",
          "2023-10-27T00:00:00.000000000",
          "2023-10-28T00:00:00.000000000",
          "2023-10-29T00:00:00.000000000",
          "2023-10-30T00:00:00.000000000",
          "2023-10-31T00:00:00.000000000",
          "2023-11-01T00:00:00.000000000",
          "2023-11-02T00:00:00.000000000",
          "2023-11-03T00:00:00.000000000",
          "2023-11-04T00:00:00.000000000",
          "2023-11-05T00:00:00.000000000",
          "2023-11-06T00:00:00.000000000",
          "2023-11-07T00:00:00.000000000",
          "2023-11-08T00:00:00.000000000",
          "2023-11-09T00:00:00.000000000",
          "2023-11-10T00:00:00.000000000",
          "2023-11-11T00:00:00.000000000",
          "2023-11-12T00:00:00.000000000",
          "2023-11-13T00:00:00.000000000",
          "2023-11-14T00:00:00.000000000",
          "2023-11-15T00:00:00.000000000",
          "2023-11-16T00:00:00.000000000",
          "2023-11-17T00:00:00.000000000",
          "2023-11-18T00:00:00.000000000",
          "2023-11-19T00:00:00.000000000",
          "2023-11-20T00:00:00.000000000",
          "2023-11-21T00:00:00.000000000",
          "2023-11-22T00:00:00.000000000",
          "2023-11-23T00:00:00.000000000",
          "2023-11-24T00:00:00.000000000",
          "2023-11-25T00:00:00.000000000",
          "2023-11-26T00:00:00.000000000",
          "2023-11-27T00:00:00.000000000",
          "2023-11-28T00:00:00.000000000",
          "2023-11-29T00:00:00.000000000",
          "2023-11-30T00:00:00.000000000",
          "2023-12-01T00:00:00.000000000",
          "2023-12-02T00:00:00.000000000",
          "2023-12-03T00:00:00.000000000",
          "2023-12-04T00:00:00.000000000",
          "2023-12-05T00:00:00.000000000",
          "2023-12-06T00:00:00.000000000",
          "2023-12-07T00:00:00.000000000",
          "2023-12-08T00:00:00.000000000",
          "2023-12-09T00:00:00.000000000",
          "2023-12-10T00:00:00.000000000",
          "2023-12-11T00:00:00.000000000",
          "2023-12-12T00:00:00.000000000",
          "2023-12-13T00:00:00.000000000",
          "2023-12-14T00:00:00.000000000",
          "2023-12-15T00:00:00.000000000",
          "2023-12-16T00:00:00.000000000",
          "2023-12-17T00:00:00.000000000",
          "2023-12-18T00:00:00.000000000",
          "2023-12-19T00:00:00.000000000",
          "2023-12-20T00:00:00.000000000",
          "2023-12-21T00:00:00.000000000",
          "2023-12-22T00:00:00.000000000",
          "2023-12-23T00:00:00.000000000",
          "2023-12-24T00:00:00.000000000",
          "2023-12-25T00:00:00.000000000",
          "2023-12-26T00:00:00.000000000",
          "2023-12-27T00:00:00.000000000",
          "2023-12-28T00:00:00.000000000",
          "2023-12-29T00:00:00.000000000",
          "2023-12-30T00:00:00.000000000",
          "2023-12-31T00:00:00.000000000",
          "2024-01-01T00:00:00.000000000",
          "2024-01-02T00:00:00.000000000",
          "2024-01-03T00:00:00.000000000",
          "2024-01-04T00:00:00.000000000",
          "2024-01-05T00:00:00.000000000",
          "2024-01-06T00:00:00.000000000",
          "2024-01-07T00:00:00.000000000",
          "2024-01-08T00:00:00.000000000",
          "2024-01-09T00:00:00.000000000",
          "2024-01-10T00:00:00.000000000",
          "2024-01-11T00:00:00.000000000",
          "2024-01-12T00:00:00.000000000",
          "2024-01-13T00:00:00.000000000",
          "2024-01-14T00:00:00.000000000",
          "2024-01-15T00:00:00.000000000",
          "2024-01-16T00:00:00.000000000",
          "2024-01-17T00:00:00.000000000",
          "2024-01-18T00:00:00.000000000",
          "2024-01-19T00:00:00.000000000",
          "2024-01-20T00:00:00.000000000",
          "2024-01-21T00:00:00.000000000",
          "2024-01-22T00:00:00.000000000",
          "2024-01-23T00:00:00.000000000",
          "2024-01-24T00:00:00.000000000",
          "2024-01-25T00:00:00.000000000",
          "2024-01-26T00:00:00.000000000",
          "2024-01-27T00:00:00.000000000",
          "2024-01-28T00:00:00.000000000",
          "2024-01-29T00:00:00.000000000",
          "2024-01-30T00:00:00.000000000",
          "2024-01-31T00:00:00.000000000",
          "2024-02-01T00:00:00.000000000",
          "2024-02-02T00:00:00.000000000",
          "2024-02-03T00:00:00.000000000",
          "2024-02-04T00:00:00.000000000",
          "2024-02-05T00:00:00.000000000",
          "2024-02-06T00:00:00.000000000",
          "2024-02-07T00:00:00.000000000",
          "2024-02-08T00:00:00.000000000",
          "2024-02-09T00:00:00.000000000",
          "2024-02-10T00:00:00.000000000",
          "2024-02-11T00:00:00.000000000",
          "2024-02-12T00:00:00.000000000",
          "2024-02-13T00:00:00.000000000",
          "2024-02-14T00:00:00.000000000",
          "2024-02-15T00:00:00.000000000",
          "2024-02-16T00:00:00.000000000",
          "2024-02-17T00:00:00.000000000",
          "2024-02-18T00:00:00.000000000",
          "2024-02-19T00:00:00.000000000",
          "2024-02-20T00:00:00.000000000",
          "2024-02-21T00:00:00.000000000",
          "2024-02-22T00:00:00.000000000",
          "2024-02-23T00:00:00.000000000",
          "2024-02-24T00:00:00.000000000",
          "2024-02-25T00:00:00.000000000",
          "2024-02-26T00:00:00.000000000",
          "2024-02-27T00:00:00.000000000",
          "2024-02-28T00:00:00.000000000",
          "2024-02-29T00:00:00.000000000"
         ],
         "xaxis": "x",
         "y": {
          "bdata": "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",
          "dtype": "f8"
         },
         "yaxis": "y"
        }
       ],
       "layout": {
        "height": 350,
        "legend": {
         "tracegroupgap": 0
        },
        "template": {
         "data": {
          "bar": [
           {
            "error_x": {
             "color": "#2a3f5f"
            },
            "error_y": {
             "color": "#2a3f5f"
            },
            "marker": {
             "line": {
              "color": "#E5ECF6",
              "width": 0.5
             },
             "pattern": {
              "fillmode": "overlay",
              "size": 10,
              "solidity": 0.2
             }
            },
            "type": "bar"
           }
          ],
          "barpolar": [
           {
            "marker": {
             "line": {
              "color": "#E5ECF6",
              "width": 0.5
             },
             "pattern": {
              "fillmode": "overlay",
              "size": 10,
              "solidity": 0.2
             }
            },
            "type": "barpolar"
           }
          ],
          "carpet": [
           {
            "aaxis": {
             "endlinecolor": "#2a3f5f",
             "gridcolor": "white",
             "linecolor": "white",
             "minorgridcolor": "white",
             "startlinecolor": "#2a3f5f"
            },
            "baxis": {
             "endlinecolor": "#2a3f5f",
             "gridcolor": "white",
             "linecolor": "white",
             "minorgridcolor": "white",
             "startlinecolor": "#2a3f5f"
            },
            "type": "carpet"
           }
          ],
          "choropleth": [
           {
            "colorbar": {
             "outlinewidth": 0,
             "ticks": ""
            },
            "type": "choropleth"
           }
          ],
          "contour": [
           {
            "colorbar": {
             "outlinewidth": 0,
             "ticks": ""
            },
            "colorscale": [
             [
              0,
              "#0d0887"
             ],
             [
              0.1111111111111111,
              "#46039f"
             ],
             [
              0.2222222222222222,
              "#7201a8"
             ],
             [
              0.3333333333333333,
              "#9c179e"
             ],
             [
              0.4444444444444444,
              "#bd3786"
             ],
             [
              0.5555555555555556,
              "#d8576b"
             ],
             [
              0.6666666666666666,
              "#ed7953"
             ],
             [
              0.7777777777777778,
              "#fb9f3a"
             ],
             [
              0.8888888888888888,
              "#fdca26"
             ],
             [
              1,
              "#f0f921"
             ]
            ],
            "type": "contour"
           }
          ],
          "contourcarpet": [
           {
            "colorbar": {
             "outlinewidth": 0,
             "ticks": ""
            },
            "type": "contourcarpet"
           }
          ],
          "heatmap": [
           {
            "colorbar": {
             "outlinewidth": 0,
             "ticks": ""
            },
            "colorscale": [
             [
              0,
              "#0d0887"
             ],
             [
              0.1111111111111111,
              "#46039f"
             ],
             [
              0.2222222222222222,
              "#7201a8"
             ],
             [
              0.3333333333333333,
              "#9c179e"
             ],
             [
              0.4444444444444444,
              "#bd3786"
             ],
             [
              0.5555555555555556,
              "#d8576b"
             ],
             [
              0.6666666666666666,
              "#ed7953"
             ],
             [
              0.7777777777777778,
              "#fb9f3a"
             ],
             [
              0.8888888888888888,
              "#fdca26"
             ],
             [
              1,
              "#f0f921"
             ]
            ],
            "type": "heatmap"
           }
          ],
          "histogram": [
           {
            "marker": {
             "pattern": {
              "fillmode": "overlay",
              "size": 10,
              "solidity": 0.2
             }
            },
            "type": "histogram"
           }
          ],
          "histogram2d": [
           {
            "colorbar": {
             "outlinewidth": 0,
             "ticks": ""
            },
            "colorscale": [
             [
              0,
              "#0d0887"
             ],
             [
              0.1111111111111111,
              "#46039f"
             ],
             [
              0.2222222222222222,
              "#7201a8"
             ],
             [
              0.3333333333333333,
              "#9c179e"
             ],
             [
              0.4444444444444444,
              "#bd3786"
             ],
             [
              0.5555555555555556,
              "#d8576b"
             ],
             [
              0.6666666666666666,
              "#ed7953"
             ],
             [
              0.7777777777777778,
              "#fb9f3a"
             ],
             [
              0.8888888888888888,
              "#fdca26"
             ],
             [
              1,
              "#f0f921"
             ]
            ],
            "type": "histogram2d"
           }
          ],
          "histogram2dcontour": [
           {
            "colorbar": {
             "outlinewidth": 0,
             "ticks": ""
            },
            "colorscale": [
             [
              0,
              "#0d0887"
             ],
             [
              0.1111111111111111,
              "#46039f"
             ],
             [
              0.2222222222222222,
              "#7201a8"
             ],
             [
              0.3333333333333333,
              "#9c179e"
             ],
             [
              0.4444444444444444,
              "#bd3786"
             ],
             [
              0.5555555555555556,
              "#d8576b"
             ],
             [
              0.6666666666666666,
              "#ed7953"
             ],
             [
              0.7777777777777778,
              "#fb9f3a"
             ],
             [
              0.8888888888888888,
              "#fdca26"
             ],
             [
              1,
              "#f0f921"
             ]
            ],
            "type": "histogram2dcontour"
           }
          ],
          "mesh3d": [
           {
            "colorbar": {
             "outlinewidth": 0,
             "ticks": ""
            },
            "type": "mesh3d"
           }
          ],
          "parcoords": [
           {
            "line": {
             "colorbar": {
              "outlinewidth": 0,
              "ticks": ""
             }
            },
            "type": "parcoords"
           }
          ],
          "pie": [
           {
            "automargin": true,
            "type": "pie"
           }
          ],
          "scatter": [
           {
            "fillpattern": {
             "fillmode": "overlay",
             "size": 10,
             "solidity": 0.2
            },
            "type": "scatter"
           }
          ],
          "scatter3d": [
           {
            "line": {
             "colorbar": {
              "outlinewidth": 0,
              "ticks": ""
             }
            },
            "marker": {
             "colorbar": {
              "outlinewidth": 0,
              "ticks": ""
             }
            },
            "type": "scatter3d"
           }
          ],
          "scattercarpet": [
           {
            "marker": {
             "colorbar": {
              "outlinewidth": 0,
              "ticks": ""
             }
            },
            "type": "scattercarpet"
           }
          ],
          "scattergeo": [
           {
            "marker": {
             "colorbar": {
              "outlinewidth": 0,
              "ticks": ""
             }
            },
            "type": "scattergeo"
           }
          ],
          "scattergl": [
           {
            "marker": {
             "colorbar": {
              "outlinewidth": 0,
              "ticks": ""
             }
            },
            "type": "scattergl"
           }
          ],
          "scattermap": [
           {
            "marker": {
             "colorbar": {
              "outlinewidth": 0,
              "ticks": ""
             }
            },
            "type": "scattermap"
           }
          ],
          "scattermapbox": [
           {
            "marker": {
             "colorbar": {
              "outlinewidth": 0,
              "ticks": ""
             }
            },
            "type": "scattermapbox"
           }
          ],
          "scatterpolar": [
           {
            "marker": {
             "colorbar": {
              "outlinewidth": 0,
              "ticks": ""
             }
            },
            "type": "scatterpolar"
           }
          ],
          "scatterpolargl": [
           {
            "marker": {
             "colorbar": {
              "outlinewidth": 0,
              "ticks": ""
             }
            },
            "type": "scatterpolargl"
           }
          ],
          "scatterternary": [
           {
            "marker": {
             "colorbar": {
              "outlinewidth": 0,
              "ticks": ""
             }
            },
            "type": "scatterternary"
           }
          ],
          "surface": [
           {
            "colorbar": {
             "outlinewidth": 0,
             "ticks": ""
            },
            "colorscale": [
             [
              0,
              "#0d0887"
             ],
             [
              0.1111111111111111,
              "#46039f"
             ],
             [
              0.2222222222222222,
              "#7201a8"
             ],
             [
              0.3333333333333333,
              "#9c179e"
             ],
             [
              0.4444444444444444,
              "#bd3786"
             ],
             [
              0.5555555555555556,
              "#d8576b"
             ],
             [
              0.6666666666666666,
              "#ed7953"
             ],
             [
              0.7777777777777778,
              "#fb9f3a"
             ],
             [
              0.8888888888888888,
              "#fdca26"
             ],
             [
              1,
              "#f0f921"
             ]
            ],
            "type": "surface"
           }
          ],
          "table": [
           {
            "cells": {
             "fill": {
              "color": "#EBF0F8"
             },
             "line": {
              "color": "white"
             }
            },
            "header": {
             "fill": {
              "color": "#C8D4E3"
             },
             "line": {
              "color": "white"
             }
            },
            "type": "table"
           }
          ]
         },
         "layout": {
          "annotationdefaults": {
           "arrowcolor": "#2a3f5f",
           "arrowhead": 0,
           "arrowwidth": 1
          },
          "autotypenumbers": "strict",
          "coloraxis": {
           "colorbar": {
            "outlinewidth": 0,
            "ticks": ""
           }
          },
          "colorscale": {
           "diverging": [
            [
             0,
             "#8e0152"
            ],
            [
             0.1,
             "#c51b7d"
            ],
            [
             0.2,
             "#de77ae"
            ],
            [
             0.3,
             "#f1b6da"
            ],
            [
             0.4,
             "#fde0ef"
            ],
            [
             0.5,
             "#f7f7f7"
            ],
            [
             0.6,
             "#e6f5d0"
            ],
            [
             0.7,
             "#b8e186"
            ],
            [
             0.8,
             "#7fbc41"
            ],
            [
             0.9,
             "#4d9221"
            ],
            [
             1,
             "#276419"
            ]
           ],
           "sequential": [
            [
             0,
             "#0d0887"
            ],
            [
             0.1111111111111111,
             "#46039f"
            ],
            [
             0.2222222222222222,
             "#7201a8"
            ],
            [
             0.3333333333333333,
             "#9c179e"
            ],
            [
             0.4444444444444444,
             "#bd3786"
            ],
            [
             0.5555555555555556,
             "#d8576b"
            ],
            [
             0.6666666666666666,
             "#ed7953"
            ],
            [
             0.7777777777777778,
             "#fb9f3a"
            ],
            [
             0.8888888888888888,
             "#fdca26"
            ],
            [
             1,
             "#f0f921"
            ]
           ],
           "sequentialminus": [
            [
             0,
             "#0d0887"
            ],
            [
             0.1111111111111111,
             "#46039f"
            ],
            [
             0.2222222222222222,
             "#7201a8"
            ],
            [
             0.3333333333333333,
             "#9c179e"
            ],
            [
             0.4444444444444444,
             "#bd3786"
            ],
            [
             0.5555555555555556,
             "#d8576b"
            ],
            [
             0.6666666666666666,
             "#ed7953"
            ],
            [
             0.7777777777777778,
             "#fb9f3a"
            ],
            [
             0.8888888888888888,
             "#fdca26"
            ],
            [
             1,
             "#f0f921"
            ]
           ]
          },
          "colorway": [
           "#636efa",
           "#EF553B",
           "#00cc96",
           "#ab63fa",
           "#FFA15A",
           "#19d3f3",
           "#FF6692",
           "#B6E880",
           "#FF97FF",
           "#FECB52"
          ],
          "font": {
           "color": "#2a3f5f"
          },
          "geo": {
           "bgcolor": "white",
           "lakecolor": "white",
           "landcolor": "#E5ECF6",
           "showlakes": true,
           "showland": true,
           "subunitcolor": "white"
          },
          "hoverlabel": {
           "align": "left"
          },
          "hovermode": "closest",
          "mapbox": {
           "style": "light"
          },
          "paper_bgcolor": "white",
          "plot_bgcolor": "#E5ECF6",
          "polar": {
           "angularaxis": {
            "gridcolor": "white",
            "linecolor": "white",
            "ticks": ""
           },
           "bgcolor": "#E5ECF6",
           "radialaxis": {
            "gridcolor": "white",
            "linecolor": "white",
            "ticks": ""
           }
          },
          "scene": {
           "xaxis": {
            "backgroundcolor": "#E5ECF6",
            "gridcolor": "white",
            "gridwidth": 2,
            "linecolor": "white",
            "showbackground": true,
            "ticks": "",
            "zerolinecolor": "white"
           },
           "yaxis": {
            "backgroundcolor": "#E5ECF6",
            "gridcolor": "white",
            "gridwidth": 2,
            "linecolor": "white",
            "showbackground": true,
            "ticks": "",
            "zerolinecolor": "white"
           },
           "zaxis": {
            "backgroundcolor": "#E5ECF6",
            "gridcolor": "white",
            "gridwidth": 2,
            "linecolor": "white",
            "showbackground": true,
            "ticks": "",
            "zerolinecolor": "white"
           }
          },
          "shapedefaults": {
           "line": {
            "color": "#2a3f5f"
           }
          },
          "ternary": {
           "aaxis": {
            "gridcolor": "white",
            "linecolor": "white",
            "ticks": ""
           },
           "baxis": {
            "gridcolor": "white",
            "linecolor": "white",
            "ticks": ""
           },
           "bgcolor": "#E5ECF6",
           "caxis": {
            "gridcolor": "white",
            "linecolor": "white",
            "ticks": ""
           }
          },
          "title": {
           "x": 0.05
          },
          "xaxis": {
           "automargin": true,
           "gridcolor": "white",
           "linecolor": "white",
           "ticks": "",
           "title": {
            "standoff": 15
           },
           "zerolinecolor": "white",
           "zerolinewidth": 2
          },
          "yaxis": {
           "automargin": true,
           "gridcolor": "white",
           "linecolor": "white",
           "ticks": "",
           "title": {
            "standoff": 15
           },
           "zerolinecolor": "white",
           "zerolinewidth": 2
          }
         }
        },
        "title": {
         "text": "Contagem corrigida – count_8"
        },
        "width": 1900,
        "xaxis": {
         "anchor": "y",
         "domain": [
          0,
          1
         ],
         "title": {
          "text": "detected"
         }
        },
        "yaxis": {
         "anchor": "x",
         "domain": [
          0,
          1
         ],
         "title": {
          "text": "Contagem"
         }
        }
       }
      }
     },
     "metadata": {},
     "output_type": "display_data"
    }
   ],
   "source": [
    "df_corrigido_final = pd.concat(resultados_corrigidos)\n",
    "df_corrigido_final = df_corrigido_final[~df_corrigido_final.index.duplicated(keep='last')]\n",
    "\n",
    "fig = px.line(\n",
    "    df_corrigido_final, \n",
    "    y=contador_id, \n",
    "    title=f\"Contagem corrigida – {contador_id}\",\n",
    "    labels={\"index\": \"Data\", contador_id: \"Contagem\"},\n",
    ")\n",
    "\n",
    "fig.update_layout(width=1900, height=350)\n",
    "fig.show()\n",
    "\n",
    "\n",
    "# Se eu quiser fazer para todos os contadores\n",
    "\n",
    "# for contador_id, lista_resultados in resultados_corrigidos_por_contador.items():\n",
    "#     if not lista_resultados:\n",
    "#         continue  # pular se a lista estiver vazia\n",
    "\n",
    "#     df_corrigido_final = lista_resultados[-1]  # último resultado corrigido\n",
    "\n",
    "#     fig = px.line(\n",
    "#         df_corrigido_final,\n",
    "#         y=contador_id,\n",
    "#         title=f\"Contagem corrigida - {contador_id}\",\n",
    "#         labels={\"index\": \"Data\", contador_id: \"Contagem\"}\n",
    "#     )\n",
    "#     fig.update_layout(width=1300, height=350)\n",
    "#     fig.show()\n",
    "\n"
   ]
  },
  {
   "cell_type": "markdown",
   "id": "176eaafb",
   "metadata": {},
   "source": [
    "# Métodos basicos "
   ]
  },
  {
   "cell_type": "markdown",
   "id": "196caeeb",
   "metadata": {},
   "source": [
    "### Seasonality ratio"
   ]
  },
  {
   "cell_type": "code",
   "execution_count": null,
   "id": "949153f1",
   "metadata": {},
   "outputs": [
    {
     "name": "stdout",
     "output_type": "stream",
     "text": [
      "Seasonality Ratio por ano:\n",
      "    ano  seasonality_ratio\n",
      "0  2021           1.251024\n",
      "1  2022           1.572099\n",
      "2  2023           1.473588\n",
      "3  2024           1.174999\n",
      "\n",
      "Seasonality Ratio agregado: 1.30\n"
     ]
    }
   ],
   "source": [
    "# Preparação dos dados \n",
    "df = df_corrigido_final.copy() # copia para não modificar o original\n",
    "df.index = pd.to_datetime(df.index)\n",
    "serie_count_8 = df['count_8'].copy()\n",
    "\n",
    "df_semanal = serie_count_8.reset_index() # dataframe só com o contador 8, ano e semana\n",
    "df_semanal['ano'] = df_semanal['detected'].dt.isocalendar().year # criar a coluna ano \n",
    "df_semanal['semana'] = df_semanal['detected'].dt.isocalendar().week # criar a coluna semana\n",
    "\n",
    "# 1. Cálculo dos índices sazonais \n",
    "# Média anual\n",
    "df_media_anual = df_semanal.groupby('ano')['count_8'].mean().reset_index(name='media_anual')\n",
    "# Média semanal da contagem para cada ano\n",
    "df_media_semanal = df_semanal.groupby(['ano', 'semana'])['count_8'].mean().reset_index(name='media_semanal')\n",
    "\n",
    "# Merge para calcular índice sazonal (%)\n",
    "df_indices = pd.merge(df_media_semanal, df_media_anual, on='ano')\n",
    "df_indices['indice_sazonal'] = (df_indices['media_semanal'] / df_indices['media_anual']) * 100\n",
    "\n",
    "# 2. Índice sazonal agregado (média por semana em todos os anos)\n",
    "df_agregado = df_semanal.groupby('semana')['count_8'].mean().reset_index(name='media_agg')\n",
    "media_total = df_semanal['count_8'].mean()\n",
    "df_agregado['indice_sazonal_agg'] = (df_agregado['media_agg'] / media_total) * 100\n",
    "\n",
    "#  Seasonality Ratio \n",
    "seasonality_ratios = df_indices.groupby('ano')['indice_sazonal'].agg(lambda x: x.max() / 100).reset_index(name='seasonality_ratio')\n",
    "seasonality_ratio_agg = df_agregado['indice_sazonal_agg'].max() / 100\n",
    "\n",
    "print(\"Seasonality Ratio por ano:\")\n",
    "print(seasonality_ratios)\n",
    "print(f\"\\nSeasonality Ratio agregado: {seasonality_ratio_agg:.2f}\")\n"
   ]
  },
  {
   "cell_type": "markdown",
   "id": "0102eac8",
   "metadata": {},
   "source": [
    "Seasonality ratio indica quanto a semana mais movimentada está acima da média anual. \n",
    "No ano de 2021 temos sazonalidade 25% acima da média (não temos o ano completo), quer dizer que a semana mais movimentada tem 25% mais ciclistas que a média anual daquele ano.\n",
    "No ano de 2022 temos um pico forte, porque se semana de pico teve 57% mais uso que a média anual.\n",
    "No ano de 2023 temos um pico significativo. \n",
    "No ano de 2024 temos sazonalidade 17% acima da média (não temos o ano completo).\n",
    "Média geral de todos os anos temos sazonalidae 30% acima da média. \n",
    "Portanto, 2022 é o ano que teve maior sazonalidade e 2024 é o ano com mais fraca sazonalidade (mas tens de ter em conta que não é um ano completo).\n",
    "Na média geral dos anos, o padrão sazonal é relevante, com semanas que ficam em média 30% acima da média anual. "
   ]
  },
  {
   "cell_type": "code",
   "execution_count": null,
   "id": "cfcc5bcf",
   "metadata": {},
   "outputs": [
    {
     "data": {
      "image/png": "[encoded data removed]",
      "text/plain": [
       "<Figure size 2000x800 with 1 Axes>"
      ]
     },
     "metadata": {},
     "output_type": "display_data"
    }
   ],
   "source": [
    "# gráfico de barras \n",
    "df_pivot = df_indices.pivot(index='semana', columns='ano', values='indice_sazonal').reset_index()\n",
    "df_pivot = pd.merge(df_pivot, df_agregado[['semana', 'indice_sazonal_agg']], on='semana')\n",
    "df_pivot = df_pivot.sort_values('semana')\n",
    "\n",
    "# Data fictícia para extrair mês e rótulo\n",
    "df_pivot['date_dummy'] = pd.to_datetime('2021-01-01') + pd.to_timedelta((df_pivot['semana'] - 1) * 7, unit='D')\n",
    "df_pivot['mes'] = df_pivot['date_dummy'].dt.month\n",
    "df_pivot['nome_mes'] = df_pivot['mes'].apply(lambda x: calendar.month_abbr[x])\n",
    "df_pivot['rotulo_x'] = df_pivot['nome_mes'] + ' (sem ' + df_pivot['semana'].astype(str) + ')'\n",
    "\n",
    "plt.figure(figsize=(20, 8))\n",
    "width = 0.15\n",
    "anos = sorted(df_indices['ano'].unique())\n",
    "positions = range(len(df_pivot))\n",
    "\n",
    "# Barras para cada ano\n",
    "for i, ano in enumerate(anos):\n",
    "    if ano in df_pivot.columns:\n",
    "        plt.bar(\n",
    "            [p + (i - len(anos)/2)*width for p in positions],\n",
    "            df_pivot[ano],\n",
    "            width=width,\n",
    "            label=str(ano),\n",
    "            alpha=0.7\n",
    "        )\n",
    "\n",
    "# Linha agregada\n",
    "plt.plot(positions, df_pivot['indice_sazonal_agg'], color='black', linewidth=2, label='Agregado')\n",
    "\n",
    "plt.xticks(positions[::3], df_pivot['rotulo_x'][::3], rotation=45)\n",
    "plt.xlabel(\"Semana / Mês\")\n",
    "plt.ylabel(\"Índice Sazonal (%)\")\n",
    "plt.title(\"Índice Sazonal Semanal (count_8)\")\n",
    "plt.grid(axis='y', linestyle='--', alpha=0.5)\n",
    "plt.legend()\n",
    "plt.tight_layout()\n",
    "plt.show()"
   ]
  },
  {
   "cell_type": "code",
   "execution_count": 26,
   "id": "65c6eff1",
   "metadata": {},
   "outputs": [
    {
     "data": {
      "image/png": "[encoded data removed]",
      "text/plain": [
       "<Figure size 1400x600 with 1 Axes>"
      ]
     },
     "metadata": {},
     "output_type": "display_data"
    }
   ],
   "source": [
    "plt.figure(figsize=(14, 6))\n",
    "for ano in anos:\n",
    "    plt.plot(df_pivot['semana'], df_pivot[ano], label=str(ano), alpha=0.7)\n",
    "plt.plot(df_pivot['semana'], df_pivot['indice_sazonal_agg'], color='black', linewidth=2, label='Agregado')\n",
    "\n",
    "plt.xlabel('Semana do Ano')\n",
    "plt.ylabel('Índice Sazonal (%)')\n",
    "plt.title('Índice Sazonal Semanal (count_8) - Gráfico de Linhas')\n",
    "plt.legend()\n",
    "plt.grid(True)\n",
    "plt.tight_layout()\n",
    "plt.show()"
   ]
  },
  {
   "cell_type": "markdown",
   "id": "3cb5372d",
   "metadata": {},
   "source": [
    "# Seasonality indicator"
   ]
  },
  {
   "cell_type": "code",
   "execution_count": 33,
   "id": "ffec27c9",
   "metadata": {},
   "outputs": [
    {
     "name": "stdout",
     "output_type": "stream",
     "text": [
      "    ano  seasonality_indicator\n",
      "0  2021               0.799345\n",
      "1  2022               0.636092\n",
      "2  2023               0.678616\n",
      "3  2024               0.851064\n",
      "Seasonality Indicator agregado: 0.75\n"
     ]
    }
   ],
   "source": [
    "indice_agrupado = df_indices.groupby('semana')['indice_sazonal'].mean().reset_index()\n",
    "indice_agrupado.columns = ['semana', 'Agregado']\n",
    "seasonality_indicators = df_indices.groupby('ano')['indice_sazonal'].agg(lambda x: 100 / x.max()).reset_index(name='seasonality_indicator')\n",
    "seasonality_indicator_agg = 100 / indice_agrupado['Agregado'].max()\n",
    "print(seasonality_indicators)\n",
    "print(f\"Seasonality Indicator agregado: {seasonality_indicator_agg:.2f}\")"
   ]
  },
  {
   "cell_type": "markdown",
   "id": "fe4728f4",
   "metadata": {},
   "source": [
    "Valore mais próximos de 1 indicam que o uso é mais uniforme ao longo do ano, sem grandes variações entre semanas. 2022 com 0.64 indica maior concentração do uso em poucas semanas, ou seja, menos uniformidade e mais sazonalidade. Uso fortemente concentradi em determinadas semanas. "
   ]
  },
  {
   "cell_type": "markdown",
   "id": "d3d8a70c",
   "metadata": {},
   "source": [
    "# Seasonality index "
   ]
  },
  {
   "cell_type": "code",
   "execution_count": 42,
   "id": "894d0719",
   "metadata": {},
   "outputs": [],
   "source": [
    "df_count8 = df[['count_8']].copy()\n",
    "df_count8.index = pd.to_datetime(df_count8.index)\n",
    "df_count8['year'] = df_count8.index.isocalendar().year\n",
    "df_count8['week'] = df_count8.index.isocalendar().week\n",
    "\n",
    "weekly_counts = df_count8.groupby(['year', 'week'])['count_8'].sum().reset_index()\n",
    "weekly_counts = weekly_counts.sort_values(by=['year', 'week']).reset_index(drop=True)\n",
    "\n",
    "# calcular média moveis de 52 semanas (anual)\n",
    "weekly_counts['ma_52'] = weekly_counts['count_8'].rolling(window=52, center=True).mean()\n",
    "\n",
    "# calcular a razão entre o valor real e a média movel\n",
    "weekly_counts['ratio'] = weekly_counts['count_8'] / weekly_counts['ma_52']\n",
    "\n",
    "# Agrupar por nº de semanas e calcular a mediana do ratio\n",
    "seasonal_medians = weekly_counts.groupby('week')['ratio'].median().reset_index()\n",
    "\n",
    "# Normalizar\n",
    "seasonal_medians['index'] = seasonal_medians['ratio'] * 52 / seasonal_medians['ratio'].sum()\n"
   ]
  },
  {
   "cell_type": "code",
   "execution_count": 43,
   "id": "5bc39415",
   "metadata": {},
   "outputs": [
    {
     "data": {
      "image/png": "[encoded data removed]",
      "text/plain": [
       "<Figure size 1200x500 with 1 Axes>"
      ]
     },
     "metadata": {},
     "output_type": "display_data"
    }
   ],
   "source": [
    "plt.figure(figsize=(12, 5))\n",
    "plt.plot(seasonal_medians['week'], seasonal_medians['index'], marker='o')\n",
    "plt.axhline(1, color='gray', linestyle='--', label='Média anual')\n",
    "plt.title('Índice Sazonal Semanal (count_8)')\n",
    "plt.xlabel('Semana do ano')\n",
    "plt.ylabel('Índice sazonal normalizado')\n",
    "plt.grid(True)\n",
    "plt.legend()\n",
    "plt.tight_layout()\n",
    "plt.show()"
   ]
  },
  {
   "cell_type": "markdown",
   "id": "f130ccbe",
   "metadata": {},
   "source": [
    "Valores acima de 1 indicam mais bicicletas do que a média anual. \n",
    "Valores abaixo de 1 indicam menos biciceltas do que a média anual. \n",
    "Da semana 1 até +/- a semana 15 (Janeiro até inicio de Abril), o indice esta abaixo de 1. Periodo de baica mobilidade (provavelmente devido ao tempo). \n",
    "Da semana 16 até 30 (Abril até Julho) subiu acima de 1. \n",
    "Semanas 31 até 40 (agosto até final de Setembro), temos pico marcantes, sendo o maior na semana 40. \n",
    "Semanas 41 até 52 (Outubro a dezembro), declinio progressivo. \n",
    "Portanto, temos baixo uso no inverno. Uso médio a crescente na primavera e inicio do verão. Pico marcante no fim de verão/inicio do outono. "
   ]
  },
  {
   "cell_type": "markdown",
   "id": "ec303dbc",
   "metadata": {},
   "source": [
    "### Seasonality Rate"
   ]
  },
  {
   "cell_type": "code",
   "execution_count": 44,
   "id": "02bb7b4d",
   "metadata": {},
   "outputs": [
    {
     "name": "stdout",
     "output_type": "stream",
     "text": [
      "    ano          S\n",
      "0  2021   5.205882\n",
      "1  2022  13.428571\n",
      "2  2023   6.100000\n",
      "3  2024   6.284891\n",
      "Seasonality Rate (agregado): 17.43\n"
     ]
    }
   ],
   "source": [
    "# Obter a contagem semanal agregada por ano e semana\n",
    "s_por_ano = df_semanal.groupby('ano')['count_8'].agg(['max', 'min']).reset_index()\n",
    "s_por_ano['S'] = s_por_ano['max'] / s_por_ano['min']\n",
    "\n",
    "# S agregado (em todas as semanas)\n",
    "s_agg = df_semanal['count_8'].max() / df_semanal['count_8'].min()\n",
    "\n",
    "print(s_por_ano[['ano', 'S']])\n",
    "print(f\"Seasonality Rate (agregado): {s_agg:.2f}\")\n"
   ]
  },
  {
   "cell_type": "markdown",
   "id": "d8842259",
   "metadata": {},
   "source": [
    "Em 2021 a semana com maior contagem teve 5 vezes mais bicicletas do que a semana com menor contagem. \n",
    "Em 2022, o pico semanal foi 13 vezes maior do que o ponto mais baixo. Sazonalidade muito intensa. \n",
    "2023 e 2024 são semelhantes. "
   ]
  },
  {
   "cell_type": "markdown",
   "id": "52a65716",
   "metadata": {},
   "source": [
    "### Relative Intensity "
   ]
  },
  {
   "cell_type": "code",
   "execution_count": 45,
   "id": "0c360fde",
   "metadata": {},
   "outputs": [
    {
     "name": "stdout",
     "output_type": "stream",
     "text": [
      "    ano          I\n",
      "0  2021  143.00000\n",
      "1  2022  174.00000\n",
      "2  2023  204.00000\n",
      "3  2024  190.25607\n",
      "Relative Intensity (agregado): 230.0\n"
     ]
    }
   ],
   "source": [
    "s_por_ano['I'] = s_por_ano['max'] - s_por_ano['min']\n",
    "i_agg = df_semanal['count_8'].max() - df_semanal['count_8'].min()\n",
    "\n",
    "print(s_por_ano[['ano', 'I']])\n",
    "print(f\"Relative Intensity (agregado): {i_agg}\")\n"
   ]
  },
  {
   "cell_type": "markdown",
   "id": "a344299d",
   "metadata": {},
   "source": [
    "Em 2022 a diferença entre a semana com mais contagens e a com menos foi de 143 bicicletas. "
   ]
  },
  {
   "cell_type": "markdown",
   "id": "6bff79ad",
   "metadata": {},
   "source": [
    "### MUS"
   ]
  },
  {
   "cell_type": "code",
   "execution_count": 46,
   "id": "ee5e4388",
   "metadata": {},
   "outputs": [
    {
     "name": "stdout",
     "output_type": "stream",
     "text": [
      "    ano         MUS\n",
      "0  2021  188.566706\n",
      "1  2022  182.925005\n",
      "2  2023  198.492788\n",
      "3  2024  183.526167\n",
      "MUS agregado: 221.03\n"
     ]
    }
   ],
   "source": [
    "# Média anual de dormidas (ou neste caso, contagens semanais)\n",
    "mus_por_ano = df_semanal.groupby('ano')['count_8'].agg(['mean', 'max']).reset_index()\n",
    "mus_por_ano['MUS'] = 100 * mus_por_ano['max'] / mus_por_ano['mean']\n",
    "\n",
    "# MUS agregado\n",
    "mus_agg = 100 * df_semanal['count_8'].max() / df_semanal['count_8'].mean()\n",
    "\n",
    "print(mus_por_ano[['ano', 'MUS']])\n",
    "print(f\"MUS agregado: {mus_agg:.2f}\")\n"
   ]
  },
  {
   "cell_type": "markdown",
   "id": "89281ce1",
   "metadata": {},
   "source": [
    "Mede a magnitude média dos aumentos semanais consecutivos na série temporal. Quanto cresce em média o nº de bicicletas de uma semana para a seguinte quando há aumento. \n",
    "Em média em 2022 os aumentos semanais positivos foram de 182,9 bicicletas"
   ]
  },
  {
   "cell_type": "code",
   "execution_count": null,
   "id": "b4676658",
   "metadata": {},
   "outputs": [
    {
     "data": {
      "image/png": "[encoded data removed]",
      "text/plain": [
       "<Figure size 1000x1200 with 3 Axes>"
      ]
     },
     "metadata": {},
     "output_type": "display_data"
    }
   ],
   "source": [
    "# Gráfico dos três indicadores: S, I, MUS\n",
    "\n",
    "fig, axs = plt.subplots(3, 1, figsize=(10, 12), sharex=True)\n",
    "\n",
    "# Plot S\n",
    "axs[0].plot(s_por_ano['ano'], s_por_ano['S'], marker='o', color='tab:blue')\n",
    "axs[0].set_title('Seasonality Rate (S)')\n",
    "axs[0].set_ylabel('S (Pmax / Pmin)')\n",
    "axs[0].grid(True)\n",
    "\n",
    "# Plot I\n",
    "axs[1].plot(s_por_ano['ano'], s_por_ano['I'], marker='s', color='tab:green')\n",
    "axs[1].set_title('Relative Intensity (I)')\n",
    "axs[1].set_ylabel('I (Pmax - Pmin)')\n",
    "axs[1].grid(True)\n",
    "\n",
    "# Plot MUS\n",
    "axs[2].plot(mus_por_ano['ano'], mus_por_ano['MUS'], marker='^', color='tab:red')\n",
    "axs[2].set_title('MUS')\n",
    "axs[2].set_ylabel('MUS (%)')\n",
    "axs[2].set_xlabel('Ano')\n",
    "axs[2].grid(True)\n",
    "\n",
    "plt.tight_layout()\n",
    "plt.show()\n"
   ]
  }
 ],
 "metadata": {
  "kernelspec": {
   "display_name": "Python 3",
   "language": "python",
   "name": "python3"
  },
  "language_info": {
   "codemirror_mode": {
    "name": "ipython",
    "version": 3
   },
   "file_extension": ".py",
   "mimetype": "text/x-python",
   "name": "python",
   "nbconvert_exporter": "python",
   "pygments_lexer": "ipython3",
   "version": "3.12.8"
  }
 },
 "nbformat": 4,
 "nbformat_minor": 5
}
