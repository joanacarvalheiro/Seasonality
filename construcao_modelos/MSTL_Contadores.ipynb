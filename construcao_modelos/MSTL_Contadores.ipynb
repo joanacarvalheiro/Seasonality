{
 "cells": [
  {
   "cell_type": "markdown",
   "id": "2a52da27",
   "metadata": {},
   "source": [
    "# Importações"
   ]
  },
  {
   "cell_type": "code",
   "execution_count": 2,
   "id": "eefbe3c3",
   "metadata": {},
   "outputs": [],
   "source": [
    "import pandas as pd \n",
    "import numpy as np\n",
    "import matplotlib.pyplot as plt\n",
    "from matplotlib.offsetbox import AnchoredText\n",
    "import plotly.express as px\n",
    "from sqlalchemy import create_engine\n",
    "from statsmodels.tsa.seasonal import STL\n",
    "from statsforecast import StatsForecast\n",
    "from statsforecast.models import MSTL, AutoARIMA\n",
    "from utilsforecast.plotting import plot_series\n",
    "from datetime import date, timedelta\n",
    "import calendar\n",
    "from coreforecast.scalers import boxcox_lambda, boxcox, inv_boxcox\n",
    "from scipy.stats import entropy"
   ]
  },
  {
   "cell_type": "markdown",
   "id": "339b530c",
   "metadata": {},
   "source": [
    "# Conexão"
   ]
  },
  {
   "cell_type": "code",
   "execution_count": 3,
   "id": "7daf1c9e",
   "metadata": {},
   "outputs": [
    {
     "name": "stdout",
     "output_type": "stream",
     "text": [
      "<class 'pandas.core.frame.DataFrame'>\n",
      "DatetimeIndex: 943 entries, 2021-08-01 to 2024-02-29\n",
      "Data columns (total 62 columns):\n",
      " #   Column        Non-Null Count  Dtype\n",
      "---  ------        --------------  -----\n",
      " 0   direction_2   943 non-null    int32\n",
      " 1   count_2       943 non-null    int32\n",
      " 2   direction_3   943 non-null    int32\n",
      " 3   count_3       943 non-null    int32\n",
      " 4   direction_4   943 non-null    int32\n",
      " 5   count_4       943 non-null    int32\n",
      " 6   direction_5   943 non-null    int32\n",
      " 7   count_5       943 non-null    int32\n",
      " 8   direction_6   943 non-null    int32\n",
      " 9   count_6       943 non-null    int32\n",
      " 10  direction_7   943 non-null    int32\n",
      " 11  count_7       943 non-null    int32\n",
      " 12  direction_8   943 non-null    int32\n",
      " 13  count_8       943 non-null    int32\n",
      " 14  direction_9   943 non-null    int32\n",
      " 15  count_9       943 non-null    int32\n",
      " 16  direction_10  943 non-null    int32\n",
      " 17  count_10      943 non-null    int32\n",
      " 18  direction_11  943 non-null    int32\n",
      " 19  count_11      943 non-null    int32\n",
      " 20  direction_12  943 non-null    int32\n",
      " 21  count_12      943 non-null    int32\n",
      " 22  direction_13  943 non-null    int32\n",
      " 23  count_13      943 non-null    int32\n",
      " 24  direction_14  943 non-null    int32\n",
      " 25  count_14      943 non-null    int32\n",
      " 26  direction_15  943 non-null    int32\n",
      " 27  count_15      943 non-null    int32\n",
      " 28  direction_16  943 non-null    int32\n",
      " 29  count_16      943 non-null    int32\n",
      " 30  direction_17  943 non-null    int32\n",
      " 31  count_17      943 non-null    int32\n",
      " 32  direction_19  943 non-null    int32\n",
      " 33  count_19      943 non-null    int32\n",
      " 34  direction_20  943 non-null    int32\n",
      " 35  count_20      943 non-null    int32\n",
      " 36  direction_21  943 non-null    int32\n",
      " 37  count_21      943 non-null    int32\n",
      " 38  direction_22  943 non-null    int32\n",
      " 39  count_22      943 non-null    int32\n",
      " 40  direction_24  943 non-null    int32\n",
      " 41  count_24      943 non-null    int32\n",
      " 42  direction_25  943 non-null    int32\n",
      " 43  count_25      943 non-null    int32\n",
      " 44  direction_26  943 non-null    int32\n",
      " 45  count_26      943 non-null    int32\n",
      " 46  direction_28  943 non-null    int32\n",
      " 47  count_28      943 non-null    int32\n",
      " 48  direction_29  943 non-null    int32\n",
      " 49  count_29      943 non-null    int32\n",
      " 50  direction_30  943 non-null    int32\n",
      " 51  count_30      943 non-null    int32\n",
      " 52  direction_31  943 non-null    int32\n",
      " 53  count_31      943 non-null    int32\n",
      " 54  direction_32  943 non-null    int32\n",
      " 55  count_32      943 non-null    int32\n",
      " 56  direction_33  943 non-null    int32\n",
      " 57  count_33      943 non-null    int32\n",
      " 58  direction_34  943 non-null    int32\n",
      " 59  count_34      943 non-null    int32\n",
      " 60  direction_35  943 non-null    int32\n",
      " 61  count_35      943 non-null    int32\n",
      "dtypes: int32(62)\n",
      "memory usage: 235.8 KB\n"
     ]
    }
   ],
   "source": [
    "df_daily_filled = pd.read_csv('../df_daily_filled.csv', parse_dates=['detected'], dtype='int32')\n",
    "df_daily_filled = df_daily_filled.set_index('detected')\n",
    "df_daily_filled.info()"
   ]
  },
  {
   "cell_type": "code",
   "execution_count": 4,
   "id": "9ffb6767",
   "metadata": {},
   "outputs": [
    {
     "name": "stdout",
     "output_type": "stream",
     "text": [
      "<class 'pandas.core.frame.DataFrame'>\n",
      "RangeIndex: 31 entries, 0 to 30\n",
      "Data columns (total 9 columns):\n",
      " #   Column             Non-Null Count  Dtype  \n",
      "---  ------             --------------  -----  \n",
      " 0   locationId         31 non-null     int64  \n",
      " 1   tenantIdentifier   31 non-null     object \n",
      " 2   name               31 non-null     object \n",
      " 3   cp7                31 non-null     object \n",
      " 4   freguesia          31 non-null     object \n",
      " 5   directionPositive  0 non-null      float64\n",
      " 6   directionNegative  0 non-null      float64\n",
      " 7   latitude           31 non-null     float64\n",
      " 8   longitude          31 non-null     float64\n",
      "dtypes: float64(4), int64(1), object(4)\n",
      "memory usage: 2.3+ KB\n",
      "\n",
      "            direction_2  count_2  direction_3  count_3  direction_4  count_4  \\\n",
      "detected                                                                       \n",
      "2021-08-01          219      327          155      323          138      424   \n",
      "2021-08-02          144      252          194      381          117      372   \n",
      "\n",
      "            direction_5  count_5  direction_6  count_6  ...  direction_31  \\\n",
      "detected                                                ...                 \n",
      "2021-08-01          238      341          539      673  ...            55   \n",
      "2021-08-02          249      364          735      907  ...            52   \n",
      "\n",
      "            count_31  direction_32  count_32  direction_33  count_33  \\\n",
      "detected                                                               \n",
      "2021-08-01        94           359       500           401       769   \n",
      "2021-08-02       101           377       486           355       590   \n",
      "\n",
      "            direction_34  count_34  direction_35  count_35  \n",
      "detected                                                    \n",
      "2021-08-01           354       691           526      1149  \n",
      "2021-08-02           436       777           523      1163  \n",
      "\n",
      "[2 rows x 62 columns]\n"
     ]
    }
   ],
   "source": [
    "df_loc = pd.read_csv('../all_counter_locations.csv')\n",
    "df_loc.info()\n",
    "print()\n",
    "print(df_daily_filled.head(2))"
   ]
  },
  {
   "cell_type": "markdown",
   "id": "2370b343",
   "metadata": {},
   "source": [
    "### Datas especiais"
   ]
  },
  {
   "cell_type": "code",
   "execution_count": 5,
   "id": "08030f8f",
   "metadata": {},
   "outputs": [],
   "source": [
    "def calcular_pascoa(ano):\n",
    "    \"\"\"Calcula a data da Páscoa para um dado ano (algoritmo de Meeus/Jones/Butcher).\"\"\"\n",
    "    a = ano % 19\n",
    "    b = ano // 100\n",
    "    c = ano % 100\n",
    "    d = b // 4\n",
    "    e = b % 4\n",
    "    f = (b + 8) // 25\n",
    "    g = (b - f + 1) // 3\n",
    "    h = (19 * a + b - d - g + 15) % 30\n",
    "    i = c // 4\n",
    "    k = c % 4\n",
    "    l = (32 + 2 * e + 2 * i - h - k) % 7\n",
    "    m = (a + 11 * h + 22 * l) // 451\n",
    "    mes = (h + l - 7 * m + 114) // 31\n",
    "    dia = ((h + l - 7 * m + 114) % 31) + 1\n",
    "    return date(ano, mes, dia)\n",
    "\n",
    "#feriados \n",
    "def calcular_feriados_portugal(anos, incluir_lisboa=False):\n",
    "    feriados = []\n",
    "\n",
    "    for ano in anos:\n",
    "        # Feriados\n",
    "        feriados += [\n",
    "            date(ano, 1, 1),   # Ano Novo\n",
    "            date(ano, 4, 25),  # Dia da Liberdade\n",
    "            date(ano, 5, 1),   # Dia do Trabalhador\n",
    "            date(ano, 6, 10),  # Dia de Portugal\n",
    "            date(ano, 8, 15),  # Assunção de Nossa Senhora\n",
    "            date(ano, 10, 5),  # Implantação da República\n",
    "            date(ano, 11, 1),  # Dia de Todos os Santos\n",
    "            date(ano, 12, 1),  # Restauração da Independência\n",
    "            date(ano, 12, 8),  # Imaculada Conceição\n",
    "            date(ano, 12, 25), # Natal\n",
    "            date(ano, 6, 13),  # Santo António\n",
    "        ]\n",
    "\n",
    "        # Feriados Domingo de Páscoa\n",
    "        pascoa = calcular_pascoa(ano)\n",
    "        feriados += [\n",
    "            pascoa - timedelta(days=47), # Carnaval\n",
    "            pascoa - timedelta(days=2),  # Sexta-feira Santa\n",
    "            pascoa + timedelta(days=1),  # Segunda-feira de Páscoa \n",
    "            pascoa + timedelta(days=60), # Corpo de Deus\n",
    "        ]\n",
    "\n",
    "    return set(feriados)"
   ]
  },
  {
   "cell_type": "code",
   "execution_count": 6,
   "id": "0604625c",
   "metadata": {},
   "outputs": [],
   "source": [
    "anos = df_daily_filled.index.year.unique()\n",
    "feriados = calcular_feriados_portugal(anos, incluir_lisboa=True)\n",
    "\n",
    "df_daily_filled['holiday'] = df_daily_filled.index.date\n",
    "df_daily_filled['holiday'] = df_daily_filled['holiday'].apply(\n",
    "    lambda x: 1 if x in feriados else 0\n",
    ")"
   ]
  },
  {
   "cell_type": "code",
   "execution_count": 7,
   "id": "5ea0c7e9",
   "metadata": {},
   "outputs": [],
   "source": [
    "#fim de semana\n",
    "df_daily_filled['weekend'] = df_daily_filled.index.weekday.isin([5, 6]).astype(int)\n",
    "df_daily_filled['exog'] = ((df_daily_filled['holiday'] == 1) | (df_daily_filled['weekend'] == 1)).astype(int)"
   ]
  },
  {
   "cell_type": "markdown",
   "id": "5d9fa206",
   "metadata": {},
   "source": [
    "# MSTL forecast"
   ]
  },
  {
   "cell_type": "code",
   "execution_count": 10,
   "id": "a07517ff",
   "metadata": {},
   "outputs": [],
   "source": [
    "def fill_zeros(df, max_weeks_back=5):\n",
    "    df_filled = df.copy()\n",
    "    for col in df_daily_filled.columns:\n",
    "        if col.startswith('count_'):\n",
    "            zero_dates = df_daily_filled[df_daily_filled[col] == 0].index\n",
    "            for datetime in zero_dates:\n",
    "                for weeks_back in range(1, max_weeks_back + 1):\n",
    "                    prev_week = datetime - pd.Timedelta(weeks=weeks_back)\n",
    "                    if prev_week in df_daily_filled.index:\n",
    "                        prev_value = df_daily_filled.loc[prev_week, col]\n",
    "                        if prev_value != 0:\n",
    "                            df_filled.loc[datetime, col] = prev_value\n",
    "                            break\n",
    "    return df_filled"
   ]
  },
  {
   "cell_type": "code",
   "execution_count": 11,
   "id": "43652c8d",
   "metadata": {},
   "outputs": [],
   "source": [
    "def aplica_algoritmo(df, contador_id, exog_col='exog',\n",
    "                     start_date='2021-08-01', end_date='2022-08-01',\n",
    "                     season_length=[7], n_jobs=-1, datas_corrigidas_previamente=None):\n",
    "    \n",
    "    if contador_id is None:\n",
    "        raise ValueError(\"É necessário especificar o 'contador_id'.\")\n",
    "    \n",
    "    if contador_id not in df_daily_filled.columns:\n",
    "        raise ValueError(f\"Contador {contador_id} não encontrado no DataFrame.\")\n",
    "    \n",
    "    if exog_col not in df_daily_filled.columns:\n",
    "        raise ValueError(f\"Coluna exógena {exog_col} não encontrada no DataFrame.\")\n",
    "    \n",
    "    if datas_corrigidas_previamente is None:\n",
    "        datas_corrigidas_previamente = set()\n",
    "    \n",
    "    # 1. Filtrar dados históricos até à data limite\n",
    "    df_hist = df.loc[start_date:end_date].copy()\n",
    "    df_hist[contador_id] = df_hist[contador_id].astype(float)\n",
    "\n",
    "    # 2. Substituir dias com zeros \n",
    "    df_hist_corr = fill_zeros(df_hist)\n",
    "    \n",
    "\n",
    "    # 3. Preparar dados para StatsForecast\n",
    "    unique_id = contador_id\n",
    "    df_model = df_hist_corr[[contador_id, exog_col]].reset_index().assign(unique_id=unique_id)\n",
    "    df_model.columns = ['ds', 'y', 'X', 'unique_id']\n",
    "    df_model = df_model[['unique_id', 'ds', 'y', 'X']]\n",
    "\n",
    "    # 4. Ajustar o modelo\n",
    "    model = MSTL(season_length=season_length, trend_forecaster=AutoARIMA())\n",
    "    sf = StatsForecast(models=[model], freq='D', n_jobs=n_jobs)\n",
    "    sf.fit(df_model)\n",
    "    \n",
    "    \n",
    "    # 5. Previsão (1 dia à frente apenas, para completar fitting)\n",
    "    future_dates = pd.date_range(start=df_model['ds'].max() + pd.Timedelta(days=1), periods=1, freq='D')\n",
    "    future_exog_values = [1 if d.date() in feriados else 0 for d in future_dates]\n",
    "\n",
    "    future_exog = pd.DataFrame({\n",
    "        'ds': future_dates,\n",
    "        'X': future_exog_values,\n",
    "        'unique_id': [contador_id] * len(future_dates)      \n",
    "    })\n",
    "\n",
    "    levels=[99.7]\n",
    "    sf.forecast(df=df_model, X_df=future_exog, h=1, level=levels, fitted=True)\n",
    "\n",
    "    # 6. Obter previsões in-sample e identificar outliers\n",
    "    insample_fcst = sf.forecast_fitted_values()\n",
    "    insample_fcst.columns = ['unique_id', 'ds', 'y', 'fitted', 'lo_99_7', 'hi_99_7']\n",
    "\n",
    "    anomalies = insample_fcst[\n",
    "        ~insample_fcst['y'].between(insample_fcst['lo_99_7'], insample_fcst['hi_99_7'])\n",
    "    ].copy()\n",
    "\n",
    "    novas_datas_corrigidas = set()\n",
    "\n",
    "    # 7. Corrigir anomalias\n",
    "    for _, row in anomalies.iterrows():\n",
    "        dia = row['ds']\n",
    "        \n",
    "        if dia in datas_corrigidas_previamente or dia in novas_datas_corrigidas:\n",
    "            continue\n",
    "\n",
    "        y = row['y']\n",
    "        hi = row['hi_99_7']\n",
    "        lo = row['lo_99_7']\n",
    "        historico = df_hist_corr.loc[df_hist_corr.index < dia, contador_id]\n",
    "\n",
    "        if historico.empty:\n",
    "            continue\n",
    "\n",
    "        max_hist = historico.max()\n",
    "\n",
    "        if y > hi:\n",
    "            novo_valor = min(hi, max_hist)\n",
    "        elif y < lo:\n",
    "            novo_valor = lo\n",
    "        else:\n",
    "            continue\n",
    "\n",
    "        df_hist_corr.loc[dia, contador_id] = novo_valor\n",
    "        novas_datas_corrigidas.add(dia)\n",
    "\n",
    "\n",
    "    # 9. Retornar histórico corrigido, anomalias, datas corrigidas e componente semanal\n",
    "    return df_hist_corr, anomalies, novas_datas_corrigidas"
   ]
  },
  {
   "cell_type": "code",
   "execution_count": 12,
   "id": "d5880122",
   "metadata": {},
   "outputs": [],
   "source": [
    "def get_one_more_week_rolling(df, df_hist, weeks_added, janela_semanas=52):\n",
    "    last_date = df_hist.index.max()\n",
    "    next_week_start = last_date + pd.Timedelta(days=1)\n",
    "    next_week_end = next_week_start + pd.Timedelta(days=6)\n",
    "\n",
    "    df_next_week = df.loc[next_week_start:next_week_end]\n",
    "\n",
    "    if df_next_week.empty:\n",
    "        return df_hist, weeks_added, False\n",
    "\n",
    "    # Concatenar nova semana\n",
    "    df_hist_updated = pd.concat([df_hist, df_next_week])\n",
    "\n",
    "    # Manter janela de tamanho fixo (em semanas)\n",
    "    dias_janela = janela_semanas * 7\n",
    "    min_date = df_hist_updated.index.max() - pd.Timedelta(days=dias_janela - 1)\n",
    "    df_hist_updated = df_hist_updated[df_hist_updated.index >= min_date]\n",
    "\n",
    "    return df_hist_updated, weeks_added + 1, True"
   ]
  },
  {
   "cell_type": "code",
   "execution_count": 69,
   "id": "879d463f",
   "metadata": {},
   "outputs": [
    {
     "name": "stdout",
     "output_type": "stream",
     "text": [
      "Semana 1 processada com 1 novos outliers.\n",
      "Semana 2 processada com 1 novos outliers.\n",
      "Semana 3 processada com 0 novos outliers.\n",
      "Semana 4 processada com 0 novos outliers.\n",
      "Semana 5 processada com 0 novos outliers.\n",
      "Semana 6 processada com 0 novos outliers.\n",
      "Semana 7 processada com 0 novos outliers.\n",
      "Semana 8 processada com 2 novos outliers.\n",
      "Semana 9 processada com 1 novos outliers.\n",
      "Semana 10 processada com 0 novos outliers.\n",
      "Semana 11 processada com 0 novos outliers.\n",
      "Semana 12 processada com 1 novos outliers.\n",
      "Semana 13 processada com 0 novos outliers.\n",
      "Semana 14 processada com 0 novos outliers.\n",
      "Semana 15 processada com 0 novos outliers.\n",
      "Semana 16 processada com 0 novos outliers.\n",
      "Semana 17 processada com 0 novos outliers.\n",
      "Semana 18 processada com 0 novos outliers.\n",
      "Semana 19 processada com 1 novos outliers.\n",
      "Semana 20 processada com 1 novos outliers.\n",
      "Semana 21 processada com 0 novos outliers.\n",
      "Semana 22 processada com 0 novos outliers.\n",
      "Semana 23 processada com 0 novos outliers.\n",
      "Semana 24 processada com 0 novos outliers.\n",
      "Semana 25 processada com 0 novos outliers.\n",
      "Semana 26 processada com 0 novos outliers.\n",
      "Semana 27 processada com 0 novos outliers.\n",
      "Semana 28 processada com 0 novos outliers.\n",
      "Semana 29 processada com 0 novos outliers.\n",
      "Semana 30 processada com 0 novos outliers.\n",
      "Semana 31 processada com 0 novos outliers.\n",
      "Semana 32 processada com 0 novos outliers.\n",
      "Semana 33 processada com 0 novos outliers.\n",
      "Semana 34 processada com 0 novos outliers.\n",
      "Semana 35 processada com 0 novos outliers.\n",
      "Semana 36 processada com 0 novos outliers.\n",
      "Semana 37 processada com 0 novos outliers.\n",
      "Semana 38 processada com 0 novos outliers.\n",
      "Semana 39 processada com 0 novos outliers.\n",
      "Semana 40 processada com 0 novos outliers.\n",
      "Semana 41 processada com 0 novos outliers.\n",
      "Semana 42 processada com 0 novos outliers.\n",
      "Semana 43 processada com 0 novos outliers.\n",
      "Semana 44 processada com 0 novos outliers.\n",
      "Semana 45 processada com 1 novos outliers.\n",
      "Semana 46 processada com 0 novos outliers.\n",
      "Semana 47 processada com 0 novos outliers.\n",
      "Semana 48 processada com 0 novos outliers.\n",
      "Semana 49 processada com 0 novos outliers.\n",
      "Semana 50 processada com 0 novos outliers.\n",
      "Semana 51 processada com 0 novos outliers.\n",
      "Semana 52 processada com 0 novos outliers.\n",
      "Semana 53 processada com 2 novos outliers.\n",
      "Semana 54 processada com 3 novos outliers.\n",
      "Semana 55 processada com 0 novos outliers.\n",
      "Semana 56 processada com 0 novos outliers.\n",
      "Semana 57 processada com 0 novos outliers.\n",
      "Semana 58 processada com 0 novos outliers.\n",
      "Semana 59 processada com 0 novos outliers.\n",
      "Semana 60 processada com 0 novos outliers.\n",
      "Semana 61 processada com 0 novos outliers.\n",
      "Semana 62 processada com 0 novos outliers.\n",
      "Semana 63 processada com 0 novos outliers.\n",
      "Semana 64 processada com 1 novos outliers.\n",
      "Semana 65 processada com 0 novos outliers.\n",
      "Semana 66 processada com 1 novos outliers.\n",
      "Semana 67 processada com 0 novos outliers.\n",
      "Semana 68 processada com 0 novos outliers.\n",
      "Semana 69 processada com 0 novos outliers.\n",
      "Semana 70 processada com 1 novos outliers.\n",
      "Semana 71 processada com 0 novos outliers.\n",
      "Semana 72 processada com 0 novos outliers.\n",
      "Semana 73 processada com 0 novos outliers.\n",
      "Semana 74 processada com 1 novos outliers.\n",
      "Semana 75 processada com 0 novos outliers.\n",
      "Semana 76 processada com 0 novos outliers.\n",
      "Semana 77 processada com 0 novos outliers.\n",
      "Semana 78 processada com 0 novos outliers.\n",
      "Semana 79 processada com 0 novos outliers.\n",
      "Semana 80 processada com 1 novos outliers.\n",
      "Semana 81 processada com 0 novos outliers.\n",
      "Semana 82 processada com 0 novos outliers.\n",
      "Semana 83 processada com 0 novos outliers.\n",
      "Não há mais semanas para adicionar.\n"
     ]
    }
   ],
   "source": [
    "resultados_corrigidos = [] # <- quando for para todos os contadores esta linha e as 2 proximas não são necessarias\n",
    "todas_anomalias = []\n",
    "datas_corrigidas_global = set()\n",
    "\n",
    "contador_id = 'count_4' # <- quando for para todos os contadores tem de ser eliminada\n",
    "exog_col = 'exog'\n",
    "start_date = '2021-08-01'\n",
    "end_date_inicial = '2022-07-31'\n",
    "#max_semanas = 2\n",
    "semanas_adicionadas = 0 #quando for para todos os contadores tem de ser eliminada\n",
    "\n",
    "# for contador_id in colunas_contadores:  <- par todos os contadores\n",
    "#     if not contador_id.startswith(\"count_\"):\n",
    "#         continue  # ignora colunas que não são contadores\n",
    "\n",
    "#     print(f\"\\n### PROCESSANDO {contador_id} ###\")\n",
    "\n",
    "#     resultados_corrigidos = []\n",
    "#     todas_anomalias = []\n",
    "#     datas_corrigidas_global = set()\n",
    "#     semanas_adicionadas = 0\n",
    "\n",
    "    # Aplicar primeira vez\n",
    "df_hist_atual, anomalies_iniciais, datas_corrigidas = aplica_algoritmo(\n",
    "    df=df_daily_filled,\n",
    "    contador_id=contador_id,\n",
    "    exog_col=exog_col,\n",
    "    start_date=start_date,\n",
    "    end_date=end_date_inicial,\n",
    "    datas_corrigidas_previamente=datas_corrigidas_global\n",
    ")\n",
    "\n",
    "    # Atualizar listas\n",
    "datas_corrigidas_global.update(datas_corrigidas)\n",
    "resultados_corrigidos.append(df_hist_atual.copy())\n",
    "todas_anomalias.append(anomalies_iniciais)\n",
    "\n",
    "    # Loop\n",
    "while True:    \n",
    "#while semanas_adicionadas < max_semanas:\n",
    "    df_hist_atual, semanas_adicionadas, conseguiu_adicionar = get_one_more_week_rolling(\n",
    "        df=df_daily_filled,\n",
    "        df_hist=df_hist_atual,\n",
    "        weeks_added=semanas_adicionadas,\n",
    "        #max_weeks=max_semanas\n",
    "        janela_semanas=52  # ou outro valor\n",
    "    )\n",
    "\n",
    "    if not conseguiu_adicionar:\n",
    "        print(\"Não há mais semanas para adicionar.\")\n",
    "        break\n",
    "\n",
    "    df_corrigido, novas_anomalias, novas_datas_corrigidas = aplica_algoritmo(\n",
    "        df=df_hist_atual,\n",
    "        contador_id=contador_id,\n",
    "        exog_col=exog_col,\n",
    "        start_date=start_date,\n",
    "        end_date=df_hist_atual.index.max().strftime('%Y-%m-%d'),\n",
    "        datas_corrigidas_previamente=datas_corrigidas_global\n",
    "    )\n",
    "\n",
    "    # Filtrar anomalias para ignorar as que já foram corrigidas antes\n",
    "    novas_anomalias = novas_anomalias[~novas_anomalias['ds'].isin(datas_corrigidas_global)].copy()\n",
    "\n",
    "    # Atualizar conjunto global das datas corrigidas\n",
    "    datas_corrigidas_global.update(novas_datas_corrigidas)\n",
    "\n",
    "    df_hist_atual = df_corrigido.copy()\n",
    "    resultados_corrigidos.append(df_hist_atual.copy())\n",
    "    todas_anomalias.append(novas_anomalias)\n",
    "\n",
    "    print(f\"Semana {semanas_adicionadas} processada com {len(novas_anomalias)} novos outliers.\")"
   ]
  },
  {
   "cell_type": "code",
   "execution_count": 70,
   "id": "beda1a7d",
   "metadata": {},
   "outputs": [],
   "source": [
    "import os\n",
    "import pickle\n",
    "\n",
    "pasta_resultados = \"resultados_corrigidos\"\n",
    "os.makedirs(pasta_resultados, exist_ok=True)\n",
    "\n",
    "filename = os.path.join(pasta_resultados, f\"corrigido_{contador_id}.pkl\")\n",
    "with open(filename, \"wb\") as f:\n",
    "    pickle.dump(resultados_corrigidos, f)\n"
   ]
  },
  {
   "cell_type": "code",
   "execution_count": 71,
   "id": "781bdfa1",
   "metadata": {},
   "outputs": [
    {
     "data": {
      "text/html": [
       "<div>\n",
       "<style scoped>\n",
       "    .dataframe tbody tr th:only-of-type {\n",
       "        vertical-align: middle;\n",
       "    }\n",
       "\n",
       "    .dataframe tbody tr th {\n",
       "        vertical-align: top;\n",
       "    }\n",
       "\n",
       "    .dataframe thead th {\n",
       "        text-align: right;\n",
       "    }\n",
       "</style>\n",
       "<table border=\"1\" class=\"dataframe\">\n",
       "  <thead>\n",
       "    <tr style=\"text-align: right;\">\n",
       "      <th></th>\n",
       "      <th>count_2</th>\n",
       "      <th>count_3</th>\n",
       "      <th>count_4</th>\n",
       "    </tr>\n",
       "    <tr>\n",
       "      <th>detected</th>\n",
       "      <th></th>\n",
       "      <th></th>\n",
       "      <th></th>\n",
       "    </tr>\n",
       "  </thead>\n",
       "  <tbody>\n",
       "    <tr>\n",
       "      <th>2021-08-01</th>\n",
       "      <td>327.0</td>\n",
       "      <td>323.0</td>\n",
       "      <td>424.0</td>\n",
       "    </tr>\n",
       "    <tr>\n",
       "      <th>2021-08-02</th>\n",
       "      <td>252.0</td>\n",
       "      <td>381.0</td>\n",
       "      <td>372.0</td>\n",
       "    </tr>\n",
       "    <tr>\n",
       "      <th>2021-08-03</th>\n",
       "      <td>257.0</td>\n",
       "      <td>397.0</td>\n",
       "      <td>411.0</td>\n",
       "    </tr>\n",
       "    <tr>\n",
       "      <th>2021-08-04</th>\n",
       "      <td>266.0</td>\n",
       "      <td>337.0</td>\n",
       "      <td>423.0</td>\n",
       "    </tr>\n",
       "    <tr>\n",
       "      <th>2021-08-05</th>\n",
       "      <td>259.0</td>\n",
       "      <td>333.0</td>\n",
       "      <td>370.0</td>\n",
       "    </tr>\n",
       "    <tr>\n",
       "      <th>...</th>\n",
       "      <td>...</td>\n",
       "      <td>...</td>\n",
       "      <td>...</td>\n",
       "    </tr>\n",
       "    <tr>\n",
       "      <th>2024-02-25</th>\n",
       "      <td>583.0</td>\n",
       "      <td>146.0</td>\n",
       "      <td>188.0</td>\n",
       "    </tr>\n",
       "    <tr>\n",
       "      <th>2024-02-26</th>\n",
       "      <td>494.0</td>\n",
       "      <td>606.0</td>\n",
       "      <td>316.0</td>\n",
       "    </tr>\n",
       "    <tr>\n",
       "      <th>2024-02-27</th>\n",
       "      <td>539.0</td>\n",
       "      <td>743.0</td>\n",
       "      <td>377.0</td>\n",
       "    </tr>\n",
       "    <tr>\n",
       "      <th>2024-02-28</th>\n",
       "      <td>573.0</td>\n",
       "      <td>572.0</td>\n",
       "      <td>437.0</td>\n",
       "    </tr>\n",
       "    <tr>\n",
       "      <th>2024-02-29</th>\n",
       "      <td>551.0</td>\n",
       "      <td>1361.0</td>\n",
       "      <td>433.0</td>\n",
       "    </tr>\n",
       "  </tbody>\n",
       "</table>\n",
       "<p>943 rows × 3 columns</p>\n",
       "</div>"
      ],
      "text/plain": [
       "            count_2  count_3  count_4\n",
       "detected                             \n",
       "2021-08-01    327.0    323.0    424.0\n",
       "2021-08-02    252.0    381.0    372.0\n",
       "2021-08-03    257.0    397.0    411.0\n",
       "2021-08-04    266.0    337.0    423.0\n",
       "2021-08-05    259.0    333.0    370.0\n",
       "...             ...      ...      ...\n",
       "2024-02-25    583.0    146.0    188.0\n",
       "2024-02-26    494.0    606.0    316.0\n",
       "2024-02-27    539.0    743.0    377.0\n",
       "2024-02-28    573.0    572.0    437.0\n",
       "2024-02-29    551.0   1361.0    433.0\n",
       "\n",
       "[943 rows x 3 columns]"
      ]
     },
     "execution_count": 71,
     "metadata": {},
     "output_type": "execute_result"
    }
   ],
   "source": [
    "import os\n",
    "import glob\n",
    "import pickle\n",
    "import pandas as pd\n",
    "\n",
    "pasta_resultados = \"resultados_corrigidos\"\n",
    "ficheiros = glob.glob(os.path.join(pasta_resultados, \"corrigido_count_*.pkl\"))\n",
    "\n",
    "lista_dfs = []\n",
    "\n",
    "for ficheiro in ficheiros:\n",
    "    # extrair id do contador\n",
    "    nome = os.path.basename(ficheiro)  # ex: corrigido_count_5.pkl\n",
    "    contador_id = nome.replace(\"corrigido_\", \"\").replace(\".pkl\", \"\")  # ex: count_5\n",
    "\n",
    "    with open(ficheiro, \"rb\") as f:\n",
    "        lista_resultados = pickle.load(f)  # lista de dataframes\n",
    "\n",
    "    # concatena a lista verticalmente para um df único desse contador\n",
    "    df_contador = pd.concat(lista_resultados, axis=0)\n",
    "\n",
    "    # selecionar só a coluna do contador, garantindo indexação correta\n",
    "    # assumir que a coluna do contador tem exatamente o nome contador_id\n",
    "    df_contador = df_contador[[contador_id]]\n",
    "\n",
    "    # guardar numa lista para juntar tudo depois\n",
    "    lista_dfs.append(df_contador)\n",
    "\n",
    "# juntar tudo horizontalmente pelas datas (index)\n",
    "df = pd.concat(lista_dfs, axis=1)\n",
    "\n",
    "# remover índices duplicados mantendo o último\n",
    "df = df[~df.index.duplicated(keep='last')]\n",
    "\n",
    "df\n"
   ]
  },
  {
   "cell_type": "code",
   "execution_count": 65,
   "id": "dd978f43",
   "metadata": {},
   "outputs": [
    {
     "data": {
      "text/html": [
       "<div>\n",
       "<style scoped>\n",
       "    .dataframe tbody tr th:only-of-type {\n",
       "        vertical-align: middle;\n",
       "    }\n",
       "\n",
       "    .dataframe tbody tr th {\n",
       "        vertical-align: top;\n",
       "    }\n",
       "\n",
       "    .dataframe thead th {\n",
       "        text-align: right;\n",
       "    }\n",
       "</style>\n",
       "<table border=\"1\" class=\"dataframe\">\n",
       "  <thead>\n",
       "    <tr style=\"text-align: right;\">\n",
       "      <th></th>\n",
       "      <th>unique_id</th>\n",
       "      <th>ds</th>\n",
       "      <th>y</th>\n",
       "      <th>fitted</th>\n",
       "      <th>lo_99_7</th>\n",
       "      <th>hi_99_7</th>\n",
       "    </tr>\n",
       "  </thead>\n",
       "  <tbody>\n",
       "    <tr>\n",
       "      <th>174</th>\n",
       "      <td>count_3</td>\n",
       "      <td>2022-01-22</td>\n",
       "      <td>1151.0</td>\n",
       "      <td>432.140392</td>\n",
       "      <td>-102.647271</td>\n",
       "      <td>966.928055</td>\n",
       "    </tr>\n",
       "    <tr>\n",
       "      <th>189</th>\n",
       "      <td>count_3</td>\n",
       "      <td>2022-02-06</td>\n",
       "      <td>1174.0</td>\n",
       "      <td>492.221074</td>\n",
       "      <td>-42.566589</td>\n",
       "      <td>1027.008737</td>\n",
       "    </tr>\n",
       "    <tr>\n",
       "      <th>198</th>\n",
       "      <td>count_3</td>\n",
       "      <td>2022-02-15</td>\n",
       "      <td>1412.0</td>\n",
       "      <td>720.620469</td>\n",
       "      <td>185.832806</td>\n",
       "      <td>1255.408132</td>\n",
       "    </tr>\n",
       "    <tr>\n",
       "      <th>203</th>\n",
       "      <td>count_3</td>\n",
       "      <td>2022-02-20</td>\n",
       "      <td>1363.0</td>\n",
       "      <td>587.436596</td>\n",
       "      <td>52.648933</td>\n",
       "      <td>1122.224259</td>\n",
       "    </tr>\n",
       "    <tr>\n",
       "      <th>213</th>\n",
       "      <td>count_3</td>\n",
       "      <td>2022-03-02</td>\n",
       "      <td>1408.0</td>\n",
       "      <td>566.742679</td>\n",
       "      <td>31.955016</td>\n",
       "      <td>1101.530342</td>\n",
       "    </tr>\n",
       "    <tr>\n",
       "      <th>...</th>\n",
       "      <td>...</td>\n",
       "      <td>...</td>\n",
       "      <td>...</td>\n",
       "      <td>...</td>\n",
       "      <td>...</td>\n",
       "      <td>...</td>\n",
       "    </tr>\n",
       "    <tr>\n",
       "      <th>357</th>\n",
       "      <td>count_3</td>\n",
       "      <td>2023-12-18</td>\n",
       "      <td>1657.0</td>\n",
       "      <td>742.086743</td>\n",
       "      <td>89.955721</td>\n",
       "      <td>1394.217764</td>\n",
       "    </tr>\n",
       "    <tr>\n",
       "      <th>361</th>\n",
       "      <td>count_3</td>\n",
       "      <td>2024-01-05</td>\n",
       "      <td>1269.0</td>\n",
       "      <td>434.866578</td>\n",
       "      <td>-216.689403</td>\n",
       "      <td>1086.422560</td>\n",
       "    </tr>\n",
       "    <tr>\n",
       "      <th>357</th>\n",
       "      <td>count_3</td>\n",
       "      <td>2024-01-29</td>\n",
       "      <td>1417.0</td>\n",
       "      <td>734.078807</td>\n",
       "      <td>82.962798</td>\n",
       "      <td>1385.194817</td>\n",
       "    </tr>\n",
       "    <tr>\n",
       "      <th>363</th>\n",
       "      <td>count_3</td>\n",
       "      <td>2024-02-11</td>\n",
       "      <td>1181.0</td>\n",
       "      <td>286.715949</td>\n",
       "      <td>-371.912368</td>\n",
       "      <td>945.344266</td>\n",
       "    </tr>\n",
       "    <tr>\n",
       "      <th>363</th>\n",
       "      <td>count_3</td>\n",
       "      <td>2024-02-29</td>\n",
       "      <td>1793.0</td>\n",
       "      <td>860.518906</td>\n",
       "      <td>182.233272</td>\n",
       "      <td>1538.804541</td>\n",
       "    </tr>\n",
       "  </tbody>\n",
       "</table>\n",
       "<p>64 rows × 6 columns</p>\n",
       "</div>"
      ],
      "text/plain": [
       "    unique_id         ds       y      fitted     lo_99_7      hi_99_7\n",
       "174   count_3 2022-01-22  1151.0  432.140392 -102.647271   966.928055\n",
       "189   count_3 2022-02-06  1174.0  492.221074  -42.566589  1027.008737\n",
       "198   count_3 2022-02-15  1412.0  720.620469  185.832806  1255.408132\n",
       "203   count_3 2022-02-20  1363.0  587.436596   52.648933  1122.224259\n",
       "213   count_3 2022-03-02  1408.0  566.742679   31.955016  1101.530342\n",
       "..        ...        ...     ...         ...         ...          ...\n",
       "357   count_3 2023-12-18  1657.0  742.086743   89.955721  1394.217764\n",
       "361   count_3 2024-01-05  1269.0  434.866578 -216.689403  1086.422560\n",
       "357   count_3 2024-01-29  1417.0  734.078807   82.962798  1385.194817\n",
       "363   count_3 2024-02-11  1181.0  286.715949 -371.912368   945.344266\n",
       "363   count_3 2024-02-29  1793.0  860.518906  182.233272  1538.804541\n",
       "\n",
       "[64 rows x 6 columns]"
      ]
     },
     "execution_count": 65,
     "metadata": {},
     "output_type": "execute_result"
    }
   ],
   "source": [
    "anomalias_totais = pd.concat(todas_anomalias)\n",
    "anomalias_totais"
   ]
  },
  {
   "cell_type": "code",
   "execution_count": 66,
   "id": "6ed6278b",
   "metadata": {},
   "outputs": [
    {
     "data": {
      "application/vnd.plotly.v1+json": {
       "config": {
        "plotlyServerURL": "https://plot.ly"
       },
       "data": [
        {
         "hovertemplate": "detected=%{x}<br>Contagem=%{y}<extra></extra>",
         "legendgroup": "",
         "line": {
          "color": "#636efa",
          "dash": "solid"
         },
         "marker": {
          "symbol": "circle"
         },
         "mode": "lines",
         "name": "",
         "orientation": "v",
         "showlegend": false,
         "type": "scatter",
         "x": [
          "2021-08-01T00:00:00.000000000",
          "2021-08-02T00:00:00.000000000",
          "2021-08-03T00:00:00.000000000",
          "2021-08-04T00:00:00.000000000",
          "2021-08-05T00:00:00.000000000",
          "2021-08-06T00:00:00.000000000",
          "2021-08-07T00:00:00.000000000",
          "2021-08-08T00:00:00.000000000",
          "2021-08-09T00:00:00.000000000",
          "2021-08-10T00:00:00.000000000",
          "2021-08-11T00:00:00.000000000",
          "2021-08-12T00:00:00.000000000",
          "2021-08-13T00:00:00.000000000",
          "2021-08-14T00:00:00.000000000",
          "2021-08-15T00:00:00.000000000",
          "2021-08-16T00:00:00.000000000",
          "2021-08-17T00:00:00.000000000",
          "2021-08-18T00:00:00.000000000",
          "2021-08-19T00:00:00.000000000",
          "2021-08-20T00:00:00.000000000",
          "2021-08-21T00:00:00.000000000",
          "2021-08-22T00:00:00.000000000",
          "2021-08-23T00:00:00.000000000",
          "2021-08-24T00:00:00.000000000",
          "2021-08-25T00:00:00.000000000",
          "2021-08-26T00:00:00.000000000",
          "2021-08-27T00:00:00.000000000",
          "2021-08-28T00:00:00.000000000",
          "2021-08-29T00:00:00.000000000",
          "2021-08-30T00:00:00.000000000",
          "2021-08-31T00:00:00.000000000",
          "2021-09-01T00:00:00.000000000",
          "2021-09-02T00:00:00.000000000",
          "2021-09-03T00:00:00.000000000",
          "2021-09-04T00:00:00.000000000",
          "2021-09-05T00:00:00.000000000",
          "2021-09-06T00:00:00.000000000",
          "2021-09-07T00:00:00.000000000",
          "2021-09-08T00:00:00.000000000",
          "2021-09-09T00:00:00.000000000",
          "2021-09-10T00:00:00.000000000",
          "2021-09-11T00:00:00.000000000",
          "2021-09-12T00:00:00.000000000",
          "2021-09-13T00:00:00.000000000",
          "2021-09-14T00:00:00.000000000",
          "2021-09-15T00:00:00.000000000",
          "2021-09-16T00:00:00.000000000",
          "2021-09-17T00:00:00.000000000",
          "2021-09-18T00:00:00.000000000",
          "2021-09-19T00:00:00.000000000",
          "2021-09-20T00:00:00.000000000",
          "2021-09-21T00:00:00.000000000",
          "2021-09-22T00:00:00.000000000",
          "2021-09-23T00:00:00.000000000",
          "2021-09-24T00:00:00.000000000",
          "2021-09-25T00:00:00.000000000",
          "2021-09-26T00:00:00.000000000",
          "2021-09-27T00:00:00.000000000",
          "2021-09-28T00:00:00.000000000",
          "2021-09-29T00:00:00.000000000",
          "2021-09-30T00:00:00.000000000",
          "2021-10-01T00:00:00.000000000",
          "2021-10-02T00:00:00.000000000",
          "2021-10-03T00:00:00.000000000",
          "2021-10-04T00:00:00.000000000",
          "2021-10-05T00:00:00.000000000",
          "2021-10-06T00:00:00.000000000",
          "2021-10-07T00:00:00.000000000",
          "2021-10-08T00:00:00.000000000",
          "2021-10-09T00:00:00.000000000",
          "2021-10-10T00:00:00.000000000",
          "2021-10-11T00:00:00.000000000",
          "2021-10-12T00:00:00.000000000",
          "2021-10-13T00:00:00.000000000",
          "2021-10-14T00:00:00.000000000",
          "2021-10-15T00:00:00.000000000",
          "2021-10-16T00:00:00.000000000",
          "2021-10-17T00:00:00.000000000",
          "2021-10-18T00:00:00.000000000",
          "2021-10-19T00:00:00.000000000",
          "2021-10-20T00:00:00.000000000",
          "2021-10-21T00:00:00.000000000",
          "2021-10-22T00:00:00.000000000",
          "2021-10-23T00:00:00.000000000",
          "2021-10-24T00:00:00.000000000",
          "2021-10-25T00:00:00.000000000",
          "2021-10-26T00:00:00.000000000",
          "2021-10-27T00:00:00.000000000",
          "2021-10-28T00:00:00.000000000",
          "2021-10-29T00:00:00.000000000",
          "2021-10-30T00:00:00.000000000",
          "2021-10-31T00:00:00.000000000",
          "2021-11-01T00:00:00.000000000",
          "2021-11-02T00:00:00.000000000",
          "2021-11-03T00:00:00.000000000",
          "2021-11-04T00:00:00.000000000",
          "2021-11-05T00:00:00.000000000",
          "2021-11-06T00:00:00.000000000",
          "2021-11-07T00:00:00.000000000",
          "2021-11-08T00:00:00.000000000",
          "2021-11-09T00:00:00.000000000",
          "2021-11-10T00:00:00.000000000",
          "2021-11-11T00:00:00.000000000",
          "2021-11-12T00:00:00.000000000",
          "2021-11-13T00:00:00.000000000",
          "2021-11-14T00:00:00.000000000",
          "2021-11-15T00:00:00.000000000",
          "2021-11-16T00:00:00.000000000",
          "2021-11-17T00:00:00.000000000",
          "2021-11-18T00:00:00.000000000",
          "2021-11-19T00:00:00.000000000",
          "2021-11-20T00:00:00.000000000",
          "2021-11-21T00:00:00.000000000",
          "2021-11-22T00:00:00.000000000",
          "2021-11-23T00:00:00.000000000",
          "2021-11-24T00:00:00.000000000",
          "2021-11-25T00:00:00.000000000",
          "2021-11-26T00:00:00.000000000",
          "2021-11-27T00:00:00.000000000",
          "2021-11-28T00:00:00.000000000",
          "2021-11-29T00:00:00.000000000",
          "2021-11-30T00:00:00.000000000",
          "2021-12-01T00:00:00.000000000",
          "2021-12-02T00:00:00.000000000",
          "2021-12-03T00:00:00.000000000",
          "2021-12-04T00:00:00.000000000",
          "2021-12-05T00:00:00.000000000",
          "2021-12-06T00:00:00.000000000",
          "2021-12-07T00:00:00.000000000",
          "2021-12-08T00:00:00.000000000",
          "2021-12-09T00:00:00.000000000",
          "2021-12-10T00:00:00.000000000",
          "2021-12-11T00:00:00.000000000",
          "2021-12-12T00:00:00.000000000",
          "2021-12-13T00:00:00.000000000",
          "2021-12-14T00:00:00.000000000",
          "2021-12-15T00:00:00.000000000",
          "2021-12-16T00:00:00.000000000",
          "2021-12-17T00:00:00.000000000",
          "2021-12-18T00:00:00.000000000",
          "2021-12-19T00:00:00.000000000",
          "2021-12-20T00:00:00.000000000",
          "2021-12-21T00:00:00.000000000",
          "2021-12-22T00:00:00.000000000",
          "2021-12-23T00:00:00.000000000",
          "2021-12-24T00:00:00.000000000",
          "2021-12-25T00:00:00.000000000",
          "2021-12-26T00:00:00.000000000",
          "2021-12-27T00:00:00.000000000",
          "2021-12-28T00:00:00.000000000",
          "2021-12-29T00:00:00.000000000",
          "2021-12-30T00:00:00.000000000",
          "2021-12-31T00:00:00.000000000",
          "2022-01-01T00:00:00.000000000",
          "2022-01-02T00:00:00.000000000",
          "2022-01-03T00:00:00.000000000",
          "2022-01-04T00:00:00.000000000",
          "2022-01-05T00:00:00.000000000",
          "2022-01-06T00:00:00.000000000",
          "2022-01-07T00:00:00.000000000",
          "2022-01-08T00:00:00.000000000",
          "2022-01-09T00:00:00.000000000",
          "2022-01-10T00:00:00.000000000",
          "2022-01-11T00:00:00.000000000",
          "2022-01-12T00:00:00.000000000",
          "2022-01-13T00:00:00.000000000",
          "2022-01-14T00:00:00.000000000",
          "2022-01-15T00:00:00.000000000",
          "2022-01-16T00:00:00.000000000",
          "2022-01-17T00:00:00.000000000",
          "2022-01-18T00:00:00.000000000",
          "2022-01-19T00:00:00.000000000",
          "2022-01-20T00:00:00.000000000",
          "2022-01-21T00:00:00.000000000",
          "2022-01-22T00:00:00.000000000",
          "2022-01-23T00:00:00.000000000",
          "2022-01-24T00:00:00.000000000",
          "2022-01-25T00:00:00.000000000",
          "2022-01-26T00:00:00.000000000",
          "2022-01-27T00:00:00.000000000",
          "2022-01-28T00:00:00.000000000",
          "2022-01-29T00:00:00.000000000",
          "2022-01-30T00:00:00.000000000",
          "2022-01-31T00:00:00.000000000",
          "2022-02-01T00:00:00.000000000",
          "2022-02-02T00:00:00.000000000",
          "2022-02-03T00:00:00.000000000",
          "2022-02-04T00:00:00.000000000",
          "2022-02-05T00:00:00.000000000",
          "2022-02-06T00:00:00.000000000",
          "2022-02-07T00:00:00.000000000",
          "2022-02-08T00:00:00.000000000",
          "2022-02-09T00:00:00.000000000",
          "2022-02-10T00:00:00.000000000",
          "2022-02-11T00:00:00.000000000",
          "2022-02-12T00:00:00.000000000",
          "2022-02-13T00:00:00.000000000",
          "2022-02-14T00:00:00.000000000",
          "2022-02-15T00:00:00.000000000",
          "2022-02-16T00:00:00.000000000",
          "2022-02-17T00:00:00.000000000",
          "2022-02-18T00:00:00.000000000",
          "2022-02-19T00:00:00.000000000",
          "2022-02-20T00:00:00.000000000",
          "2022-02-21T00:00:00.000000000",
          "2022-02-22T00:00:00.000000000",
          "2022-02-23T00:00:00.000000000",
          "2022-02-24T00:00:00.000000000",
          "2022-02-25T00:00:00.000000000",
          "2022-02-26T00:00:00.000000000",
          "2022-02-27T00:00:00.000000000",
          "2022-02-28T00:00:00.000000000",
          "2022-03-01T00:00:00.000000000",
          "2022-03-02T00:00:00.000000000",
          "2022-03-03T00:00:00.000000000",
          "2022-03-04T00:00:00.000000000",
          "2022-03-05T00:00:00.000000000",
          "2022-03-06T00:00:00.000000000",
          "2022-03-07T00:00:00.000000000",
          "2022-03-08T00:00:00.000000000",
          "2022-03-09T00:00:00.000000000",
          "2022-03-10T00:00:00.000000000",
          "2022-03-11T00:00:00.000000000",
          "2022-03-12T00:00:00.000000000",
          "2022-03-13T00:00:00.000000000",
          "2022-03-14T00:00:00.000000000",
          "2022-03-15T00:00:00.000000000",
          "2022-03-16T00:00:00.000000000",
          "2022-03-17T00:00:00.000000000",
          "2022-03-18T00:00:00.000000000",
          "2022-03-19T00:00:00.000000000",
          "2022-03-20T00:00:00.000000000",
          "2022-03-21T00:00:00.000000000",
          "2022-03-22T00:00:00.000000000",
          "2022-03-23T00:00:00.000000000",
          "2022-03-24T00:00:00.000000000",
          "2022-03-25T00:00:00.000000000",
          "2022-03-26T00:00:00.000000000",
          "2022-03-27T00:00:00.000000000",
          "2022-03-28T00:00:00.000000000",
          "2022-03-29T00:00:00.000000000",
          "2022-03-30T00:00:00.000000000",
          "2022-03-31T00:00:00.000000000",
          "2022-04-01T00:00:00.000000000",
          "2022-04-02T00:00:00.000000000",
          "2022-04-03T00:00:00.000000000",
          "2022-04-04T00:00:00.000000000",
          "2022-04-05T00:00:00.000000000",
          "2022-04-06T00:00:00.000000000",
          "2022-04-07T00:00:00.000000000",
          "2022-04-08T00:00:00.000000000",
          "2022-04-09T00:00:00.000000000",
          "2022-04-10T00:00:00.000000000",
          "2022-04-11T00:00:00.000000000",
          "2022-04-12T00:00:00.000000000",
          "2022-04-13T00:00:00.000000000",
          "2022-04-14T00:00:00.000000000",
          "2022-04-15T00:00:00.000000000",
          "2022-04-16T00:00:00.000000000",
          "2022-04-17T00:00:00.000000000",
          "2022-04-18T00:00:00.000000000",
          "2022-04-19T00:00:00.000000000",
          "2022-04-20T00:00:00.000000000",
          "2022-04-21T00:00:00.000000000",
          "2022-04-22T00:00:00.000000000",
          "2022-04-23T00:00:00.000000000",
          "2022-04-24T00:00:00.000000000",
          "2022-04-25T00:00:00.000000000",
          "2022-04-26T00:00:00.000000000",
          "2022-04-27T00:00:00.000000000",
          "2022-04-28T00:00:00.000000000",
          "2022-04-29T00:00:00.000000000",
          "2022-04-30T00:00:00.000000000",
          "2022-05-01T00:00:00.000000000",
          "2022-05-02T00:00:00.000000000",
          "2022-05-03T00:00:00.000000000",
          "2022-05-04T00:00:00.000000000",
          "2022-05-05T00:00:00.000000000",
          "2022-05-06T00:00:00.000000000",
          "2022-05-07T00:00:00.000000000",
          "2022-05-08T00:00:00.000000000",
          "2022-05-09T00:00:00.000000000",
          "2022-05-10T00:00:00.000000000",
          "2022-05-11T00:00:00.000000000",
          "2022-05-12T00:00:00.000000000",
          "2022-05-13T00:00:00.000000000",
          "2022-05-14T00:00:00.000000000",
          "2022-05-15T00:00:00.000000000",
          "2022-05-16T00:00:00.000000000",
          "2022-05-17T00:00:00.000000000",
          "2022-05-18T00:00:00.000000000",
          "2022-05-19T00:00:00.000000000",
          "2022-05-20T00:00:00.000000000",
          "2022-05-21T00:00:00.000000000",
          "2022-05-22T00:00:00.000000000",
          "2022-05-23T00:00:00.000000000",
          "2022-05-24T00:00:00.000000000",
          "2022-05-25T00:00:00.000000000",
          "2022-05-26T00:00:00.000000000",
          "2022-05-27T00:00:00.000000000",
          "2022-05-28T00:00:00.000000000",
          "2022-05-29T00:00:00.000000000",
          "2022-05-30T00:00:00.000000000",
          "2022-05-31T00:00:00.000000000",
          "2022-06-01T00:00:00.000000000",
          "2022-06-02T00:00:00.000000000",
          "2022-06-03T00:00:00.000000000",
          "2022-06-04T00:00:00.000000000",
          "2022-06-05T00:00:00.000000000",
          "2022-06-06T00:00:00.000000000",
          "2022-06-07T00:00:00.000000000",
          "2022-06-08T00:00:00.000000000",
          "2022-06-09T00:00:00.000000000",
          "2022-06-10T00:00:00.000000000",
          "2022-06-11T00:00:00.000000000",
          "2022-06-12T00:00:00.000000000",
          "2022-06-13T00:00:00.000000000",
          "2022-06-14T00:00:00.000000000",
          "2022-06-15T00:00:00.000000000",
          "2022-06-16T00:00:00.000000000",
          "2022-06-17T00:00:00.000000000",
          "2022-06-18T00:00:00.000000000",
          "2022-06-19T00:00:00.000000000",
          "2022-06-20T00:00:00.000000000",
          "2022-06-21T00:00:00.000000000",
          "2022-06-22T00:00:00.000000000",
          "2022-06-23T00:00:00.000000000",
          "2022-06-24T00:00:00.000000000",
          "2022-06-25T00:00:00.000000000",
          "2022-06-26T00:00:00.000000000",
          "2022-06-27T00:00:00.000000000",
          "2022-06-28T00:00:00.000000000",
          "2022-06-29T00:00:00.000000000",
          "2022-06-30T00:00:00.000000000",
          "2022-07-01T00:00:00.000000000",
          "2022-07-02T00:00:00.000000000",
          "2022-07-03T00:00:00.000000000",
          "2022-07-04T00:00:00.000000000",
          "2022-07-05T00:00:00.000000000",
          "2022-07-06T00:00:00.000000000",
          "2022-07-07T00:00:00.000000000",
          "2022-07-08T00:00:00.000000000",
          "2022-07-09T00:00:00.000000000",
          "2022-07-10T00:00:00.000000000",
          "2022-07-11T00:00:00.000000000",
          "2022-07-12T00:00:00.000000000",
          "2022-07-13T00:00:00.000000000",
          "2022-07-14T00:00:00.000000000",
          "2022-07-15T00:00:00.000000000",
          "2022-07-16T00:00:00.000000000",
          "2022-07-17T00:00:00.000000000",
          "2022-07-18T00:00:00.000000000",
          "2022-07-19T00:00:00.000000000",
          "2022-07-20T00:00:00.000000000",
          "2022-07-21T00:00:00.000000000",
          "2022-07-22T00:00:00.000000000",
          "2022-07-23T00:00:00.000000000",
          "2022-07-24T00:00:00.000000000",
          "2022-07-25T00:00:00.000000000",
          "2022-07-26T00:00:00.000000000",
          "2022-07-27T00:00:00.000000000",
          "2022-07-28T00:00:00.000000000",
          "2022-07-29T00:00:00.000000000",
          "2022-07-30T00:00:00.000000000",
          "2022-07-31T00:00:00.000000000",
          "2022-08-01T00:00:00.000000000",
          "2022-08-02T00:00:00.000000000",
          "2022-08-03T00:00:00.000000000",
          "2022-08-04T00:00:00.000000000",
          "2022-08-05T00:00:00.000000000",
          "2022-08-06T00:00:00.000000000",
          "2022-08-07T00:00:00.000000000",
          "2022-08-08T00:00:00.000000000",
          "2022-08-09T00:00:00.000000000",
          "2022-08-10T00:00:00.000000000",
          "2022-08-11T00:00:00.000000000",
          "2022-08-12T00:00:00.000000000",
          "2022-08-13T00:00:00.000000000",
          "2022-08-14T00:00:00.000000000",
          "2022-08-15T00:00:00.000000000",
          "2022-08-16T00:00:00.000000000",
          "2022-08-17T00:00:00.000000000",
          "2022-08-18T00:00:00.000000000",
          "2022-08-19T00:00:00.000000000",
          "2022-08-20T00:00:00.000000000",
          "2022-08-21T00:00:00.000000000",
          "2022-08-22T00:00:00.000000000",
          "2022-08-23T00:00:00.000000000",
          "2022-08-24T00:00:00.000000000",
          "2022-08-25T00:00:00.000000000",
          "2022-08-26T00:00:00.000000000",
          "2022-08-27T00:00:00.000000000",
          "2022-08-28T00:00:00.000000000",
          "2022-08-29T00:00:00.000000000",
          "2022-08-30T00:00:00.000000000",
          "2022-08-31T00:00:00.000000000",
          "2022-09-01T00:00:00.000000000",
          "2022-09-02T00:00:00.000000000",
          "2022-09-03T00:00:00.000000000",
          "2022-09-04T00:00:00.000000000",
          "2022-09-05T00:00:00.000000000",
          "2022-09-06T00:00:00.000000000",
          "2022-09-07T00:00:00.000000000",
          "2022-09-08T00:00:00.000000000",
          "2022-09-09T00:00:00.000000000",
          "2022-09-10T00:00:00.000000000",
          "2022-09-11T00:00:00.000000000",
          "2022-09-12T00:00:00.000000000",
          "2022-09-13T00:00:00.000000000",
          "2022-09-14T00:00:00.000000000",
          "2022-09-15T00:00:00.000000000",
          "2022-09-16T00:00:00.000000000",
          "2022-09-17T00:00:00.000000000",
          "2022-09-18T00:00:00.000000000",
          "2022-09-19T00:00:00.000000000",
          "2022-09-20T00:00:00.000000000",
          "2022-09-21T00:00:00.000000000",
          "2022-09-22T00:00:00.000000000",
          "2022-09-23T00:00:00.000000000",
          "2022-09-24T00:00:00.000000000",
          "2022-09-25T00:00:00.000000000",
          "2022-09-26T00:00:00.000000000",
          "2022-09-27T00:00:00.000000000",
          "2022-09-28T00:00:00.000000000",
          "2022-09-29T00:00:00.000000000",
          "2022-09-30T00:00:00.000000000",
          "2022-10-01T00:00:00.000000000",
          "2022-10-02T00:00:00.000000000",
          "2022-10-03T00:00:00.000000000",
          "2022-10-04T00:00:00.000000000",
          "2022-10-05T00:00:00.000000000",
          "2022-10-06T00:00:00.000000000",
          "2022-10-07T00:00:00.000000000",
          "2022-10-08T00:00:00.000000000",
          "2022-10-09T00:00:00.000000000",
          "2022-10-10T00:00:00.000000000",
          "2022-10-11T00:00:00.000000000",
          "2022-10-12T00:00:00.000000000",
          "2022-10-13T00:00:00.000000000",
          "2022-10-14T00:00:00.000000000",
          "2022-10-15T00:00:00.000000000",
          "2022-10-16T00:00:00.000000000",
          "2022-10-17T00:00:00.000000000",
          "2022-10-18T00:00:00.000000000",
          "2022-10-19T00:00:00.000000000",
          "2022-10-20T00:00:00.000000000",
          "2022-10-21T00:00:00.000000000",
          "2022-10-22T00:00:00.000000000",
          "2022-10-23T00:00:00.000000000",
          "2022-10-24T00:00:00.000000000",
          "2022-10-25T00:00:00.000000000",
          "2022-10-26T00:00:00.000000000",
          "2022-10-27T00:00:00.000000000",
          "2022-10-28T00:00:00.000000000",
          "2022-10-29T00:00:00.000000000",
          "2022-10-30T00:00:00.000000000",
          "2022-10-31T00:00:00.000000000",
          "2022-11-01T00:00:00.000000000",
          "2022-11-02T00:00:00.000000000",
          "2022-11-03T00:00:00.000000000",
          "2022-11-04T00:00:00.000000000",
          "2022-11-05T00:00:00.000000000",
          "2022-11-06T00:00:00.000000000",
          "2022-11-07T00:00:00.000000000",
          "2022-11-08T00:00:00.000000000",
          "2022-11-09T00:00:00.000000000",
          "2022-11-10T00:00:00.000000000",
          "2022-11-11T00:00:00.000000000",
          "2022-11-12T00:00:00.000000000",
          "2022-11-13T00:00:00.000000000",
          "2022-11-14T00:00:00.000000000",
          "2022-11-15T00:00:00.000000000",
          "2022-11-16T00:00:00.000000000",
          "2022-11-17T00:00:00.000000000",
          "2022-11-18T00:00:00.000000000",
          "2022-11-19T00:00:00.000000000",
          "2022-11-20T00:00:00.000000000",
          "2022-11-21T00:00:00.000000000",
          "2022-11-22T00:00:00.000000000",
          "2022-11-23T00:00:00.000000000",
          "2022-11-24T00:00:00.000000000",
          "2022-11-25T00:00:00.000000000",
          "2022-11-26T00:00:00.000000000",
          "2022-11-27T00:00:00.000000000",
          "2022-11-28T00:00:00.000000000",
          "2022-11-29T00:00:00.000000000",
          "2022-11-30T00:00:00.000000000",
          "2022-12-01T00:00:00.000000000",
          "2022-12-02T00:00:00.000000000",
          "2022-12-03T00:00:00.000000000",
          "2022-12-04T00:00:00.000000000",
          "2022-12-05T00:00:00.000000000",
          "2022-12-06T00:00:00.000000000",
          "2022-12-07T00:00:00.000000000",
          "2022-12-08T00:00:00.000000000",
          "2022-12-09T00:00:00.000000000",
          "2022-12-10T00:00:00.000000000",
          "2022-12-11T00:00:00.000000000",
          "2022-12-12T00:00:00.000000000",
          "2022-12-13T00:00:00.000000000",
          "2022-12-14T00:00:00.000000000",
          "2022-12-15T00:00:00.000000000",
          "2022-12-16T00:00:00.000000000",
          "2022-12-17T00:00:00.000000000",
          "2022-12-18T00:00:00.000000000",
          "2022-12-19T00:00:00.000000000",
          "2022-12-20T00:00:00.000000000",
          "2022-12-21T00:00:00.000000000",
          "2022-12-22T00:00:00.000000000",
          "2022-12-23T00:00:00.000000000",
          "2022-12-24T00:00:00.000000000",
          "2022-12-25T00:00:00.000000000",
          "2022-12-26T00:00:00.000000000",
          "2022-12-27T00:00:00.000000000",
          "2022-12-28T00:00:00.000000000",
          "2022-12-29T00:00:00.000000000",
          "2022-12-30T00:00:00.000000000",
          "2022-12-31T00:00:00.000000000",
          "2023-01-01T00:00:00.000000000",
          "2023-01-02T00:00:00.000000000",
          "2023-01-03T00:00:00.000000000",
          "2023-01-04T00:00:00.000000000",
          "2023-01-05T00:00:00.000000000",
          "2023-01-06T00:00:00.000000000",
          "2023-01-07T00:00:00.000000000",
          "2023-01-08T00:00:00.000000000",
          "2023-01-09T00:00:00.000000000",
          "2023-01-10T00:00:00.000000000",
          "2023-01-11T00:00:00.000000000",
          "2023-01-12T00:00:00.000000000",
          "2023-01-13T00:00:00.000000000",
          "2023-01-14T00:00:00.000000000",
          "2023-01-15T00:00:00.000000000",
          "2023-01-16T00:00:00.000000000",
          "2023-01-17T00:00:00.000000000",
          "2023-01-18T00:00:00.000000000",
          "2023-01-19T00:00:00.000000000",
          "2023-01-20T00:00:00.000000000",
          "2023-01-21T00:00:00.000000000",
          "2023-01-22T00:00:00.000000000",
          "2023-01-23T00:00:00.000000000",
          "2023-01-24T00:00:00.000000000",
          "2023-01-25T00:00:00.000000000",
          "2023-01-26T00:00:00.000000000",
          "2023-01-27T00:00:00.000000000",
          "2023-01-28T00:00:00.000000000",
          "2023-01-29T00:00:00.000000000",
          "2023-01-30T00:00:00.000000000",
          "2023-01-31T00:00:00.000000000",
          "2023-02-01T00:00:00.000000000",
          "2023-02-02T00:00:00.000000000",
          "2023-02-03T00:00:00.000000000",
          "2023-02-04T00:00:00.000000000",
          "2023-02-05T00:00:00.000000000",
          "2023-02-06T00:00:00.000000000",
          "2023-02-07T00:00:00.000000000",
          "2023-02-08T00:00:00.000000000",
          "2023-02-09T00:00:00.000000000",
          "2023-02-10T00:00:00.000000000",
          "2023-02-11T00:00:00.000000000",
          "2023-02-12T00:00:00.000000000",
          "2023-02-13T00:00:00.000000000",
          "2023-02-14T00:00:00.000000000",
          "2023-02-15T00:00:00.000000000",
          "2023-02-16T00:00:00.000000000",
          "2023-02-17T00:00:00.000000000",
          "2023-02-18T00:00:00.000000000",
          "2023-02-19T00:00:00.000000000",
          "2023-02-20T00:00:00.000000000",
          "2023-02-21T00:00:00.000000000",
          "2023-02-22T00:00:00.000000000",
          "2023-02-23T00:00:00.000000000",
          "2023-02-24T00:00:00.000000000",
          "2023-02-25T00:00:00.000000000",
          "2023-02-26T00:00:00.000000000",
          "2023-02-27T00:00:00.000000000",
          "2023-02-28T00:00:00.000000000",
          "2023-03-01T00:00:00.000000000",
          "2023-03-02T00:00:00.000000000",
          "2023-03-03T00:00:00.000000000",
          "2023-03-04T00:00:00.000000000",
          "2023-03-05T00:00:00.000000000",
          "2023-03-06T00:00:00.000000000",
          "2023-03-07T00:00:00.000000000",
          "2023-03-08T00:00:00.000000000",
          "2023-03-09T00:00:00.000000000",
          "2023-03-10T00:00:00.000000000",
          "2023-03-11T00:00:00.000000000",
          "2023-03-12T00:00:00.000000000",
          "2023-03-13T00:00:00.000000000",
          "2023-03-14T00:00:00.000000000",
          "2023-03-15T00:00:00.000000000",
          "2023-03-16T00:00:00.000000000",
          "2023-03-17T00:00:00.000000000",
          "2023-03-18T00:00:00.000000000",
          "2023-03-19T00:00:00.000000000",
          "2023-03-20T00:00:00.000000000",
          "2023-03-21T00:00:00.000000000",
          "2023-03-22T00:00:00.000000000",
          "2023-03-23T00:00:00.000000000",
          "2023-03-24T00:00:00.000000000",
          "2023-03-25T00:00:00.000000000",
          "2023-03-26T00:00:00.000000000",
          "2023-03-27T00:00:00.000000000",
          "2023-03-28T00:00:00.000000000",
          "2023-03-29T00:00:00.000000000",
          "2023-03-30T00:00:00.000000000",
          "2023-03-31T00:00:00.000000000",
          "2023-04-01T00:00:00.000000000",
          "2023-04-02T00:00:00.000000000",
          "2023-04-03T00:00:00.000000000",
          "2023-04-04T00:00:00.000000000",
          "2023-04-05T00:00:00.000000000",
          "2023-04-06T00:00:00.000000000",
          "2023-04-07T00:00:00.000000000",
          "2023-04-08T00:00:00.000000000",
          "2023-04-09T00:00:00.000000000",
          "2023-04-10T00:00:00.000000000",
          "2023-04-11T00:00:00.000000000",
          "2023-04-12T00:00:00.000000000",
          "2023-04-13T00:00:00.000000000",
          "2023-04-14T00:00:00.000000000",
          "2023-04-15T00:00:00.000000000",
          "2023-04-16T00:00:00.000000000",
          "2023-04-17T00:00:00.000000000",
          "2023-04-18T00:00:00.000000000",
          "2023-04-19T00:00:00.000000000",
          "2023-04-20T00:00:00.000000000",
          "2023-04-21T00:00:00.000000000",
          "2023-04-22T00:00:00.000000000",
          "2023-04-23T00:00:00.000000000",
          "2023-04-24T00:00:00.000000000",
          "2023-04-25T00:00:00.000000000",
          "2023-04-26T00:00:00.000000000",
          "2023-04-27T00:00:00.000000000",
          "2023-04-28T00:00:00.000000000",
          "2023-04-29T00:00:00.000000000",
          "2023-04-30T00:00:00.000000000",
          "2023-05-01T00:00:00.000000000",
          "2023-05-02T00:00:00.000000000",
          "2023-05-03T00:00:00.000000000",
          "2023-05-04T00:00:00.000000000",
          "2023-05-05T00:00:00.000000000",
          "2023-05-06T00:00:00.000000000",
          "2023-05-07T00:00:00.000000000",
          "2023-05-08T00:00:00.000000000",
          "2023-05-09T00:00:00.000000000",
          "2023-05-10T00:00:00.000000000",
          "2023-05-11T00:00:00.000000000",
          "2023-05-12T00:00:00.000000000",
          "2023-05-13T00:00:00.000000000",
          "2023-05-14T00:00:00.000000000",
          "2023-05-15T00:00:00.000000000",
          "2023-05-16T00:00:00.000000000",
          "2023-05-17T00:00:00.000000000",
          "2023-05-18T00:00:00.000000000",
          "2023-05-19T00:00:00.000000000",
          "2023-05-20T00:00:00.000000000",
          "2023-05-21T00:00:00.000000000",
          "2023-05-22T00:00:00.000000000",
          "2023-05-23T00:00:00.000000000",
          "2023-05-24T00:00:00.000000000",
          "2023-05-25T00:00:00.000000000",
          "2023-05-26T00:00:00.000000000",
          "2023-05-27T00:00:00.000000000",
          "2023-05-28T00:00:00.000000000",
          "2023-05-29T00:00:00.000000000",
          "2023-05-30T00:00:00.000000000",
          "2023-05-31T00:00:00.000000000",
          "2023-06-01T00:00:00.000000000",
          "2023-06-02T00:00:00.000000000",
          "2023-06-03T00:00:00.000000000",
          "2023-06-04T00:00:00.000000000",
          "2023-06-05T00:00:00.000000000",
          "2023-06-06T00:00:00.000000000",
          "2023-06-07T00:00:00.000000000",
          "2023-06-08T00:00:00.000000000",
          "2023-06-09T00:00:00.000000000",
          "2023-06-10T00:00:00.000000000",
          "2023-06-11T00:00:00.000000000",
          "2023-06-12T00:00:00.000000000",
          "2023-06-13T00:00:00.000000000",
          "2023-06-14T00:00:00.000000000",
          "2023-06-15T00:00:00.000000000",
          "2023-06-16T00:00:00.000000000",
          "2023-06-17T00:00:00.000000000",
          "2023-06-18T00:00:00.000000000",
          "2023-06-19T00:00:00.000000000",
          "2023-06-20T00:00:00.000000000",
          "2023-06-21T00:00:00.000000000",
          "2023-06-22T00:00:00.000000000",
          "2023-06-23T00:00:00.000000000",
          "2023-06-24T00:00:00.000000000",
          "2023-06-25T00:00:00.000000000",
          "2023-06-26T00:00:00.000000000",
          "2023-06-27T00:00:00.000000000",
          "2023-06-28T00:00:00.000000000",
          "2023-06-29T00:00:00.000000000",
          "2023-06-30T00:00:00.000000000",
          "2023-07-01T00:00:00.000000000",
          "2023-07-02T00:00:00.000000000",
          "2023-07-03T00:00:00.000000000",
          "2023-07-04T00:00:00.000000000",
          "2023-07-05T00:00:00.000000000",
          "2023-07-06T00:00:00.000000000",
          "2023-07-07T00:00:00.000000000",
          "2023-07-08T00:00:00.000000000",
          "2023-07-09T00:00:00.000000000",
          "2023-07-10T00:00:00.000000000",
          "2023-07-11T00:00:00.000000000",
          "2023-07-12T00:00:00.000000000",
          "2023-07-13T00:00:00.000000000",
          "2023-07-14T00:00:00.000000000",
          "2023-07-15T00:00:00.000000000",
          "2023-07-16T00:00:00.000000000",
          "2023-07-17T00:00:00.000000000",
          "2023-07-18T00:00:00.000000000",
          "2023-07-19T00:00:00.000000000",
          "2023-07-20T00:00:00.000000000",
          "2023-07-21T00:00:00.000000000",
          "2023-07-22T00:00:00.000000000",
          "2023-07-23T00:00:00.000000000",
          "2023-07-24T00:00:00.000000000",
          "2023-07-25T00:00:00.000000000",
          "2023-07-26T00:00:00.000000000",
          "2023-07-27T00:00:00.000000000",
          "2023-07-28T00:00:00.000000000",
          "2023-07-29T00:00:00.000000000",
          "2023-07-30T00:00:00.000000000",
          "2023-07-31T00:00:00.000000000",
          "2023-08-01T00:00:00.000000000",
          "2023-08-02T00:00:00.000000000",
          "2023-08-03T00:00:00.000000000",
          "2023-08-04T00:00:00.000000000",
          "2023-08-05T00:00:00.000000000",
          "2023-08-06T00:00:00.000000000",
          "2023-08-07T00:00:00.000000000",
          "2023-08-08T00:00:00.000000000",
          "2023-08-09T00:00:00.000000000",
          "2023-08-10T00:00:00.000000000",
          "2023-08-11T00:00:00.000000000",
          "2023-08-12T00:00:00.000000000",
          "2023-08-13T00:00:00.000000000",
          "2023-08-14T00:00:00.000000000",
          "2023-08-15T00:00:00.000000000",
          "2023-08-16T00:00:00.000000000",
          "2023-08-17T00:00:00.000000000",
          "2023-08-18T00:00:00.000000000",
          "2023-08-19T00:00:00.000000000",
          "2023-08-20T00:00:00.000000000",
          "2023-08-21T00:00:00.000000000",
          "2023-08-22T00:00:00.000000000",
          "2023-08-23T00:00:00.000000000",
          "2023-08-24T00:00:00.000000000",
          "2023-08-25T00:00:00.000000000",
          "2023-08-26T00:00:00.000000000",
          "2023-08-27T00:00:00.000000000",
          "2023-08-28T00:00:00.000000000",
          "2023-08-29T00:00:00.000000000",
          "2023-08-30T00:00:00.000000000",
          "2023-08-31T00:00:00.000000000",
          "2023-09-01T00:00:00.000000000",
          "2023-09-02T00:00:00.000000000",
          "2023-09-03T00:00:00.000000000",
          "2023-09-04T00:00:00.000000000",
          "2023-09-05T00:00:00.000000000",
          "2023-09-06T00:00:00.000000000",
          "2023-09-07T00:00:00.000000000",
          "2023-09-08T00:00:00.000000000",
          "2023-09-09T00:00:00.000000000",
          "2023-09-10T00:00:00.000000000",
          "2023-09-11T00:00:00.000000000",
          "2023-09-12T00:00:00.000000000",
          "2023-09-13T00:00:00.000000000",
          "2023-09-14T00:00:00.000000000",
          "2023-09-15T00:00:00.000000000",
          "2023-09-16T00:00:00.000000000",
          "2023-09-17T00:00:00.000000000",
          "2023-09-18T00:00:00.000000000",
          "2023-09-19T00:00:00.000000000",
          "2023-09-20T00:00:00.000000000",
          "2023-09-21T00:00:00.000000000",
          "2023-09-22T00:00:00.000000000",
          "2023-09-23T00:00:00.000000000",
          "2023-09-24T00:00:00.000000000",
          "2023-09-25T00:00:00.000000000",
          "2023-09-26T00:00:00.000000000",
          "2023-09-27T00:00:00.000000000",
          "2023-09-28T00:00:00.000000000",
          "2023-09-29T00:00:00.000000000",
          "2023-09-30T00:00:00.000000000",
          "2023-10-01T00:00:00.000000000",
          "2023-10-02T00:00:00.000000000",
          "2023-10-03T00:00:00.000000000",
          "2023-10-04T00:00:00.000000000",
          "2023-10-05T00:00:00.000000000",
          "2023-10-06T00:00:00.000000000",
          "2023-10-07T00:00:00.000000000",
          "2023-10-08T00:00:00.000000000",
          "2023-10-09T00:00:00.000000000",
          "2023-10-10T00:00:00.000000000",
          "2023-10-11T00:00:00.000000000",
          "2023-10-12T00:00:00.000000000",
          "2023-10-13T00:00:00.000000000",
          "2023-10-14T00:00:00.000000000",
          "2023-10-15T00:00:00.000000000",
          "2023-10-16T00:00:00.000000000",
          "2023-10-17T00:00:00.000000000",
          "2023-10-18T00:00:00.000000000",
          "2023-10-19T00:00:00.000000000",
          "2023-10-20T00:00:00.000000000",
          "2023-10-21T00:00:00.000000000",
          "2023-10-22T00:00:00.000000000",
          "2023-10-23T00:00:00.000000000",
          "2023-10-24T00:00:00.000000000",
          "2023-10-25T00:00:00.000000000",
          "2023-10-26T00:00:00.000000000",
          "2023-10-27T00:00:00.000000000",
          "2023-10-28T00:00:00.000000000",
          "2023-10-29T00:00:00.000000000",
          "2023-10-30T00:00:00.000000000",
          "2023-10-31T00:00:00.000000000",
          "2023-11-01T00:00:00.000000000",
          "2023-11-02T00:00:00.000000000",
          "2023-11-03T00:00:00.000000000",
          "2023-11-04T00:00:00.000000000",
          "2023-11-05T00:00:00.000000000",
          "2023-11-06T00:00:00.000000000",
          "2023-11-07T00:00:00.000000000",
          "2023-11-08T00:00:00.000000000",
          "2023-11-09T00:00:00.000000000",
          "2023-11-10T00:00:00.000000000",
          "2023-11-11T00:00:00.000000000",
          "2023-11-12T00:00:00.000000000",
          "2023-11-13T00:00:00.000000000",
          "2023-11-14T00:00:00.000000000",
          "2023-11-15T00:00:00.000000000",
          "2023-11-16T00:00:00.000000000",
          "2023-11-17T00:00:00.000000000",
          "2023-11-18T00:00:00.000000000",
          "2023-11-19T00:00:00.000000000",
          "2023-11-20T00:00:00.000000000",
          "2023-11-21T00:00:00.000000000",
          "2023-11-22T00:00:00.000000000",
          "2023-11-23T00:00:00.000000000",
          "2023-11-24T00:00:00.000000000",
          "2023-11-25T00:00:00.000000000",
          "2023-11-26T00:00:00.000000000",
          "2023-11-27T00:00:00.000000000",
          "2023-11-28T00:00:00.000000000",
          "2023-11-29T00:00:00.000000000",
          "2023-11-30T00:00:00.000000000",
          "2023-12-01T00:00:00.000000000",
          "2023-12-02T00:00:00.000000000",
          "2023-12-03T00:00:00.000000000",
          "2023-12-04T00:00:00.000000000",
          "2023-12-05T00:00:00.000000000",
          "2023-12-06T00:00:00.000000000",
          "2023-12-07T00:00:00.000000000",
          "2023-12-08T00:00:00.000000000",
          "2023-12-09T00:00:00.000000000",
          "2023-12-10T00:00:00.000000000",
          "2023-12-11T00:00:00.000000000",
          "2023-12-12T00:00:00.000000000",
          "2023-12-13T00:00:00.000000000",
          "2023-12-14T00:00:00.000000000",
          "2023-12-15T00:00:00.000000000",
          "2023-12-16T00:00:00.000000000",
          "2023-12-17T00:00:00.000000000",
          "2023-12-18T00:00:00.000000000",
          "2023-12-19T00:00:00.000000000",
          "2023-12-20T00:00:00.000000000",
          "2023-12-21T00:00:00.000000000",
          "2023-12-22T00:00:00.000000000",
          "2023-12-23T00:00:00.000000000",
          "2023-12-24T00:00:00.000000000",
          "2023-12-25T00:00:00.000000000",
          "2023-12-26T00:00:00.000000000",
          "2023-12-27T00:00:00.000000000",
          "2023-12-28T00:00:00.000000000",
          "2023-12-29T00:00:00.000000000",
          "2023-12-30T00:00:00.000000000",
          "2023-12-31T00:00:00.000000000",
          "2024-01-01T00:00:00.000000000",
          "2024-01-02T00:00:00.000000000",
          "2024-01-03T00:00:00.000000000",
          "2024-01-04T00:00:00.000000000",
          "2024-01-05T00:00:00.000000000",
          "2024-01-06T00:00:00.000000000",
          "2024-01-07T00:00:00.000000000",
          "2024-01-08T00:00:00.000000000",
          "2024-01-09T00:00:00.000000000",
          "2024-01-10T00:00:00.000000000",
          "2024-01-11T00:00:00.000000000",
          "2024-01-12T00:00:00.000000000",
          "2024-01-13T00:00:00.000000000",
          "2024-01-14T00:00:00.000000000",
          "2024-01-15T00:00:00.000000000",
          "2024-01-16T00:00:00.000000000",
          "2024-01-17T00:00:00.000000000",
          "2024-01-18T00:00:00.000000000",
          "2024-01-19T00:00:00.000000000",
          "2024-01-20T00:00:00.000000000",
          "2024-01-21T00:00:00.000000000",
          "2024-01-22T00:00:00.000000000",
          "2024-01-23T00:00:00.000000000",
          "2024-01-24T00:00:00.000000000",
          "2024-01-25T00:00:00.000000000",
          "2024-01-26T00:00:00.000000000",
          "2024-01-27T00:00:00.000000000",
          "2024-01-28T00:00:00.000000000",
          "2024-01-29T00:00:00.000000000",
          "2024-01-30T00:00:00.000000000",
          "2024-01-31T00:00:00.000000000",
          "2024-02-01T00:00:00.000000000",
          "2024-02-02T00:00:00.000000000",
          "2024-02-03T00:00:00.000000000",
          "2024-02-04T00:00:00.000000000",
          "2024-02-05T00:00:00.000000000",
          "2024-02-06T00:00:00.000000000",
          "2024-02-07T00:00:00.000000000",
          "2024-02-08T00:00:00.000000000",
          "2024-02-09T00:00:00.000000000",
          "2024-02-10T00:00:00.000000000",
          "2024-02-11T00:00:00.000000000",
          "2024-02-12T00:00:00.000000000",
          "2024-02-13T00:00:00.000000000",
          "2024-02-14T00:00:00.000000000",
          "2024-02-15T00:00:00.000000000",
          "2024-02-16T00:00:00.000000000",
          "2024-02-17T00:00:00.000000000",
          "2024-02-18T00:00:00.000000000",
          "2024-02-19T00:00:00.000000000",
          "2024-02-20T00:00:00.000000000",
          "2024-02-21T00:00:00.000000000",
          "2024-02-22T00:00:00.000000000",
          "2024-02-23T00:00:00.000000000",
          "2024-02-24T00:00:00.000000000",
          "2024-02-25T00:00:00.000000000",
          "2024-02-26T00:00:00.000000000",
          "2024-02-27T00:00:00.000000000",
          "2024-02-28T00:00:00.000000000",
          "2024-02-29T00:00:00.000000000"
         ],
         "xaxis": "x",
         "y": {
          "bdata": "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",
          "dtype": "f8"
         },
         "yaxis": "y"
        }
       ],
       "layout": {
        "height": 350,
        "legend": {
         "tracegroupgap": 0
        },
        "template": {
         "data": {
          "bar": [
           {
            "error_x": {
             "color": "#2a3f5f"
            },
            "error_y": {
             "color": "#2a3f5f"
            },
            "marker": {
             "line": {
              "color": "#E5ECF6",
              "width": 0.5
             },
             "pattern": {
              "fillmode": "overlay",
              "size": 10,
              "solidity": 0.2
             }
            },
            "type": "bar"
           }
          ],
          "barpolar": [
           {
            "marker": {
             "line": {
              "color": "#E5ECF6",
              "width": 0.5
             },
             "pattern": {
              "fillmode": "overlay",
              "size": 10,
              "solidity": 0.2
             }
            },
            "type": "barpolar"
           }
          ],
          "carpet": [
           {
            "aaxis": {
             "endlinecolor": "#2a3f5f",
             "gridcolor": "white",
             "linecolor": "white",
             "minorgridcolor": "white",
             "startlinecolor": "#2a3f5f"
            },
            "baxis": {
             "endlinecolor": "#2a3f5f",
             "gridcolor": "white",
             "linecolor": "white",
             "minorgridcolor": "white",
             "startlinecolor": "#2a3f5f"
            },
            "type": "carpet"
           }
          ],
          "choropleth": [
           {
            "colorbar": {
             "outlinewidth": 0,
             "ticks": ""
            },
            "type": "choropleth"
           }
          ],
          "contour": [
           {
            "colorbar": {
             "outlinewidth": 0,
             "ticks": ""
            },
            "colorscale": [
             [
              0,
              "#0d0887"
             ],
             [
              0.1111111111111111,
              "#46039f"
             ],
             [
              0.2222222222222222,
              "#7201a8"
             ],
             [
              0.3333333333333333,
              "#9c179e"
             ],
             [
              0.4444444444444444,
              "#bd3786"
             ],
             [
              0.5555555555555556,
              "#d8576b"
             ],
             [
              0.6666666666666666,
              "#ed7953"
             ],
             [
              0.7777777777777778,
              "#fb9f3a"
             ],
             [
              0.8888888888888888,
              "#fdca26"
             ],
             [
              1,
              "#f0f921"
             ]
            ],
            "type": "contour"
           }
          ],
          "contourcarpet": [
           {
            "colorbar": {
             "outlinewidth": 0,
             "ticks": ""
            },
            "type": "contourcarpet"
           }
          ],
          "heatmap": [
           {
            "colorbar": {
             "outlinewidth": 0,
             "ticks": ""
            },
            "colorscale": [
             [
              0,
              "#0d0887"
             ],
             [
              0.1111111111111111,
              "#46039f"
             ],
             [
              0.2222222222222222,
              "#7201a8"
             ],
             [
              0.3333333333333333,
              "#9c179e"
             ],
             [
              0.4444444444444444,
              "#bd3786"
             ],
             [
              0.5555555555555556,
              "#d8576b"
             ],
             [
              0.6666666666666666,
              "#ed7953"
             ],
             [
              0.7777777777777778,
              "#fb9f3a"
             ],
             [
              0.8888888888888888,
              "#fdca26"
             ],
             [
              1,
              "#f0f921"
             ]
            ],
            "type": "heatmap"
           }
          ],
          "histogram": [
           {
            "marker": {
             "pattern": {
              "fillmode": "overlay",
              "size": 10,
              "solidity": 0.2
             }
            },
            "type": "histogram"
           }
          ],
          "histogram2d": [
           {
            "colorbar": {
             "outlinewidth": 0,
             "ticks": ""
            },
            "colorscale": [
             [
              0,
              "#0d0887"
             ],
             [
              0.1111111111111111,
              "#46039f"
             ],
             [
              0.2222222222222222,
              "#7201a8"
             ],
             [
              0.3333333333333333,
              "#9c179e"
             ],
             [
              0.4444444444444444,
              "#bd3786"
             ],
             [
              0.5555555555555556,
              "#d8576b"
             ],
             [
              0.6666666666666666,
              "#ed7953"
             ],
             [
              0.7777777777777778,
              "#fb9f3a"
             ],
             [
              0.8888888888888888,
              "#fdca26"
             ],
             [
              1,
              "#f0f921"
             ]
            ],
            "type": "histogram2d"
           }
          ],
          "histogram2dcontour": [
           {
            "colorbar": {
             "outlinewidth": 0,
             "ticks": ""
            },
            "colorscale": [
             [
              0,
              "#0d0887"
             ],
             [
              0.1111111111111111,
              "#46039f"
             ],
             [
              0.2222222222222222,
              "#7201a8"
             ],
             [
              0.3333333333333333,
              "#9c179e"
             ],
             [
              0.4444444444444444,
              "#bd3786"
             ],
             [
              0.5555555555555556,
              "#d8576b"
             ],
             [
              0.6666666666666666,
              "#ed7953"
             ],
             [
              0.7777777777777778,
              "#fb9f3a"
             ],
             [
              0.8888888888888888,
              "#fdca26"
             ],
             [
              1,
              "#f0f921"
             ]
            ],
            "type": "histogram2dcontour"
           }
          ],
          "mesh3d": [
           {
            "colorbar": {
             "outlinewidth": 0,
             "ticks": ""
            },
            "type": "mesh3d"
           }
          ],
          "parcoords": [
           {
            "line": {
             "colorbar": {
              "outlinewidth": 0,
              "ticks": ""
             }
            },
            "type": "parcoords"
           }
          ],
          "pie": [
           {
            "automargin": true,
            "type": "pie"
           }
          ],
          "scatter": [
           {
            "fillpattern": {
             "fillmode": "overlay",
             "size": 10,
             "solidity": 0.2
            },
            "type": "scatter"
           }
          ],
          "scatter3d": [
           {
            "line": {
             "colorbar": {
              "outlinewidth": 0,
              "ticks": ""
             }
            },
            "marker": {
             "colorbar": {
              "outlinewidth": 0,
              "ticks": ""
             }
            },
            "type": "scatter3d"
           }
          ],
          "scattercarpet": [
           {
            "marker": {
             "colorbar": {
              "outlinewidth": 0,
              "ticks": ""
             }
            },
            "type": "scattercarpet"
           }
          ],
          "scattergeo": [
           {
            "marker": {
             "colorbar": {
              "outlinewidth": 0,
              "ticks": ""
             }
            },
            "type": "scattergeo"
           }
          ],
          "scattergl": [
           {
            "marker": {
             "colorbar": {
              "outlinewidth": 0,
              "ticks": ""
             }
            },
            "type": "scattergl"
           }
          ],
          "scattermap": [
           {
            "marker": {
             "colorbar": {
              "outlinewidth": 0,
              "ticks": ""
             }
            },
            "type": "scattermap"
           }
          ],
          "scattermapbox": [
           {
            "marker": {
             "colorbar": {
              "outlinewidth": 0,
              "ticks": ""
             }
            },
            "type": "scattermapbox"
           }
          ],
          "scatterpolar": [
           {
            "marker": {
             "colorbar": {
              "outlinewidth": 0,
              "ticks": ""
             }
            },
            "type": "scatterpolar"
           }
          ],
          "scatterpolargl": [
           {
            "marker": {
             "colorbar": {
              "outlinewidth": 0,
              "ticks": ""
             }
            },
            "type": "scatterpolargl"
           }
          ],
          "scatterternary": [
           {
            "marker": {
             "colorbar": {
              "outlinewidth": 0,
              "ticks": ""
             }
            },
            "type": "scatterternary"
           }
          ],
          "surface": [
           {
            "colorbar": {
             "outlinewidth": 0,
             "ticks": ""
            },
            "colorscale": [
             [
              0,
              "#0d0887"
             ],
             [
              0.1111111111111111,
              "#46039f"
             ],
             [
              0.2222222222222222,
              "#7201a8"
             ],
             [
              0.3333333333333333,
              "#9c179e"
             ],
             [
              0.4444444444444444,
              "#bd3786"
             ],
             [
              0.5555555555555556,
              "#d8576b"
             ],
             [
              0.6666666666666666,
              "#ed7953"
             ],
             [
              0.7777777777777778,
              "#fb9f3a"
             ],
             [
              0.8888888888888888,
              "#fdca26"
             ],
             [
              1,
              "#f0f921"
             ]
            ],
            "type": "surface"
           }
          ],
          "table": [
           {
            "cells": {
             "fill": {
              "color": "#EBF0F8"
             },
             "line": {
              "color": "white"
             }
            },
            "header": {
             "fill": {
              "color": "#C8D4E3"
             },
             "line": {
              "color": "white"
             }
            },
            "type": "table"
           }
          ]
         },
         "layout": {
          "annotationdefaults": {
           "arrowcolor": "#2a3f5f",
           "arrowhead": 0,
           "arrowwidth": 1
          },
          "autotypenumbers": "strict",
          "coloraxis": {
           "colorbar": {
            "outlinewidth": 0,
            "ticks": ""
           }
          },
          "colorscale": {
           "diverging": [
            [
             0,
             "#8e0152"
            ],
            [
             0.1,
             "#c51b7d"
            ],
            [
             0.2,
             "#de77ae"
            ],
            [
             0.3,
             "#f1b6da"
            ],
            [
             0.4,
             "#fde0ef"
            ],
            [
             0.5,
             "#f7f7f7"
            ],
            [
             0.6,
             "#e6f5d0"
            ],
            [
             0.7,
             "#b8e186"
            ],
            [
             0.8,
             "#7fbc41"
            ],
            [
             0.9,
             "#4d9221"
            ],
            [
             1,
             "#276419"
            ]
           ],
           "sequential": [
            [
             0,
             "#0d0887"
            ],
            [
             0.1111111111111111,
             "#46039f"
            ],
            [
             0.2222222222222222,
             "#7201a8"
            ],
            [
             0.3333333333333333,
             "#9c179e"
            ],
            [
             0.4444444444444444,
             "#bd3786"
            ],
            [
             0.5555555555555556,
             "#d8576b"
            ],
            [
             0.6666666666666666,
             "#ed7953"
            ],
            [
             0.7777777777777778,
             "#fb9f3a"
            ],
            [
             0.8888888888888888,
             "#fdca26"
            ],
            [
             1,
             "#f0f921"
            ]
           ],
           "sequentialminus": [
            [
             0,
             "#0d0887"
            ],
            [
             0.1111111111111111,
             "#46039f"
            ],
            [
             0.2222222222222222,
             "#7201a8"
            ],
            [
             0.3333333333333333,
             "#9c179e"
            ],
            [
             0.4444444444444444,
             "#bd3786"
            ],
            [
             0.5555555555555556,
             "#d8576b"
            ],
            [
             0.6666666666666666,
             "#ed7953"
            ],
            [
             0.7777777777777778,
             "#fb9f3a"
            ],
            [
             0.8888888888888888,
             "#fdca26"
            ],
            [
             1,
             "#f0f921"
            ]
           ]
          },
          "colorway": [
           "#636efa",
           "#EF553B",
           "#00cc96",
           "#ab63fa",
           "#FFA15A",
           "#19d3f3",
           "#FF6692",
           "#B6E880",
           "#FF97FF",
           "#FECB52"
          ],
          "font": {
           "color": "#2a3f5f"
          },
          "geo": {
           "bgcolor": "white",
           "lakecolor": "white",
           "landcolor": "#E5ECF6",
           "showlakes": true,
           "showland": true,
           "subunitcolor": "white"
          },
          "hoverlabel": {
           "align": "left"
          },
          "hovermode": "closest",
          "mapbox": {
           "style": "light"
          },
          "paper_bgcolor": "white",
          "plot_bgcolor": "#E5ECF6",
          "polar": {
           "angularaxis": {
            "gridcolor": "white",
            "linecolor": "white",
            "ticks": ""
           },
           "bgcolor": "#E5ECF6",
           "radialaxis": {
            "gridcolor": "white",
            "linecolor": "white",
            "ticks": ""
           }
          },
          "scene": {
           "xaxis": {
            "backgroundcolor": "#E5ECF6",
            "gridcolor": "white",
            "gridwidth": 2,
            "linecolor": "white",
            "showbackground": true,
            "ticks": "",
            "zerolinecolor": "white"
           },
           "yaxis": {
            "backgroundcolor": "#E5ECF6",
            "gridcolor": "white",
            "gridwidth": 2,
            "linecolor": "white",
            "showbackground": true,
            "ticks": "",
            "zerolinecolor": "white"
           },
           "zaxis": {
            "backgroundcolor": "#E5ECF6",
            "gridcolor": "white",
            "gridwidth": 2,
            "linecolor": "white",
            "showbackground": true,
            "ticks": "",
            "zerolinecolor": "white"
           }
          },
          "shapedefaults": {
           "line": {
            "color": "#2a3f5f"
           }
          },
          "ternary": {
           "aaxis": {
            "gridcolor": "white",
            "linecolor": "white",
            "ticks": ""
           },
           "baxis": {
            "gridcolor": "white",
            "linecolor": "white",
            "ticks": ""
           },
           "bgcolor": "#E5ECF6",
           "caxis": {
            "gridcolor": "white",
            "linecolor": "white",
            "ticks": ""
           }
          },
          "title": {
           "x": 0.05
          },
          "xaxis": {
           "automargin": true,
           "gridcolor": "white",
           "linecolor": "white",
           "ticks": "",
           "title": {
            "standoff": 15
           },
           "zerolinecolor": "white",
           "zerolinewidth": 2
          },
          "yaxis": {
           "automargin": true,
           "gridcolor": "white",
           "linecolor": "white",
           "ticks": "",
           "title": {
            "standoff": 15
           },
           "zerolinecolor": "white",
           "zerolinewidth": 2
          }
         }
        },
        "title": {
         "text": "Contagem corrigida – count_3"
        },
        "width": 1900,
        "xaxis": {
         "anchor": "y",
         "domain": [
          0,
          1
         ],
         "title": {
          "text": "detected"
         }
        },
        "yaxis": {
         "anchor": "x",
         "domain": [
          0,
          1
         ],
         "title": {
          "text": "Contagem"
         }
        }
       }
      }
     },
     "metadata": {},
     "output_type": "display_data"
    }
   ],
   "source": [
    "df_corrigido_final = pd.concat(resultados_corrigidos)\n",
    "df_corrigido_final = df_corrigido_final[~df_corrigido_final.index.duplicated(keep='last')]\n",
    "\n",
    "fig = px.line(\n",
    "    df_corrigido_final, \n",
    "    y=contador_id, \n",
    "    title=f\"Contagem corrigida – {contador_id}\",\n",
    "    labels={\"index\": \"Data\", contador_id: \"Contagem\"},\n",
    ")\n",
    "\n",
    "fig.update_layout(width=1900, height=350)\n",
    "fig.show()"
   ]
  }
 ],
 "metadata": {
  "kernelspec": {
   "display_name": "Python 3",
   "language": "python",
   "name": "python3"
  },
  "language_info": {
   "codemirror_mode": {
    "name": "ipython",
    "version": 3
   },
   "file_extension": ".py",
   "mimetype": "text/x-python",
   "name": "python",
   "nbconvert_exporter": "python",
   "pygments_lexer": "ipython3",
   "version": "3.12.8"
  }
 },
 "nbformat": 4,
 "nbformat_minor": 5
}
