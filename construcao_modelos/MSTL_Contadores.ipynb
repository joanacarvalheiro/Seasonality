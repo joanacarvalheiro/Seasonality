{
 "cells": [
  {
   "cell_type": "markdown",
   "id": "2a52da27",
   "metadata": {},
   "source": [
    "# Importações"
   ]
  },
  {
   "cell_type": "code",
   "execution_count": 93,
   "id": "eefbe3c3",
   "metadata": {},
   "outputs": [],
   "source": [
    "import pandas as pd \n",
    "import numpy as np\n",
    "import matplotlib.pyplot as plt\n",
    "from matplotlib.offsetbox import AnchoredText\n",
    "import plotly.express as px\n",
    "from sqlalchemy import create_engine\n",
    "from statsmodels.tsa.seasonal import STL\n",
    "from statsforecast import StatsForecast\n",
    "from statsforecast.models import MSTL, AutoARIMA\n",
    "from utilsforecast.plotting import plot_series\n",
    "from datetime import date, timedelta\n",
    "import calendar\n",
    "from coreforecast.scalers import boxcox_lambda, boxcox, inv_boxcox\n",
    "from scipy.stats import entropy\n",
    "import os\n",
    "import glob\n",
    "import pickle"
   ]
  },
  {
   "cell_type": "markdown",
   "id": "339b530c",
   "metadata": {},
   "source": [
    "# Conexão"
   ]
  },
  {
   "cell_type": "code",
   "execution_count": 67,
   "id": "7daf1c9e",
   "metadata": {},
   "outputs": [
    {
     "name": "stdout",
     "output_type": "stream",
     "text": [
      "<class 'pandas.core.frame.DataFrame'>\n",
      "DatetimeIndex: 943 entries, 2021-08-01 to 2024-02-29\n",
      "Data columns (total 62 columns):\n",
      " #   Column        Non-Null Count  Dtype\n",
      "---  ------        --------------  -----\n",
      " 0   direction_2   943 non-null    int32\n",
      " 1   count_2       943 non-null    int32\n",
      " 2   direction_3   943 non-null    int32\n",
      " 3   count_3       943 non-null    int32\n",
      " 4   direction_4   943 non-null    int32\n",
      " 5   count_4       943 non-null    int32\n",
      " 6   direction_5   943 non-null    int32\n",
      " 7   count_5       943 non-null    int32\n",
      " 8   direction_6   943 non-null    int32\n",
      " 9   count_6       943 non-null    int32\n",
      " 10  direction_7   943 non-null    int32\n",
      " 11  count_7       943 non-null    int32\n",
      " 12  direction_8   943 non-null    int32\n",
      " 13  count_8       943 non-null    int32\n",
      " 14  direction_9   943 non-null    int32\n",
      " 15  count_9       943 non-null    int32\n",
      " 16  direction_10  943 non-null    int32\n",
      " 17  count_10      943 non-null    int32\n",
      " 18  direction_11  943 non-null    int32\n",
      " 19  count_11      943 non-null    int32\n",
      " 20  direction_12  943 non-null    int32\n",
      " 21  count_12      943 non-null    int32\n",
      " 22  direction_13  943 non-null    int32\n",
      " 23  count_13      943 non-null    int32\n",
      " 24  direction_14  943 non-null    int32\n",
      " 25  count_14      943 non-null    int32\n",
      " 26  direction_15  943 non-null    int32\n",
      " 27  count_15      943 non-null    int32\n",
      " 28  direction_16  943 non-null    int32\n",
      " 29  count_16      943 non-null    int32\n",
      " 30  direction_17  943 non-null    int32\n",
      " 31  count_17      943 non-null    int32\n",
      " 32  direction_19  943 non-null    int32\n",
      " 33  count_19      943 non-null    int32\n",
      " 34  direction_20  943 non-null    int32\n",
      " 35  count_20      943 non-null    int32\n",
      " 36  direction_21  943 non-null    int32\n",
      " 37  count_21      943 non-null    int32\n",
      " 38  direction_22  943 non-null    int32\n",
      " 39  count_22      943 non-null    int32\n",
      " 40  direction_24  943 non-null    int32\n",
      " 41  count_24      943 non-null    int32\n",
      " 42  direction_25  943 non-null    int32\n",
      " 43  count_25      943 non-null    int32\n",
      " 44  direction_26  943 non-null    int32\n",
      " 45  count_26      943 non-null    int32\n",
      " 46  direction_28  943 non-null    int32\n",
      " 47  count_28      943 non-null    int32\n",
      " 48  direction_29  943 non-null    int32\n",
      " 49  count_29      943 non-null    int32\n",
      " 50  direction_30  943 non-null    int32\n",
      " 51  count_30      943 non-null    int32\n",
      " 52  direction_31  943 non-null    int32\n",
      " 53  count_31      943 non-null    int32\n",
      " 54  direction_32  943 non-null    int32\n",
      " 55  count_32      943 non-null    int32\n",
      " 56  direction_33  943 non-null    int32\n",
      " 57  count_33      943 non-null    int32\n",
      " 58  direction_34  943 non-null    int32\n",
      " 59  count_34      943 non-null    int32\n",
      " 60  direction_35  943 non-null    int32\n",
      " 61  count_35      943 non-null    int32\n",
      "dtypes: int32(62)\n",
      "memory usage: 235.8 KB\n"
     ]
    }
   ],
   "source": [
    "df_daily_filled = pd.read_csv('../df_daily_filled.csv', parse_dates=['detected'], dtype='int32')\n",
    "df_daily_filled = df_daily_filled.set_index('detected')\n",
    "df_daily_filled.info()"
   ]
  },
  {
   "cell_type": "code",
   "execution_count": 68,
   "id": "9ffb6767",
   "metadata": {},
   "outputs": [
    {
     "name": "stdout",
     "output_type": "stream",
     "text": [
      "<class 'pandas.core.frame.DataFrame'>\n",
      "RangeIndex: 31 entries, 0 to 30\n",
      "Data columns (total 9 columns):\n",
      " #   Column             Non-Null Count  Dtype  \n",
      "---  ------             --------------  -----  \n",
      " 0   locationId         31 non-null     int64  \n",
      " 1   tenantIdentifier   31 non-null     object \n",
      " 2   name               31 non-null     object \n",
      " 3   cp7                31 non-null     object \n",
      " 4   freguesia          31 non-null     object \n",
      " 5   directionPositive  0 non-null      float64\n",
      " 6   directionNegative  0 non-null      float64\n",
      " 7   latitude           31 non-null     float64\n",
      " 8   longitude          31 non-null     float64\n",
      "dtypes: float64(4), int64(1), object(4)\n",
      "memory usage: 2.3+ KB\n",
      "\n",
      "            direction_2  count_2  direction_3  count_3  direction_4  count_4  \\\n",
      "detected                                                                       \n",
      "2021-08-01          219      327          155      323          138      424   \n",
      "2021-08-02          144      252          194      381          117      372   \n",
      "\n",
      "            direction_5  count_5  direction_6  count_6  ...  direction_31  \\\n",
      "detected                                                ...                 \n",
      "2021-08-01          238      341          539      673  ...            55   \n",
      "2021-08-02          249      364          735      907  ...            52   \n",
      "\n",
      "            count_31  direction_32  count_32  direction_33  count_33  \\\n",
      "detected                                                               \n",
      "2021-08-01        94           359       500           401       769   \n",
      "2021-08-02       101           377       486           355       590   \n",
      "\n",
      "            direction_34  count_34  direction_35  count_35  \n",
      "detected                                                    \n",
      "2021-08-01           354       691           526      1149  \n",
      "2021-08-02           436       777           523      1163  \n",
      "\n",
      "[2 rows x 62 columns]\n"
     ]
    }
   ],
   "source": [
    "df_loc = pd.read_csv('../all_counter_locations.csv')\n",
    "df_loc.info()\n",
    "print()\n",
    "print(df_daily_filled.head(2))"
   ]
  },
  {
   "cell_type": "markdown",
   "id": "2370b343",
   "metadata": {},
   "source": [
    "### Datas especiais"
   ]
  },
  {
   "cell_type": "code",
   "execution_count": 69,
   "id": "08030f8f",
   "metadata": {},
   "outputs": [],
   "source": [
    "def calcular_pascoa(ano):\n",
    "    \"\"\"Calcula a data da Páscoa para um dado ano (algoritmo de Meeus/Jones/Butcher).\"\"\"\n",
    "    a = ano % 19\n",
    "    b = ano // 100\n",
    "    c = ano % 100\n",
    "    d = b // 4\n",
    "    e = b % 4\n",
    "    f = (b + 8) // 25\n",
    "    g = (b - f + 1) // 3\n",
    "    h = (19 * a + b - d - g + 15) % 30\n",
    "    i = c // 4\n",
    "    k = c % 4\n",
    "    l = (32 + 2 * e + 2 * i - h - k) % 7\n",
    "    m = (a + 11 * h + 22 * l) // 451\n",
    "    mes = (h + l - 7 * m + 114) // 31\n",
    "    dia = ((h + l - 7 * m + 114) % 31) + 1\n",
    "    return date(ano, mes, dia)\n",
    "\n",
    "#feriados \n",
    "def calcular_feriados_portugal(anos, incluir_lisboa=False):\n",
    "    feriados = []\n",
    "\n",
    "    for ano in anos:\n",
    "        # Feriados\n",
    "        feriados += [\n",
    "            date(ano, 1, 1),   # Ano Novo\n",
    "            date(ano, 4, 25),  # Dia da Liberdade\n",
    "            date(ano, 5, 1),   # Dia do Trabalhador\n",
    "            date(ano, 6, 10),  # Dia de Portugal\n",
    "            date(ano, 8, 15),  # Assunção de Nossa Senhora\n",
    "            date(ano, 10, 5),  # Implantação da República\n",
    "            date(ano, 11, 1),  # Dia de Todos os Santos\n",
    "            date(ano, 12, 1),  # Restauração da Independência\n",
    "            date(ano, 12, 8),  # Imaculada Conceição\n",
    "            date(ano, 12, 25), # Natal\n",
    "            date(ano, 6, 13),  # Santo António\n",
    "        ]\n",
    "\n",
    "        # Feriados Domingo de Páscoa\n",
    "        pascoa = calcular_pascoa(ano)\n",
    "        feriados += [\n",
    "            pascoa - timedelta(days=47), # Carnaval\n",
    "            pascoa - timedelta(days=2),  # Sexta-feira Santa\n",
    "            pascoa + timedelta(days=1),  # Segunda-feira de Páscoa \n",
    "            pascoa + timedelta(days=60), # Corpo de Deus\n",
    "        ]\n",
    "\n",
    "    return set(feriados)"
   ]
  },
  {
   "cell_type": "code",
   "execution_count": 70,
   "id": "0604625c",
   "metadata": {},
   "outputs": [],
   "source": [
    "anos = df_daily_filled.index.year.unique()\n",
    "feriados = calcular_feriados_portugal(anos, incluir_lisboa=True)\n",
    "\n",
    "df_daily_filled['holiday'] = df_daily_filled.index.date\n",
    "df_daily_filled['holiday'] = df_daily_filled['holiday'].apply(\n",
    "    lambda x: 1 if x in feriados else 0\n",
    ")"
   ]
  },
  {
   "cell_type": "code",
   "execution_count": 71,
   "id": "5ea0c7e9",
   "metadata": {},
   "outputs": [],
   "source": [
    "#fim de semana\n",
    "df_daily_filled['weekend'] = df_daily_filled.index.weekday.isin([5, 6]).astype(int)\n",
    "df_daily_filled['exog'] = ((df_daily_filled['holiday'] == 1) | (df_daily_filled['weekend'] == 1)).astype(int)"
   ]
  },
  {
   "cell_type": "markdown",
   "id": "5d9fa206",
   "metadata": {},
   "source": [
    "# MSTL forecast"
   ]
  },
  {
   "cell_type": "code",
   "execution_count": 72,
   "id": "a07517ff",
   "metadata": {},
   "outputs": [],
   "source": [
    "def fill_zeros(df, max_weeks_back=5):\n",
    "    df_filled = df.copy()\n",
    "    for col in df_daily_filled.columns:\n",
    "        if col.startswith('count_'):\n",
    "            zero_dates = df_daily_filled[df_daily_filled[col] == 0].index\n",
    "            for datetime in zero_dates:\n",
    "                for weeks_back in range(1, max_weeks_back + 1):\n",
    "                    prev_week = datetime - pd.Timedelta(weeks=weeks_back)\n",
    "                    if prev_week in df_daily_filled.index:\n",
    "                        prev_value = df_daily_filled.loc[prev_week, col]\n",
    "                        if prev_value != 0:\n",
    "                            df_filled.loc[datetime, col] = prev_value\n",
    "                            break\n",
    "    return df_filled"
   ]
  },
  {
   "cell_type": "code",
   "execution_count": 73,
   "id": "43652c8d",
   "metadata": {},
   "outputs": [],
   "source": [
    "def aplica_algoritmo(df, contador_id, exog_col='exog',\n",
    "                     start_date='2021-08-01', end_date='2022-08-01',\n",
    "                     season_length=[7], n_jobs=-1, datas_corrigidas_previamente=None):\n",
    "    \n",
    "    if contador_id is None:\n",
    "        raise ValueError(\"É necessário especificar o 'contador_id'.\")\n",
    "    \n",
    "    if contador_id not in df_daily_filled.columns:\n",
    "        raise ValueError(f\"Contador {contador_id} não encontrado no DataFrame.\")\n",
    "    \n",
    "    if exog_col not in df_daily_filled.columns:\n",
    "        raise ValueError(f\"Coluna exógena {exog_col} não encontrada no DataFrame.\")\n",
    "    \n",
    "    if datas_corrigidas_previamente is None:\n",
    "        datas_corrigidas_previamente = set()\n",
    "    \n",
    "    # 1. Filtrar dados históricos até à data limite\n",
    "    df_hist = df.loc[start_date:end_date].copy()\n",
    "    df_hist[contador_id] = df_hist[contador_id].astype(float)\n",
    "\n",
    "    # 2. Substituir dias com zeros \n",
    "    df_hist_corr = fill_zeros(df_hist)\n",
    "    \n",
    "\n",
    "    # 3. Preparar dados para StatsForecast\n",
    "    unique_id = contador_id\n",
    "    df_model = df_hist_corr[[contador_id, exog_col]].reset_index().assign(unique_id=unique_id)\n",
    "    df_model.columns = ['ds', 'y', 'X', 'unique_id']\n",
    "    df_model = df_model[['unique_id', 'ds', 'y', 'X']]\n",
    "\n",
    "    # 4. Ajustar o modelo\n",
    "    model = MSTL(season_length=season_length, trend_forecaster=AutoARIMA())\n",
    "    sf = StatsForecast(models=[model], freq='D', n_jobs=n_jobs)\n",
    "    sf.fit(df_model)\n",
    "    \n",
    "    \n",
    "    # 5. Previsão (1 dia à frente apenas, para completar fitting)\n",
    "    future_dates = pd.date_range(start=df_model['ds'].max() + pd.Timedelta(days=1), periods=1, freq='D')\n",
    "    future_exog_values = [1 if d.date() in feriados else 0 for d in future_dates]\n",
    "\n",
    "    future_exog = pd.DataFrame({\n",
    "        'ds': future_dates,\n",
    "        'X': future_exog_values,\n",
    "        'unique_id': [contador_id] * len(future_dates)      \n",
    "    })\n",
    "\n",
    "    levels=[99.7]\n",
    "    sf.forecast(df=df_model, X_df=future_exog, h=1, level=levels, fitted=True)\n",
    "\n",
    "    # 6. Obter previsões in-sample e identificar outliers\n",
    "    insample_fcst = sf.forecast_fitted_values()\n",
    "    insample_fcst.columns = ['unique_id', 'ds', 'y', 'fitted', 'lo_99_7', 'hi_99_7']\n",
    "\n",
    "    anomalies = insample_fcst[\n",
    "        ~insample_fcst['y'].between(insample_fcst['lo_99_7'], insample_fcst['hi_99_7'])\n",
    "    ].copy()\n",
    "\n",
    "    novas_datas_corrigidas = set()\n",
    "\n",
    "    # 7. Corrigir anomalias\n",
    "    for _, row in anomalies.iterrows():\n",
    "        dia = row['ds']\n",
    "        \n",
    "        if dia in datas_corrigidas_previamente or dia in novas_datas_corrigidas:\n",
    "            continue\n",
    "\n",
    "        y = row['y']\n",
    "        hi = row['hi_99_7']\n",
    "        lo = row['lo_99_7']\n",
    "        historico = df_hist_corr.loc[df_hist_corr.index < dia, contador_id]\n",
    "\n",
    "        if historico.empty:\n",
    "            continue\n",
    "\n",
    "        max_hist = historico.max()\n",
    "\n",
    "        if y > hi:\n",
    "            novo_valor = min(hi, max_hist)\n",
    "        elif y < lo:\n",
    "            novo_valor = lo\n",
    "        else:\n",
    "            continue\n",
    "\n",
    "        df_hist_corr.loc[dia, contador_id] = novo_valor\n",
    "        novas_datas_corrigidas.add(dia)\n",
    "\n",
    "\n",
    "    # 9. Retornar histórico corrigido, anomalias, datas corrigidas e componente semanal\n",
    "    return df_hist_corr, anomalies, novas_datas_corrigidas"
   ]
  },
  {
   "cell_type": "code",
   "execution_count": 74,
   "id": "d5880122",
   "metadata": {},
   "outputs": [],
   "source": [
    "def get_one_more_week_rolling(df, df_hist, weeks_added, janela_semanas=52):\n",
    "    last_date = df_hist.index.max()\n",
    "    next_week_start = last_date + pd.Timedelta(days=1)\n",
    "    next_week_end = next_week_start + pd.Timedelta(days=6)\n",
    "\n",
    "    df_next_week = df.loc[next_week_start:next_week_end]\n",
    "\n",
    "    if df_next_week.empty:\n",
    "        return df_hist, weeks_added, False\n",
    "\n",
    "    # Concatenar nova semana\n",
    "    df_hist_updated = pd.concat([df_hist, df_next_week])\n",
    "\n",
    "    # Manter janela de tamanho fixo (em semanas)\n",
    "    dias_janela = janela_semanas * 7\n",
    "    min_date = df_hist_updated.index.max() - pd.Timedelta(days=dias_janela - 1)\n",
    "    df_hist_updated = df_hist_updated[df_hist_updated.index >= min_date]\n",
    "\n",
    "    return df_hist_updated, weeks_added + 1, True"
   ]
  },
  {
   "cell_type": "code",
   "execution_count": 222,
   "id": "879d463f",
   "metadata": {},
   "outputs": [
    {
     "name": "stdout",
     "output_type": "stream",
     "text": [
      "Semana 1 processada com 2 novos outliers.\n",
      "Semana 2 processada com 2 novos outliers.\n",
      "Semana 3 processada com 0 novos outliers.\n",
      "Semana 4 processada com 0 novos outliers.\n",
      "Semana 5 processada com 0 novos outliers.\n",
      "Semana 6 processada com 1 novos outliers.\n",
      "Semana 7 processada com 0 novos outliers.\n",
      "Semana 8 processada com 0 novos outliers.\n",
      "Semana 9 processada com 1 novos outliers.\n",
      "Semana 10 processada com 0 novos outliers.\n",
      "Semana 11 processada com 0 novos outliers.\n",
      "Semana 12 processada com 1 novos outliers.\n",
      "Semana 13 processada com 0 novos outliers.\n",
      "Semana 14 processada com 1 novos outliers.\n",
      "Semana 15 processada com 0 novos outliers.\n",
      "Semana 16 processada com 0 novos outliers.\n",
      "Semana 17 processada com 0 novos outliers.\n",
      "Semana 18 processada com 0 novos outliers.\n",
      "Semana 19 processada com 0 novos outliers.\n",
      "Semana 20 processada com 1 novos outliers.\n",
      "Semana 21 processada com 0 novos outliers.\n",
      "Semana 22 processada com 1 novos outliers.\n",
      "Semana 23 processada com 0 novos outliers.\n",
      "Semana 24 processada com 0 novos outliers.\n",
      "Semana 25 processada com 0 novos outliers.\n",
      "Semana 26 processada com 0 novos outliers.\n",
      "Semana 27 processada com 0 novos outliers.\n",
      "Semana 28 processada com 0 novos outliers.\n",
      "Semana 29 processada com 0 novos outliers.\n",
      "Semana 30 processada com 0 novos outliers.\n",
      "Semana 31 processada com 0 novos outliers.\n",
      "Semana 32 processada com 0 novos outliers.\n",
      "Semana 33 processada com 0 novos outliers.\n",
      "Semana 34 processada com 0 novos outliers.\n",
      "Semana 35 processada com 2 novos outliers.\n",
      "Semana 36 processada com 0 novos outliers.\n",
      "Semana 37 processada com 0 novos outliers.\n",
      "Semana 38 processada com 0 novos outliers.\n",
      "Semana 39 processada com 0 novos outliers.\n",
      "Semana 40 processada com 0 novos outliers.\n",
      "Semana 41 processada com 0 novos outliers.\n",
      "Semana 42 processada com 0 novos outliers.\n",
      "Semana 43 processada com 0 novos outliers.\n",
      "Semana 44 processada com 0 novos outliers.\n",
      "Semana 45 processada com 1 novos outliers.\n",
      "Semana 46 processada com 1 novos outliers.\n",
      "Semana 47 processada com 0 novos outliers.\n",
      "Semana 48 processada com 0 novos outliers.\n",
      "Semana 49 processada com 0 novos outliers.\n",
      "Semana 50 processada com 0 novos outliers.\n",
      "Semana 51 processada com 0 novos outliers.\n",
      "Semana 52 processada com 0 novos outliers.\n",
      "Semana 53 processada com 0 novos outliers.\n",
      "Semana 54 processada com 0 novos outliers.\n",
      "Semana 55 processada com 0 novos outliers.\n",
      "Semana 56 processada com 0 novos outliers.\n",
      "Semana 57 processada com 0 novos outliers.\n",
      "Semana 58 processada com 0 novos outliers.\n",
      "Semana 59 processada com 1 novos outliers.\n",
      "Semana 60 processada com 0 novos outliers.\n",
      "Semana 61 processada com 0 novos outliers.\n",
      "Semana 62 processada com 0 novos outliers.\n",
      "Semana 63 processada com 0 novos outliers.\n",
      "Semana 64 processada com 2 novos outliers.\n",
      "Semana 65 processada com 1 novos outliers.\n",
      "Semana 66 processada com 0 novos outliers.\n",
      "Semana 67 processada com 0 novos outliers.\n",
      "Semana 68 processada com 0 novos outliers.\n",
      "Semana 69 processada com 0 novos outliers.\n",
      "Semana 70 processada com 1 novos outliers.\n",
      "Semana 71 processada com 0 novos outliers.\n",
      "Semana 72 processada com 2 novos outliers.\n",
      "Semana 73 processada com 0 novos outliers.\n",
      "Semana 74 processada com 1 novos outliers.\n",
      "Semana 75 processada com 2 novos outliers.\n",
      "Semana 76 processada com 0 novos outliers.\n",
      "Semana 77 processada com 0 novos outliers.\n",
      "Semana 78 processada com 0 novos outliers.\n",
      "Semana 79 processada com 0 novos outliers.\n",
      "Semana 80 processada com 1 novos outliers.\n",
      "Semana 81 processada com 0 novos outliers.\n",
      "Semana 82 processada com 0 novos outliers.\n",
      "Semana 83 processada com 0 novos outliers.\n",
      "Não há mais semanas para adicionar.\n"
     ]
    }
   ],
   "source": [
    "resultados_corrigidos = [] # <- quando for para todos os contadores esta linha e as 2 proximas não são necessarias\n",
    "todas_anomalias = []\n",
    "datas_corrigidas_global = set()\n",
    "\n",
    "contador_id = 'count_35' # <- quando for para todos os contadores tem de ser eliminada\n",
    "exog_col = 'exog'\n",
    "start_date = '2021-08-01'\n",
    "end_date_inicial = '2022-07-31'\n",
    "#max_semanas = 2\n",
    "semanas_adicionadas = 0 #quando for para todos os contadores tem de ser eliminada\n",
    "\n",
    "# for contador_id in colunas_contadores:  <- par todos os contadores\n",
    "#     if not contador_id.startswith(\"count_\"):\n",
    "#         continue  # ignora colunas que não são contadores\n",
    "\n",
    "#     print(f\"\\n### PROCESSANDO {contador_id} ###\")\n",
    "\n",
    "#     resultados_corrigidos = []\n",
    "#     todas_anomalias = []\n",
    "#     datas_corrigidas_global = set()\n",
    "#     semanas_adicionadas = 0\n",
    "\n",
    "    # Aplicar primeira vez\n",
    "df_hist_atual, anomalies_iniciais, datas_corrigidas = aplica_algoritmo(\n",
    "    df=df_daily_filled,\n",
    "    contador_id=contador_id,\n",
    "    exog_col=exog_col,\n",
    "    start_date=start_date,\n",
    "    end_date=end_date_inicial,\n",
    "    datas_corrigidas_previamente=datas_corrigidas_global\n",
    ")\n",
    "\n",
    "    # Atualizar listas\n",
    "datas_corrigidas_global.update(datas_corrigidas)\n",
    "resultados_corrigidos.append(df_hist_atual.copy())\n",
    "todas_anomalias.append(anomalies_iniciais)\n",
    "\n",
    "    # Loop\n",
    "while True:    \n",
    "#while semanas_adicionadas < max_semanas:\n",
    "    df_hist_atual, semanas_adicionadas, conseguiu_adicionar = get_one_more_week_rolling(\n",
    "        df=df_daily_filled,\n",
    "        df_hist=df_hist_atual,\n",
    "        weeks_added=semanas_adicionadas,\n",
    "        #max_weeks=max_semanas\n",
    "        janela_semanas=52  # ou outro valor\n",
    "    )\n",
    "\n",
    "    if not conseguiu_adicionar:\n",
    "        print(\"Não há mais semanas para adicionar.\")\n",
    "        break\n",
    "\n",
    "    df_corrigido, novas_anomalias, novas_datas_corrigidas = aplica_algoritmo(\n",
    "        df=df_hist_atual,\n",
    "        contador_id=contador_id,\n",
    "        exog_col=exog_col,\n",
    "        start_date=start_date,\n",
    "        end_date=df_hist_atual.index.max().strftime('%Y-%m-%d'),\n",
    "        datas_corrigidas_previamente=datas_corrigidas_global\n",
    "    )\n",
    "\n",
    "    # Filtrar anomalias para ignorar as que já foram corrigidas antes\n",
    "    novas_anomalias = novas_anomalias[~novas_anomalias['ds'].isin(datas_corrigidas_global)].copy()\n",
    "\n",
    "    # Atualizar conjunto global das datas corrigidas\n",
    "    datas_corrigidas_global.update(novas_datas_corrigidas)\n",
    "\n",
    "    df_hist_atual = df_corrigido.copy()\n",
    "    resultados_corrigidos.append(df_hist_atual.copy())\n",
    "    todas_anomalias.append(novas_anomalias)\n",
    "\n",
    "    print(f\"Semana {semanas_adicionadas} processada com {len(novas_anomalias)} novos outliers.\")"
   ]
  },
  {
   "cell_type": "code",
   "execution_count": 223,
   "id": "beda1a7d",
   "metadata": {},
   "outputs": [],
   "source": [
    "\n",
    "pasta_resultados = \"resultados_corrigidos\"\n",
    "os.makedirs(pasta_resultados, exist_ok=True)\n",
    "\n",
    "dados_a_guardar = {\n",
    "    \"corrigido\": resultados_corrigidos,\n",
    "    \"anomalias\": todas_anomalias\n",
    "}\n",
    "\n",
    "filename = os.path.join(pasta_resultados, f\"resultado_{contador_id}.pkl\")\n",
    "with open(filename, \"wb\") as f:\n",
    "    pickle.dump(dados_a_guardar, f)\n",
    "\n",
    "\n"
   ]
  },
  {
   "cell_type": "code",
   "execution_count": 219,
   "id": "781bdfa1",
   "metadata": {},
   "outputs": [
    {
     "data": {
      "text/html": [
       "<div>\n",
       "<style scoped>\n",
       "    .dataframe tbody tr th:only-of-type {\n",
       "        vertical-align: middle;\n",
       "    }\n",
       "\n",
       "    .dataframe tbody tr th {\n",
       "        vertical-align: top;\n",
       "    }\n",
       "\n",
       "    .dataframe thead th {\n",
       "        text-align: right;\n",
       "    }\n",
       "</style>\n",
       "<table border=\"1\" class=\"dataframe\">\n",
       "  <thead>\n",
       "    <tr style=\"text-align: right;\">\n",
       "      <th></th>\n",
       "      <th>count_10</th>\n",
       "      <th>count_11</th>\n",
       "      <th>count_12</th>\n",
       "      <th>count_13</th>\n",
       "      <th>count_14</th>\n",
       "      <th>count_15</th>\n",
       "      <th>count_16</th>\n",
       "      <th>count_17</th>\n",
       "      <th>count_19</th>\n",
       "      <th>count_2</th>\n",
       "      <th>...</th>\n",
       "      <th>count_31</th>\n",
       "      <th>count_32</th>\n",
       "      <th>count_33</th>\n",
       "      <th>count_34</th>\n",
       "      <th>count_4</th>\n",
       "      <th>count_5</th>\n",
       "      <th>count_6</th>\n",
       "      <th>count_7</th>\n",
       "      <th>count_8</th>\n",
       "      <th>count_9</th>\n",
       "    </tr>\n",
       "    <tr>\n",
       "      <th>detected</th>\n",
       "      <th></th>\n",
       "      <th></th>\n",
       "      <th></th>\n",
       "      <th></th>\n",
       "      <th></th>\n",
       "      <th></th>\n",
       "      <th></th>\n",
       "      <th></th>\n",
       "      <th></th>\n",
       "      <th></th>\n",
       "      <th></th>\n",
       "      <th></th>\n",
       "      <th></th>\n",
       "      <th></th>\n",
       "      <th></th>\n",
       "      <th></th>\n",
       "      <th></th>\n",
       "      <th></th>\n",
       "      <th></th>\n",
       "      <th></th>\n",
       "      <th></th>\n",
       "    </tr>\n",
       "  </thead>\n",
       "  <tbody>\n",
       "    <tr>\n",
       "      <th>2021-08-01</th>\n",
       "      <td>407.0</td>\n",
       "      <td>141.0</td>\n",
       "      <td>1663.0</td>\n",
       "      <td>308.0</td>\n",
       "      <td>121.0</td>\n",
       "      <td>84.0</td>\n",
       "      <td>830.0</td>\n",
       "      <td>279.0</td>\n",
       "      <td>638.0</td>\n",
       "      <td>327.0</td>\n",
       "      <td>...</td>\n",
       "      <td>94.0</td>\n",
       "      <td>500.0</td>\n",
       "      <td>769.0</td>\n",
       "      <td>691.0</td>\n",
       "      <td>424.0</td>\n",
       "      <td>341.0</td>\n",
       "      <td>673.0</td>\n",
       "      <td>1092.0</td>\n",
       "      <td>106.0</td>\n",
       "      <td>1400.0</td>\n",
       "    </tr>\n",
       "    <tr>\n",
       "      <th>2021-08-02</th>\n",
       "      <td>219.0</td>\n",
       "      <td>112.0</td>\n",
       "      <td>1272.0</td>\n",
       "      <td>456.0</td>\n",
       "      <td>116.0</td>\n",
       "      <td>83.0</td>\n",
       "      <td>937.0</td>\n",
       "      <td>349.0</td>\n",
       "      <td>462.0</td>\n",
       "      <td>252.0</td>\n",
       "      <td>...</td>\n",
       "      <td>101.0</td>\n",
       "      <td>486.0</td>\n",
       "      <td>590.0</td>\n",
       "      <td>777.0</td>\n",
       "      <td>372.0</td>\n",
       "      <td>364.0</td>\n",
       "      <td>907.0</td>\n",
       "      <td>1350.0</td>\n",
       "      <td>91.0</td>\n",
       "      <td>632.0</td>\n",
       "    </tr>\n",
       "    <tr>\n",
       "      <th>2021-08-03</th>\n",
       "      <td>245.0</td>\n",
       "      <td>155.0</td>\n",
       "      <td>1152.0</td>\n",
       "      <td>488.0</td>\n",
       "      <td>125.0</td>\n",
       "      <td>104.0</td>\n",
       "      <td>1073.0</td>\n",
       "      <td>391.0</td>\n",
       "      <td>539.0</td>\n",
       "      <td>257.0</td>\n",
       "      <td>...</td>\n",
       "      <td>117.0</td>\n",
       "      <td>568.0</td>\n",
       "      <td>699.0</td>\n",
       "      <td>724.0</td>\n",
       "      <td>411.0</td>\n",
       "      <td>431.0</td>\n",
       "      <td>914.0</td>\n",
       "      <td>1347.0</td>\n",
       "      <td>115.0</td>\n",
       "      <td>860.0</td>\n",
       "    </tr>\n",
       "    <tr>\n",
       "      <th>2021-08-04</th>\n",
       "      <td>300.0</td>\n",
       "      <td>135.0</td>\n",
       "      <td>1182.0</td>\n",
       "      <td>448.0</td>\n",
       "      <td>105.0</td>\n",
       "      <td>99.0</td>\n",
       "      <td>1103.0</td>\n",
       "      <td>370.0</td>\n",
       "      <td>600.0</td>\n",
       "      <td>266.0</td>\n",
       "      <td>...</td>\n",
       "      <td>107.0</td>\n",
       "      <td>563.0</td>\n",
       "      <td>626.0</td>\n",
       "      <td>799.0</td>\n",
       "      <td>423.0</td>\n",
       "      <td>404.0</td>\n",
       "      <td>890.0</td>\n",
       "      <td>1451.0</td>\n",
       "      <td>104.0</td>\n",
       "      <td>903.0</td>\n",
       "    </tr>\n",
       "    <tr>\n",
       "      <th>2021-08-05</th>\n",
       "      <td>246.0</td>\n",
       "      <td>144.0</td>\n",
       "      <td>1125.0</td>\n",
       "      <td>382.0</td>\n",
       "      <td>121.0</td>\n",
       "      <td>88.0</td>\n",
       "      <td>1042.0</td>\n",
       "      <td>338.0</td>\n",
       "      <td>471.0</td>\n",
       "      <td>259.0</td>\n",
       "      <td>...</td>\n",
       "      <td>81.0</td>\n",
       "      <td>584.0</td>\n",
       "      <td>602.0</td>\n",
       "      <td>846.0</td>\n",
       "      <td>370.0</td>\n",
       "      <td>370.0</td>\n",
       "      <td>887.0</td>\n",
       "      <td>1342.0</td>\n",
       "      <td>107.0</td>\n",
       "      <td>823.0</td>\n",
       "    </tr>\n",
       "  </tbody>\n",
       "</table>\n",
       "<p>5 rows × 30 columns</p>\n",
       "</div>"
      ],
      "text/plain": [
       "            count_10  count_11  count_12  count_13  count_14  count_15  \\\n",
       "detected                                                                 \n",
       "2021-08-01     407.0     141.0    1663.0     308.0     121.0      84.0   \n",
       "2021-08-02     219.0     112.0    1272.0     456.0     116.0      83.0   \n",
       "2021-08-03     245.0     155.0    1152.0     488.0     125.0     104.0   \n",
       "2021-08-04     300.0     135.0    1182.0     448.0     105.0      99.0   \n",
       "2021-08-05     246.0     144.0    1125.0     382.0     121.0      88.0   \n",
       "\n",
       "            count_16  count_17  count_19  count_2  ...  count_31  count_32  \\\n",
       "detected                                           ...                       \n",
       "2021-08-01     830.0     279.0     638.0    327.0  ...      94.0     500.0   \n",
       "2021-08-02     937.0     349.0     462.0    252.0  ...     101.0     486.0   \n",
       "2021-08-03    1073.0     391.0     539.0    257.0  ...     117.0     568.0   \n",
       "2021-08-04    1103.0     370.0     600.0    266.0  ...     107.0     563.0   \n",
       "2021-08-05    1042.0     338.0     471.0    259.0  ...      81.0     584.0   \n",
       "\n",
       "            count_33  count_34  count_4  count_5  count_6  count_7  count_8  \\\n",
       "detected                                                                      \n",
       "2021-08-01     769.0     691.0    424.0    341.0    673.0   1092.0    106.0   \n",
       "2021-08-02     590.0     777.0    372.0    364.0    907.0   1350.0     91.0   \n",
       "2021-08-03     699.0     724.0    411.0    431.0    914.0   1347.0    115.0   \n",
       "2021-08-04     626.0     799.0    423.0    404.0    890.0   1451.0    104.0   \n",
       "2021-08-05     602.0     846.0    370.0    370.0    887.0   1342.0    107.0   \n",
       "\n",
       "            count_9  \n",
       "detected             \n",
       "2021-08-01   1400.0  \n",
       "2021-08-02    632.0  \n",
       "2021-08-03    860.0  \n",
       "2021-08-04    903.0  \n",
       "2021-08-05    823.0  \n",
       "\n",
       "[5 rows x 30 columns]"
      ]
     },
     "metadata": {},
     "output_type": "display_data"
    },
    {
     "data": {
      "text/html": [
       "<div>\n",
       "<style scoped>\n",
       "    .dataframe tbody tr th:only-of-type {\n",
       "        vertical-align: middle;\n",
       "    }\n",
       "\n",
       "    .dataframe tbody tr th {\n",
       "        vertical-align: top;\n",
       "    }\n",
       "\n",
       "    .dataframe thead th {\n",
       "        text-align: right;\n",
       "    }\n",
       "</style>\n",
       "<table border=\"1\" class=\"dataframe\">\n",
       "  <thead>\n",
       "    <tr style=\"text-align: right;\">\n",
       "      <th></th>\n",
       "      <th>unique_id</th>\n",
       "      <th>ds</th>\n",
       "      <th>y</th>\n",
       "      <th>fitted</th>\n",
       "      <th>lo_99_7</th>\n",
       "      <th>hi_99_7</th>\n",
       "      <th>contador</th>\n",
       "    </tr>\n",
       "  </thead>\n",
       "  <tbody>\n",
       "    <tr>\n",
       "      <th>0</th>\n",
       "      <td>count_10</td>\n",
       "      <td>2021-10-31</td>\n",
       "      <td>112.0</td>\n",
       "      <td>267.268474</td>\n",
       "      <td>126.957569</td>\n",
       "      <td>407.579378</td>\n",
       "      <td>count_10</td>\n",
       "    </tr>\n",
       "    <tr>\n",
       "      <th>1</th>\n",
       "      <td>count_10</td>\n",
       "      <td>2021-11-28</td>\n",
       "      <td>707.0</td>\n",
       "      <td>350.914460</td>\n",
       "      <td>210.603555</td>\n",
       "      <td>491.225364</td>\n",
       "      <td>count_10</td>\n",
       "    </tr>\n",
       "    <tr>\n",
       "      <th>2</th>\n",
       "      <td>count_10</td>\n",
       "      <td>2022-03-20</td>\n",
       "      <td>104.0</td>\n",
       "      <td>278.085172</td>\n",
       "      <td>137.774268</td>\n",
       "      <td>418.396077</td>\n",
       "      <td>count_10</td>\n",
       "    </tr>\n",
       "    <tr>\n",
       "      <th>3</th>\n",
       "      <td>count_10</td>\n",
       "      <td>2021-10-29</td>\n",
       "      <td>107.0</td>\n",
       "      <td>237.029712</td>\n",
       "      <td>113.291231</td>\n",
       "      <td>360.768194</td>\n",
       "      <td>count_10</td>\n",
       "    </tr>\n",
       "    <tr>\n",
       "      <th>4</th>\n",
       "      <td>count_10</td>\n",
       "      <td>2021-12-20</td>\n",
       "      <td>66.0</td>\n",
       "      <td>199.620194</td>\n",
       "      <td>75.881712</td>\n",
       "      <td>323.358675</td>\n",
       "      <td>count_10</td>\n",
       "    </tr>\n",
       "    <tr>\n",
       "      <th>...</th>\n",
       "      <td>...</td>\n",
       "      <td>...</td>\n",
       "      <td>...</td>\n",
       "      <td>...</td>\n",
       "      <td>...</td>\n",
       "      <td>...</td>\n",
       "      <td>...</td>\n",
       "    </tr>\n",
       "    <tr>\n",
       "      <th>977</th>\n",
       "      <td>count_9</td>\n",
       "      <td>2023-08-05</td>\n",
       "      <td>634.0</td>\n",
       "      <td>1300.396207</td>\n",
       "      <td>650.834772</td>\n",
       "      <td>1949.957642</td>\n",
       "      <td>count_9</td>\n",
       "    </tr>\n",
       "    <tr>\n",
       "      <th>978</th>\n",
       "      <td>count_9</td>\n",
       "      <td>2023-08-07</td>\n",
       "      <td>3229.0</td>\n",
       "      <td>1020.153601</td>\n",
       "      <td>305.441314</td>\n",
       "      <td>1734.865889</td>\n",
       "      <td>count_9</td>\n",
       "    </tr>\n",
       "    <tr>\n",
       "      <th>979</th>\n",
       "      <td>count_9</td>\n",
       "      <td>2023-08-08</td>\n",
       "      <td>619.0</td>\n",
       "      <td>1838.649650</td>\n",
       "      <td>1123.937363</td>\n",
       "      <td>2553.361938</td>\n",
       "      <td>count_9</td>\n",
       "    </tr>\n",
       "    <tr>\n",
       "      <th>980</th>\n",
       "      <td>count_9</td>\n",
       "      <td>2022-12-25</td>\n",
       "      <td>159.0</td>\n",
       "      <td>756.109013</td>\n",
       "      <td>200.858145</td>\n",
       "      <td>1311.359882</td>\n",
       "      <td>count_9</td>\n",
       "    </tr>\n",
       "    <tr>\n",
       "      <th>981</th>\n",
       "      <td>count_9</td>\n",
       "      <td>2023-01-01</td>\n",
       "      <td>393.0</td>\n",
       "      <td>986.873361</td>\n",
       "      <td>439.439250</td>\n",
       "      <td>1534.307473</td>\n",
       "      <td>count_9</td>\n",
       "    </tr>\n",
       "  </tbody>\n",
       "</table>\n",
       "<p>982 rows × 7 columns</p>\n",
       "</div>"
      ],
      "text/plain": [
       "    unique_id         ds       y       fitted      lo_99_7      hi_99_7  \\\n",
       "0    count_10 2021-10-31   112.0   267.268474   126.957569   407.579378   \n",
       "1    count_10 2021-11-28   707.0   350.914460   210.603555   491.225364   \n",
       "2    count_10 2022-03-20   104.0   278.085172   137.774268   418.396077   \n",
       "3    count_10 2021-10-29   107.0   237.029712   113.291231   360.768194   \n",
       "4    count_10 2021-12-20    66.0   199.620194    75.881712   323.358675   \n",
       "..        ...        ...     ...          ...          ...          ...   \n",
       "977   count_9 2023-08-05   634.0  1300.396207   650.834772  1949.957642   \n",
       "978   count_9 2023-08-07  3229.0  1020.153601   305.441314  1734.865889   \n",
       "979   count_9 2023-08-08   619.0  1838.649650  1123.937363  2553.361938   \n",
       "980   count_9 2022-12-25   159.0   756.109013   200.858145  1311.359882   \n",
       "981   count_9 2023-01-01   393.0   986.873361   439.439250  1534.307473   \n",
       "\n",
       "     contador  \n",
       "0    count_10  \n",
       "1    count_10  \n",
       "2    count_10  \n",
       "3    count_10  \n",
       "4    count_10  \n",
       "..        ...  \n",
       "977   count_9  \n",
       "978   count_9  \n",
       "979   count_9  \n",
       "980   count_9  \n",
       "981   count_9  \n",
       "\n",
       "[982 rows x 7 columns]"
      ]
     },
     "metadata": {},
     "output_type": "display_data"
    }
   ],
   "source": [
    "\n",
    "pasta_resultados = \"resultados_corrigidos\"\n",
    "ficheiros = glob.glob(os.path.join(pasta_resultados, \"resultado_count_*.pkl\"))\n",
    "\n",
    "lista_dfs_corrigidos = []\n",
    "lista_dfs_anomalias = []\n",
    "\n",
    "for ficheiro in ficheiros:\n",
    "    nome = os.path.basename(ficheiro)\n",
    "    contador_id = nome.replace(\"resultado_\", \"\").replace(\".pkl\", \"\")\n",
    "\n",
    "    with open(ficheiro, \"rb\") as f:\n",
    "        dados = pickle.load(f)\n",
    "\n",
    "    # Parte corrigida\n",
    "    lista_resultados_corrigidos = dados[\"corrigido\"]\n",
    "    df_corrigido = pd.concat(lista_resultados_corrigidos, axis=0)\n",
    "    df_corrigido = df_corrigido[[contador_id]]\n",
    "    lista_dfs_corrigidos.append(df_corrigido)\n",
    "\n",
    "    # Parte das anomalias\n",
    "    lista_anomalias = dados[\"anomalias\"]\n",
    "    df_anomalias = pd.concat(lista_anomalias, ignore_index=True)\n",
    "    df_anomalias[\"contador\"] = contador_id  # identificar o contador\n",
    "    lista_dfs_anomalias.append(df_anomalias)\n",
    "\n",
    "# Juntar tudo num único DataFrame\n",
    "df_corrigido_total = pd.concat(lista_dfs_corrigidos, axis=1)\n",
    "df_corrigido_total = df_corrigido_total[~df_corrigido_total.index.duplicated(keep=\"last\")]\n",
    "\n",
    "df_anomalias_total = pd.concat(lista_dfs_anomalias, ignore_index=True)\n",
    "\n",
    "# Prontos para análise:\n",
    "display(df_corrigido_total.head())\n",
    "display(df_anomalias_total)\n",
    "\n"
   ]
  },
  {
   "cell_type": "code",
   "execution_count": 225,
   "id": "33e55d1b",
   "metadata": {},
   "outputs": [
    {
     "data": {
      "text/html": [
       "<div>\n",
       "<style scoped>\n",
       "    .dataframe tbody tr th:only-of-type {\n",
       "        vertical-align: middle;\n",
       "    }\n",
       "\n",
       "    .dataframe tbody tr th {\n",
       "        vertical-align: top;\n",
       "    }\n",
       "\n",
       "    .dataframe thead th {\n",
       "        text-align: right;\n",
       "    }\n",
       "</style>\n",
       "<table border=\"1\" class=\"dataframe\">\n",
       "  <thead>\n",
       "    <tr style=\"text-align: right;\">\n",
       "      <th></th>\n",
       "      <th>unique_id</th>\n",
       "      <th>ds</th>\n",
       "      <th>y</th>\n",
       "      <th>fitted</th>\n",
       "      <th>lo_99_7</th>\n",
       "      <th>hi_99_7</th>\n",
       "      <th>contador</th>\n",
       "    </tr>\n",
       "  </thead>\n",
       "  <tbody>\n",
       "    <tr>\n",
       "      <th>767</th>\n",
       "      <td>count_34</td>\n",
       "      <td>2021-10-01</td>\n",
       "      <td>296.0</td>\n",
       "      <td>1033.316295</td>\n",
       "      <td>507.934374</td>\n",
       "      <td>1558.698215</td>\n",
       "      <td>count_34</td>\n",
       "    </tr>\n",
       "    <tr>\n",
       "      <th>768</th>\n",
       "      <td>count_34</td>\n",
       "      <td>2021-12-20</td>\n",
       "      <td>381.0</td>\n",
       "      <td>1078.084510</td>\n",
       "      <td>552.702590</td>\n",
       "      <td>1603.466431</td>\n",
       "      <td>count_34</td>\n",
       "    </tr>\n",
       "    <tr>\n",
       "      <th>769</th>\n",
       "      <td>count_34</td>\n",
       "      <td>2022-03-18</td>\n",
       "      <td>1822.0</td>\n",
       "      <td>1294.318614</td>\n",
       "      <td>768.936693</td>\n",
       "      <td>1819.700534</td>\n",
       "      <td>count_34</td>\n",
       "    </tr>\n",
       "    <tr>\n",
       "      <th>770</th>\n",
       "      <td>count_34</td>\n",
       "      <td>2022-04-25</td>\n",
       "      <td>2575.0</td>\n",
       "      <td>1743.814349</td>\n",
       "      <td>1218.432429</td>\n",
       "      <td>2269.196270</td>\n",
       "      <td>count_34</td>\n",
       "    </tr>\n",
       "    <tr>\n",
       "      <th>771</th>\n",
       "      <td>count_34</td>\n",
       "      <td>2022-06-12</td>\n",
       "      <td>2252.0</td>\n",
       "      <td>1638.605720</td>\n",
       "      <td>1113.223799</td>\n",
       "      <td>2163.987640</td>\n",
       "      <td>count_34</td>\n",
       "    </tr>\n",
       "    <tr>\n",
       "      <th>772</th>\n",
       "      <td>count_34</td>\n",
       "      <td>2021-10-04</td>\n",
       "      <td>354.0</td>\n",
       "      <td>929.220240</td>\n",
       "      <td>433.466803</td>\n",
       "      <td>1424.973676</td>\n",
       "      <td>count_34</td>\n",
       "    </tr>\n",
       "    <tr>\n",
       "      <th>773</th>\n",
       "      <td>count_34</td>\n",
       "      <td>2021-12-24</td>\n",
       "      <td>414.0</td>\n",
       "      <td>939.521281</td>\n",
       "      <td>443.767845</td>\n",
       "      <td>1435.274718</td>\n",
       "      <td>count_34</td>\n",
       "    </tr>\n",
       "    <tr>\n",
       "      <th>774</th>\n",
       "      <td>count_34</td>\n",
       "      <td>2022-03-20</td>\n",
       "      <td>739.0</td>\n",
       "      <td>1410.442732</td>\n",
       "      <td>914.689296</td>\n",
       "      <td>1906.196169</td>\n",
       "      <td>count_34</td>\n",
       "    </tr>\n",
       "    <tr>\n",
       "      <th>775</th>\n",
       "      <td>count_34</td>\n",
       "      <td>2022-08-08</td>\n",
       "      <td>125.0</td>\n",
       "      <td>1582.170516</td>\n",
       "      <td>1023.619958</td>\n",
       "      <td>2140.721074</td>\n",
       "      <td>count_34</td>\n",
       "    </tr>\n",
       "    <tr>\n",
       "      <th>776</th>\n",
       "      <td>count_34</td>\n",
       "      <td>2022-08-09</td>\n",
       "      <td>1732.0</td>\n",
       "      <td>1086.054551</td>\n",
       "      <td>527.503993</td>\n",
       "      <td>1644.605109</td>\n",
       "      <td>count_34</td>\n",
       "    </tr>\n",
       "    <tr>\n",
       "      <th>777</th>\n",
       "      <td>count_34</td>\n",
       "      <td>2022-09-12</td>\n",
       "      <td>1032.0</td>\n",
       "      <td>1680.680126</td>\n",
       "      <td>1162.494683</td>\n",
       "      <td>2198.865568</td>\n",
       "      <td>count_34</td>\n",
       "    </tr>\n",
       "    <tr>\n",
       "      <th>778</th>\n",
       "      <td>count_34</td>\n",
       "      <td>2022-10-19</td>\n",
       "      <td>685.0</td>\n",
       "      <td>1395.286213</td>\n",
       "      <td>860.654025</td>\n",
       "      <td>1929.918401</td>\n",
       "      <td>count_34</td>\n",
       "    </tr>\n",
       "    <tr>\n",
       "      <th>779</th>\n",
       "      <td>count_34</td>\n",
       "      <td>2022-11-03</td>\n",
       "      <td>1041.0</td>\n",
       "      <td>1649.907178</td>\n",
       "      <td>1103.846703</td>\n",
       "      <td>2195.967652</td>\n",
       "      <td>count_34</td>\n",
       "    </tr>\n",
       "    <tr>\n",
       "      <th>780</th>\n",
       "      <td>count_34</td>\n",
       "      <td>2022-12-01</td>\n",
       "      <td>1939.0</td>\n",
       "      <td>1132.881447</td>\n",
       "      <td>560.077405</td>\n",
       "      <td>1705.685489</td>\n",
       "      <td>count_34</td>\n",
       "    </tr>\n",
       "    <tr>\n",
       "      <th>781</th>\n",
       "      <td>count_34</td>\n",
       "      <td>2022-12-12</td>\n",
       "      <td>739.0</td>\n",
       "      <td>1436.875343</td>\n",
       "      <td>801.092182</td>\n",
       "      <td>2072.658503</td>\n",
       "      <td>count_34</td>\n",
       "    </tr>\n",
       "    <tr>\n",
       "      <th>782</th>\n",
       "      <td>count_34</td>\n",
       "      <td>2022-12-17</td>\n",
       "      <td>3753.0</td>\n",
       "      <td>1884.511278</td>\n",
       "      <td>1248.728117</td>\n",
       "      <td>2520.294438</td>\n",
       "      <td>count_34</td>\n",
       "    </tr>\n",
       "    <tr>\n",
       "      <th>783</th>\n",
       "      <td>count_34</td>\n",
       "      <td>2022-12-07</td>\n",
       "      <td>982.0</td>\n",
       "      <td>1600.773722</td>\n",
       "      <td>989.968805</td>\n",
       "      <td>2211.578639</td>\n",
       "      <td>count_34</td>\n",
       "    </tr>\n",
       "    <tr>\n",
       "      <th>784</th>\n",
       "      <td>count_34</td>\n",
       "      <td>2022-12-27</td>\n",
       "      <td>2350.0</td>\n",
       "      <td>1627.030807</td>\n",
       "      <td>1016.225890</td>\n",
       "      <td>2237.835724</td>\n",
       "      <td>count_34</td>\n",
       "    </tr>\n",
       "    <tr>\n",
       "      <th>785</th>\n",
       "      <td>count_34</td>\n",
       "      <td>2023-01-07</td>\n",
       "      <td>668.0</td>\n",
       "      <td>1478.214892</td>\n",
       "      <td>864.360337</td>\n",
       "      <td>2092.069446</td>\n",
       "      <td>count_34</td>\n",
       "    </tr>\n",
       "    <tr>\n",
       "      <th>786</th>\n",
       "      <td>count_34</td>\n",
       "      <td>2022-12-18</td>\n",
       "      <td>2372.0</td>\n",
       "      <td>1739.805087</td>\n",
       "      <td>1120.646293</td>\n",
       "      <td>2358.963882</td>\n",
       "      <td>count_34</td>\n",
       "    </tr>\n",
       "    <tr>\n",
       "      <th>787</th>\n",
       "      <td>count_34</td>\n",
       "      <td>2023-01-21</td>\n",
       "      <td>1987.0</td>\n",
       "      <td>1299.039128</td>\n",
       "      <td>669.164373</td>\n",
       "      <td>1928.913884</td>\n",
       "      <td>count_34</td>\n",
       "    </tr>\n",
       "    <tr>\n",
       "      <th>788</th>\n",
       "      <td>count_34</td>\n",
       "      <td>2023-02-11</td>\n",
       "      <td>2614.0</td>\n",
       "      <td>1646.962637</td>\n",
       "      <td>999.964463</td>\n",
       "      <td>2293.960811</td>\n",
       "      <td>count_34</td>\n",
       "    </tr>\n",
       "    <tr>\n",
       "      <th>789</th>\n",
       "      <td>count_34</td>\n",
       "      <td>2023-04-25</td>\n",
       "      <td>3163.0</td>\n",
       "      <td>2082.389153</td>\n",
       "      <td>1420.747436</td>\n",
       "      <td>2744.030869</td>\n",
       "      <td>count_34</td>\n",
       "    </tr>\n",
       "    <tr>\n",
       "      <th>790</th>\n",
       "      <td>count_34</td>\n",
       "      <td>2023-04-27</td>\n",
       "      <td>950.0</td>\n",
       "      <td>1697.955566</td>\n",
       "      <td>1052.545877</td>\n",
       "      <td>2343.365256</td>\n",
       "      <td>count_34</td>\n",
       "    </tr>\n",
       "    <tr>\n",
       "      <th>791</th>\n",
       "      <td>count_34</td>\n",
       "      <td>2023-04-28</td>\n",
       "      <td>1996.0</td>\n",
       "      <td>1333.883061</td>\n",
       "      <td>688.473371</td>\n",
       "      <td>1979.292751</td>\n",
       "      <td>count_34</td>\n",
       "    </tr>\n",
       "    <tr>\n",
       "      <th>792</th>\n",
       "      <td>count_34</td>\n",
       "      <td>2023-05-27</td>\n",
       "      <td>3676.0</td>\n",
       "      <td>1935.987312</td>\n",
       "      <td>1230.487238</td>\n",
       "      <td>2641.487385</td>\n",
       "      <td>count_34</td>\n",
       "    </tr>\n",
       "    <tr>\n",
       "      <th>793</th>\n",
       "      <td>count_34</td>\n",
       "      <td>2023-05-28</td>\n",
       "      <td>3265.0</td>\n",
       "      <td>2128.104497</td>\n",
       "      <td>1455.511850</td>\n",
       "      <td>2800.697143</td>\n",
       "      <td>count_34</td>\n",
       "    </tr>\n",
       "    <tr>\n",
       "      <th>794</th>\n",
       "      <td>count_34</td>\n",
       "      <td>2023-06-12</td>\n",
       "      <td>3344.0</td>\n",
       "      <td>2136.199884</td>\n",
       "      <td>1458.617679</td>\n",
       "      <td>2813.782088</td>\n",
       "      <td>count_34</td>\n",
       "    </tr>\n",
       "    <tr>\n",
       "      <th>795</th>\n",
       "      <td>count_34</td>\n",
       "      <td>2023-08-01</td>\n",
       "      <td>3724.0</td>\n",
       "      <td>2077.546176</td>\n",
       "      <td>1252.125399</td>\n",
       "      <td>2902.966952</td>\n",
       "      <td>count_34</td>\n",
       "    </tr>\n",
       "    <tr>\n",
       "      <th>796</th>\n",
       "      <td>count_34</td>\n",
       "      <td>2023-08-03</td>\n",
       "      <td>4874.0</td>\n",
       "      <td>2771.231549</td>\n",
       "      <td>1945.810772</td>\n",
       "      <td>3596.652325</td>\n",
       "      <td>count_34</td>\n",
       "    </tr>\n",
       "    <tr>\n",
       "      <th>797</th>\n",
       "      <td>count_34</td>\n",
       "      <td>2023-08-05</td>\n",
       "      <td>1058.0</td>\n",
       "      <td>2584.470049</td>\n",
       "      <td>1759.049272</td>\n",
       "      <td>3409.890825</td>\n",
       "      <td>count_34</td>\n",
       "    </tr>\n",
       "    <tr>\n",
       "      <th>798</th>\n",
       "      <td>count_34</td>\n",
       "      <td>2023-08-02</td>\n",
       "      <td>3130.0</td>\n",
       "      <td>2172.725222</td>\n",
       "      <td>1410.818694</td>\n",
       "      <td>2934.631750</td>\n",
       "      <td>count_34</td>\n",
       "    </tr>\n",
       "    <tr>\n",
       "      <th>799</th>\n",
       "      <td>count_34</td>\n",
       "      <td>2023-08-04</td>\n",
       "      <td>4725.0</td>\n",
       "      <td>2858.591797</td>\n",
       "      <td>2096.685269</td>\n",
       "      <td>3620.498325</td>\n",
       "      <td>count_34</td>\n",
       "    </tr>\n",
       "    <tr>\n",
       "      <th>800</th>\n",
       "      <td>count_34</td>\n",
       "      <td>2023-11-13</td>\n",
       "      <td>533.0</td>\n",
       "      <td>1390.963814</td>\n",
       "      <td>708.290577</td>\n",
       "      <td>2073.637052</td>\n",
       "      <td>count_34</td>\n",
       "    </tr>\n",
       "    <tr>\n",
       "      <th>801</th>\n",
       "      <td>count_34</td>\n",
       "      <td>2023-12-01</td>\n",
       "      <td>3621.0</td>\n",
       "      <td>1457.318745</td>\n",
       "      <td>678.078118</td>\n",
       "      <td>2236.559373</td>\n",
       "      <td>count_34</td>\n",
       "    </tr>\n",
       "    <tr>\n",
       "      <th>802</th>\n",
       "      <td>count_34</td>\n",
       "      <td>2023-12-02</td>\n",
       "      <td>3648.0</td>\n",
       "      <td>2520.160491</td>\n",
       "      <td>1740.919863</td>\n",
       "      <td>3299.401118</td>\n",
       "      <td>count_34</td>\n",
       "    </tr>\n",
       "    <tr>\n",
       "      <th>803</th>\n",
       "      <td>count_34</td>\n",
       "      <td>2023-12-08</td>\n",
       "      <td>6890.0</td>\n",
       "      <td>2988.707111</td>\n",
       "      <td>2017.772271</td>\n",
       "      <td>3959.641950</td>\n",
       "      <td>count_34</td>\n",
       "    </tr>\n",
       "    <tr>\n",
       "      <th>804</th>\n",
       "      <td>count_34</td>\n",
       "      <td>2023-12-09</td>\n",
       "      <td>6121.0</td>\n",
       "      <td>3496.883436</td>\n",
       "      <td>2627.636210</td>\n",
       "      <td>4366.130663</td>\n",
       "      <td>count_34</td>\n",
       "    </tr>\n",
       "    <tr>\n",
       "      <th>805</th>\n",
       "      <td>count_34</td>\n",
       "      <td>2023-12-11</td>\n",
       "      <td>1998.0</td>\n",
       "      <td>3470.117363</td>\n",
       "      <td>2600.870137</td>\n",
       "      <td>4339.364589</td>\n",
       "      <td>count_34</td>\n",
       "    </tr>\n",
       "    <tr>\n",
       "      <th>806</th>\n",
       "      <td>count_34</td>\n",
       "      <td>2023-12-10</td>\n",
       "      <td>5372.0</td>\n",
       "      <td>2778.421053</td>\n",
       "      <td>1906.160634</td>\n",
       "      <td>3650.681473</td>\n",
       "      <td>count_34</td>\n",
       "    </tr>\n",
       "    <tr>\n",
       "      <th>807</th>\n",
       "      <td>count_34</td>\n",
       "      <td>2023-12-16</td>\n",
       "      <td>4115.0</td>\n",
       "      <td>2837.942272</td>\n",
       "      <td>1965.681852</td>\n",
       "      <td>3710.202691</td>\n",
       "      <td>count_34</td>\n",
       "    </tr>\n",
       "    <tr>\n",
       "      <th>808</th>\n",
       "      <td>count_34</td>\n",
       "      <td>2023-12-24</td>\n",
       "      <td>1514.0</td>\n",
       "      <td>2645.823435</td>\n",
       "      <td>1773.563015</td>\n",
       "      <td>3518.083855</td>\n",
       "      <td>count_34</td>\n",
       "    </tr>\n",
       "    <tr>\n",
       "      <th>809</th>\n",
       "      <td>count_34</td>\n",
       "      <td>2023-12-17</td>\n",
       "      <td>3386.0</td>\n",
       "      <td>2531.329444</td>\n",
       "      <td>1805.901239</td>\n",
       "      <td>3256.757649</td>\n",
       "      <td>count_34</td>\n",
       "    </tr>\n",
       "    <tr>\n",
       "      <th>810</th>\n",
       "      <td>count_34</td>\n",
       "      <td>2023-12-31</td>\n",
       "      <td>1535.0</td>\n",
       "      <td>2282.290676</td>\n",
       "      <td>1556.862471</td>\n",
       "      <td>3007.718881</td>\n",
       "      <td>count_34</td>\n",
       "    </tr>\n",
       "    <tr>\n",
       "      <th>811</th>\n",
       "      <td>count_34</td>\n",
       "      <td>2024-01-02</td>\n",
       "      <td>805.0</td>\n",
       "      <td>1798.182154</td>\n",
       "      <td>1052.324516</td>\n",
       "      <td>2544.039791</td>\n",
       "      <td>count_34</td>\n",
       "    </tr>\n",
       "    <tr>\n",
       "      <th>812</th>\n",
       "      <td>count_34</td>\n",
       "      <td>2024-01-06</td>\n",
       "      <td>1067.0</td>\n",
       "      <td>1813.216330</td>\n",
       "      <td>1067.358693</td>\n",
       "      <td>2559.073968</td>\n",
       "      <td>count_34</td>\n",
       "    </tr>\n",
       "    <tr>\n",
       "      <th>813</th>\n",
       "      <td>count_34</td>\n",
       "      <td>2024-01-01</td>\n",
       "      <td>2485.0</td>\n",
       "      <td>1653.701920</td>\n",
       "      <td>909.271952</td>\n",
       "      <td>2398.131887</td>\n",
       "      <td>count_34</td>\n",
       "    </tr>\n",
       "    <tr>\n",
       "      <th>814</th>\n",
       "      <td>count_34</td>\n",
       "      <td>2024-01-13</td>\n",
       "      <td>732.0</td>\n",
       "      <td>1523.563934</td>\n",
       "      <td>785.977731</td>\n",
       "      <td>2261.150136</td>\n",
       "      <td>count_34</td>\n",
       "    </tr>\n",
       "  </tbody>\n",
       "</table>\n",
       "</div>"
      ],
      "text/plain": [
       "    unique_id         ds       y       fitted      lo_99_7      hi_99_7  \\\n",
       "767  count_34 2021-10-01   296.0  1033.316295   507.934374  1558.698215   \n",
       "768  count_34 2021-12-20   381.0  1078.084510   552.702590  1603.466431   \n",
       "769  count_34 2022-03-18  1822.0  1294.318614   768.936693  1819.700534   \n",
       "770  count_34 2022-04-25  2575.0  1743.814349  1218.432429  2269.196270   \n",
       "771  count_34 2022-06-12  2252.0  1638.605720  1113.223799  2163.987640   \n",
       "772  count_34 2021-10-04   354.0   929.220240   433.466803  1424.973676   \n",
       "773  count_34 2021-12-24   414.0   939.521281   443.767845  1435.274718   \n",
       "774  count_34 2022-03-20   739.0  1410.442732   914.689296  1906.196169   \n",
       "775  count_34 2022-08-08   125.0  1582.170516  1023.619958  2140.721074   \n",
       "776  count_34 2022-08-09  1732.0  1086.054551   527.503993  1644.605109   \n",
       "777  count_34 2022-09-12  1032.0  1680.680126  1162.494683  2198.865568   \n",
       "778  count_34 2022-10-19   685.0  1395.286213   860.654025  1929.918401   \n",
       "779  count_34 2022-11-03  1041.0  1649.907178  1103.846703  2195.967652   \n",
       "780  count_34 2022-12-01  1939.0  1132.881447   560.077405  1705.685489   \n",
       "781  count_34 2022-12-12   739.0  1436.875343   801.092182  2072.658503   \n",
       "782  count_34 2022-12-17  3753.0  1884.511278  1248.728117  2520.294438   \n",
       "783  count_34 2022-12-07   982.0  1600.773722   989.968805  2211.578639   \n",
       "784  count_34 2022-12-27  2350.0  1627.030807  1016.225890  2237.835724   \n",
       "785  count_34 2023-01-07   668.0  1478.214892   864.360337  2092.069446   \n",
       "786  count_34 2022-12-18  2372.0  1739.805087  1120.646293  2358.963882   \n",
       "787  count_34 2023-01-21  1987.0  1299.039128   669.164373  1928.913884   \n",
       "788  count_34 2023-02-11  2614.0  1646.962637   999.964463  2293.960811   \n",
       "789  count_34 2023-04-25  3163.0  2082.389153  1420.747436  2744.030869   \n",
       "790  count_34 2023-04-27   950.0  1697.955566  1052.545877  2343.365256   \n",
       "791  count_34 2023-04-28  1996.0  1333.883061   688.473371  1979.292751   \n",
       "792  count_34 2023-05-27  3676.0  1935.987312  1230.487238  2641.487385   \n",
       "793  count_34 2023-05-28  3265.0  2128.104497  1455.511850  2800.697143   \n",
       "794  count_34 2023-06-12  3344.0  2136.199884  1458.617679  2813.782088   \n",
       "795  count_34 2023-08-01  3724.0  2077.546176  1252.125399  2902.966952   \n",
       "796  count_34 2023-08-03  4874.0  2771.231549  1945.810772  3596.652325   \n",
       "797  count_34 2023-08-05  1058.0  2584.470049  1759.049272  3409.890825   \n",
       "798  count_34 2023-08-02  3130.0  2172.725222  1410.818694  2934.631750   \n",
       "799  count_34 2023-08-04  4725.0  2858.591797  2096.685269  3620.498325   \n",
       "800  count_34 2023-11-13   533.0  1390.963814   708.290577  2073.637052   \n",
       "801  count_34 2023-12-01  3621.0  1457.318745   678.078118  2236.559373   \n",
       "802  count_34 2023-12-02  3648.0  2520.160491  1740.919863  3299.401118   \n",
       "803  count_34 2023-12-08  6890.0  2988.707111  2017.772271  3959.641950   \n",
       "804  count_34 2023-12-09  6121.0  3496.883436  2627.636210  4366.130663   \n",
       "805  count_34 2023-12-11  1998.0  3470.117363  2600.870137  4339.364589   \n",
       "806  count_34 2023-12-10  5372.0  2778.421053  1906.160634  3650.681473   \n",
       "807  count_34 2023-12-16  4115.0  2837.942272  1965.681852  3710.202691   \n",
       "808  count_34 2023-12-24  1514.0  2645.823435  1773.563015  3518.083855   \n",
       "809  count_34 2023-12-17  3386.0  2531.329444  1805.901239  3256.757649   \n",
       "810  count_34 2023-12-31  1535.0  2282.290676  1556.862471  3007.718881   \n",
       "811  count_34 2024-01-02   805.0  1798.182154  1052.324516  2544.039791   \n",
       "812  count_34 2024-01-06  1067.0  1813.216330  1067.358693  2559.073968   \n",
       "813  count_34 2024-01-01  2485.0  1653.701920   909.271952  2398.131887   \n",
       "814  count_34 2024-01-13   732.0  1523.563934   785.977731  2261.150136   \n",
       "\n",
       "     contador  \n",
       "767  count_34  \n",
       "768  count_34  \n",
       "769  count_34  \n",
       "770  count_34  \n",
       "771  count_34  \n",
       "772  count_34  \n",
       "773  count_34  \n",
       "774  count_34  \n",
       "775  count_34  \n",
       "776  count_34  \n",
       "777  count_34  \n",
       "778  count_34  \n",
       "779  count_34  \n",
       "780  count_34  \n",
       "781  count_34  \n",
       "782  count_34  \n",
       "783  count_34  \n",
       "784  count_34  \n",
       "785  count_34  \n",
       "786  count_34  \n",
       "787  count_34  \n",
       "788  count_34  \n",
       "789  count_34  \n",
       "790  count_34  \n",
       "791  count_34  \n",
       "792  count_34  \n",
       "793  count_34  \n",
       "794  count_34  \n",
       "795  count_34  \n",
       "796  count_34  \n",
       "797  count_34  \n",
       "798  count_34  \n",
       "799  count_34  \n",
       "800  count_34  \n",
       "801  count_34  \n",
       "802  count_34  \n",
       "803  count_34  \n",
       "804  count_34  \n",
       "805  count_34  \n",
       "806  count_34  \n",
       "807  count_34  \n",
       "808  count_34  \n",
       "809  count_34  \n",
       "810  count_34  \n",
       "811  count_34  \n",
       "812  count_34  \n",
       "813  count_34  \n",
       "814  count_34  "
      ]
     },
     "metadata": {},
     "output_type": "display_data"
    }
   ],
   "source": [
    "display(df_anomalias_total[df_anomalias_total['unique_id']== 'count_34'])"
   ]
  },
  {
   "cell_type": "code",
   "execution_count": 221,
   "id": "6ed6278b",
   "metadata": {},
   "outputs": [
    {
     "data": {
      "application/vnd.plotly.v1+json": {
       "config": {
        "plotlyServerURL": "https://plot.ly"
       },
       "data": [
        {
         "hovertemplate": "detected=%{x}<br>Contagem=%{y}<extra></extra>",
         "legendgroup": "",
         "line": {
          "color": "#636efa",
          "dash": "solid"
         },
         "marker": {
          "symbol": "circle"
         },
         "mode": "lines",
         "name": "",
         "orientation": "v",
         "showlegend": false,
         "type": "scatter",
         "x": [
          "2021-08-01T00:00:00.000000000",
          "2021-08-02T00:00:00.000000000",
          "2021-08-03T00:00:00.000000000",
          "2021-08-04T00:00:00.000000000",
          "2021-08-05T00:00:00.000000000",
          "2021-08-06T00:00:00.000000000",
          "2021-08-07T00:00:00.000000000",
          "2021-08-08T00:00:00.000000000",
          "2021-08-09T00:00:00.000000000",
          "2021-08-10T00:00:00.000000000",
          "2021-08-11T00:00:00.000000000",
          "2021-08-12T00:00:00.000000000",
          "2021-08-13T00:00:00.000000000",
          "2021-08-14T00:00:00.000000000",
          "2021-08-15T00:00:00.000000000",
          "2021-08-16T00:00:00.000000000",
          "2021-08-17T00:00:00.000000000",
          "2021-08-18T00:00:00.000000000",
          "2021-08-19T00:00:00.000000000",
          "2021-08-20T00:00:00.000000000",
          "2021-08-21T00:00:00.000000000",
          "2021-08-22T00:00:00.000000000",
          "2021-08-23T00:00:00.000000000",
          "2021-08-24T00:00:00.000000000",
          "2021-08-25T00:00:00.000000000",
          "2021-08-26T00:00:00.000000000",
          "2021-08-27T00:00:00.000000000",
          "2021-08-28T00:00:00.000000000",
          "2021-08-29T00:00:00.000000000",
          "2021-08-30T00:00:00.000000000",
          "2021-08-31T00:00:00.000000000",
          "2021-09-01T00:00:00.000000000",
          "2021-09-02T00:00:00.000000000",
          "2021-09-03T00:00:00.000000000",
          "2021-09-04T00:00:00.000000000",
          "2021-09-05T00:00:00.000000000",
          "2021-09-06T00:00:00.000000000",
          "2021-09-07T00:00:00.000000000",
          "2021-09-08T00:00:00.000000000",
          "2021-09-09T00:00:00.000000000",
          "2021-09-10T00:00:00.000000000",
          "2021-09-11T00:00:00.000000000",
          "2021-09-12T00:00:00.000000000",
          "2021-09-13T00:00:00.000000000",
          "2021-09-14T00:00:00.000000000",
          "2021-09-15T00:00:00.000000000",
          "2021-09-16T00:00:00.000000000",
          "2021-09-17T00:00:00.000000000",
          "2021-09-18T00:00:00.000000000",
          "2021-09-19T00:00:00.000000000",
          "2021-09-20T00:00:00.000000000",
          "2021-09-21T00:00:00.000000000",
          "2021-09-22T00:00:00.000000000",
          "2021-09-23T00:00:00.000000000",
          "2021-09-24T00:00:00.000000000",
          "2021-09-25T00:00:00.000000000",
          "2021-09-26T00:00:00.000000000",
          "2021-09-27T00:00:00.000000000",
          "2021-09-28T00:00:00.000000000",
          "2021-09-29T00:00:00.000000000",
          "2021-09-30T00:00:00.000000000",
          "2021-10-01T00:00:00.000000000",
          "2021-10-02T00:00:00.000000000",
          "2021-10-03T00:00:00.000000000",
          "2021-10-04T00:00:00.000000000",
          "2021-10-05T00:00:00.000000000",
          "2021-10-06T00:00:00.000000000",
          "2021-10-07T00:00:00.000000000",
          "2021-10-08T00:00:00.000000000",
          "2021-10-09T00:00:00.000000000",
          "2021-10-10T00:00:00.000000000",
          "2021-10-11T00:00:00.000000000",
          "2021-10-12T00:00:00.000000000",
          "2021-10-13T00:00:00.000000000",
          "2021-10-14T00:00:00.000000000",
          "2021-10-15T00:00:00.000000000",
          "2021-10-16T00:00:00.000000000",
          "2021-10-17T00:00:00.000000000",
          "2021-10-18T00:00:00.000000000",
          "2021-10-19T00:00:00.000000000",
          "2021-10-20T00:00:00.000000000",
          "2021-10-21T00:00:00.000000000",
          "2021-10-22T00:00:00.000000000",
          "2021-10-23T00:00:00.000000000",
          "2021-10-24T00:00:00.000000000",
          "2021-10-25T00:00:00.000000000",
          "2021-10-26T00:00:00.000000000",
          "2021-10-27T00:00:00.000000000",
          "2021-10-28T00:00:00.000000000",
          "2021-10-29T00:00:00.000000000",
          "2021-10-30T00:00:00.000000000",
          "2021-10-31T00:00:00.000000000",
          "2021-11-01T00:00:00.000000000",
          "2021-11-02T00:00:00.000000000",
          "2021-11-03T00:00:00.000000000",
          "2021-11-04T00:00:00.000000000",
          "2021-11-05T00:00:00.000000000",
          "2021-11-06T00:00:00.000000000",
          "2021-11-07T00:00:00.000000000",
          "2021-11-08T00:00:00.000000000",
          "2021-11-09T00:00:00.000000000",
          "2021-11-10T00:00:00.000000000",
          "2021-11-11T00:00:00.000000000",
          "2021-11-12T00:00:00.000000000",
          "2021-11-13T00:00:00.000000000",
          "2021-11-14T00:00:00.000000000",
          "2021-11-15T00:00:00.000000000",
          "2021-11-16T00:00:00.000000000",
          "2021-11-17T00:00:00.000000000",
          "2021-11-18T00:00:00.000000000",
          "2021-11-19T00:00:00.000000000",
          "2021-11-20T00:00:00.000000000",
          "2021-11-21T00:00:00.000000000",
          "2021-11-22T00:00:00.000000000",
          "2021-11-23T00:00:00.000000000",
          "2021-11-24T00:00:00.000000000",
          "2021-11-25T00:00:00.000000000",
          "2021-11-26T00:00:00.000000000",
          "2021-11-27T00:00:00.000000000",
          "2021-11-28T00:00:00.000000000",
          "2021-11-29T00:00:00.000000000",
          "2021-11-30T00:00:00.000000000",
          "2021-12-01T00:00:00.000000000",
          "2021-12-02T00:00:00.000000000",
          "2021-12-03T00:00:00.000000000",
          "2021-12-04T00:00:00.000000000",
          "2021-12-05T00:00:00.000000000",
          "2021-12-06T00:00:00.000000000",
          "2021-12-07T00:00:00.000000000",
          "2021-12-08T00:00:00.000000000",
          "2021-12-09T00:00:00.000000000",
          "2021-12-10T00:00:00.000000000",
          "2021-12-11T00:00:00.000000000",
          "2021-12-12T00:00:00.000000000",
          "2021-12-13T00:00:00.000000000",
          "2021-12-14T00:00:00.000000000",
          "2021-12-15T00:00:00.000000000",
          "2021-12-16T00:00:00.000000000",
          "2021-12-17T00:00:00.000000000",
          "2021-12-18T00:00:00.000000000",
          "2021-12-19T00:00:00.000000000",
          "2021-12-20T00:00:00.000000000",
          "2021-12-21T00:00:00.000000000",
          "2021-12-22T00:00:00.000000000",
          "2021-12-23T00:00:00.000000000",
          "2021-12-24T00:00:00.000000000",
          "2021-12-25T00:00:00.000000000",
          "2021-12-26T00:00:00.000000000",
          "2021-12-27T00:00:00.000000000",
          "2021-12-28T00:00:00.000000000",
          "2021-12-29T00:00:00.000000000",
          "2021-12-30T00:00:00.000000000",
          "2021-12-31T00:00:00.000000000",
          "2022-01-01T00:00:00.000000000",
          "2022-01-02T00:00:00.000000000",
          "2022-01-03T00:00:00.000000000",
          "2022-01-04T00:00:00.000000000",
          "2022-01-05T00:00:00.000000000",
          "2022-01-06T00:00:00.000000000",
          "2022-01-07T00:00:00.000000000",
          "2022-01-08T00:00:00.000000000",
          "2022-01-09T00:00:00.000000000",
          "2022-01-10T00:00:00.000000000",
          "2022-01-11T00:00:00.000000000",
          "2022-01-12T00:00:00.000000000",
          "2022-01-13T00:00:00.000000000",
          "2022-01-14T00:00:00.000000000",
          "2022-01-15T00:00:00.000000000",
          "2022-01-16T00:00:00.000000000",
          "2022-01-17T00:00:00.000000000",
          "2022-01-18T00:00:00.000000000",
          "2022-01-19T00:00:00.000000000",
          "2022-01-20T00:00:00.000000000",
          "2022-01-21T00:00:00.000000000",
          "2022-01-22T00:00:00.000000000",
          "2022-01-23T00:00:00.000000000",
          "2022-01-24T00:00:00.000000000",
          "2022-01-25T00:00:00.000000000",
          "2022-01-26T00:00:00.000000000",
          "2022-01-27T00:00:00.000000000",
          "2022-01-28T00:00:00.000000000",
          "2022-01-29T00:00:00.000000000",
          "2022-01-30T00:00:00.000000000",
          "2022-01-31T00:00:00.000000000",
          "2022-02-01T00:00:00.000000000",
          "2022-02-02T00:00:00.000000000",
          "2022-02-03T00:00:00.000000000",
          "2022-02-04T00:00:00.000000000",
          "2022-02-05T00:00:00.000000000",
          "2022-02-06T00:00:00.000000000",
          "2022-02-07T00:00:00.000000000",
          "2022-02-08T00:00:00.000000000",
          "2022-02-09T00:00:00.000000000",
          "2022-02-10T00:00:00.000000000",
          "2022-02-11T00:00:00.000000000",
          "2022-02-12T00:00:00.000000000",
          "2022-02-13T00:00:00.000000000",
          "2022-02-14T00:00:00.000000000",
          "2022-02-15T00:00:00.000000000",
          "2022-02-16T00:00:00.000000000",
          "2022-02-17T00:00:00.000000000",
          "2022-02-18T00:00:00.000000000",
          "2022-02-19T00:00:00.000000000",
          "2022-02-20T00:00:00.000000000",
          "2022-02-21T00:00:00.000000000",
          "2022-02-22T00:00:00.000000000",
          "2022-02-23T00:00:00.000000000",
          "2022-02-24T00:00:00.000000000",
          "2022-02-25T00:00:00.000000000",
          "2022-02-26T00:00:00.000000000",
          "2022-02-27T00:00:00.000000000",
          "2022-02-28T00:00:00.000000000",
          "2022-03-01T00:00:00.000000000",
          "2022-03-02T00:00:00.000000000",
          "2022-03-03T00:00:00.000000000",
          "2022-03-04T00:00:00.000000000",
          "2022-03-05T00:00:00.000000000",
          "2022-03-06T00:00:00.000000000",
          "2022-03-07T00:00:00.000000000",
          "2022-03-08T00:00:00.000000000",
          "2022-03-09T00:00:00.000000000",
          "2022-03-10T00:00:00.000000000",
          "2022-03-11T00:00:00.000000000",
          "2022-03-12T00:00:00.000000000",
          "2022-03-13T00:00:00.000000000",
          "2022-03-14T00:00:00.000000000",
          "2022-03-15T00:00:00.000000000",
          "2022-03-16T00:00:00.000000000",
          "2022-03-17T00:00:00.000000000",
          "2022-03-18T00:00:00.000000000",
          "2022-03-19T00:00:00.000000000",
          "2022-03-20T00:00:00.000000000",
          "2022-03-21T00:00:00.000000000",
          "2022-03-22T00:00:00.000000000",
          "2022-03-23T00:00:00.000000000",
          "2022-03-24T00:00:00.000000000",
          "2022-03-25T00:00:00.000000000",
          "2022-03-26T00:00:00.000000000",
          "2022-03-27T00:00:00.000000000",
          "2022-03-28T00:00:00.000000000",
          "2022-03-29T00:00:00.000000000",
          "2022-03-30T00:00:00.000000000",
          "2022-03-31T00:00:00.000000000",
          "2022-04-01T00:00:00.000000000",
          "2022-04-02T00:00:00.000000000",
          "2022-04-03T00:00:00.000000000",
          "2022-04-04T00:00:00.000000000",
          "2022-04-05T00:00:00.000000000",
          "2022-04-06T00:00:00.000000000",
          "2022-04-07T00:00:00.000000000",
          "2022-04-08T00:00:00.000000000",
          "2022-04-09T00:00:00.000000000",
          "2022-04-10T00:00:00.000000000",
          "2022-04-11T00:00:00.000000000",
          "2022-04-12T00:00:00.000000000",
          "2022-04-13T00:00:00.000000000",
          "2022-04-14T00:00:00.000000000",
          "2022-04-15T00:00:00.000000000",
          "2022-04-16T00:00:00.000000000",
          "2022-04-17T00:00:00.000000000",
          "2022-04-18T00:00:00.000000000",
          "2022-04-19T00:00:00.000000000",
          "2022-04-20T00:00:00.000000000",
          "2022-04-21T00:00:00.000000000",
          "2022-04-22T00:00:00.000000000",
          "2022-04-23T00:00:00.000000000",
          "2022-04-24T00:00:00.000000000",
          "2022-04-25T00:00:00.000000000",
          "2022-04-26T00:00:00.000000000",
          "2022-04-27T00:00:00.000000000",
          "2022-04-28T00:00:00.000000000",
          "2022-04-29T00:00:00.000000000",
          "2022-04-30T00:00:00.000000000",
          "2022-05-01T00:00:00.000000000",
          "2022-05-02T00:00:00.000000000",
          "2022-05-03T00:00:00.000000000",
          "2022-05-04T00:00:00.000000000",
          "2022-05-05T00:00:00.000000000",
          "2022-05-06T00:00:00.000000000",
          "2022-05-07T00:00:00.000000000",
          "2022-05-08T00:00:00.000000000",
          "2022-05-09T00:00:00.000000000",
          "2022-05-10T00:00:00.000000000",
          "2022-05-11T00:00:00.000000000",
          "2022-05-12T00:00:00.000000000",
          "2022-05-13T00:00:00.000000000",
          "2022-05-14T00:00:00.000000000",
          "2022-05-15T00:00:00.000000000",
          "2022-05-16T00:00:00.000000000",
          "2022-05-17T00:00:00.000000000",
          "2022-05-18T00:00:00.000000000",
          "2022-05-19T00:00:00.000000000",
          "2022-05-20T00:00:00.000000000",
          "2022-05-21T00:00:00.000000000",
          "2022-05-22T00:00:00.000000000",
          "2022-05-23T00:00:00.000000000",
          "2022-05-24T00:00:00.000000000",
          "2022-05-25T00:00:00.000000000",
          "2022-05-26T00:00:00.000000000",
          "2022-05-27T00:00:00.000000000",
          "2022-05-28T00:00:00.000000000",
          "2022-05-29T00:00:00.000000000",
          "2022-05-30T00:00:00.000000000",
          "2022-05-31T00:00:00.000000000",
          "2022-06-01T00:00:00.000000000",
          "2022-06-02T00:00:00.000000000",
          "2022-06-03T00:00:00.000000000",
          "2022-06-04T00:00:00.000000000",
          "2022-06-05T00:00:00.000000000",
          "2022-06-06T00:00:00.000000000",
          "2022-06-07T00:00:00.000000000",
          "2022-06-08T00:00:00.000000000",
          "2022-06-09T00:00:00.000000000",
          "2022-06-10T00:00:00.000000000",
          "2022-06-11T00:00:00.000000000",
          "2022-06-12T00:00:00.000000000",
          "2022-06-13T00:00:00.000000000",
          "2022-06-14T00:00:00.000000000",
          "2022-06-15T00:00:00.000000000",
          "2022-06-16T00:00:00.000000000",
          "2022-06-17T00:00:00.000000000",
          "2022-06-18T00:00:00.000000000",
          "2022-06-19T00:00:00.000000000",
          "2022-06-20T00:00:00.000000000",
          "2022-06-21T00:00:00.000000000",
          "2022-06-22T00:00:00.000000000",
          "2022-06-23T00:00:00.000000000",
          "2022-06-24T00:00:00.000000000",
          "2022-06-25T00:00:00.000000000",
          "2022-06-26T00:00:00.000000000",
          "2022-06-27T00:00:00.000000000",
          "2022-06-28T00:00:00.000000000",
          "2022-06-29T00:00:00.000000000",
          "2022-06-30T00:00:00.000000000",
          "2022-07-01T00:00:00.000000000",
          "2022-07-02T00:00:00.000000000",
          "2022-07-03T00:00:00.000000000",
          "2022-07-04T00:00:00.000000000",
          "2022-07-05T00:00:00.000000000",
          "2022-07-06T00:00:00.000000000",
          "2022-07-07T00:00:00.000000000",
          "2022-07-08T00:00:00.000000000",
          "2022-07-09T00:00:00.000000000",
          "2022-07-10T00:00:00.000000000",
          "2022-07-11T00:00:00.000000000",
          "2022-07-12T00:00:00.000000000",
          "2022-07-13T00:00:00.000000000",
          "2022-07-14T00:00:00.000000000",
          "2022-07-15T00:00:00.000000000",
          "2022-07-16T00:00:00.000000000",
          "2022-07-17T00:00:00.000000000",
          "2022-07-18T00:00:00.000000000",
          "2022-07-19T00:00:00.000000000",
          "2022-07-20T00:00:00.000000000",
          "2022-07-21T00:00:00.000000000",
          "2022-07-22T00:00:00.000000000",
          "2022-07-23T00:00:00.000000000",
          "2022-07-24T00:00:00.000000000",
          "2022-07-25T00:00:00.000000000",
          "2022-07-26T00:00:00.000000000",
          "2022-07-27T00:00:00.000000000",
          "2022-07-28T00:00:00.000000000",
          "2022-07-29T00:00:00.000000000",
          "2022-07-30T00:00:00.000000000",
          "2022-07-31T00:00:00.000000000",
          "2022-08-01T00:00:00.000000000",
          "2022-08-02T00:00:00.000000000",
          "2022-08-03T00:00:00.000000000",
          "2022-08-04T00:00:00.000000000",
          "2022-08-05T00:00:00.000000000",
          "2022-08-06T00:00:00.000000000",
          "2022-08-07T00:00:00.000000000",
          "2022-08-08T00:00:00.000000000",
          "2022-08-09T00:00:00.000000000",
          "2022-08-10T00:00:00.000000000",
          "2022-08-11T00:00:00.000000000",
          "2022-08-12T00:00:00.000000000",
          "2022-08-13T00:00:00.000000000",
          "2022-08-14T00:00:00.000000000",
          "2022-08-15T00:00:00.000000000",
          "2022-08-16T00:00:00.000000000",
          "2022-08-17T00:00:00.000000000",
          "2022-08-18T00:00:00.000000000",
          "2022-08-19T00:00:00.000000000",
          "2022-08-20T00:00:00.000000000",
          "2022-08-21T00:00:00.000000000",
          "2022-08-22T00:00:00.000000000",
          "2022-08-23T00:00:00.000000000",
          "2022-08-24T00:00:00.000000000",
          "2022-08-25T00:00:00.000000000",
          "2022-08-26T00:00:00.000000000",
          "2022-08-27T00:00:00.000000000",
          "2022-08-28T00:00:00.000000000",
          "2022-08-29T00:00:00.000000000",
          "2022-08-30T00:00:00.000000000",
          "2022-08-31T00:00:00.000000000",
          "2022-09-01T00:00:00.000000000",
          "2022-09-02T00:00:00.000000000",
          "2022-09-03T00:00:00.000000000",
          "2022-09-04T00:00:00.000000000",
          "2022-09-05T00:00:00.000000000",
          "2022-09-06T00:00:00.000000000",
          "2022-09-07T00:00:00.000000000",
          "2022-09-08T00:00:00.000000000",
          "2022-09-09T00:00:00.000000000",
          "2022-09-10T00:00:00.000000000",
          "2022-09-11T00:00:00.000000000",
          "2022-09-12T00:00:00.000000000",
          "2022-09-13T00:00:00.000000000",
          "2022-09-14T00:00:00.000000000",
          "2022-09-15T00:00:00.000000000",
          "2022-09-16T00:00:00.000000000",
          "2022-09-17T00:00:00.000000000",
          "2022-09-18T00:00:00.000000000",
          "2022-09-19T00:00:00.000000000",
          "2022-09-20T00:00:00.000000000",
          "2022-09-21T00:00:00.000000000",
          "2022-09-22T00:00:00.000000000",
          "2022-09-23T00:00:00.000000000",
          "2022-09-24T00:00:00.000000000",
          "2022-09-25T00:00:00.000000000",
          "2022-09-26T00:00:00.000000000",
          "2022-09-27T00:00:00.000000000",
          "2022-09-28T00:00:00.000000000",
          "2022-09-29T00:00:00.000000000",
          "2022-09-30T00:00:00.000000000",
          "2022-10-01T00:00:00.000000000",
          "2022-10-02T00:00:00.000000000",
          "2022-10-03T00:00:00.000000000",
          "2022-10-04T00:00:00.000000000",
          "2022-10-05T00:00:00.000000000",
          "2022-10-06T00:00:00.000000000",
          "2022-10-07T00:00:00.000000000",
          "2022-10-08T00:00:00.000000000",
          "2022-10-09T00:00:00.000000000",
          "2022-10-10T00:00:00.000000000",
          "2022-10-11T00:00:00.000000000",
          "2022-10-12T00:00:00.000000000",
          "2022-10-13T00:00:00.000000000",
          "2022-10-14T00:00:00.000000000",
          "2022-10-15T00:00:00.000000000",
          "2022-10-16T00:00:00.000000000",
          "2022-10-17T00:00:00.000000000",
          "2022-10-18T00:00:00.000000000",
          "2022-10-19T00:00:00.000000000",
          "2022-10-20T00:00:00.000000000",
          "2022-10-21T00:00:00.000000000",
          "2022-10-22T00:00:00.000000000",
          "2022-10-23T00:00:00.000000000",
          "2022-10-24T00:00:00.000000000",
          "2022-10-25T00:00:00.000000000",
          "2022-10-26T00:00:00.000000000",
          "2022-10-27T00:00:00.000000000",
          "2022-10-28T00:00:00.000000000",
          "2022-10-29T00:00:00.000000000",
          "2022-10-30T00:00:00.000000000",
          "2022-10-31T00:00:00.000000000",
          "2022-11-01T00:00:00.000000000",
          "2022-11-02T00:00:00.000000000",
          "2022-11-03T00:00:00.000000000",
          "2022-11-04T00:00:00.000000000",
          "2022-11-05T00:00:00.000000000",
          "2022-11-06T00:00:00.000000000",
          "2022-11-07T00:00:00.000000000",
          "2022-11-08T00:00:00.000000000",
          "2022-11-09T00:00:00.000000000",
          "2022-11-10T00:00:00.000000000",
          "2022-11-11T00:00:00.000000000",
          "2022-11-12T00:00:00.000000000",
          "2022-11-13T00:00:00.000000000",
          "2022-11-14T00:00:00.000000000",
          "2022-11-15T00:00:00.000000000",
          "2022-11-16T00:00:00.000000000",
          "2022-11-17T00:00:00.000000000",
          "2022-11-18T00:00:00.000000000",
          "2022-11-19T00:00:00.000000000",
          "2022-11-20T00:00:00.000000000",
          "2022-11-21T00:00:00.000000000",
          "2022-11-22T00:00:00.000000000",
          "2022-11-23T00:00:00.000000000",
          "2022-11-24T00:00:00.000000000",
          "2022-11-25T00:00:00.000000000",
          "2022-11-26T00:00:00.000000000",
          "2022-11-27T00:00:00.000000000",
          "2022-11-28T00:00:00.000000000",
          "2022-11-29T00:00:00.000000000",
          "2022-11-30T00:00:00.000000000",
          "2022-12-01T00:00:00.000000000",
          "2022-12-02T00:00:00.000000000",
          "2022-12-03T00:00:00.000000000",
          "2022-12-04T00:00:00.000000000",
          "2022-12-05T00:00:00.000000000",
          "2022-12-06T00:00:00.000000000",
          "2022-12-07T00:00:00.000000000",
          "2022-12-08T00:00:00.000000000",
          "2022-12-09T00:00:00.000000000",
          "2022-12-10T00:00:00.000000000",
          "2022-12-11T00:00:00.000000000",
          "2022-12-12T00:00:00.000000000",
          "2022-12-13T00:00:00.000000000",
          "2022-12-14T00:00:00.000000000",
          "2022-12-15T00:00:00.000000000",
          "2022-12-16T00:00:00.000000000",
          "2022-12-17T00:00:00.000000000",
          "2022-12-18T00:00:00.000000000",
          "2022-12-19T00:00:00.000000000",
          "2022-12-20T00:00:00.000000000",
          "2022-12-21T00:00:00.000000000",
          "2022-12-22T00:00:00.000000000",
          "2022-12-23T00:00:00.000000000",
          "2022-12-24T00:00:00.000000000",
          "2022-12-25T00:00:00.000000000",
          "2022-12-26T00:00:00.000000000",
          "2022-12-27T00:00:00.000000000",
          "2022-12-28T00:00:00.000000000",
          "2022-12-29T00:00:00.000000000",
          "2022-12-30T00:00:00.000000000",
          "2022-12-31T00:00:00.000000000",
          "2023-01-01T00:00:00.000000000",
          "2023-01-02T00:00:00.000000000",
          "2023-01-03T00:00:00.000000000",
          "2023-01-04T00:00:00.000000000",
          "2023-01-05T00:00:00.000000000",
          "2023-01-06T00:00:00.000000000",
          "2023-01-07T00:00:00.000000000",
          "2023-01-08T00:00:00.000000000",
          "2023-01-09T00:00:00.000000000",
          "2023-01-10T00:00:00.000000000",
          "2023-01-11T00:00:00.000000000",
          "2023-01-12T00:00:00.000000000",
          "2023-01-13T00:00:00.000000000",
          "2023-01-14T00:00:00.000000000",
          "2023-01-15T00:00:00.000000000",
          "2023-01-16T00:00:00.000000000",
          "2023-01-17T00:00:00.000000000",
          "2023-01-18T00:00:00.000000000",
          "2023-01-19T00:00:00.000000000",
          "2023-01-20T00:00:00.000000000",
          "2023-01-21T00:00:00.000000000",
          "2023-01-22T00:00:00.000000000",
          "2023-01-23T00:00:00.000000000",
          "2023-01-24T00:00:00.000000000",
          "2023-01-25T00:00:00.000000000",
          "2023-01-26T00:00:00.000000000",
          "2023-01-27T00:00:00.000000000",
          "2023-01-28T00:00:00.000000000",
          "2023-01-29T00:00:00.000000000",
          "2023-01-30T00:00:00.000000000",
          "2023-01-31T00:00:00.000000000",
          "2023-02-01T00:00:00.000000000",
          "2023-02-02T00:00:00.000000000",
          "2023-02-03T00:00:00.000000000",
          "2023-02-04T00:00:00.000000000",
          "2023-02-05T00:00:00.000000000",
          "2023-02-06T00:00:00.000000000",
          "2023-02-07T00:00:00.000000000",
          "2023-02-08T00:00:00.000000000",
          "2023-02-09T00:00:00.000000000",
          "2023-02-10T00:00:00.000000000",
          "2023-02-11T00:00:00.000000000",
          "2023-02-12T00:00:00.000000000",
          "2023-02-13T00:00:00.000000000",
          "2023-02-14T00:00:00.000000000",
          "2023-02-15T00:00:00.000000000",
          "2023-02-16T00:00:00.000000000",
          "2023-02-17T00:00:00.000000000",
          "2023-02-18T00:00:00.000000000",
          "2023-02-19T00:00:00.000000000",
          "2023-02-20T00:00:00.000000000",
          "2023-02-21T00:00:00.000000000",
          "2023-02-22T00:00:00.000000000",
          "2023-02-23T00:00:00.000000000",
          "2023-02-24T00:00:00.000000000",
          "2023-02-25T00:00:00.000000000",
          "2023-02-26T00:00:00.000000000",
          "2023-02-27T00:00:00.000000000",
          "2023-02-28T00:00:00.000000000",
          "2023-03-01T00:00:00.000000000",
          "2023-03-02T00:00:00.000000000",
          "2023-03-03T00:00:00.000000000",
          "2023-03-04T00:00:00.000000000",
          "2023-03-05T00:00:00.000000000",
          "2023-03-06T00:00:00.000000000",
          "2023-03-07T00:00:00.000000000",
          "2023-03-08T00:00:00.000000000",
          "2023-03-09T00:00:00.000000000",
          "2023-03-10T00:00:00.000000000",
          "2023-03-11T00:00:00.000000000",
          "2023-03-12T00:00:00.000000000",
          "2023-03-13T00:00:00.000000000",
          "2023-03-14T00:00:00.000000000",
          "2023-03-15T00:00:00.000000000",
          "2023-03-16T00:00:00.000000000",
          "2023-03-17T00:00:00.000000000",
          "2023-03-18T00:00:00.000000000",
          "2023-03-19T00:00:00.000000000",
          "2023-03-20T00:00:00.000000000",
          "2023-03-21T00:00:00.000000000",
          "2023-03-22T00:00:00.000000000",
          "2023-03-23T00:00:00.000000000",
          "2023-03-24T00:00:00.000000000",
          "2023-03-25T00:00:00.000000000",
          "2023-03-26T00:00:00.000000000",
          "2023-03-27T00:00:00.000000000",
          "2023-03-28T00:00:00.000000000",
          "2023-03-29T00:00:00.000000000",
          "2023-03-30T00:00:00.000000000",
          "2023-03-31T00:00:00.000000000",
          "2023-04-01T00:00:00.000000000",
          "2023-04-02T00:00:00.000000000",
          "2023-04-03T00:00:00.000000000",
          "2023-04-04T00:00:00.000000000",
          "2023-04-05T00:00:00.000000000",
          "2023-04-06T00:00:00.000000000",
          "2023-04-07T00:00:00.000000000",
          "2023-04-08T00:00:00.000000000",
          "2023-04-09T00:00:00.000000000",
          "2023-04-10T00:00:00.000000000",
          "2023-04-11T00:00:00.000000000",
          "2023-04-12T00:00:00.000000000",
          "2023-04-13T00:00:00.000000000",
          "2023-04-14T00:00:00.000000000",
          "2023-04-15T00:00:00.000000000",
          "2023-04-16T00:00:00.000000000",
          "2023-04-17T00:00:00.000000000",
          "2023-04-18T00:00:00.000000000",
          "2023-04-19T00:00:00.000000000",
          "2023-04-20T00:00:00.000000000",
          "2023-04-21T00:00:00.000000000",
          "2023-04-22T00:00:00.000000000",
          "2023-04-23T00:00:00.000000000",
          "2023-04-24T00:00:00.000000000",
          "2023-04-25T00:00:00.000000000",
          "2023-04-26T00:00:00.000000000",
          "2023-04-27T00:00:00.000000000",
          "2023-04-28T00:00:00.000000000",
          "2023-04-29T00:00:00.000000000",
          "2023-04-30T00:00:00.000000000",
          "2023-05-01T00:00:00.000000000",
          "2023-05-02T00:00:00.000000000",
          "2023-05-03T00:00:00.000000000",
          "2023-05-04T00:00:00.000000000",
          "2023-05-05T00:00:00.000000000",
          "2023-05-06T00:00:00.000000000",
          "2023-05-07T00:00:00.000000000",
          "2023-05-08T00:00:00.000000000",
          "2023-05-09T00:00:00.000000000",
          "2023-05-10T00:00:00.000000000",
          "2023-05-11T00:00:00.000000000",
          "2023-05-12T00:00:00.000000000",
          "2023-05-13T00:00:00.000000000",
          "2023-05-14T00:00:00.000000000",
          "2023-05-15T00:00:00.000000000",
          "2023-05-16T00:00:00.000000000",
          "2023-05-17T00:00:00.000000000",
          "2023-05-18T00:00:00.000000000",
          "2023-05-19T00:00:00.000000000",
          "2023-05-20T00:00:00.000000000",
          "2023-05-21T00:00:00.000000000",
          "2023-05-22T00:00:00.000000000",
          "2023-05-23T00:00:00.000000000",
          "2023-05-24T00:00:00.000000000",
          "2023-05-25T00:00:00.000000000",
          "2023-05-26T00:00:00.000000000",
          "2023-05-27T00:00:00.000000000",
          "2023-05-28T00:00:00.000000000",
          "2023-05-29T00:00:00.000000000",
          "2023-05-30T00:00:00.000000000",
          "2023-05-31T00:00:00.000000000",
          "2023-06-01T00:00:00.000000000",
          "2023-06-02T00:00:00.000000000",
          "2023-06-03T00:00:00.000000000",
          "2023-06-04T00:00:00.000000000",
          "2023-06-05T00:00:00.000000000",
          "2023-06-06T00:00:00.000000000",
          "2023-06-07T00:00:00.000000000",
          "2023-06-08T00:00:00.000000000",
          "2023-06-09T00:00:00.000000000",
          "2023-06-10T00:00:00.000000000",
          "2023-06-11T00:00:00.000000000",
          "2023-06-12T00:00:00.000000000",
          "2023-06-13T00:00:00.000000000",
          "2023-06-14T00:00:00.000000000",
          "2023-06-15T00:00:00.000000000",
          "2023-06-16T00:00:00.000000000",
          "2023-06-17T00:00:00.000000000",
          "2023-06-18T00:00:00.000000000",
          "2023-06-19T00:00:00.000000000",
          "2023-06-20T00:00:00.000000000",
          "2023-06-21T00:00:00.000000000",
          "2023-06-22T00:00:00.000000000",
          "2023-06-23T00:00:00.000000000",
          "2023-06-24T00:00:00.000000000",
          "2023-06-25T00:00:00.000000000",
          "2023-06-26T00:00:00.000000000",
          "2023-06-27T00:00:00.000000000",
          "2023-06-28T00:00:00.000000000",
          "2023-06-29T00:00:00.000000000",
          "2023-06-30T00:00:00.000000000",
          "2023-07-01T00:00:00.000000000",
          "2023-07-02T00:00:00.000000000",
          "2023-07-03T00:00:00.000000000",
          "2023-07-04T00:00:00.000000000",
          "2023-07-05T00:00:00.000000000",
          "2023-07-06T00:00:00.000000000",
          "2023-07-07T00:00:00.000000000",
          "2023-07-08T00:00:00.000000000",
          "2023-07-09T00:00:00.000000000",
          "2023-07-10T00:00:00.000000000",
          "2023-07-11T00:00:00.000000000",
          "2023-07-12T00:00:00.000000000",
          "2023-07-13T00:00:00.000000000",
          "2023-07-14T00:00:00.000000000",
          "2023-07-15T00:00:00.000000000",
          "2023-07-16T00:00:00.000000000",
          "2023-07-17T00:00:00.000000000",
          "2023-07-18T00:00:00.000000000",
          "2023-07-19T00:00:00.000000000",
          "2023-07-20T00:00:00.000000000",
          "2023-07-21T00:00:00.000000000",
          "2023-07-22T00:00:00.000000000",
          "2023-07-23T00:00:00.000000000",
          "2023-07-24T00:00:00.000000000",
          "2023-07-25T00:00:00.000000000",
          "2023-07-26T00:00:00.000000000",
          "2023-07-27T00:00:00.000000000",
          "2023-07-28T00:00:00.000000000",
          "2023-07-29T00:00:00.000000000",
          "2023-07-30T00:00:00.000000000",
          "2023-07-31T00:00:00.000000000",
          "2023-08-01T00:00:00.000000000",
          "2023-08-02T00:00:00.000000000",
          "2023-08-03T00:00:00.000000000",
          "2023-08-04T00:00:00.000000000",
          "2023-08-05T00:00:00.000000000",
          "2023-08-06T00:00:00.000000000",
          "2023-08-07T00:00:00.000000000",
          "2023-08-08T00:00:00.000000000",
          "2023-08-09T00:00:00.000000000",
          "2023-08-10T00:00:00.000000000",
          "2023-08-11T00:00:00.000000000",
          "2023-08-12T00:00:00.000000000",
          "2023-08-13T00:00:00.000000000",
          "2023-08-14T00:00:00.000000000",
          "2023-08-15T00:00:00.000000000",
          "2023-08-16T00:00:00.000000000",
          "2023-08-17T00:00:00.000000000",
          "2023-08-18T00:00:00.000000000",
          "2023-08-19T00:00:00.000000000",
          "2023-08-20T00:00:00.000000000",
          "2023-08-21T00:00:00.000000000",
          "2023-08-22T00:00:00.000000000",
          "2023-08-23T00:00:00.000000000",
          "2023-08-24T00:00:00.000000000",
          "2023-08-25T00:00:00.000000000",
          "2023-08-26T00:00:00.000000000",
          "2023-08-27T00:00:00.000000000",
          "2023-08-28T00:00:00.000000000",
          "2023-08-29T00:00:00.000000000",
          "2023-08-30T00:00:00.000000000",
          "2023-08-31T00:00:00.000000000",
          "2023-09-01T00:00:00.000000000",
          "2023-09-02T00:00:00.000000000",
          "2023-09-03T00:00:00.000000000",
          "2023-09-04T00:00:00.000000000",
          "2023-09-05T00:00:00.000000000",
          "2023-09-06T00:00:00.000000000",
          "2023-09-07T00:00:00.000000000",
          "2023-09-08T00:00:00.000000000",
          "2023-09-09T00:00:00.000000000",
          "2023-09-10T00:00:00.000000000",
          "2023-09-11T00:00:00.000000000",
          "2023-09-12T00:00:00.000000000",
          "2023-09-13T00:00:00.000000000",
          "2023-09-14T00:00:00.000000000",
          "2023-09-15T00:00:00.000000000",
          "2023-09-16T00:00:00.000000000",
          "2023-09-17T00:00:00.000000000",
          "2023-09-18T00:00:00.000000000",
          "2023-09-19T00:00:00.000000000",
          "2023-09-20T00:00:00.000000000",
          "2023-09-21T00:00:00.000000000",
          "2023-09-22T00:00:00.000000000",
          "2023-09-23T00:00:00.000000000",
          "2023-09-24T00:00:00.000000000",
          "2023-09-25T00:00:00.000000000",
          "2023-09-26T00:00:00.000000000",
          "2023-09-27T00:00:00.000000000",
          "2023-09-28T00:00:00.000000000",
          "2023-09-29T00:00:00.000000000",
          "2023-09-30T00:00:00.000000000",
          "2023-10-01T00:00:00.000000000",
          "2023-10-02T00:00:00.000000000",
          "2023-10-03T00:00:00.000000000",
          "2023-10-04T00:00:00.000000000",
          "2023-10-05T00:00:00.000000000",
          "2023-10-06T00:00:00.000000000",
          "2023-10-07T00:00:00.000000000",
          "2023-10-08T00:00:00.000000000",
          "2023-10-09T00:00:00.000000000",
          "2023-10-10T00:00:00.000000000",
          "2023-10-11T00:00:00.000000000",
          "2023-10-12T00:00:00.000000000",
          "2023-10-13T00:00:00.000000000",
          "2023-10-14T00:00:00.000000000",
          "2023-10-15T00:00:00.000000000",
          "2023-10-16T00:00:00.000000000",
          "2023-10-17T00:00:00.000000000",
          "2023-10-18T00:00:00.000000000",
          "2023-10-19T00:00:00.000000000",
          "2023-10-20T00:00:00.000000000",
          "2023-10-21T00:00:00.000000000",
          "2023-10-22T00:00:00.000000000",
          "2023-10-23T00:00:00.000000000",
          "2023-10-24T00:00:00.000000000",
          "2023-10-25T00:00:00.000000000",
          "2023-10-26T00:00:00.000000000",
          "2023-10-27T00:00:00.000000000",
          "2023-10-28T00:00:00.000000000",
          "2023-10-29T00:00:00.000000000",
          "2023-10-30T00:00:00.000000000",
          "2023-10-31T00:00:00.000000000",
          "2023-11-01T00:00:00.000000000",
          "2023-11-02T00:00:00.000000000",
          "2023-11-03T00:00:00.000000000",
          "2023-11-04T00:00:00.000000000",
          "2023-11-05T00:00:00.000000000",
          "2023-11-06T00:00:00.000000000",
          "2023-11-07T00:00:00.000000000",
          "2023-11-08T00:00:00.000000000",
          "2023-11-09T00:00:00.000000000",
          "2023-11-10T00:00:00.000000000",
          "2023-11-11T00:00:00.000000000",
          "2023-11-12T00:00:00.000000000",
          "2023-11-13T00:00:00.000000000",
          "2023-11-14T00:00:00.000000000",
          "2023-11-15T00:00:00.000000000",
          "2023-11-16T00:00:00.000000000",
          "2023-11-17T00:00:00.000000000",
          "2023-11-18T00:00:00.000000000",
          "2023-11-19T00:00:00.000000000",
          "2023-11-20T00:00:00.000000000",
          "2023-11-21T00:00:00.000000000",
          "2023-11-22T00:00:00.000000000",
          "2023-11-23T00:00:00.000000000",
          "2023-11-24T00:00:00.000000000",
          "2023-11-25T00:00:00.000000000",
          "2023-11-26T00:00:00.000000000",
          "2023-11-27T00:00:00.000000000",
          "2023-11-28T00:00:00.000000000",
          "2023-11-29T00:00:00.000000000",
          "2023-11-30T00:00:00.000000000",
          "2023-12-01T00:00:00.000000000",
          "2023-12-02T00:00:00.000000000",
          "2023-12-03T00:00:00.000000000",
          "2023-12-04T00:00:00.000000000",
          "2023-12-05T00:00:00.000000000",
          "2023-12-06T00:00:00.000000000",
          "2023-12-07T00:00:00.000000000",
          "2023-12-08T00:00:00.000000000",
          "2023-12-09T00:00:00.000000000",
          "2023-12-10T00:00:00.000000000",
          "2023-12-11T00:00:00.000000000",
          "2023-12-12T00:00:00.000000000",
          "2023-12-13T00:00:00.000000000",
          "2023-12-14T00:00:00.000000000",
          "2023-12-15T00:00:00.000000000",
          "2023-12-16T00:00:00.000000000",
          "2023-12-17T00:00:00.000000000",
          "2023-12-18T00:00:00.000000000",
          "2023-12-19T00:00:00.000000000",
          "2023-12-20T00:00:00.000000000",
          "2023-12-21T00:00:00.000000000",
          "2023-12-22T00:00:00.000000000",
          "2023-12-23T00:00:00.000000000",
          "2023-12-24T00:00:00.000000000",
          "2023-12-25T00:00:00.000000000",
          "2023-12-26T00:00:00.000000000",
          "2023-12-27T00:00:00.000000000",
          "2023-12-28T00:00:00.000000000",
          "2023-12-29T00:00:00.000000000",
          "2023-12-30T00:00:00.000000000",
          "2023-12-31T00:00:00.000000000",
          "2024-01-01T00:00:00.000000000",
          "2024-01-02T00:00:00.000000000",
          "2024-01-03T00:00:00.000000000",
          "2024-01-04T00:00:00.000000000",
          "2024-01-05T00:00:00.000000000",
          "2024-01-06T00:00:00.000000000",
          "2024-01-07T00:00:00.000000000",
          "2024-01-08T00:00:00.000000000",
          "2024-01-09T00:00:00.000000000",
          "2024-01-10T00:00:00.000000000",
          "2024-01-11T00:00:00.000000000",
          "2024-01-12T00:00:00.000000000",
          "2024-01-13T00:00:00.000000000",
          "2024-01-14T00:00:00.000000000",
          "2024-01-15T00:00:00.000000000",
          "2024-01-16T00:00:00.000000000",
          "2024-01-17T00:00:00.000000000",
          "2024-01-18T00:00:00.000000000",
          "2024-01-19T00:00:00.000000000",
          "2024-01-20T00:00:00.000000000",
          "2024-01-21T00:00:00.000000000",
          "2024-01-22T00:00:00.000000000",
          "2024-01-23T00:00:00.000000000",
          "2024-01-24T00:00:00.000000000",
          "2024-01-25T00:00:00.000000000",
          "2024-01-26T00:00:00.000000000",
          "2024-01-27T00:00:00.000000000",
          "2024-01-28T00:00:00.000000000",
          "2024-01-29T00:00:00.000000000",
          "2024-01-30T00:00:00.000000000",
          "2024-01-31T00:00:00.000000000",
          "2024-02-01T00:00:00.000000000",
          "2024-02-02T00:00:00.000000000",
          "2024-02-03T00:00:00.000000000",
          "2024-02-04T00:00:00.000000000",
          "2024-02-05T00:00:00.000000000",
          "2024-02-06T00:00:00.000000000",
          "2024-02-07T00:00:00.000000000",
          "2024-02-08T00:00:00.000000000",
          "2024-02-09T00:00:00.000000000",
          "2024-02-10T00:00:00.000000000",
          "2024-02-11T00:00:00.000000000",
          "2024-02-12T00:00:00.000000000",
          "2024-02-13T00:00:00.000000000",
          "2024-02-14T00:00:00.000000000",
          "2024-02-15T00:00:00.000000000",
          "2024-02-16T00:00:00.000000000",
          "2024-02-17T00:00:00.000000000",
          "2024-02-18T00:00:00.000000000",
          "2024-02-19T00:00:00.000000000",
          "2024-02-20T00:00:00.000000000",
          "2024-02-21T00:00:00.000000000",
          "2024-02-22T00:00:00.000000000",
          "2024-02-23T00:00:00.000000000",
          "2024-02-24T00:00:00.000000000",
          "2024-02-25T00:00:00.000000000",
          "2024-02-26T00:00:00.000000000",
          "2024-02-27T00:00:00.000000000",
          "2024-02-28T00:00:00.000000000",
          "2024-02-29T00:00:00.000000000"
         ],
         "xaxis": "x",
         "y": {
          "bdata": "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",
          "dtype": "f8"
         },
         "yaxis": "y"
        }
       ],
       "layout": {
        "height": 350,
        "legend": {
         "tracegroupgap": 0
        },
        "template": {
         "data": {
          "bar": [
           {
            "error_x": {
             "color": "#2a3f5f"
            },
            "error_y": {
             "color": "#2a3f5f"
            },
            "marker": {
             "line": {
              "color": "#E5ECF6",
              "width": 0.5
             },
             "pattern": {
              "fillmode": "overlay",
              "size": 10,
              "solidity": 0.2
             }
            },
            "type": "bar"
           }
          ],
          "barpolar": [
           {
            "marker": {
             "line": {
              "color": "#E5ECF6",
              "width": 0.5
             },
             "pattern": {
              "fillmode": "overlay",
              "size": 10,
              "solidity": 0.2
             }
            },
            "type": "barpolar"
           }
          ],
          "carpet": [
           {
            "aaxis": {
             "endlinecolor": "#2a3f5f",
             "gridcolor": "white",
             "linecolor": "white",
             "minorgridcolor": "white",
             "startlinecolor": "#2a3f5f"
            },
            "baxis": {
             "endlinecolor": "#2a3f5f",
             "gridcolor": "white",
             "linecolor": "white",
             "minorgridcolor": "white",
             "startlinecolor": "#2a3f5f"
            },
            "type": "carpet"
           }
          ],
          "choropleth": [
           {
            "colorbar": {
             "outlinewidth": 0,
             "ticks": ""
            },
            "type": "choropleth"
           }
          ],
          "contour": [
           {
            "colorbar": {
             "outlinewidth": 0,
             "ticks": ""
            },
            "colorscale": [
             [
              0,
              "#0d0887"
             ],
             [
              0.1111111111111111,
              "#46039f"
             ],
             [
              0.2222222222222222,
              "#7201a8"
             ],
             [
              0.3333333333333333,
              "#9c179e"
             ],
             [
              0.4444444444444444,
              "#bd3786"
             ],
             [
              0.5555555555555556,
              "#d8576b"
             ],
             [
              0.6666666666666666,
              "#ed7953"
             ],
             [
              0.7777777777777778,
              "#fb9f3a"
             ],
             [
              0.8888888888888888,
              "#fdca26"
             ],
             [
              1,
              "#f0f921"
             ]
            ],
            "type": "contour"
           }
          ],
          "contourcarpet": [
           {
            "colorbar": {
             "outlinewidth": 0,
             "ticks": ""
            },
            "type": "contourcarpet"
           }
          ],
          "heatmap": [
           {
            "colorbar": {
             "outlinewidth": 0,
             "ticks": ""
            },
            "colorscale": [
             [
              0,
              "#0d0887"
             ],
             [
              0.1111111111111111,
              "#46039f"
             ],
             [
              0.2222222222222222,
              "#7201a8"
             ],
             [
              0.3333333333333333,
              "#9c179e"
             ],
             [
              0.4444444444444444,
              "#bd3786"
             ],
             [
              0.5555555555555556,
              "#d8576b"
             ],
             [
              0.6666666666666666,
              "#ed7953"
             ],
             [
              0.7777777777777778,
              "#fb9f3a"
             ],
             [
              0.8888888888888888,
              "#fdca26"
             ],
             [
              1,
              "#f0f921"
             ]
            ],
            "type": "heatmap"
           }
          ],
          "histogram": [
           {
            "marker": {
             "pattern": {
              "fillmode": "overlay",
              "size": 10,
              "solidity": 0.2
             }
            },
            "type": "histogram"
           }
          ],
          "histogram2d": [
           {
            "colorbar": {
             "outlinewidth": 0,
             "ticks": ""
            },
            "colorscale": [
             [
              0,
              "#0d0887"
             ],
             [
              0.1111111111111111,
              "#46039f"
             ],
             [
              0.2222222222222222,
              "#7201a8"
             ],
             [
              0.3333333333333333,
              "#9c179e"
             ],
             [
              0.4444444444444444,
              "#bd3786"
             ],
             [
              0.5555555555555556,
              "#d8576b"
             ],
             [
              0.6666666666666666,
              "#ed7953"
             ],
             [
              0.7777777777777778,
              "#fb9f3a"
             ],
             [
              0.8888888888888888,
              "#fdca26"
             ],
             [
              1,
              "#f0f921"
             ]
            ],
            "type": "histogram2d"
           }
          ],
          "histogram2dcontour": [
           {
            "colorbar": {
             "outlinewidth": 0,
             "ticks": ""
            },
            "colorscale": [
             [
              0,
              "#0d0887"
             ],
             [
              0.1111111111111111,
              "#46039f"
             ],
             [
              0.2222222222222222,
              "#7201a8"
             ],
             [
              0.3333333333333333,
              "#9c179e"
             ],
             [
              0.4444444444444444,
              "#bd3786"
             ],
             [
              0.5555555555555556,
              "#d8576b"
             ],
             [
              0.6666666666666666,
              "#ed7953"
             ],
             [
              0.7777777777777778,
              "#fb9f3a"
             ],
             [
              0.8888888888888888,
              "#fdca26"
             ],
             [
              1,
              "#f0f921"
             ]
            ],
            "type": "histogram2dcontour"
           }
          ],
          "mesh3d": [
           {
            "colorbar": {
             "outlinewidth": 0,
             "ticks": ""
            },
            "type": "mesh3d"
           }
          ],
          "parcoords": [
           {
            "line": {
             "colorbar": {
              "outlinewidth": 0,
              "ticks": ""
             }
            },
            "type": "parcoords"
           }
          ],
          "pie": [
           {
            "automargin": true,
            "type": "pie"
           }
          ],
          "scatter": [
           {
            "fillpattern": {
             "fillmode": "overlay",
             "size": 10,
             "solidity": 0.2
            },
            "type": "scatter"
           }
          ],
          "scatter3d": [
           {
            "line": {
             "colorbar": {
              "outlinewidth": 0,
              "ticks": ""
             }
            },
            "marker": {
             "colorbar": {
              "outlinewidth": 0,
              "ticks": ""
             }
            },
            "type": "scatter3d"
           }
          ],
          "scattercarpet": [
           {
            "marker": {
             "colorbar": {
              "outlinewidth": 0,
              "ticks": ""
             }
            },
            "type": "scattercarpet"
           }
          ],
          "scattergeo": [
           {
            "marker": {
             "colorbar": {
              "outlinewidth": 0,
              "ticks": ""
             }
            },
            "type": "scattergeo"
           }
          ],
          "scattergl": [
           {
            "marker": {
             "colorbar": {
              "outlinewidth": 0,
              "ticks": ""
             }
            },
            "type": "scattergl"
           }
          ],
          "scattermap": [
           {
            "marker": {
             "colorbar": {
              "outlinewidth": 0,
              "ticks": ""
             }
            },
            "type": "scattermap"
           }
          ],
          "scattermapbox": [
           {
            "marker": {
             "colorbar": {
              "outlinewidth": 0,
              "ticks": ""
             }
            },
            "type": "scattermapbox"
           }
          ],
          "scatterpolar": [
           {
            "marker": {
             "colorbar": {
              "outlinewidth": 0,
              "ticks": ""
             }
            },
            "type": "scatterpolar"
           }
          ],
          "scatterpolargl": [
           {
            "marker": {
             "colorbar": {
              "outlinewidth": 0,
              "ticks": ""
             }
            },
            "type": "scatterpolargl"
           }
          ],
          "scatterternary": [
           {
            "marker": {
             "colorbar": {
              "outlinewidth": 0,
              "ticks": ""
             }
            },
            "type": "scatterternary"
           }
          ],
          "surface": [
           {
            "colorbar": {
             "outlinewidth": 0,
             "ticks": ""
            },
            "colorscale": [
             [
              0,
              "#0d0887"
             ],
             [
              0.1111111111111111,
              "#46039f"
             ],
             [
              0.2222222222222222,
              "#7201a8"
             ],
             [
              0.3333333333333333,
              "#9c179e"
             ],
             [
              0.4444444444444444,
              "#bd3786"
             ],
             [
              0.5555555555555556,
              "#d8576b"
             ],
             [
              0.6666666666666666,
              "#ed7953"
             ],
             [
              0.7777777777777778,
              "#fb9f3a"
             ],
             [
              0.8888888888888888,
              "#fdca26"
             ],
             [
              1,
              "#f0f921"
             ]
            ],
            "type": "surface"
           }
          ],
          "table": [
           {
            "cells": {
             "fill": {
              "color": "#EBF0F8"
             },
             "line": {
              "color": "white"
             }
            },
            "header": {
             "fill": {
              "color": "#C8D4E3"
             },
             "line": {
              "color": "white"
             }
            },
            "type": "table"
           }
          ]
         },
         "layout": {
          "annotationdefaults": {
           "arrowcolor": "#2a3f5f",
           "arrowhead": 0,
           "arrowwidth": 1
          },
          "autotypenumbers": "strict",
          "coloraxis": {
           "colorbar": {
            "outlinewidth": 0,
            "ticks": ""
           }
          },
          "colorscale": {
           "diverging": [
            [
             0,
             "#8e0152"
            ],
            [
             0.1,
             "#c51b7d"
            ],
            [
             0.2,
             "#de77ae"
            ],
            [
             0.3,
             "#f1b6da"
            ],
            [
             0.4,
             "#fde0ef"
            ],
            [
             0.5,
             "#f7f7f7"
            ],
            [
             0.6,
             "#e6f5d0"
            ],
            [
             0.7,
             "#b8e186"
            ],
            [
             0.8,
             "#7fbc41"
            ],
            [
             0.9,
             "#4d9221"
            ],
            [
             1,
             "#276419"
            ]
           ],
           "sequential": [
            [
             0,
             "#0d0887"
            ],
            [
             0.1111111111111111,
             "#46039f"
            ],
            [
             0.2222222222222222,
             "#7201a8"
            ],
            [
             0.3333333333333333,
             "#9c179e"
            ],
            [
             0.4444444444444444,
             "#bd3786"
            ],
            [
             0.5555555555555556,
             "#d8576b"
            ],
            [
             0.6666666666666666,
             "#ed7953"
            ],
            [
             0.7777777777777778,
             "#fb9f3a"
            ],
            [
             0.8888888888888888,
             "#fdca26"
            ],
            [
             1,
             "#f0f921"
            ]
           ],
           "sequentialminus": [
            [
             0,
             "#0d0887"
            ],
            [
             0.1111111111111111,
             "#46039f"
            ],
            [
             0.2222222222222222,
             "#7201a8"
            ],
            [
             0.3333333333333333,
             "#9c179e"
            ],
            [
             0.4444444444444444,
             "#bd3786"
            ],
            [
             0.5555555555555556,
             "#d8576b"
            ],
            [
             0.6666666666666666,
             "#ed7953"
            ],
            [
             0.7777777777777778,
             "#fb9f3a"
            ],
            [
             0.8888888888888888,
             "#fdca26"
            ],
            [
             1,
             "#f0f921"
            ]
           ]
          },
          "colorway": [
           "#636efa",
           "#EF553B",
           "#00cc96",
           "#ab63fa",
           "#FFA15A",
           "#19d3f3",
           "#FF6692",
           "#B6E880",
           "#FF97FF",
           "#FECB52"
          ],
          "font": {
           "color": "#2a3f5f"
          },
          "geo": {
           "bgcolor": "white",
           "lakecolor": "white",
           "landcolor": "#E5ECF6",
           "showlakes": true,
           "showland": true,
           "subunitcolor": "white"
          },
          "hoverlabel": {
           "align": "left"
          },
          "hovermode": "closest",
          "mapbox": {
           "style": "light"
          },
          "paper_bgcolor": "white",
          "plot_bgcolor": "#E5ECF6",
          "polar": {
           "angularaxis": {
            "gridcolor": "white",
            "linecolor": "white",
            "ticks": ""
           },
           "bgcolor": "#E5ECF6",
           "radialaxis": {
            "gridcolor": "white",
            "linecolor": "white",
            "ticks": ""
           }
          },
          "scene": {
           "xaxis": {
            "backgroundcolor": "#E5ECF6",
            "gridcolor": "white",
            "gridwidth": 2,
            "linecolor": "white",
            "showbackground": true,
            "ticks": "",
            "zerolinecolor": "white"
           },
           "yaxis": {
            "backgroundcolor": "#E5ECF6",
            "gridcolor": "white",
            "gridwidth": 2,
            "linecolor": "white",
            "showbackground": true,
            "ticks": "",
            "zerolinecolor": "white"
           },
           "zaxis": {
            "backgroundcolor": "#E5ECF6",
            "gridcolor": "white",
            "gridwidth": 2,
            "linecolor": "white",
            "showbackground": true,
            "ticks": "",
            "zerolinecolor": "white"
           }
          },
          "shapedefaults": {
           "line": {
            "color": "#2a3f5f"
           }
          },
          "ternary": {
           "aaxis": {
            "gridcolor": "white",
            "linecolor": "white",
            "ticks": ""
           },
           "baxis": {
            "gridcolor": "white",
            "linecolor": "white",
            "ticks": ""
           },
           "bgcolor": "#E5ECF6",
           "caxis": {
            "gridcolor": "white",
            "linecolor": "white",
            "ticks": ""
           }
          },
          "title": {
           "x": 0.05
          },
          "xaxis": {
           "automargin": true,
           "gridcolor": "white",
           "linecolor": "white",
           "ticks": "",
           "title": {
            "standoff": 15
           },
           "zerolinecolor": "white",
           "zerolinewidth": 2
          },
          "yaxis": {
           "automargin": true,
           "gridcolor": "white",
           "linecolor": "white",
           "ticks": "",
           "title": {
            "standoff": 15
           },
           "zerolinecolor": "white",
           "zerolinewidth": 2
          }
         }
        },
        "title": {
         "text": "Contagem corrigida – count_34"
        },
        "width": 1900,
        "xaxis": {
         "anchor": "y",
         "domain": [
          0,
          1
         ],
         "title": {
          "text": "detected"
         }
        },
        "yaxis": {
         "anchor": "x",
         "domain": [
          0,
          1
         ],
         "title": {
          "text": "Contagem"
         }
        }
       }
      }
     },
     "metadata": {},
     "output_type": "display_data"
    },
    {
     "data": {
      "application/vnd.plotly.v1+json": {
       "config": {
        "plotlyServerURL": "https://plot.ly"
       },
       "data": [
        {
         "hovertemplate": "detected=%{x}<br>Contagem=%{y}<extra></extra>",
         "legendgroup": "",
         "line": {
          "color": "#636efa",
          "dash": "solid"
         },
         "marker": {
          "symbol": "circle"
         },
         "mode": "lines",
         "name": "",
         "orientation": "v",
         "showlegend": false,
         "type": "scatter",
         "x": [
          "2021-08-01T00:00:00.000000000",
          "2021-08-02T00:00:00.000000000",
          "2021-08-03T00:00:00.000000000",
          "2021-08-04T00:00:00.000000000",
          "2021-08-05T00:00:00.000000000",
          "2021-08-06T00:00:00.000000000",
          "2021-08-07T00:00:00.000000000",
          "2021-08-08T00:00:00.000000000",
          "2021-08-09T00:00:00.000000000",
          "2021-08-10T00:00:00.000000000",
          "2021-08-11T00:00:00.000000000",
          "2021-08-12T00:00:00.000000000",
          "2021-08-13T00:00:00.000000000",
          "2021-08-14T00:00:00.000000000",
          "2021-08-15T00:00:00.000000000",
          "2021-08-16T00:00:00.000000000",
          "2021-08-17T00:00:00.000000000",
          "2021-08-18T00:00:00.000000000",
          "2021-08-19T00:00:00.000000000",
          "2021-08-20T00:00:00.000000000",
          "2021-08-21T00:00:00.000000000",
          "2021-08-22T00:00:00.000000000",
          "2021-08-23T00:00:00.000000000",
          "2021-08-24T00:00:00.000000000",
          "2021-08-25T00:00:00.000000000",
          "2021-08-26T00:00:00.000000000",
          "2021-08-27T00:00:00.000000000",
          "2021-08-28T00:00:00.000000000",
          "2021-08-29T00:00:00.000000000",
          "2021-08-30T00:00:00.000000000",
          "2021-08-31T00:00:00.000000000",
          "2021-09-01T00:00:00.000000000",
          "2021-09-02T00:00:00.000000000",
          "2021-09-03T00:00:00.000000000",
          "2021-09-04T00:00:00.000000000",
          "2021-09-05T00:00:00.000000000",
          "2021-09-06T00:00:00.000000000",
          "2021-09-07T00:00:00.000000000",
          "2021-09-08T00:00:00.000000000",
          "2021-09-09T00:00:00.000000000",
          "2021-09-10T00:00:00.000000000",
          "2021-09-11T00:00:00.000000000",
          "2021-09-12T00:00:00.000000000",
          "2021-09-13T00:00:00.000000000",
          "2021-09-14T00:00:00.000000000",
          "2021-09-15T00:00:00.000000000",
          "2021-09-16T00:00:00.000000000",
          "2021-09-17T00:00:00.000000000",
          "2021-09-18T00:00:00.000000000",
          "2021-09-19T00:00:00.000000000",
          "2021-09-20T00:00:00.000000000",
          "2021-09-21T00:00:00.000000000",
          "2021-09-22T00:00:00.000000000",
          "2021-09-23T00:00:00.000000000",
          "2021-09-24T00:00:00.000000000",
          "2021-09-25T00:00:00.000000000",
          "2021-09-26T00:00:00.000000000",
          "2021-09-27T00:00:00.000000000",
          "2021-09-28T00:00:00.000000000",
          "2021-09-29T00:00:00.000000000",
          "2021-09-30T00:00:00.000000000",
          "2021-10-01T00:00:00.000000000",
          "2021-10-02T00:00:00.000000000",
          "2021-10-03T00:00:00.000000000",
          "2021-10-04T00:00:00.000000000",
          "2021-10-05T00:00:00.000000000",
          "2021-10-06T00:00:00.000000000",
          "2021-10-07T00:00:00.000000000",
          "2021-10-08T00:00:00.000000000",
          "2021-10-09T00:00:00.000000000",
          "2021-10-10T00:00:00.000000000",
          "2021-10-11T00:00:00.000000000",
          "2021-10-12T00:00:00.000000000",
          "2021-10-13T00:00:00.000000000",
          "2021-10-14T00:00:00.000000000",
          "2021-10-15T00:00:00.000000000",
          "2021-10-16T00:00:00.000000000",
          "2021-10-17T00:00:00.000000000",
          "2021-10-18T00:00:00.000000000",
          "2021-10-19T00:00:00.000000000",
          "2021-10-20T00:00:00.000000000",
          "2021-10-21T00:00:00.000000000",
          "2021-10-22T00:00:00.000000000",
          "2021-10-23T00:00:00.000000000",
          "2021-10-24T00:00:00.000000000",
          "2021-10-25T00:00:00.000000000",
          "2021-10-26T00:00:00.000000000",
          "2021-10-27T00:00:00.000000000",
          "2021-10-28T00:00:00.000000000",
          "2021-10-29T00:00:00.000000000",
          "2021-10-30T00:00:00.000000000",
          "2021-10-31T00:00:00.000000000",
          "2021-11-01T00:00:00.000000000",
          "2021-11-02T00:00:00.000000000",
          "2021-11-03T00:00:00.000000000",
          "2021-11-04T00:00:00.000000000",
          "2021-11-05T00:00:00.000000000",
          "2021-11-06T00:00:00.000000000",
          "2021-11-07T00:00:00.000000000",
          "2021-11-08T00:00:00.000000000",
          "2021-11-09T00:00:00.000000000",
          "2021-11-10T00:00:00.000000000",
          "2021-11-11T00:00:00.000000000",
          "2021-11-12T00:00:00.000000000",
          "2021-11-13T00:00:00.000000000",
          "2021-11-14T00:00:00.000000000",
          "2021-11-15T00:00:00.000000000",
          "2021-11-16T00:00:00.000000000",
          "2021-11-17T00:00:00.000000000",
          "2021-11-18T00:00:00.000000000",
          "2021-11-19T00:00:00.000000000",
          "2021-11-20T00:00:00.000000000",
          "2021-11-21T00:00:00.000000000",
          "2021-11-22T00:00:00.000000000",
          "2021-11-23T00:00:00.000000000",
          "2021-11-24T00:00:00.000000000",
          "2021-11-25T00:00:00.000000000",
          "2021-11-26T00:00:00.000000000",
          "2021-11-27T00:00:00.000000000",
          "2021-11-28T00:00:00.000000000",
          "2021-11-29T00:00:00.000000000",
          "2021-11-30T00:00:00.000000000",
          "2021-12-01T00:00:00.000000000",
          "2021-12-02T00:00:00.000000000",
          "2021-12-03T00:00:00.000000000",
          "2021-12-04T00:00:00.000000000",
          "2021-12-05T00:00:00.000000000",
          "2021-12-06T00:00:00.000000000",
          "2021-12-07T00:00:00.000000000",
          "2021-12-08T00:00:00.000000000",
          "2021-12-09T00:00:00.000000000",
          "2021-12-10T00:00:00.000000000",
          "2021-12-11T00:00:00.000000000",
          "2021-12-12T00:00:00.000000000",
          "2021-12-13T00:00:00.000000000",
          "2021-12-14T00:00:00.000000000",
          "2021-12-15T00:00:00.000000000",
          "2021-12-16T00:00:00.000000000",
          "2021-12-17T00:00:00.000000000",
          "2021-12-18T00:00:00.000000000",
          "2021-12-19T00:00:00.000000000",
          "2021-12-20T00:00:00.000000000",
          "2021-12-21T00:00:00.000000000",
          "2021-12-22T00:00:00.000000000",
          "2021-12-23T00:00:00.000000000",
          "2021-12-24T00:00:00.000000000",
          "2021-12-25T00:00:00.000000000",
          "2021-12-26T00:00:00.000000000",
          "2021-12-27T00:00:00.000000000",
          "2021-12-28T00:00:00.000000000",
          "2021-12-29T00:00:00.000000000",
          "2021-12-30T00:00:00.000000000",
          "2021-12-31T00:00:00.000000000",
          "2022-01-01T00:00:00.000000000",
          "2022-01-02T00:00:00.000000000",
          "2022-01-03T00:00:00.000000000",
          "2022-01-04T00:00:00.000000000",
          "2022-01-05T00:00:00.000000000",
          "2022-01-06T00:00:00.000000000",
          "2022-01-07T00:00:00.000000000",
          "2022-01-08T00:00:00.000000000",
          "2022-01-09T00:00:00.000000000",
          "2022-01-10T00:00:00.000000000",
          "2022-01-11T00:00:00.000000000",
          "2022-01-12T00:00:00.000000000",
          "2022-01-13T00:00:00.000000000",
          "2022-01-14T00:00:00.000000000",
          "2022-01-15T00:00:00.000000000",
          "2022-01-16T00:00:00.000000000",
          "2022-01-17T00:00:00.000000000",
          "2022-01-18T00:00:00.000000000",
          "2022-01-19T00:00:00.000000000",
          "2022-01-20T00:00:00.000000000",
          "2022-01-21T00:00:00.000000000",
          "2022-01-22T00:00:00.000000000",
          "2022-01-23T00:00:00.000000000",
          "2022-01-24T00:00:00.000000000",
          "2022-01-25T00:00:00.000000000",
          "2022-01-26T00:00:00.000000000",
          "2022-01-27T00:00:00.000000000",
          "2022-01-28T00:00:00.000000000",
          "2022-01-29T00:00:00.000000000",
          "2022-01-30T00:00:00.000000000",
          "2022-01-31T00:00:00.000000000",
          "2022-02-01T00:00:00.000000000",
          "2022-02-02T00:00:00.000000000",
          "2022-02-03T00:00:00.000000000",
          "2022-02-04T00:00:00.000000000",
          "2022-02-05T00:00:00.000000000",
          "2022-02-06T00:00:00.000000000",
          "2022-02-07T00:00:00.000000000",
          "2022-02-08T00:00:00.000000000",
          "2022-02-09T00:00:00.000000000",
          "2022-02-10T00:00:00.000000000",
          "2022-02-11T00:00:00.000000000",
          "2022-02-12T00:00:00.000000000",
          "2022-02-13T00:00:00.000000000",
          "2022-02-14T00:00:00.000000000",
          "2022-02-15T00:00:00.000000000",
          "2022-02-16T00:00:00.000000000",
          "2022-02-17T00:00:00.000000000",
          "2022-02-18T00:00:00.000000000",
          "2022-02-19T00:00:00.000000000",
          "2022-02-20T00:00:00.000000000",
          "2022-02-21T00:00:00.000000000",
          "2022-02-22T00:00:00.000000000",
          "2022-02-23T00:00:00.000000000",
          "2022-02-24T00:00:00.000000000",
          "2022-02-25T00:00:00.000000000",
          "2022-02-26T00:00:00.000000000",
          "2022-02-27T00:00:00.000000000",
          "2022-02-28T00:00:00.000000000",
          "2022-03-01T00:00:00.000000000",
          "2022-03-02T00:00:00.000000000",
          "2022-03-03T00:00:00.000000000",
          "2022-03-04T00:00:00.000000000",
          "2022-03-05T00:00:00.000000000",
          "2022-03-06T00:00:00.000000000",
          "2022-03-07T00:00:00.000000000",
          "2022-03-08T00:00:00.000000000",
          "2022-03-09T00:00:00.000000000",
          "2022-03-10T00:00:00.000000000",
          "2022-03-11T00:00:00.000000000",
          "2022-03-12T00:00:00.000000000",
          "2022-03-13T00:00:00.000000000",
          "2022-03-14T00:00:00.000000000",
          "2022-03-15T00:00:00.000000000",
          "2022-03-16T00:00:00.000000000",
          "2022-03-17T00:00:00.000000000",
          "2022-03-18T00:00:00.000000000",
          "2022-03-19T00:00:00.000000000",
          "2022-03-20T00:00:00.000000000",
          "2022-03-21T00:00:00.000000000",
          "2022-03-22T00:00:00.000000000",
          "2022-03-23T00:00:00.000000000",
          "2022-03-24T00:00:00.000000000",
          "2022-03-25T00:00:00.000000000",
          "2022-03-26T00:00:00.000000000",
          "2022-03-27T00:00:00.000000000",
          "2022-03-28T00:00:00.000000000",
          "2022-03-29T00:00:00.000000000",
          "2022-03-30T00:00:00.000000000",
          "2022-03-31T00:00:00.000000000",
          "2022-04-01T00:00:00.000000000",
          "2022-04-02T00:00:00.000000000",
          "2022-04-03T00:00:00.000000000",
          "2022-04-04T00:00:00.000000000",
          "2022-04-05T00:00:00.000000000",
          "2022-04-06T00:00:00.000000000",
          "2022-04-07T00:00:00.000000000",
          "2022-04-08T00:00:00.000000000",
          "2022-04-09T00:00:00.000000000",
          "2022-04-10T00:00:00.000000000",
          "2022-04-11T00:00:00.000000000",
          "2022-04-12T00:00:00.000000000",
          "2022-04-13T00:00:00.000000000",
          "2022-04-14T00:00:00.000000000",
          "2022-04-15T00:00:00.000000000",
          "2022-04-16T00:00:00.000000000",
          "2022-04-17T00:00:00.000000000",
          "2022-04-18T00:00:00.000000000",
          "2022-04-19T00:00:00.000000000",
          "2022-04-20T00:00:00.000000000",
          "2022-04-21T00:00:00.000000000",
          "2022-04-22T00:00:00.000000000",
          "2022-04-23T00:00:00.000000000",
          "2022-04-24T00:00:00.000000000",
          "2022-04-25T00:00:00.000000000",
          "2022-04-26T00:00:00.000000000",
          "2022-04-27T00:00:00.000000000",
          "2022-04-28T00:00:00.000000000",
          "2022-04-29T00:00:00.000000000",
          "2022-04-30T00:00:00.000000000",
          "2022-05-01T00:00:00.000000000",
          "2022-05-02T00:00:00.000000000",
          "2022-05-03T00:00:00.000000000",
          "2022-05-04T00:00:00.000000000",
          "2022-05-05T00:00:00.000000000",
          "2022-05-06T00:00:00.000000000",
          "2022-05-07T00:00:00.000000000",
          "2022-05-08T00:00:00.000000000",
          "2022-05-09T00:00:00.000000000",
          "2022-05-10T00:00:00.000000000",
          "2022-05-11T00:00:00.000000000",
          "2022-05-12T00:00:00.000000000",
          "2022-05-13T00:00:00.000000000",
          "2022-05-14T00:00:00.000000000",
          "2022-05-15T00:00:00.000000000",
          "2022-05-16T00:00:00.000000000",
          "2022-05-17T00:00:00.000000000",
          "2022-05-18T00:00:00.000000000",
          "2022-05-19T00:00:00.000000000",
          "2022-05-20T00:00:00.000000000",
          "2022-05-21T00:00:00.000000000",
          "2022-05-22T00:00:00.000000000",
          "2022-05-23T00:00:00.000000000",
          "2022-05-24T00:00:00.000000000",
          "2022-05-25T00:00:00.000000000",
          "2022-05-26T00:00:00.000000000",
          "2022-05-27T00:00:00.000000000",
          "2022-05-28T00:00:00.000000000",
          "2022-05-29T00:00:00.000000000",
          "2022-05-30T00:00:00.000000000",
          "2022-05-31T00:00:00.000000000",
          "2022-06-01T00:00:00.000000000",
          "2022-06-02T00:00:00.000000000",
          "2022-06-03T00:00:00.000000000",
          "2022-06-04T00:00:00.000000000",
          "2022-06-05T00:00:00.000000000",
          "2022-06-06T00:00:00.000000000",
          "2022-06-07T00:00:00.000000000",
          "2022-06-08T00:00:00.000000000",
          "2022-06-09T00:00:00.000000000",
          "2022-06-10T00:00:00.000000000",
          "2022-06-11T00:00:00.000000000",
          "2022-06-12T00:00:00.000000000",
          "2022-06-13T00:00:00.000000000",
          "2022-06-14T00:00:00.000000000",
          "2022-06-15T00:00:00.000000000",
          "2022-06-16T00:00:00.000000000",
          "2022-06-17T00:00:00.000000000",
          "2022-06-18T00:00:00.000000000",
          "2022-06-19T00:00:00.000000000",
          "2022-06-20T00:00:00.000000000",
          "2022-06-21T00:00:00.000000000",
          "2022-06-22T00:00:00.000000000",
          "2022-06-23T00:00:00.000000000",
          "2022-06-24T00:00:00.000000000",
          "2022-06-25T00:00:00.000000000",
          "2022-06-26T00:00:00.000000000",
          "2022-06-27T00:00:00.000000000",
          "2022-06-28T00:00:00.000000000",
          "2022-06-29T00:00:00.000000000",
          "2022-06-30T00:00:00.000000000",
          "2022-07-01T00:00:00.000000000",
          "2022-07-02T00:00:00.000000000",
          "2022-07-03T00:00:00.000000000",
          "2022-07-04T00:00:00.000000000",
          "2022-07-05T00:00:00.000000000",
          "2022-07-06T00:00:00.000000000",
          "2022-07-07T00:00:00.000000000",
          "2022-07-08T00:00:00.000000000",
          "2022-07-09T00:00:00.000000000",
          "2022-07-10T00:00:00.000000000",
          "2022-07-11T00:00:00.000000000",
          "2022-07-12T00:00:00.000000000",
          "2022-07-13T00:00:00.000000000",
          "2022-07-14T00:00:00.000000000",
          "2022-07-15T00:00:00.000000000",
          "2022-07-16T00:00:00.000000000",
          "2022-07-17T00:00:00.000000000",
          "2022-07-18T00:00:00.000000000",
          "2022-07-19T00:00:00.000000000",
          "2022-07-20T00:00:00.000000000",
          "2022-07-21T00:00:00.000000000",
          "2022-07-22T00:00:00.000000000",
          "2022-07-23T00:00:00.000000000",
          "2022-07-24T00:00:00.000000000",
          "2022-07-25T00:00:00.000000000",
          "2022-07-26T00:00:00.000000000",
          "2022-07-27T00:00:00.000000000",
          "2022-07-28T00:00:00.000000000",
          "2022-07-29T00:00:00.000000000",
          "2022-07-30T00:00:00.000000000",
          "2022-07-31T00:00:00.000000000",
          "2022-08-01T00:00:00.000000000",
          "2022-08-02T00:00:00.000000000",
          "2022-08-03T00:00:00.000000000",
          "2022-08-04T00:00:00.000000000",
          "2022-08-05T00:00:00.000000000",
          "2022-08-06T00:00:00.000000000",
          "2022-08-07T00:00:00.000000000",
          "2022-08-08T00:00:00.000000000",
          "2022-08-09T00:00:00.000000000",
          "2022-08-10T00:00:00.000000000",
          "2022-08-11T00:00:00.000000000",
          "2022-08-12T00:00:00.000000000",
          "2022-08-13T00:00:00.000000000",
          "2022-08-14T00:00:00.000000000",
          "2022-08-15T00:00:00.000000000",
          "2022-08-16T00:00:00.000000000",
          "2022-08-17T00:00:00.000000000",
          "2022-08-18T00:00:00.000000000",
          "2022-08-19T00:00:00.000000000",
          "2022-08-20T00:00:00.000000000",
          "2022-08-21T00:00:00.000000000",
          "2022-08-22T00:00:00.000000000",
          "2022-08-23T00:00:00.000000000",
          "2022-08-24T00:00:00.000000000",
          "2022-08-25T00:00:00.000000000",
          "2022-08-26T00:00:00.000000000",
          "2022-08-27T00:00:00.000000000",
          "2022-08-28T00:00:00.000000000",
          "2022-08-29T00:00:00.000000000",
          "2022-08-30T00:00:00.000000000",
          "2022-08-31T00:00:00.000000000",
          "2022-09-01T00:00:00.000000000",
          "2022-09-02T00:00:00.000000000",
          "2022-09-03T00:00:00.000000000",
          "2022-09-04T00:00:00.000000000",
          "2022-09-05T00:00:00.000000000",
          "2022-09-06T00:00:00.000000000",
          "2022-09-07T00:00:00.000000000",
          "2022-09-08T00:00:00.000000000",
          "2022-09-09T00:00:00.000000000",
          "2022-09-10T00:00:00.000000000",
          "2022-09-11T00:00:00.000000000",
          "2022-09-12T00:00:00.000000000",
          "2022-09-13T00:00:00.000000000",
          "2022-09-14T00:00:00.000000000",
          "2022-09-15T00:00:00.000000000",
          "2022-09-16T00:00:00.000000000",
          "2022-09-17T00:00:00.000000000",
          "2022-09-18T00:00:00.000000000",
          "2022-09-19T00:00:00.000000000",
          "2022-09-20T00:00:00.000000000",
          "2022-09-21T00:00:00.000000000",
          "2022-09-22T00:00:00.000000000",
          "2022-09-23T00:00:00.000000000",
          "2022-09-24T00:00:00.000000000",
          "2022-09-25T00:00:00.000000000",
          "2022-09-26T00:00:00.000000000",
          "2022-09-27T00:00:00.000000000",
          "2022-09-28T00:00:00.000000000",
          "2022-09-29T00:00:00.000000000",
          "2022-09-30T00:00:00.000000000",
          "2022-10-01T00:00:00.000000000",
          "2022-10-02T00:00:00.000000000",
          "2022-10-03T00:00:00.000000000",
          "2022-10-04T00:00:00.000000000",
          "2022-10-05T00:00:00.000000000",
          "2022-10-06T00:00:00.000000000",
          "2022-10-07T00:00:00.000000000",
          "2022-10-08T00:00:00.000000000",
          "2022-10-09T00:00:00.000000000",
          "2022-10-10T00:00:00.000000000",
          "2022-10-11T00:00:00.000000000",
          "2022-10-12T00:00:00.000000000",
          "2022-10-13T00:00:00.000000000",
          "2022-10-14T00:00:00.000000000",
          "2022-10-15T00:00:00.000000000",
          "2022-10-16T00:00:00.000000000",
          "2022-10-17T00:00:00.000000000",
          "2022-10-18T00:00:00.000000000",
          "2022-10-19T00:00:00.000000000",
          "2022-10-20T00:00:00.000000000",
          "2022-10-21T00:00:00.000000000",
          "2022-10-22T00:00:00.000000000",
          "2022-10-23T00:00:00.000000000",
          "2022-10-24T00:00:00.000000000",
          "2022-10-25T00:00:00.000000000",
          "2022-10-26T00:00:00.000000000",
          "2022-10-27T00:00:00.000000000",
          "2022-10-28T00:00:00.000000000",
          "2022-10-29T00:00:00.000000000",
          "2022-10-30T00:00:00.000000000",
          "2022-10-31T00:00:00.000000000",
          "2022-11-01T00:00:00.000000000",
          "2022-11-02T00:00:00.000000000",
          "2022-11-03T00:00:00.000000000",
          "2022-11-04T00:00:00.000000000",
          "2022-11-05T00:00:00.000000000",
          "2022-11-06T00:00:00.000000000",
          "2022-11-07T00:00:00.000000000",
          "2022-11-08T00:00:00.000000000",
          "2022-11-09T00:00:00.000000000",
          "2022-11-10T00:00:00.000000000",
          "2022-11-11T00:00:00.000000000",
          "2022-11-12T00:00:00.000000000",
          "2022-11-13T00:00:00.000000000",
          "2022-11-14T00:00:00.000000000",
          "2022-11-15T00:00:00.000000000",
          "2022-11-16T00:00:00.000000000",
          "2022-11-17T00:00:00.000000000",
          "2022-11-18T00:00:00.000000000",
          "2022-11-19T00:00:00.000000000",
          "2022-11-20T00:00:00.000000000",
          "2022-11-21T00:00:00.000000000",
          "2022-11-22T00:00:00.000000000",
          "2022-11-23T00:00:00.000000000",
          "2022-11-24T00:00:00.000000000",
          "2022-11-25T00:00:00.000000000",
          "2022-11-26T00:00:00.000000000",
          "2022-11-27T00:00:00.000000000",
          "2022-11-28T00:00:00.000000000",
          "2022-11-29T00:00:00.000000000",
          "2022-11-30T00:00:00.000000000",
          "2022-12-01T00:00:00.000000000",
          "2022-12-02T00:00:00.000000000",
          "2022-12-03T00:00:00.000000000",
          "2022-12-04T00:00:00.000000000",
          "2022-12-05T00:00:00.000000000",
          "2022-12-06T00:00:00.000000000",
          "2022-12-07T00:00:00.000000000",
          "2022-12-08T00:00:00.000000000",
          "2022-12-09T00:00:00.000000000",
          "2022-12-10T00:00:00.000000000",
          "2022-12-11T00:00:00.000000000",
          "2022-12-12T00:00:00.000000000",
          "2022-12-13T00:00:00.000000000",
          "2022-12-14T00:00:00.000000000",
          "2022-12-15T00:00:00.000000000",
          "2022-12-16T00:00:00.000000000",
          "2022-12-17T00:00:00.000000000",
          "2022-12-18T00:00:00.000000000",
          "2022-12-19T00:00:00.000000000",
          "2022-12-20T00:00:00.000000000",
          "2022-12-21T00:00:00.000000000",
          "2022-12-22T00:00:00.000000000",
          "2022-12-23T00:00:00.000000000",
          "2022-12-24T00:00:00.000000000",
          "2022-12-25T00:00:00.000000000",
          "2022-12-26T00:00:00.000000000",
          "2022-12-27T00:00:00.000000000",
          "2022-12-28T00:00:00.000000000",
          "2022-12-29T00:00:00.000000000",
          "2022-12-30T00:00:00.000000000",
          "2022-12-31T00:00:00.000000000",
          "2023-01-01T00:00:00.000000000",
          "2023-01-02T00:00:00.000000000",
          "2023-01-03T00:00:00.000000000",
          "2023-01-04T00:00:00.000000000",
          "2023-01-05T00:00:00.000000000",
          "2023-01-06T00:00:00.000000000",
          "2023-01-07T00:00:00.000000000",
          "2023-01-08T00:00:00.000000000",
          "2023-01-09T00:00:00.000000000",
          "2023-01-10T00:00:00.000000000",
          "2023-01-11T00:00:00.000000000",
          "2023-01-12T00:00:00.000000000",
          "2023-01-13T00:00:00.000000000",
          "2023-01-14T00:00:00.000000000",
          "2023-01-15T00:00:00.000000000",
          "2023-01-16T00:00:00.000000000",
          "2023-01-17T00:00:00.000000000",
          "2023-01-18T00:00:00.000000000",
          "2023-01-19T00:00:00.000000000",
          "2023-01-20T00:00:00.000000000",
          "2023-01-21T00:00:00.000000000",
          "2023-01-22T00:00:00.000000000",
          "2023-01-23T00:00:00.000000000",
          "2023-01-24T00:00:00.000000000",
          "2023-01-25T00:00:00.000000000",
          "2023-01-26T00:00:00.000000000",
          "2023-01-27T00:00:00.000000000",
          "2023-01-28T00:00:00.000000000",
          "2023-01-29T00:00:00.000000000",
          "2023-01-30T00:00:00.000000000",
          "2023-01-31T00:00:00.000000000",
          "2023-02-01T00:00:00.000000000",
          "2023-02-02T00:00:00.000000000",
          "2023-02-03T00:00:00.000000000",
          "2023-02-04T00:00:00.000000000",
          "2023-02-05T00:00:00.000000000",
          "2023-02-06T00:00:00.000000000",
          "2023-02-07T00:00:00.000000000",
          "2023-02-08T00:00:00.000000000",
          "2023-02-09T00:00:00.000000000",
          "2023-02-10T00:00:00.000000000",
          "2023-02-11T00:00:00.000000000",
          "2023-02-12T00:00:00.000000000",
          "2023-02-13T00:00:00.000000000",
          "2023-02-14T00:00:00.000000000",
          "2023-02-15T00:00:00.000000000",
          "2023-02-16T00:00:00.000000000",
          "2023-02-17T00:00:00.000000000",
          "2023-02-18T00:00:00.000000000",
          "2023-02-19T00:00:00.000000000",
          "2023-02-20T00:00:00.000000000",
          "2023-02-21T00:00:00.000000000",
          "2023-02-22T00:00:00.000000000",
          "2023-02-23T00:00:00.000000000",
          "2023-02-24T00:00:00.000000000",
          "2023-02-25T00:00:00.000000000",
          "2023-02-26T00:00:00.000000000",
          "2023-02-27T00:00:00.000000000",
          "2023-02-28T00:00:00.000000000",
          "2023-03-01T00:00:00.000000000",
          "2023-03-02T00:00:00.000000000",
          "2023-03-03T00:00:00.000000000",
          "2023-03-04T00:00:00.000000000",
          "2023-03-05T00:00:00.000000000",
          "2023-03-06T00:00:00.000000000",
          "2023-03-07T00:00:00.000000000",
          "2023-03-08T00:00:00.000000000",
          "2023-03-09T00:00:00.000000000",
          "2023-03-10T00:00:00.000000000",
          "2023-03-11T00:00:00.000000000",
          "2023-03-12T00:00:00.000000000",
          "2023-03-13T00:00:00.000000000",
          "2023-03-14T00:00:00.000000000",
          "2023-03-15T00:00:00.000000000",
          "2023-03-16T00:00:00.000000000",
          "2023-03-17T00:00:00.000000000",
          "2023-03-18T00:00:00.000000000",
          "2023-03-19T00:00:00.000000000",
          "2023-03-20T00:00:00.000000000",
          "2023-03-21T00:00:00.000000000",
          "2023-03-22T00:00:00.000000000",
          "2023-03-23T00:00:00.000000000",
          "2023-03-24T00:00:00.000000000",
          "2023-03-25T00:00:00.000000000",
          "2023-03-26T00:00:00.000000000",
          "2023-03-27T00:00:00.000000000",
          "2023-03-28T00:00:00.000000000",
          "2023-03-29T00:00:00.000000000",
          "2023-03-30T00:00:00.000000000",
          "2023-03-31T00:00:00.000000000",
          "2023-04-01T00:00:00.000000000",
          "2023-04-02T00:00:00.000000000",
          "2023-04-03T00:00:00.000000000",
          "2023-04-04T00:00:00.000000000",
          "2023-04-05T00:00:00.000000000",
          "2023-04-06T00:00:00.000000000",
          "2023-04-07T00:00:00.000000000",
          "2023-04-08T00:00:00.000000000",
          "2023-04-09T00:00:00.000000000",
          "2023-04-10T00:00:00.000000000",
          "2023-04-11T00:00:00.000000000",
          "2023-04-12T00:00:00.000000000",
          "2023-04-13T00:00:00.000000000",
          "2023-04-14T00:00:00.000000000",
          "2023-04-15T00:00:00.000000000",
          "2023-04-16T00:00:00.000000000",
          "2023-04-17T00:00:00.000000000",
          "2023-04-18T00:00:00.000000000",
          "2023-04-19T00:00:00.000000000",
          "2023-04-20T00:00:00.000000000",
          "2023-04-21T00:00:00.000000000",
          "2023-04-22T00:00:00.000000000",
          "2023-04-23T00:00:00.000000000",
          "2023-04-24T00:00:00.000000000",
          "2023-04-25T00:00:00.000000000",
          "2023-04-26T00:00:00.000000000",
          "2023-04-27T00:00:00.000000000",
          "2023-04-28T00:00:00.000000000",
          "2023-04-29T00:00:00.000000000",
          "2023-04-30T00:00:00.000000000",
          "2023-05-01T00:00:00.000000000",
          "2023-05-02T00:00:00.000000000",
          "2023-05-03T00:00:00.000000000",
          "2023-05-04T00:00:00.000000000",
          "2023-05-05T00:00:00.000000000",
          "2023-05-06T00:00:00.000000000",
          "2023-05-07T00:00:00.000000000",
          "2023-05-08T00:00:00.000000000",
          "2023-05-09T00:00:00.000000000",
          "2023-05-10T00:00:00.000000000",
          "2023-05-11T00:00:00.000000000",
          "2023-05-12T00:00:00.000000000",
          "2023-05-13T00:00:00.000000000",
          "2023-05-14T00:00:00.000000000",
          "2023-05-15T00:00:00.000000000",
          "2023-05-16T00:00:00.000000000",
          "2023-05-17T00:00:00.000000000",
          "2023-05-18T00:00:00.000000000",
          "2023-05-19T00:00:00.000000000",
          "2023-05-20T00:00:00.000000000",
          "2023-05-21T00:00:00.000000000",
          "2023-05-22T00:00:00.000000000",
          "2023-05-23T00:00:00.000000000",
          "2023-05-24T00:00:00.000000000",
          "2023-05-25T00:00:00.000000000",
          "2023-05-26T00:00:00.000000000",
          "2023-05-27T00:00:00.000000000",
          "2023-05-28T00:00:00.000000000",
          "2023-05-29T00:00:00.000000000",
          "2023-05-30T00:00:00.000000000",
          "2023-05-31T00:00:00.000000000",
          "2023-06-01T00:00:00.000000000",
          "2023-06-02T00:00:00.000000000",
          "2023-06-03T00:00:00.000000000",
          "2023-06-04T00:00:00.000000000",
          "2023-06-05T00:00:00.000000000",
          "2023-06-06T00:00:00.000000000",
          "2023-06-07T00:00:00.000000000",
          "2023-06-08T00:00:00.000000000",
          "2023-06-09T00:00:00.000000000",
          "2023-06-10T00:00:00.000000000",
          "2023-06-11T00:00:00.000000000",
          "2023-06-12T00:00:00.000000000",
          "2023-06-13T00:00:00.000000000",
          "2023-06-14T00:00:00.000000000",
          "2023-06-15T00:00:00.000000000",
          "2023-06-16T00:00:00.000000000",
          "2023-06-17T00:00:00.000000000",
          "2023-06-18T00:00:00.000000000",
          "2023-06-19T00:00:00.000000000",
          "2023-06-20T00:00:00.000000000",
          "2023-06-21T00:00:00.000000000",
          "2023-06-22T00:00:00.000000000",
          "2023-06-23T00:00:00.000000000",
          "2023-06-24T00:00:00.000000000",
          "2023-06-25T00:00:00.000000000",
          "2023-06-26T00:00:00.000000000",
          "2023-06-27T00:00:00.000000000",
          "2023-06-28T00:00:00.000000000",
          "2023-06-29T00:00:00.000000000",
          "2023-06-30T00:00:00.000000000",
          "2023-07-01T00:00:00.000000000",
          "2023-07-02T00:00:00.000000000",
          "2023-07-03T00:00:00.000000000",
          "2023-07-04T00:00:00.000000000",
          "2023-07-05T00:00:00.000000000",
          "2023-07-06T00:00:00.000000000",
          "2023-07-07T00:00:00.000000000",
          "2023-07-08T00:00:00.000000000",
          "2023-07-09T00:00:00.000000000",
          "2023-07-10T00:00:00.000000000",
          "2023-07-11T00:00:00.000000000",
          "2023-07-12T00:00:00.000000000",
          "2023-07-13T00:00:00.000000000",
          "2023-07-14T00:00:00.000000000",
          "2023-07-15T00:00:00.000000000",
          "2023-07-16T00:00:00.000000000",
          "2023-07-17T00:00:00.000000000",
          "2023-07-18T00:00:00.000000000",
          "2023-07-19T00:00:00.000000000",
          "2023-07-20T00:00:00.000000000",
          "2023-07-21T00:00:00.000000000",
          "2023-07-22T00:00:00.000000000",
          "2023-07-23T00:00:00.000000000",
          "2023-07-24T00:00:00.000000000",
          "2023-07-25T00:00:00.000000000",
          "2023-07-26T00:00:00.000000000",
          "2023-07-27T00:00:00.000000000",
          "2023-07-28T00:00:00.000000000",
          "2023-07-29T00:00:00.000000000",
          "2023-07-30T00:00:00.000000000",
          "2023-07-31T00:00:00.000000000",
          "2023-08-01T00:00:00.000000000",
          "2023-08-02T00:00:00.000000000",
          "2023-08-03T00:00:00.000000000",
          "2023-08-04T00:00:00.000000000",
          "2023-08-05T00:00:00.000000000",
          "2023-08-06T00:00:00.000000000",
          "2023-08-07T00:00:00.000000000",
          "2023-08-08T00:00:00.000000000",
          "2023-08-09T00:00:00.000000000",
          "2023-08-10T00:00:00.000000000",
          "2023-08-11T00:00:00.000000000",
          "2023-08-12T00:00:00.000000000",
          "2023-08-13T00:00:00.000000000",
          "2023-08-14T00:00:00.000000000",
          "2023-08-15T00:00:00.000000000",
          "2023-08-16T00:00:00.000000000",
          "2023-08-17T00:00:00.000000000",
          "2023-08-18T00:00:00.000000000",
          "2023-08-19T00:00:00.000000000",
          "2023-08-20T00:00:00.000000000",
          "2023-08-21T00:00:00.000000000",
          "2023-08-22T00:00:00.000000000",
          "2023-08-23T00:00:00.000000000",
          "2023-08-24T00:00:00.000000000",
          "2023-08-25T00:00:00.000000000",
          "2023-08-26T00:00:00.000000000",
          "2023-08-27T00:00:00.000000000",
          "2023-08-28T00:00:00.000000000",
          "2023-08-29T00:00:00.000000000",
          "2023-08-30T00:00:00.000000000",
          "2023-08-31T00:00:00.000000000",
          "2023-09-01T00:00:00.000000000",
          "2023-09-02T00:00:00.000000000",
          "2023-09-03T00:00:00.000000000",
          "2023-09-04T00:00:00.000000000",
          "2023-09-05T00:00:00.000000000",
          "2023-09-06T00:00:00.000000000",
          "2023-09-07T00:00:00.000000000",
          "2023-09-08T00:00:00.000000000",
          "2023-09-09T00:00:00.000000000",
          "2023-09-10T00:00:00.000000000",
          "2023-09-11T00:00:00.000000000",
          "2023-09-12T00:00:00.000000000",
          "2023-09-13T00:00:00.000000000",
          "2023-09-14T00:00:00.000000000",
          "2023-09-15T00:00:00.000000000",
          "2023-09-16T00:00:00.000000000",
          "2023-09-17T00:00:00.000000000",
          "2023-09-18T00:00:00.000000000",
          "2023-09-19T00:00:00.000000000",
          "2023-09-20T00:00:00.000000000",
          "2023-09-21T00:00:00.000000000",
          "2023-09-22T00:00:00.000000000",
          "2023-09-23T00:00:00.000000000",
          "2023-09-24T00:00:00.000000000",
          "2023-09-25T00:00:00.000000000",
          "2023-09-26T00:00:00.000000000",
          "2023-09-27T00:00:00.000000000",
          "2023-09-28T00:00:00.000000000",
          "2023-09-29T00:00:00.000000000",
          "2023-09-30T00:00:00.000000000",
          "2023-10-01T00:00:00.000000000",
          "2023-10-02T00:00:00.000000000",
          "2023-10-03T00:00:00.000000000",
          "2023-10-04T00:00:00.000000000",
          "2023-10-05T00:00:00.000000000",
          "2023-10-06T00:00:00.000000000",
          "2023-10-07T00:00:00.000000000",
          "2023-10-08T00:00:00.000000000",
          "2023-10-09T00:00:00.000000000",
          "2023-10-10T00:00:00.000000000",
          "2023-10-11T00:00:00.000000000",
          "2023-10-12T00:00:00.000000000",
          "2023-10-13T00:00:00.000000000",
          "2023-10-14T00:00:00.000000000",
          "2023-10-15T00:00:00.000000000",
          "2023-10-16T00:00:00.000000000",
          "2023-10-17T00:00:00.000000000",
          "2023-10-18T00:00:00.000000000",
          "2023-10-19T00:00:00.000000000",
          "2023-10-20T00:00:00.000000000",
          "2023-10-21T00:00:00.000000000",
          "2023-10-22T00:00:00.000000000",
          "2023-10-23T00:00:00.000000000",
          "2023-10-24T00:00:00.000000000",
          "2023-10-25T00:00:00.000000000",
          "2023-10-26T00:00:00.000000000",
          "2023-10-27T00:00:00.000000000",
          "2023-10-28T00:00:00.000000000",
          "2023-10-29T00:00:00.000000000",
          "2023-10-30T00:00:00.000000000",
          "2023-10-31T00:00:00.000000000",
          "2023-11-01T00:00:00.000000000",
          "2023-11-02T00:00:00.000000000",
          "2023-11-03T00:00:00.000000000",
          "2023-11-04T00:00:00.000000000",
          "2023-11-05T00:00:00.000000000",
          "2023-11-06T00:00:00.000000000",
          "2023-11-07T00:00:00.000000000",
          "2023-11-08T00:00:00.000000000",
          "2023-11-09T00:00:00.000000000",
          "2023-11-10T00:00:00.000000000",
          "2023-11-11T00:00:00.000000000",
          "2023-11-12T00:00:00.000000000",
          "2023-11-13T00:00:00.000000000",
          "2023-11-14T00:00:00.000000000",
          "2023-11-15T00:00:00.000000000",
          "2023-11-16T00:00:00.000000000",
          "2023-11-17T00:00:00.000000000",
          "2023-11-18T00:00:00.000000000",
          "2023-11-19T00:00:00.000000000",
          "2023-11-20T00:00:00.000000000",
          "2023-11-21T00:00:00.000000000",
          "2023-11-22T00:00:00.000000000",
          "2023-11-23T00:00:00.000000000",
          "2023-11-24T00:00:00.000000000",
          "2023-11-25T00:00:00.000000000",
          "2023-11-26T00:00:00.000000000",
          "2023-11-27T00:00:00.000000000",
          "2023-11-28T00:00:00.000000000",
          "2023-11-29T00:00:00.000000000",
          "2023-11-30T00:00:00.000000000",
          "2023-12-01T00:00:00.000000000",
          "2023-12-02T00:00:00.000000000",
          "2023-12-03T00:00:00.000000000",
          "2023-12-04T00:00:00.000000000",
          "2023-12-05T00:00:00.000000000",
          "2023-12-06T00:00:00.000000000",
          "2023-12-07T00:00:00.000000000",
          "2023-12-08T00:00:00.000000000",
          "2023-12-09T00:00:00.000000000",
          "2023-12-10T00:00:00.000000000",
          "2023-12-11T00:00:00.000000000",
          "2023-12-12T00:00:00.000000000",
          "2023-12-13T00:00:00.000000000",
          "2023-12-14T00:00:00.000000000",
          "2023-12-15T00:00:00.000000000",
          "2023-12-16T00:00:00.000000000",
          "2023-12-17T00:00:00.000000000",
          "2023-12-18T00:00:00.000000000",
          "2023-12-19T00:00:00.000000000",
          "2023-12-20T00:00:00.000000000",
          "2023-12-21T00:00:00.000000000",
          "2023-12-22T00:00:00.000000000",
          "2023-12-23T00:00:00.000000000",
          "2023-12-24T00:00:00.000000000",
          "2023-12-25T00:00:00.000000000",
          "2023-12-26T00:00:00.000000000",
          "2023-12-27T00:00:00.000000000",
          "2023-12-28T00:00:00.000000000",
          "2023-12-29T00:00:00.000000000",
          "2023-12-30T00:00:00.000000000",
          "2023-12-31T00:00:00.000000000",
          "2024-01-01T00:00:00.000000000",
          "2024-01-02T00:00:00.000000000",
          "2024-01-03T00:00:00.000000000",
          "2024-01-04T00:00:00.000000000",
          "2024-01-05T00:00:00.000000000",
          "2024-01-06T00:00:00.000000000",
          "2024-01-07T00:00:00.000000000",
          "2024-01-08T00:00:00.000000000",
          "2024-01-09T00:00:00.000000000",
          "2024-01-10T00:00:00.000000000",
          "2024-01-11T00:00:00.000000000",
          "2024-01-12T00:00:00.000000000",
          "2024-01-13T00:00:00.000000000",
          "2024-01-14T00:00:00.000000000",
          "2024-01-15T00:00:00.000000000",
          "2024-01-16T00:00:00.000000000",
          "2024-01-17T00:00:00.000000000",
          "2024-01-18T00:00:00.000000000",
          "2024-01-19T00:00:00.000000000",
          "2024-01-20T00:00:00.000000000",
          "2024-01-21T00:00:00.000000000",
          "2024-01-22T00:00:00.000000000",
          "2024-01-23T00:00:00.000000000",
          "2024-01-24T00:00:00.000000000",
          "2024-01-25T00:00:00.000000000",
          "2024-01-26T00:00:00.000000000",
          "2024-01-27T00:00:00.000000000",
          "2024-01-28T00:00:00.000000000",
          "2024-01-29T00:00:00.000000000",
          "2024-01-30T00:00:00.000000000",
          "2024-01-31T00:00:00.000000000",
          "2024-02-01T00:00:00.000000000",
          "2024-02-02T00:00:00.000000000",
          "2024-02-03T00:00:00.000000000",
          "2024-02-04T00:00:00.000000000",
          "2024-02-05T00:00:00.000000000",
          "2024-02-06T00:00:00.000000000",
          "2024-02-07T00:00:00.000000000",
          "2024-02-08T00:00:00.000000000",
          "2024-02-09T00:00:00.000000000",
          "2024-02-10T00:00:00.000000000",
          "2024-02-11T00:00:00.000000000",
          "2024-02-12T00:00:00.000000000",
          "2024-02-13T00:00:00.000000000",
          "2024-02-14T00:00:00.000000000",
          "2024-02-15T00:00:00.000000000",
          "2024-02-16T00:00:00.000000000",
          "2024-02-17T00:00:00.000000000",
          "2024-02-18T00:00:00.000000000",
          "2024-02-19T00:00:00.000000000",
          "2024-02-20T00:00:00.000000000",
          "2024-02-21T00:00:00.000000000",
          "2024-02-22T00:00:00.000000000",
          "2024-02-23T00:00:00.000000000",
          "2024-02-24T00:00:00.000000000",
          "2024-02-25T00:00:00.000000000",
          "2024-02-26T00:00:00.000000000",
          "2024-02-27T00:00:00.000000000",
          "2024-02-28T00:00:00.000000000",
          "2024-02-29T00:00:00.000000000"
         ],
         "xaxis": "x",
         "y": {
          "bdata": "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",
          "dtype": "f8"
         },
         "yaxis": "y"
        }
       ],
       "layout": {
        "height": 350,
        "legend": {
         "tracegroupgap": 0
        },
        "template": {
         "data": {
          "bar": [
           {
            "error_x": {
             "color": "#2a3f5f"
            },
            "error_y": {
             "color": "#2a3f5f"
            },
            "marker": {
             "line": {
              "color": "#E5ECF6",
              "width": 0.5
             },
             "pattern": {
              "fillmode": "overlay",
              "size": 10,
              "solidity": 0.2
             }
            },
            "type": "bar"
           }
          ],
          "barpolar": [
           {
            "marker": {
             "line": {
              "color": "#E5ECF6",
              "width": 0.5
             },
             "pattern": {
              "fillmode": "overlay",
              "size": 10,
              "solidity": 0.2
             }
            },
            "type": "barpolar"
           }
          ],
          "carpet": [
           {
            "aaxis": {
             "endlinecolor": "#2a3f5f",
             "gridcolor": "white",
             "linecolor": "white",
             "minorgridcolor": "white",
             "startlinecolor": "#2a3f5f"
            },
            "baxis": {
             "endlinecolor": "#2a3f5f",
             "gridcolor": "white",
             "linecolor": "white",
             "minorgridcolor": "white",
             "startlinecolor": "#2a3f5f"
            },
            "type": "carpet"
           }
          ],
          "choropleth": [
           {
            "colorbar": {
             "outlinewidth": 0,
             "ticks": ""
            },
            "type": "choropleth"
           }
          ],
          "contour": [
           {
            "colorbar": {
             "outlinewidth": 0,
             "ticks": ""
            },
            "colorscale": [
             [
              0,
              "#0d0887"
             ],
             [
              0.1111111111111111,
              "#46039f"
             ],
             [
              0.2222222222222222,
              "#7201a8"
             ],
             [
              0.3333333333333333,
              "#9c179e"
             ],
             [
              0.4444444444444444,
              "#bd3786"
             ],
             [
              0.5555555555555556,
              "#d8576b"
             ],
             [
              0.6666666666666666,
              "#ed7953"
             ],
             [
              0.7777777777777778,
              "#fb9f3a"
             ],
             [
              0.8888888888888888,
              "#fdca26"
             ],
             [
              1,
              "#f0f921"
             ]
            ],
            "type": "contour"
           }
          ],
          "contourcarpet": [
           {
            "colorbar": {
             "outlinewidth": 0,
             "ticks": ""
            },
            "type": "contourcarpet"
           }
          ],
          "heatmap": [
           {
            "colorbar": {
             "outlinewidth": 0,
             "ticks": ""
            },
            "colorscale": [
             [
              0,
              "#0d0887"
             ],
             [
              0.1111111111111111,
              "#46039f"
             ],
             [
              0.2222222222222222,
              "#7201a8"
             ],
             [
              0.3333333333333333,
              "#9c179e"
             ],
             [
              0.4444444444444444,
              "#bd3786"
             ],
             [
              0.5555555555555556,
              "#d8576b"
             ],
             [
              0.6666666666666666,
              "#ed7953"
             ],
             [
              0.7777777777777778,
              "#fb9f3a"
             ],
             [
              0.8888888888888888,
              "#fdca26"
             ],
             [
              1,
              "#f0f921"
             ]
            ],
            "type": "heatmap"
           }
          ],
          "histogram": [
           {
            "marker": {
             "pattern": {
              "fillmode": "overlay",
              "size": 10,
              "solidity": 0.2
             }
            },
            "type": "histogram"
           }
          ],
          "histogram2d": [
           {
            "colorbar": {
             "outlinewidth": 0,
             "ticks": ""
            },
            "colorscale": [
             [
              0,
              "#0d0887"
             ],
             [
              0.1111111111111111,
              "#46039f"
             ],
             [
              0.2222222222222222,
              "#7201a8"
             ],
             [
              0.3333333333333333,
              "#9c179e"
             ],
             [
              0.4444444444444444,
              "#bd3786"
             ],
             [
              0.5555555555555556,
              "#d8576b"
             ],
             [
              0.6666666666666666,
              "#ed7953"
             ],
             [
              0.7777777777777778,
              "#fb9f3a"
             ],
             [
              0.8888888888888888,
              "#fdca26"
             ],
             [
              1,
              "#f0f921"
             ]
            ],
            "type": "histogram2d"
           }
          ],
          "histogram2dcontour": [
           {
            "colorbar": {
             "outlinewidth": 0,
             "ticks": ""
            },
            "colorscale": [
             [
              0,
              "#0d0887"
             ],
             [
              0.1111111111111111,
              "#46039f"
             ],
             [
              0.2222222222222222,
              "#7201a8"
             ],
             [
              0.3333333333333333,
              "#9c179e"
             ],
             [
              0.4444444444444444,
              "#bd3786"
             ],
             [
              0.5555555555555556,
              "#d8576b"
             ],
             [
              0.6666666666666666,
              "#ed7953"
             ],
             [
              0.7777777777777778,
              "#fb9f3a"
             ],
             [
              0.8888888888888888,
              "#fdca26"
             ],
             [
              1,
              "#f0f921"
             ]
            ],
            "type": "histogram2dcontour"
           }
          ],
          "mesh3d": [
           {
            "colorbar": {
             "outlinewidth": 0,
             "ticks": ""
            },
            "type": "mesh3d"
           }
          ],
          "parcoords": [
           {
            "line": {
             "colorbar": {
              "outlinewidth": 0,
              "ticks": ""
             }
            },
            "type": "parcoords"
           }
          ],
          "pie": [
           {
            "automargin": true,
            "type": "pie"
           }
          ],
          "scatter": [
           {
            "fillpattern": {
             "fillmode": "overlay",
             "size": 10,
             "solidity": 0.2
            },
            "type": "scatter"
           }
          ],
          "scatter3d": [
           {
            "line": {
             "colorbar": {
              "outlinewidth": 0,
              "ticks": ""
             }
            },
            "marker": {
             "colorbar": {
              "outlinewidth": 0,
              "ticks": ""
             }
            },
            "type": "scatter3d"
           }
          ],
          "scattercarpet": [
           {
            "marker": {
             "colorbar": {
              "outlinewidth": 0,
              "ticks": ""
             }
            },
            "type": "scattercarpet"
           }
          ],
          "scattergeo": [
           {
            "marker": {
             "colorbar": {
              "outlinewidth": 0,
              "ticks": ""
             }
            },
            "type": "scattergeo"
           }
          ],
          "scattergl": [
           {
            "marker": {
             "colorbar": {
              "outlinewidth": 0,
              "ticks": ""
             }
            },
            "type": "scattergl"
           }
          ],
          "scattermap": [
           {
            "marker": {
             "colorbar": {
              "outlinewidth": 0,
              "ticks": ""
             }
            },
            "type": "scattermap"
           }
          ],
          "scattermapbox": [
           {
            "marker": {
             "colorbar": {
              "outlinewidth": 0,
              "ticks": ""
             }
            },
            "type": "scattermapbox"
           }
          ],
          "scatterpolar": [
           {
            "marker": {
             "colorbar": {
              "outlinewidth": 0,
              "ticks": ""
             }
            },
            "type": "scatterpolar"
           }
          ],
          "scatterpolargl": [
           {
            "marker": {
             "colorbar": {
              "outlinewidth": 0,
              "ticks": ""
             }
            },
            "type": "scatterpolargl"
           }
          ],
          "scatterternary": [
           {
            "marker": {
             "colorbar": {
              "outlinewidth": 0,
              "ticks": ""
             }
            },
            "type": "scatterternary"
           }
          ],
          "surface": [
           {
            "colorbar": {
             "outlinewidth": 0,
             "ticks": ""
            },
            "colorscale": [
             [
              0,
              "#0d0887"
             ],
             [
              0.1111111111111111,
              "#46039f"
             ],
             [
              0.2222222222222222,
              "#7201a8"
             ],
             [
              0.3333333333333333,
              "#9c179e"
             ],
             [
              0.4444444444444444,
              "#bd3786"
             ],
             [
              0.5555555555555556,
              "#d8576b"
             ],
             [
              0.6666666666666666,
              "#ed7953"
             ],
             [
              0.7777777777777778,
              "#fb9f3a"
             ],
             [
              0.8888888888888888,
              "#fdca26"
             ],
             [
              1,
              "#f0f921"
             ]
            ],
            "type": "surface"
           }
          ],
          "table": [
           {
            "cells": {
             "fill": {
              "color": "#EBF0F8"
             },
             "line": {
              "color": "white"
             }
            },
            "header": {
             "fill": {
              "color": "#C8D4E3"
             },
             "line": {
              "color": "white"
             }
            },
            "type": "table"
           }
          ]
         },
         "layout": {
          "annotationdefaults": {
           "arrowcolor": "#2a3f5f",
           "arrowhead": 0,
           "arrowwidth": 1
          },
          "autotypenumbers": "strict",
          "coloraxis": {
           "colorbar": {
            "outlinewidth": 0,
            "ticks": ""
           }
          },
          "colorscale": {
           "diverging": [
            [
             0,
             "#8e0152"
            ],
            [
             0.1,
             "#c51b7d"
            ],
            [
             0.2,
             "#de77ae"
            ],
            [
             0.3,
             "#f1b6da"
            ],
            [
             0.4,
             "#fde0ef"
            ],
            [
             0.5,
             "#f7f7f7"
            ],
            [
             0.6,
             "#e6f5d0"
            ],
            [
             0.7,
             "#b8e186"
            ],
            [
             0.8,
             "#7fbc41"
            ],
            [
             0.9,
             "#4d9221"
            ],
            [
             1,
             "#276419"
            ]
           ],
           "sequential": [
            [
             0,
             "#0d0887"
            ],
            [
             0.1111111111111111,
             "#46039f"
            ],
            [
             0.2222222222222222,
             "#7201a8"
            ],
            [
             0.3333333333333333,
             "#9c179e"
            ],
            [
             0.4444444444444444,
             "#bd3786"
            ],
            [
             0.5555555555555556,
             "#d8576b"
            ],
            [
             0.6666666666666666,
             "#ed7953"
            ],
            [
             0.7777777777777778,
             "#fb9f3a"
            ],
            [
             0.8888888888888888,
             "#fdca26"
            ],
            [
             1,
             "#f0f921"
            ]
           ],
           "sequentialminus": [
            [
             0,
             "#0d0887"
            ],
            [
             0.1111111111111111,
             "#46039f"
            ],
            [
             0.2222222222222222,
             "#7201a8"
            ],
            [
             0.3333333333333333,
             "#9c179e"
            ],
            [
             0.4444444444444444,
             "#bd3786"
            ],
            [
             0.5555555555555556,
             "#d8576b"
            ],
            [
             0.6666666666666666,
             "#ed7953"
            ],
            [
             0.7777777777777778,
             "#fb9f3a"
            ],
            [
             0.8888888888888888,
             "#fdca26"
            ],
            [
             1,
             "#f0f921"
            ]
           ]
          },
          "colorway": [
           "#636efa",
           "#EF553B",
           "#00cc96",
           "#ab63fa",
           "#FFA15A",
           "#19d3f3",
           "#FF6692",
           "#B6E880",
           "#FF97FF",
           "#FECB52"
          ],
          "font": {
           "color": "#2a3f5f"
          },
          "geo": {
           "bgcolor": "white",
           "lakecolor": "white",
           "landcolor": "#E5ECF6",
           "showlakes": true,
           "showland": true,
           "subunitcolor": "white"
          },
          "hoverlabel": {
           "align": "left"
          },
          "hovermode": "closest",
          "mapbox": {
           "style": "light"
          },
          "paper_bgcolor": "white",
          "plot_bgcolor": "#E5ECF6",
          "polar": {
           "angularaxis": {
            "gridcolor": "white",
            "linecolor": "white",
            "ticks": ""
           },
           "bgcolor": "#E5ECF6",
           "radialaxis": {
            "gridcolor": "white",
            "linecolor": "white",
            "ticks": ""
           }
          },
          "scene": {
           "xaxis": {
            "backgroundcolor": "#E5ECF6",
            "gridcolor": "white",
            "gridwidth": 2,
            "linecolor": "white",
            "showbackground": true,
            "ticks": "",
            "zerolinecolor": "white"
           },
           "yaxis": {
            "backgroundcolor": "#E5ECF6",
            "gridcolor": "white",
            "gridwidth": 2,
            "linecolor": "white",
            "showbackground": true,
            "ticks": "",
            "zerolinecolor": "white"
           },
           "zaxis": {
            "backgroundcolor": "#E5ECF6",
            "gridcolor": "white",
            "gridwidth": 2,
            "linecolor": "white",
            "showbackground": true,
            "ticks": "",
            "zerolinecolor": "white"
           }
          },
          "shapedefaults": {
           "line": {
            "color": "#2a3f5f"
           }
          },
          "ternary": {
           "aaxis": {
            "gridcolor": "white",
            "linecolor": "white",
            "ticks": ""
           },
           "baxis": {
            "gridcolor": "white",
            "linecolor": "white",
            "ticks": ""
           },
           "bgcolor": "#E5ECF6",
           "caxis": {
            "gridcolor": "white",
            "linecolor": "white",
            "ticks": ""
           }
          },
          "title": {
           "x": 0.05
          },
          "xaxis": {
           "automargin": true,
           "gridcolor": "white",
           "linecolor": "white",
           "ticks": "",
           "title": {
            "standoff": 15
           },
           "zerolinecolor": "white",
           "zerolinewidth": 2
          },
          "yaxis": {
           "automargin": true,
           "gridcolor": "white",
           "linecolor": "white",
           "ticks": "",
           "title": {
            "standoff": 15
           },
           "zerolinecolor": "white",
           "zerolinewidth": 2
          }
         }
        },
        "title": {
         "text": "Contagem corrigida – count_13"
        },
        "width": 1900,
        "xaxis": {
         "anchor": "y",
         "domain": [
          0,
          1
         ],
         "title": {
          "text": "detected"
         }
        },
        "yaxis": {
         "anchor": "x",
         "domain": [
          0,
          1
         ],
         "title": {
          "text": "Contagem"
         }
        }
       }
      }
     },
     "metadata": {},
     "output_type": "display_data"
    },
    {
     "data": {
      "application/vnd.plotly.v1+json": {
       "config": {
        "plotlyServerURL": "https://plot.ly"
       },
       "data": [
        {
         "hovertemplate": "detected=%{x}<br>Contagem=%{y}<extra></extra>",
         "legendgroup": "",
         "line": {
          "color": "#636efa",
          "dash": "solid"
         },
         "marker": {
          "symbol": "circle"
         },
         "mode": "lines",
         "name": "",
         "orientation": "v",
         "showlegend": false,
         "type": "scatter",
         "x": [
          "2021-08-01T00:00:00.000000000",
          "2021-08-02T00:00:00.000000000",
          "2021-08-03T00:00:00.000000000",
          "2021-08-04T00:00:00.000000000",
          "2021-08-05T00:00:00.000000000",
          "2021-08-06T00:00:00.000000000",
          "2021-08-07T00:00:00.000000000",
          "2021-08-08T00:00:00.000000000",
          "2021-08-09T00:00:00.000000000",
          "2021-08-10T00:00:00.000000000",
          "2021-08-11T00:00:00.000000000",
          "2021-08-12T00:00:00.000000000",
          "2021-08-13T00:00:00.000000000",
          "2021-08-14T00:00:00.000000000",
          "2021-08-15T00:00:00.000000000",
          "2021-08-16T00:00:00.000000000",
          "2021-08-17T00:00:00.000000000",
          "2021-08-18T00:00:00.000000000",
          "2021-08-19T00:00:00.000000000",
          "2021-08-20T00:00:00.000000000",
          "2021-08-21T00:00:00.000000000",
          "2021-08-22T00:00:00.000000000",
          "2021-08-23T00:00:00.000000000",
          "2021-08-24T00:00:00.000000000",
          "2021-08-25T00:00:00.000000000",
          "2021-08-26T00:00:00.000000000",
          "2021-08-27T00:00:00.000000000",
          "2021-08-28T00:00:00.000000000",
          "2021-08-29T00:00:00.000000000",
          "2021-08-30T00:00:00.000000000",
          "2021-08-31T00:00:00.000000000",
          "2021-09-01T00:00:00.000000000",
          "2021-09-02T00:00:00.000000000",
          "2021-09-03T00:00:00.000000000",
          "2021-09-04T00:00:00.000000000",
          "2021-09-05T00:00:00.000000000",
          "2021-09-06T00:00:00.000000000",
          "2021-09-07T00:00:00.000000000",
          "2021-09-08T00:00:00.000000000",
          "2021-09-09T00:00:00.000000000",
          "2021-09-10T00:00:00.000000000",
          "2021-09-11T00:00:00.000000000",
          "2021-09-12T00:00:00.000000000",
          "2021-09-13T00:00:00.000000000",
          "2021-09-14T00:00:00.000000000",
          "2021-09-15T00:00:00.000000000",
          "2021-09-16T00:00:00.000000000",
          "2021-09-17T00:00:00.000000000",
          "2021-09-18T00:00:00.000000000",
          "2021-09-19T00:00:00.000000000",
          "2021-09-20T00:00:00.000000000",
          "2021-09-21T00:00:00.000000000",
          "2021-09-22T00:00:00.000000000",
          "2021-09-23T00:00:00.000000000",
          "2021-09-24T00:00:00.000000000",
          "2021-09-25T00:00:00.000000000",
          "2021-09-26T00:00:00.000000000",
          "2021-09-27T00:00:00.000000000",
          "2021-09-28T00:00:00.000000000",
          "2021-09-29T00:00:00.000000000",
          "2021-09-30T00:00:00.000000000",
          "2021-10-01T00:00:00.000000000",
          "2021-10-02T00:00:00.000000000",
          "2021-10-03T00:00:00.000000000",
          "2021-10-04T00:00:00.000000000",
          "2021-10-05T00:00:00.000000000",
          "2021-10-06T00:00:00.000000000",
          "2021-10-07T00:00:00.000000000",
          "2021-10-08T00:00:00.000000000",
          "2021-10-09T00:00:00.000000000",
          "2021-10-10T00:00:00.000000000",
          "2021-10-11T00:00:00.000000000",
          "2021-10-12T00:00:00.000000000",
          "2021-10-13T00:00:00.000000000",
          "2021-10-14T00:00:00.000000000",
          "2021-10-15T00:00:00.000000000",
          "2021-10-16T00:00:00.000000000",
          "2021-10-17T00:00:00.000000000",
          "2021-10-18T00:00:00.000000000",
          "2021-10-19T00:00:00.000000000",
          "2021-10-20T00:00:00.000000000",
          "2021-10-21T00:00:00.000000000",
          "2021-10-22T00:00:00.000000000",
          "2021-10-23T00:00:00.000000000",
          "2021-10-24T00:00:00.000000000",
          "2021-10-25T00:00:00.000000000",
          "2021-10-26T00:00:00.000000000",
          "2021-10-27T00:00:00.000000000",
          "2021-10-28T00:00:00.000000000",
          "2021-10-29T00:00:00.000000000",
          "2021-10-30T00:00:00.000000000",
          "2021-10-31T00:00:00.000000000",
          "2021-11-01T00:00:00.000000000",
          "2021-11-02T00:00:00.000000000",
          "2021-11-03T00:00:00.000000000",
          "2021-11-04T00:00:00.000000000",
          "2021-11-05T00:00:00.000000000",
          "2021-11-06T00:00:00.000000000",
          "2021-11-07T00:00:00.000000000",
          "2021-11-08T00:00:00.000000000",
          "2021-11-09T00:00:00.000000000",
          "2021-11-10T00:00:00.000000000",
          "2021-11-11T00:00:00.000000000",
          "2021-11-12T00:00:00.000000000",
          "2021-11-13T00:00:00.000000000",
          "2021-11-14T00:00:00.000000000",
          "2021-11-15T00:00:00.000000000",
          "2021-11-16T00:00:00.000000000",
          "2021-11-17T00:00:00.000000000",
          "2021-11-18T00:00:00.000000000",
          "2021-11-19T00:00:00.000000000",
          "2021-11-20T00:00:00.000000000",
          "2021-11-21T00:00:00.000000000",
          "2021-11-22T00:00:00.000000000",
          "2021-11-23T00:00:00.000000000",
          "2021-11-24T00:00:00.000000000",
          "2021-11-25T00:00:00.000000000",
          "2021-11-26T00:00:00.000000000",
          "2021-11-27T00:00:00.000000000",
          "2021-11-28T00:00:00.000000000",
          "2021-11-29T00:00:00.000000000",
          "2021-11-30T00:00:00.000000000",
          "2021-12-01T00:00:00.000000000",
          "2021-12-02T00:00:00.000000000",
          "2021-12-03T00:00:00.000000000",
          "2021-12-04T00:00:00.000000000",
          "2021-12-05T00:00:00.000000000",
          "2021-12-06T00:00:00.000000000",
          "2021-12-07T00:00:00.000000000",
          "2021-12-08T00:00:00.000000000",
          "2021-12-09T00:00:00.000000000",
          "2021-12-10T00:00:00.000000000",
          "2021-12-11T00:00:00.000000000",
          "2021-12-12T00:00:00.000000000",
          "2021-12-13T00:00:00.000000000",
          "2021-12-14T00:00:00.000000000",
          "2021-12-15T00:00:00.000000000",
          "2021-12-16T00:00:00.000000000",
          "2021-12-17T00:00:00.000000000",
          "2021-12-18T00:00:00.000000000",
          "2021-12-19T00:00:00.000000000",
          "2021-12-20T00:00:00.000000000",
          "2021-12-21T00:00:00.000000000",
          "2021-12-22T00:00:00.000000000",
          "2021-12-23T00:00:00.000000000",
          "2021-12-24T00:00:00.000000000",
          "2021-12-25T00:00:00.000000000",
          "2021-12-26T00:00:00.000000000",
          "2021-12-27T00:00:00.000000000",
          "2021-12-28T00:00:00.000000000",
          "2021-12-29T00:00:00.000000000",
          "2021-12-30T00:00:00.000000000",
          "2021-12-31T00:00:00.000000000",
          "2022-01-01T00:00:00.000000000",
          "2022-01-02T00:00:00.000000000",
          "2022-01-03T00:00:00.000000000",
          "2022-01-04T00:00:00.000000000",
          "2022-01-05T00:00:00.000000000",
          "2022-01-06T00:00:00.000000000",
          "2022-01-07T00:00:00.000000000",
          "2022-01-08T00:00:00.000000000",
          "2022-01-09T00:00:00.000000000",
          "2022-01-10T00:00:00.000000000",
          "2022-01-11T00:00:00.000000000",
          "2022-01-12T00:00:00.000000000",
          "2022-01-13T00:00:00.000000000",
          "2022-01-14T00:00:00.000000000",
          "2022-01-15T00:00:00.000000000",
          "2022-01-16T00:00:00.000000000",
          "2022-01-17T00:00:00.000000000",
          "2022-01-18T00:00:00.000000000",
          "2022-01-19T00:00:00.000000000",
          "2022-01-20T00:00:00.000000000",
          "2022-01-21T00:00:00.000000000",
          "2022-01-22T00:00:00.000000000",
          "2022-01-23T00:00:00.000000000",
          "2022-01-24T00:00:00.000000000",
          "2022-01-25T00:00:00.000000000",
          "2022-01-26T00:00:00.000000000",
          "2022-01-27T00:00:00.000000000",
          "2022-01-28T00:00:00.000000000",
          "2022-01-29T00:00:00.000000000",
          "2022-01-30T00:00:00.000000000",
          "2022-01-31T00:00:00.000000000",
          "2022-02-01T00:00:00.000000000",
          "2022-02-02T00:00:00.000000000",
          "2022-02-03T00:00:00.000000000",
          "2022-02-04T00:00:00.000000000",
          "2022-02-05T00:00:00.000000000",
          "2022-02-06T00:00:00.000000000",
          "2022-02-07T00:00:00.000000000",
          "2022-02-08T00:00:00.000000000",
          "2022-02-09T00:00:00.000000000",
          "2022-02-10T00:00:00.000000000",
          "2022-02-11T00:00:00.000000000",
          "2022-02-12T00:00:00.000000000",
          "2022-02-13T00:00:00.000000000",
          "2022-02-14T00:00:00.000000000",
          "2022-02-15T00:00:00.000000000",
          "2022-02-16T00:00:00.000000000",
          "2022-02-17T00:00:00.000000000",
          "2022-02-18T00:00:00.000000000",
          "2022-02-19T00:00:00.000000000",
          "2022-02-20T00:00:00.000000000",
          "2022-02-21T00:00:00.000000000",
          "2022-02-22T00:00:00.000000000",
          "2022-02-23T00:00:00.000000000",
          "2022-02-24T00:00:00.000000000",
          "2022-02-25T00:00:00.000000000",
          "2022-02-26T00:00:00.000000000",
          "2022-02-27T00:00:00.000000000",
          "2022-02-28T00:00:00.000000000",
          "2022-03-01T00:00:00.000000000",
          "2022-03-02T00:00:00.000000000",
          "2022-03-03T00:00:00.000000000",
          "2022-03-04T00:00:00.000000000",
          "2022-03-05T00:00:00.000000000",
          "2022-03-06T00:00:00.000000000",
          "2022-03-07T00:00:00.000000000",
          "2022-03-08T00:00:00.000000000",
          "2022-03-09T00:00:00.000000000",
          "2022-03-10T00:00:00.000000000",
          "2022-03-11T00:00:00.000000000",
          "2022-03-12T00:00:00.000000000",
          "2022-03-13T00:00:00.000000000",
          "2022-03-14T00:00:00.000000000",
          "2022-03-15T00:00:00.000000000",
          "2022-03-16T00:00:00.000000000",
          "2022-03-17T00:00:00.000000000",
          "2022-03-18T00:00:00.000000000",
          "2022-03-19T00:00:00.000000000",
          "2022-03-20T00:00:00.000000000",
          "2022-03-21T00:00:00.000000000",
          "2022-03-22T00:00:00.000000000",
          "2022-03-23T00:00:00.000000000",
          "2022-03-24T00:00:00.000000000",
          "2022-03-25T00:00:00.000000000",
          "2022-03-26T00:00:00.000000000",
          "2022-03-27T00:00:00.000000000",
          "2022-03-28T00:00:00.000000000",
          "2022-03-29T00:00:00.000000000",
          "2022-03-30T00:00:00.000000000",
          "2022-03-31T00:00:00.000000000",
          "2022-04-01T00:00:00.000000000",
          "2022-04-02T00:00:00.000000000",
          "2022-04-03T00:00:00.000000000",
          "2022-04-04T00:00:00.000000000",
          "2022-04-05T00:00:00.000000000",
          "2022-04-06T00:00:00.000000000",
          "2022-04-07T00:00:00.000000000",
          "2022-04-08T00:00:00.000000000",
          "2022-04-09T00:00:00.000000000",
          "2022-04-10T00:00:00.000000000",
          "2022-04-11T00:00:00.000000000",
          "2022-04-12T00:00:00.000000000",
          "2022-04-13T00:00:00.000000000",
          "2022-04-14T00:00:00.000000000",
          "2022-04-15T00:00:00.000000000",
          "2022-04-16T00:00:00.000000000",
          "2022-04-17T00:00:00.000000000",
          "2022-04-18T00:00:00.000000000",
          "2022-04-19T00:00:00.000000000",
          "2022-04-20T00:00:00.000000000",
          "2022-04-21T00:00:00.000000000",
          "2022-04-22T00:00:00.000000000",
          "2022-04-23T00:00:00.000000000",
          "2022-04-24T00:00:00.000000000",
          "2022-04-25T00:00:00.000000000",
          "2022-04-26T00:00:00.000000000",
          "2022-04-27T00:00:00.000000000",
          "2022-04-28T00:00:00.000000000",
          "2022-04-29T00:00:00.000000000",
          "2022-04-30T00:00:00.000000000",
          "2022-05-01T00:00:00.000000000",
          "2022-05-02T00:00:00.000000000",
          "2022-05-03T00:00:00.000000000",
          "2022-05-04T00:00:00.000000000",
          "2022-05-05T00:00:00.000000000",
          "2022-05-06T00:00:00.000000000",
          "2022-05-07T00:00:00.000000000",
          "2022-05-08T00:00:00.000000000",
          "2022-05-09T00:00:00.000000000",
          "2022-05-10T00:00:00.000000000",
          "2022-05-11T00:00:00.000000000",
          "2022-05-12T00:00:00.000000000",
          "2022-05-13T00:00:00.000000000",
          "2022-05-14T00:00:00.000000000",
          "2022-05-15T00:00:00.000000000",
          "2022-05-16T00:00:00.000000000",
          "2022-05-17T00:00:00.000000000",
          "2022-05-18T00:00:00.000000000",
          "2022-05-19T00:00:00.000000000",
          "2022-05-20T00:00:00.000000000",
          "2022-05-21T00:00:00.000000000",
          "2022-05-22T00:00:00.000000000",
          "2022-05-23T00:00:00.000000000",
          "2022-05-24T00:00:00.000000000",
          "2022-05-25T00:00:00.000000000",
          "2022-05-26T00:00:00.000000000",
          "2022-05-27T00:00:00.000000000",
          "2022-05-28T00:00:00.000000000",
          "2022-05-29T00:00:00.000000000",
          "2022-05-30T00:00:00.000000000",
          "2022-05-31T00:00:00.000000000",
          "2022-06-01T00:00:00.000000000",
          "2022-06-02T00:00:00.000000000",
          "2022-06-03T00:00:00.000000000",
          "2022-06-04T00:00:00.000000000",
          "2022-06-05T00:00:00.000000000",
          "2022-06-06T00:00:00.000000000",
          "2022-06-07T00:00:00.000000000",
          "2022-06-08T00:00:00.000000000",
          "2022-06-09T00:00:00.000000000",
          "2022-06-10T00:00:00.000000000",
          "2022-06-11T00:00:00.000000000",
          "2022-06-12T00:00:00.000000000",
          "2022-06-13T00:00:00.000000000",
          "2022-06-14T00:00:00.000000000",
          "2022-06-15T00:00:00.000000000",
          "2022-06-16T00:00:00.000000000",
          "2022-06-17T00:00:00.000000000",
          "2022-06-18T00:00:00.000000000",
          "2022-06-19T00:00:00.000000000",
          "2022-06-20T00:00:00.000000000",
          "2022-06-21T00:00:00.000000000",
          "2022-06-22T00:00:00.000000000",
          "2022-06-23T00:00:00.000000000",
          "2022-06-24T00:00:00.000000000",
          "2022-06-25T00:00:00.000000000",
          "2022-06-26T00:00:00.000000000",
          "2022-06-27T00:00:00.000000000",
          "2022-06-28T00:00:00.000000000",
          "2022-06-29T00:00:00.000000000",
          "2022-06-30T00:00:00.000000000",
          "2022-07-01T00:00:00.000000000",
          "2022-07-02T00:00:00.000000000",
          "2022-07-03T00:00:00.000000000",
          "2022-07-04T00:00:00.000000000",
          "2022-07-05T00:00:00.000000000",
          "2022-07-06T00:00:00.000000000",
          "2022-07-07T00:00:00.000000000",
          "2022-07-08T00:00:00.000000000",
          "2022-07-09T00:00:00.000000000",
          "2022-07-10T00:00:00.000000000",
          "2022-07-11T00:00:00.000000000",
          "2022-07-12T00:00:00.000000000",
          "2022-07-13T00:00:00.000000000",
          "2022-07-14T00:00:00.000000000",
          "2022-07-15T00:00:00.000000000",
          "2022-07-16T00:00:00.000000000",
          "2022-07-17T00:00:00.000000000",
          "2022-07-18T00:00:00.000000000",
          "2022-07-19T00:00:00.000000000",
          "2022-07-20T00:00:00.000000000",
          "2022-07-21T00:00:00.000000000",
          "2022-07-22T00:00:00.000000000",
          "2022-07-23T00:00:00.000000000",
          "2022-07-24T00:00:00.000000000",
          "2022-07-25T00:00:00.000000000",
          "2022-07-26T00:00:00.000000000",
          "2022-07-27T00:00:00.000000000",
          "2022-07-28T00:00:00.000000000",
          "2022-07-29T00:00:00.000000000",
          "2022-07-30T00:00:00.000000000",
          "2022-07-31T00:00:00.000000000",
          "2022-08-01T00:00:00.000000000",
          "2022-08-02T00:00:00.000000000",
          "2022-08-03T00:00:00.000000000",
          "2022-08-04T00:00:00.000000000",
          "2022-08-05T00:00:00.000000000",
          "2022-08-06T00:00:00.000000000",
          "2022-08-07T00:00:00.000000000",
          "2022-08-08T00:00:00.000000000",
          "2022-08-09T00:00:00.000000000",
          "2022-08-10T00:00:00.000000000",
          "2022-08-11T00:00:00.000000000",
          "2022-08-12T00:00:00.000000000",
          "2022-08-13T00:00:00.000000000",
          "2022-08-14T00:00:00.000000000",
          "2022-08-15T00:00:00.000000000",
          "2022-08-16T00:00:00.000000000",
          "2022-08-17T00:00:00.000000000",
          "2022-08-18T00:00:00.000000000",
          "2022-08-19T00:00:00.000000000",
          "2022-08-20T00:00:00.000000000",
          "2022-08-21T00:00:00.000000000",
          "2022-08-22T00:00:00.000000000",
          "2022-08-23T00:00:00.000000000",
          "2022-08-24T00:00:00.000000000",
          "2022-08-25T00:00:00.000000000",
          "2022-08-26T00:00:00.000000000",
          "2022-08-27T00:00:00.000000000",
          "2022-08-28T00:00:00.000000000",
          "2022-08-29T00:00:00.000000000",
          "2022-08-30T00:00:00.000000000",
          "2022-08-31T00:00:00.000000000",
          "2022-09-01T00:00:00.000000000",
          "2022-09-02T00:00:00.000000000",
          "2022-09-03T00:00:00.000000000",
          "2022-09-04T00:00:00.000000000",
          "2022-09-05T00:00:00.000000000",
          "2022-09-06T00:00:00.000000000",
          "2022-09-07T00:00:00.000000000",
          "2022-09-08T00:00:00.000000000",
          "2022-09-09T00:00:00.000000000",
          "2022-09-10T00:00:00.000000000",
          "2022-09-11T00:00:00.000000000",
          "2022-09-12T00:00:00.000000000",
          "2022-09-13T00:00:00.000000000",
          "2022-09-14T00:00:00.000000000",
          "2022-09-15T00:00:00.000000000",
          "2022-09-16T00:00:00.000000000",
          "2022-09-17T00:00:00.000000000",
          "2022-09-18T00:00:00.000000000",
          "2022-09-19T00:00:00.000000000",
          "2022-09-20T00:00:00.000000000",
          "2022-09-21T00:00:00.000000000",
          "2022-09-22T00:00:00.000000000",
          "2022-09-23T00:00:00.000000000",
          "2022-09-24T00:00:00.000000000",
          "2022-09-25T00:00:00.000000000",
          "2022-09-26T00:00:00.000000000",
          "2022-09-27T00:00:00.000000000",
          "2022-09-28T00:00:00.000000000",
          "2022-09-29T00:00:00.000000000",
          "2022-09-30T00:00:00.000000000",
          "2022-10-01T00:00:00.000000000",
          "2022-10-02T00:00:00.000000000",
          "2022-10-03T00:00:00.000000000",
          "2022-10-04T00:00:00.000000000",
          "2022-10-05T00:00:00.000000000",
          "2022-10-06T00:00:00.000000000",
          "2022-10-07T00:00:00.000000000",
          "2022-10-08T00:00:00.000000000",
          "2022-10-09T00:00:00.000000000",
          "2022-10-10T00:00:00.000000000",
          "2022-10-11T00:00:00.000000000",
          "2022-10-12T00:00:00.000000000",
          "2022-10-13T00:00:00.000000000",
          "2022-10-14T00:00:00.000000000",
          "2022-10-15T00:00:00.000000000",
          "2022-10-16T00:00:00.000000000",
          "2022-10-17T00:00:00.000000000",
          "2022-10-18T00:00:00.000000000",
          "2022-10-19T00:00:00.000000000",
          "2022-10-20T00:00:00.000000000",
          "2022-10-21T00:00:00.000000000",
          "2022-10-22T00:00:00.000000000",
          "2022-10-23T00:00:00.000000000",
          "2022-10-24T00:00:00.000000000",
          "2022-10-25T00:00:00.000000000",
          "2022-10-26T00:00:00.000000000",
          "2022-10-27T00:00:00.000000000",
          "2022-10-28T00:00:00.000000000",
          "2022-10-29T00:00:00.000000000",
          "2022-10-30T00:00:00.000000000",
          "2022-10-31T00:00:00.000000000",
          "2022-11-01T00:00:00.000000000",
          "2022-11-02T00:00:00.000000000",
          "2022-11-03T00:00:00.000000000",
          "2022-11-04T00:00:00.000000000",
          "2022-11-05T00:00:00.000000000",
          "2022-11-06T00:00:00.000000000",
          "2022-11-07T00:00:00.000000000",
          "2022-11-08T00:00:00.000000000",
          "2022-11-09T00:00:00.000000000",
          "2022-11-10T00:00:00.000000000",
          "2022-11-11T00:00:00.000000000",
          "2022-11-12T00:00:00.000000000",
          "2022-11-13T00:00:00.000000000",
          "2022-11-14T00:00:00.000000000",
          "2022-11-15T00:00:00.000000000",
          "2022-11-16T00:00:00.000000000",
          "2022-11-17T00:00:00.000000000",
          "2022-11-18T00:00:00.000000000",
          "2022-11-19T00:00:00.000000000",
          "2022-11-20T00:00:00.000000000",
          "2022-11-21T00:00:00.000000000",
          "2022-11-22T00:00:00.000000000",
          "2022-11-23T00:00:00.000000000",
          "2022-11-24T00:00:00.000000000",
          "2022-11-25T00:00:00.000000000",
          "2022-11-26T00:00:00.000000000",
          "2022-11-27T00:00:00.000000000",
          "2022-11-28T00:00:00.000000000",
          "2022-11-29T00:00:00.000000000",
          "2022-11-30T00:00:00.000000000",
          "2022-12-01T00:00:00.000000000",
          "2022-12-02T00:00:00.000000000",
          "2022-12-03T00:00:00.000000000",
          "2022-12-04T00:00:00.000000000",
          "2022-12-05T00:00:00.000000000",
          "2022-12-06T00:00:00.000000000",
          "2022-12-07T00:00:00.000000000",
          "2022-12-08T00:00:00.000000000",
          "2022-12-09T00:00:00.000000000",
          "2022-12-10T00:00:00.000000000",
          "2022-12-11T00:00:00.000000000",
          "2022-12-12T00:00:00.000000000",
          "2022-12-13T00:00:00.000000000",
          "2022-12-14T00:00:00.000000000",
          "2022-12-15T00:00:00.000000000",
          "2022-12-16T00:00:00.000000000",
          "2022-12-17T00:00:00.000000000",
          "2022-12-18T00:00:00.000000000",
          "2022-12-19T00:00:00.000000000",
          "2022-12-20T00:00:00.000000000",
          "2022-12-21T00:00:00.000000000",
          "2022-12-22T00:00:00.000000000",
          "2022-12-23T00:00:00.000000000",
          "2022-12-24T00:00:00.000000000",
          "2022-12-25T00:00:00.000000000",
          "2022-12-26T00:00:00.000000000",
          "2022-12-27T00:00:00.000000000",
          "2022-12-28T00:00:00.000000000",
          "2022-12-29T00:00:00.000000000",
          "2022-12-30T00:00:00.000000000",
          "2022-12-31T00:00:00.000000000",
          "2023-01-01T00:00:00.000000000",
          "2023-01-02T00:00:00.000000000",
          "2023-01-03T00:00:00.000000000",
          "2023-01-04T00:00:00.000000000",
          "2023-01-05T00:00:00.000000000",
          "2023-01-06T00:00:00.000000000",
          "2023-01-07T00:00:00.000000000",
          "2023-01-08T00:00:00.000000000",
          "2023-01-09T00:00:00.000000000",
          "2023-01-10T00:00:00.000000000",
          "2023-01-11T00:00:00.000000000",
          "2023-01-12T00:00:00.000000000",
          "2023-01-13T00:00:00.000000000",
          "2023-01-14T00:00:00.000000000",
          "2023-01-15T00:00:00.000000000",
          "2023-01-16T00:00:00.000000000",
          "2023-01-17T00:00:00.000000000",
          "2023-01-18T00:00:00.000000000",
          "2023-01-19T00:00:00.000000000",
          "2023-01-20T00:00:00.000000000",
          "2023-01-21T00:00:00.000000000",
          "2023-01-22T00:00:00.000000000",
          "2023-01-23T00:00:00.000000000",
          "2023-01-24T00:00:00.000000000",
          "2023-01-25T00:00:00.000000000",
          "2023-01-26T00:00:00.000000000",
          "2023-01-27T00:00:00.000000000",
          "2023-01-28T00:00:00.000000000",
          "2023-01-29T00:00:00.000000000",
          "2023-01-30T00:00:00.000000000",
          "2023-01-31T00:00:00.000000000",
          "2023-02-01T00:00:00.000000000",
          "2023-02-02T00:00:00.000000000",
          "2023-02-03T00:00:00.000000000",
          "2023-02-04T00:00:00.000000000",
          "2023-02-05T00:00:00.000000000",
          "2023-02-06T00:00:00.000000000",
          "2023-02-07T00:00:00.000000000",
          "2023-02-08T00:00:00.000000000",
          "2023-02-09T00:00:00.000000000",
          "2023-02-10T00:00:00.000000000",
          "2023-02-11T00:00:00.000000000",
          "2023-02-12T00:00:00.000000000",
          "2023-02-13T00:00:00.000000000",
          "2023-02-14T00:00:00.000000000",
          "2023-02-15T00:00:00.000000000",
          "2023-02-16T00:00:00.000000000",
          "2023-02-17T00:00:00.000000000",
          "2023-02-18T00:00:00.000000000",
          "2023-02-19T00:00:00.000000000",
          "2023-02-20T00:00:00.000000000",
          "2023-02-21T00:00:00.000000000",
          "2023-02-22T00:00:00.000000000",
          "2023-02-23T00:00:00.000000000",
          "2023-02-24T00:00:00.000000000",
          "2023-02-25T00:00:00.000000000",
          "2023-02-26T00:00:00.000000000",
          "2023-02-27T00:00:00.000000000",
          "2023-02-28T00:00:00.000000000",
          "2023-03-01T00:00:00.000000000",
          "2023-03-02T00:00:00.000000000",
          "2023-03-03T00:00:00.000000000",
          "2023-03-04T00:00:00.000000000",
          "2023-03-05T00:00:00.000000000",
          "2023-03-06T00:00:00.000000000",
          "2023-03-07T00:00:00.000000000",
          "2023-03-08T00:00:00.000000000",
          "2023-03-09T00:00:00.000000000",
          "2023-03-10T00:00:00.000000000",
          "2023-03-11T00:00:00.000000000",
          "2023-03-12T00:00:00.000000000",
          "2023-03-13T00:00:00.000000000",
          "2023-03-14T00:00:00.000000000",
          "2023-03-15T00:00:00.000000000",
          "2023-03-16T00:00:00.000000000",
          "2023-03-17T00:00:00.000000000",
          "2023-03-18T00:00:00.000000000",
          "2023-03-19T00:00:00.000000000",
          "2023-03-20T00:00:00.000000000",
          "2023-03-21T00:00:00.000000000",
          "2023-03-22T00:00:00.000000000",
          "2023-03-23T00:00:00.000000000",
          "2023-03-24T00:00:00.000000000",
          "2023-03-25T00:00:00.000000000",
          "2023-03-26T00:00:00.000000000",
          "2023-03-27T00:00:00.000000000",
          "2023-03-28T00:00:00.000000000",
          "2023-03-29T00:00:00.000000000",
          "2023-03-30T00:00:00.000000000",
          "2023-03-31T00:00:00.000000000",
          "2023-04-01T00:00:00.000000000",
          "2023-04-02T00:00:00.000000000",
          "2023-04-03T00:00:00.000000000",
          "2023-04-04T00:00:00.000000000",
          "2023-04-05T00:00:00.000000000",
          "2023-04-06T00:00:00.000000000",
          "2023-04-07T00:00:00.000000000",
          "2023-04-08T00:00:00.000000000",
          "2023-04-09T00:00:00.000000000",
          "2023-04-10T00:00:00.000000000",
          "2023-04-11T00:00:00.000000000",
          "2023-04-12T00:00:00.000000000",
          "2023-04-13T00:00:00.000000000",
          "2023-04-14T00:00:00.000000000",
          "2023-04-15T00:00:00.000000000",
          "2023-04-16T00:00:00.000000000",
          "2023-04-17T00:00:00.000000000",
          "2023-04-18T00:00:00.000000000",
          "2023-04-19T00:00:00.000000000",
          "2023-04-20T00:00:00.000000000",
          "2023-04-21T00:00:00.000000000",
          "2023-04-22T00:00:00.000000000",
          "2023-04-23T00:00:00.000000000",
          "2023-04-24T00:00:00.000000000",
          "2023-04-25T00:00:00.000000000",
          "2023-04-26T00:00:00.000000000",
          "2023-04-27T00:00:00.000000000",
          "2023-04-28T00:00:00.000000000",
          "2023-04-29T00:00:00.000000000",
          "2023-04-30T00:00:00.000000000",
          "2023-05-01T00:00:00.000000000",
          "2023-05-02T00:00:00.000000000",
          "2023-05-03T00:00:00.000000000",
          "2023-05-04T00:00:00.000000000",
          "2023-05-05T00:00:00.000000000",
          "2023-05-06T00:00:00.000000000",
          "2023-05-07T00:00:00.000000000",
          "2023-05-08T00:00:00.000000000",
          "2023-05-09T00:00:00.000000000",
          "2023-05-10T00:00:00.000000000",
          "2023-05-11T00:00:00.000000000",
          "2023-05-12T00:00:00.000000000",
          "2023-05-13T00:00:00.000000000",
          "2023-05-14T00:00:00.000000000",
          "2023-05-15T00:00:00.000000000",
          "2023-05-16T00:00:00.000000000",
          "2023-05-17T00:00:00.000000000",
          "2023-05-18T00:00:00.000000000",
          "2023-05-19T00:00:00.000000000",
          "2023-05-20T00:00:00.000000000",
          "2023-05-21T00:00:00.000000000",
          "2023-05-22T00:00:00.000000000",
          "2023-05-23T00:00:00.000000000",
          "2023-05-24T00:00:00.000000000",
          "2023-05-25T00:00:00.000000000",
          "2023-05-26T00:00:00.000000000",
          "2023-05-27T00:00:00.000000000",
          "2023-05-28T00:00:00.000000000",
          "2023-05-29T00:00:00.000000000",
          "2023-05-30T00:00:00.000000000",
          "2023-05-31T00:00:00.000000000",
          "2023-06-01T00:00:00.000000000",
          "2023-06-02T00:00:00.000000000",
          "2023-06-03T00:00:00.000000000",
          "2023-06-04T00:00:00.000000000",
          "2023-06-05T00:00:00.000000000",
          "2023-06-06T00:00:00.000000000",
          "2023-06-07T00:00:00.000000000",
          "2023-06-08T00:00:00.000000000",
          "2023-06-09T00:00:00.000000000",
          "2023-06-10T00:00:00.000000000",
          "2023-06-11T00:00:00.000000000",
          "2023-06-12T00:00:00.000000000",
          "2023-06-13T00:00:00.000000000",
          "2023-06-14T00:00:00.000000000",
          "2023-06-15T00:00:00.000000000",
          "2023-06-16T00:00:00.000000000",
          "2023-06-17T00:00:00.000000000",
          "2023-06-18T00:00:00.000000000",
          "2023-06-19T00:00:00.000000000",
          "2023-06-20T00:00:00.000000000",
          "2023-06-21T00:00:00.000000000",
          "2023-06-22T00:00:00.000000000",
          "2023-06-23T00:00:00.000000000",
          "2023-06-24T00:00:00.000000000",
          "2023-06-25T00:00:00.000000000",
          "2023-06-26T00:00:00.000000000",
          "2023-06-27T00:00:00.000000000",
          "2023-06-28T00:00:00.000000000",
          "2023-06-29T00:00:00.000000000",
          "2023-06-30T00:00:00.000000000",
          "2023-07-01T00:00:00.000000000",
          "2023-07-02T00:00:00.000000000",
          "2023-07-03T00:00:00.000000000",
          "2023-07-04T00:00:00.000000000",
          "2023-07-05T00:00:00.000000000",
          "2023-07-06T00:00:00.000000000",
          "2023-07-07T00:00:00.000000000",
          "2023-07-08T00:00:00.000000000",
          "2023-07-09T00:00:00.000000000",
          "2023-07-10T00:00:00.000000000",
          "2023-07-11T00:00:00.000000000",
          "2023-07-12T00:00:00.000000000",
          "2023-07-13T00:00:00.000000000",
          "2023-07-14T00:00:00.000000000",
          "2023-07-15T00:00:00.000000000",
          "2023-07-16T00:00:00.000000000",
          "2023-07-17T00:00:00.000000000",
          "2023-07-18T00:00:00.000000000",
          "2023-07-19T00:00:00.000000000",
          "2023-07-20T00:00:00.000000000",
          "2023-07-21T00:00:00.000000000",
          "2023-07-22T00:00:00.000000000",
          "2023-07-23T00:00:00.000000000",
          "2023-07-24T00:00:00.000000000",
          "2023-07-25T00:00:00.000000000",
          "2023-07-26T00:00:00.000000000",
          "2023-07-27T00:00:00.000000000",
          "2023-07-28T00:00:00.000000000",
          "2023-07-29T00:00:00.000000000",
          "2023-07-30T00:00:00.000000000",
          "2023-07-31T00:00:00.000000000",
          "2023-08-01T00:00:00.000000000",
          "2023-08-02T00:00:00.000000000",
          "2023-08-03T00:00:00.000000000",
          "2023-08-04T00:00:00.000000000",
          "2023-08-05T00:00:00.000000000",
          "2023-08-06T00:00:00.000000000",
          "2023-08-07T00:00:00.000000000",
          "2023-08-08T00:00:00.000000000",
          "2023-08-09T00:00:00.000000000",
          "2023-08-10T00:00:00.000000000",
          "2023-08-11T00:00:00.000000000",
          "2023-08-12T00:00:00.000000000",
          "2023-08-13T00:00:00.000000000",
          "2023-08-14T00:00:00.000000000",
          "2023-08-15T00:00:00.000000000",
          "2023-08-16T00:00:00.000000000",
          "2023-08-17T00:00:00.000000000",
          "2023-08-18T00:00:00.000000000",
          "2023-08-19T00:00:00.000000000",
          "2023-08-20T00:00:00.000000000",
          "2023-08-21T00:00:00.000000000",
          "2023-08-22T00:00:00.000000000",
          "2023-08-23T00:00:00.000000000",
          "2023-08-24T00:00:00.000000000",
          "2023-08-25T00:00:00.000000000",
          "2023-08-26T00:00:00.000000000",
          "2023-08-27T00:00:00.000000000",
          "2023-08-28T00:00:00.000000000",
          "2023-08-29T00:00:00.000000000",
          "2023-08-30T00:00:00.000000000",
          "2023-08-31T00:00:00.000000000",
          "2023-09-01T00:00:00.000000000",
          "2023-09-02T00:00:00.000000000",
          "2023-09-03T00:00:00.000000000",
          "2023-09-04T00:00:00.000000000",
          "2023-09-05T00:00:00.000000000",
          "2023-09-06T00:00:00.000000000",
          "2023-09-07T00:00:00.000000000",
          "2023-09-08T00:00:00.000000000",
          "2023-09-09T00:00:00.000000000",
          "2023-09-10T00:00:00.000000000",
          "2023-09-11T00:00:00.000000000",
          "2023-09-12T00:00:00.000000000",
          "2023-09-13T00:00:00.000000000",
          "2023-09-14T00:00:00.000000000",
          "2023-09-15T00:00:00.000000000",
          "2023-09-16T00:00:00.000000000",
          "2023-09-17T00:00:00.000000000",
          "2023-09-18T00:00:00.000000000",
          "2023-09-19T00:00:00.000000000",
          "2023-09-20T00:00:00.000000000",
          "2023-09-21T00:00:00.000000000",
          "2023-09-22T00:00:00.000000000",
          "2023-09-23T00:00:00.000000000",
          "2023-09-24T00:00:00.000000000",
          "2023-09-25T00:00:00.000000000",
          "2023-09-26T00:00:00.000000000",
          "2023-09-27T00:00:00.000000000",
          "2023-09-28T00:00:00.000000000",
          "2023-09-29T00:00:00.000000000",
          "2023-09-30T00:00:00.000000000",
          "2023-10-01T00:00:00.000000000",
          "2023-10-02T00:00:00.000000000",
          "2023-10-03T00:00:00.000000000",
          "2023-10-04T00:00:00.000000000",
          "2023-10-05T00:00:00.000000000",
          "2023-10-06T00:00:00.000000000",
          "2023-10-07T00:00:00.000000000",
          "2023-10-08T00:00:00.000000000",
          "2023-10-09T00:00:00.000000000",
          "2023-10-10T00:00:00.000000000",
          "2023-10-11T00:00:00.000000000",
          "2023-10-12T00:00:00.000000000",
          "2023-10-13T00:00:00.000000000",
          "2023-10-14T00:00:00.000000000",
          "2023-10-15T00:00:00.000000000",
          "2023-10-16T00:00:00.000000000",
          "2023-10-17T00:00:00.000000000",
          "2023-10-18T00:00:00.000000000",
          "2023-10-19T00:00:00.000000000",
          "2023-10-20T00:00:00.000000000",
          "2023-10-21T00:00:00.000000000",
          "2023-10-22T00:00:00.000000000",
          "2023-10-23T00:00:00.000000000",
          "2023-10-24T00:00:00.000000000",
          "2023-10-25T00:00:00.000000000",
          "2023-10-26T00:00:00.000000000",
          "2023-10-27T00:00:00.000000000",
          "2023-10-28T00:00:00.000000000",
          "2023-10-29T00:00:00.000000000",
          "2023-10-30T00:00:00.000000000",
          "2023-10-31T00:00:00.000000000",
          "2023-11-01T00:00:00.000000000",
          "2023-11-02T00:00:00.000000000",
          "2023-11-03T00:00:00.000000000",
          "2023-11-04T00:00:00.000000000",
          "2023-11-05T00:00:00.000000000",
          "2023-11-06T00:00:00.000000000",
          "2023-11-07T00:00:00.000000000",
          "2023-11-08T00:00:00.000000000",
          "2023-11-09T00:00:00.000000000",
          "2023-11-10T00:00:00.000000000",
          "2023-11-11T00:00:00.000000000",
          "2023-11-12T00:00:00.000000000",
          "2023-11-13T00:00:00.000000000",
          "2023-11-14T00:00:00.000000000",
          "2023-11-15T00:00:00.000000000",
          "2023-11-16T00:00:00.000000000",
          "2023-11-17T00:00:00.000000000",
          "2023-11-18T00:00:00.000000000",
          "2023-11-19T00:00:00.000000000",
          "2023-11-20T00:00:00.000000000",
          "2023-11-21T00:00:00.000000000",
          "2023-11-22T00:00:00.000000000",
          "2023-11-23T00:00:00.000000000",
          "2023-11-24T00:00:00.000000000",
          "2023-11-25T00:00:00.000000000",
          "2023-11-26T00:00:00.000000000",
          "2023-11-27T00:00:00.000000000",
          "2023-11-28T00:00:00.000000000",
          "2023-11-29T00:00:00.000000000",
          "2023-11-30T00:00:00.000000000",
          "2023-12-01T00:00:00.000000000",
          "2023-12-02T00:00:00.000000000",
          "2023-12-03T00:00:00.000000000",
          "2023-12-04T00:00:00.000000000",
          "2023-12-05T00:00:00.000000000",
          "2023-12-06T00:00:00.000000000",
          "2023-12-07T00:00:00.000000000",
          "2023-12-08T00:00:00.000000000",
          "2023-12-09T00:00:00.000000000",
          "2023-12-10T00:00:00.000000000",
          "2023-12-11T00:00:00.000000000",
          "2023-12-12T00:00:00.000000000",
          "2023-12-13T00:00:00.000000000",
          "2023-12-14T00:00:00.000000000",
          "2023-12-15T00:00:00.000000000",
          "2023-12-16T00:00:00.000000000",
          "2023-12-17T00:00:00.000000000",
          "2023-12-18T00:00:00.000000000",
          "2023-12-19T00:00:00.000000000",
          "2023-12-20T00:00:00.000000000",
          "2023-12-21T00:00:00.000000000",
          "2023-12-22T00:00:00.000000000",
          "2023-12-23T00:00:00.000000000",
          "2023-12-24T00:00:00.000000000",
          "2023-12-25T00:00:00.000000000",
          "2023-12-26T00:00:00.000000000",
          "2023-12-27T00:00:00.000000000",
          "2023-12-28T00:00:00.000000000",
          "2023-12-29T00:00:00.000000000",
          "2023-12-30T00:00:00.000000000",
          "2023-12-31T00:00:00.000000000",
          "2024-01-01T00:00:00.000000000",
          "2024-01-02T00:00:00.000000000",
          "2024-01-03T00:00:00.000000000",
          "2024-01-04T00:00:00.000000000",
          "2024-01-05T00:00:00.000000000",
          "2024-01-06T00:00:00.000000000",
          "2024-01-07T00:00:00.000000000",
          "2024-01-08T00:00:00.000000000",
          "2024-01-09T00:00:00.000000000",
          "2024-01-10T00:00:00.000000000",
          "2024-01-11T00:00:00.000000000",
          "2024-01-12T00:00:00.000000000",
          "2024-01-13T00:00:00.000000000",
          "2024-01-14T00:00:00.000000000",
          "2024-01-15T00:00:00.000000000",
          "2024-01-16T00:00:00.000000000",
          "2024-01-17T00:00:00.000000000",
          "2024-01-18T00:00:00.000000000",
          "2024-01-19T00:00:00.000000000",
          "2024-01-20T00:00:00.000000000",
          "2024-01-21T00:00:00.000000000",
          "2024-01-22T00:00:00.000000000",
          "2024-01-23T00:00:00.000000000",
          "2024-01-24T00:00:00.000000000",
          "2024-01-25T00:00:00.000000000",
          "2024-01-26T00:00:00.000000000",
          "2024-01-27T00:00:00.000000000",
          "2024-01-28T00:00:00.000000000",
          "2024-01-29T00:00:00.000000000",
          "2024-01-30T00:00:00.000000000",
          "2024-01-31T00:00:00.000000000",
          "2024-02-01T00:00:00.000000000",
          "2024-02-02T00:00:00.000000000",
          "2024-02-03T00:00:00.000000000",
          "2024-02-04T00:00:00.000000000",
          "2024-02-05T00:00:00.000000000",
          "2024-02-06T00:00:00.000000000",
          "2024-02-07T00:00:00.000000000",
          "2024-02-08T00:00:00.000000000",
          "2024-02-09T00:00:00.000000000",
          "2024-02-10T00:00:00.000000000",
          "2024-02-11T00:00:00.000000000",
          "2024-02-12T00:00:00.000000000",
          "2024-02-13T00:00:00.000000000",
          "2024-02-14T00:00:00.000000000",
          "2024-02-15T00:00:00.000000000",
          "2024-02-16T00:00:00.000000000",
          "2024-02-17T00:00:00.000000000",
          "2024-02-18T00:00:00.000000000",
          "2024-02-19T00:00:00.000000000",
          "2024-02-20T00:00:00.000000000",
          "2024-02-21T00:00:00.000000000",
          "2024-02-22T00:00:00.000000000",
          "2024-02-23T00:00:00.000000000",
          "2024-02-24T00:00:00.000000000",
          "2024-02-25T00:00:00.000000000",
          "2024-02-26T00:00:00.000000000",
          "2024-02-27T00:00:00.000000000",
          "2024-02-28T00:00:00.000000000",
          "2024-02-29T00:00:00.000000000"
         ],
         "xaxis": "x",
         "y": {
          "bdata": "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",
          "dtype": "f8"
         },
         "yaxis": "y"
        }
       ],
       "layout": {
        "height": 350,
        "legend": {
         "tracegroupgap": 0
        },
        "template": {
         "data": {
          "bar": [
           {
            "error_x": {
             "color": "#2a3f5f"
            },
            "error_y": {
             "color": "#2a3f5f"
            },
            "marker": {
             "line": {
              "color": "#E5ECF6",
              "width": 0.5
             },
             "pattern": {
              "fillmode": "overlay",
              "size": 10,
              "solidity": 0.2
             }
            },
            "type": "bar"
           }
          ],
          "barpolar": [
           {
            "marker": {
             "line": {
              "color": "#E5ECF6",
              "width": 0.5
             },
             "pattern": {
              "fillmode": "overlay",
              "size": 10,
              "solidity": 0.2
             }
            },
            "type": "barpolar"
           }
          ],
          "carpet": [
           {
            "aaxis": {
             "endlinecolor": "#2a3f5f",
             "gridcolor": "white",
             "linecolor": "white",
             "minorgridcolor": "white",
             "startlinecolor": "#2a3f5f"
            },
            "baxis": {
             "endlinecolor": "#2a3f5f",
             "gridcolor": "white",
             "linecolor": "white",
             "minorgridcolor": "white",
             "startlinecolor": "#2a3f5f"
            },
            "type": "carpet"
           }
          ],
          "choropleth": [
           {
            "colorbar": {
             "outlinewidth": 0,
             "ticks": ""
            },
            "type": "choropleth"
           }
          ],
          "contour": [
           {
            "colorbar": {
             "outlinewidth": 0,
             "ticks": ""
            },
            "colorscale": [
             [
              0,
              "#0d0887"
             ],
             [
              0.1111111111111111,
              "#46039f"
             ],
             [
              0.2222222222222222,
              "#7201a8"
             ],
             [
              0.3333333333333333,
              "#9c179e"
             ],
             [
              0.4444444444444444,
              "#bd3786"
             ],
             [
              0.5555555555555556,
              "#d8576b"
             ],
             [
              0.6666666666666666,
              "#ed7953"
             ],
             [
              0.7777777777777778,
              "#fb9f3a"
             ],
             [
              0.8888888888888888,
              "#fdca26"
             ],
             [
              1,
              "#f0f921"
             ]
            ],
            "type": "contour"
           }
          ],
          "contourcarpet": [
           {
            "colorbar": {
             "outlinewidth": 0,
             "ticks": ""
            },
            "type": "contourcarpet"
           }
          ],
          "heatmap": [
           {
            "colorbar": {
             "outlinewidth": 0,
             "ticks": ""
            },
            "colorscale": [
             [
              0,
              "#0d0887"
             ],
             [
              0.1111111111111111,
              "#46039f"
             ],
             [
              0.2222222222222222,
              "#7201a8"
             ],
             [
              0.3333333333333333,
              "#9c179e"
             ],
             [
              0.4444444444444444,
              "#bd3786"
             ],
             [
              0.5555555555555556,
              "#d8576b"
             ],
             [
              0.6666666666666666,
              "#ed7953"
             ],
             [
              0.7777777777777778,
              "#fb9f3a"
             ],
             [
              0.8888888888888888,
              "#fdca26"
             ],
             [
              1,
              "#f0f921"
             ]
            ],
            "type": "heatmap"
           }
          ],
          "histogram": [
           {
            "marker": {
             "pattern": {
              "fillmode": "overlay",
              "size": 10,
              "solidity": 0.2
             }
            },
            "type": "histogram"
           }
          ],
          "histogram2d": [
           {
            "colorbar": {
             "outlinewidth": 0,
             "ticks": ""
            },
            "colorscale": [
             [
              0,
              "#0d0887"
             ],
             [
              0.1111111111111111,
              "#46039f"
             ],
             [
              0.2222222222222222,
              "#7201a8"
             ],
             [
              0.3333333333333333,
              "#9c179e"
             ],
             [
              0.4444444444444444,
              "#bd3786"
             ],
             [
              0.5555555555555556,
              "#d8576b"
             ],
             [
              0.6666666666666666,
              "#ed7953"
             ],
             [
              0.7777777777777778,
              "#fb9f3a"
             ],
             [
              0.8888888888888888,
              "#fdca26"
             ],
             [
              1,
              "#f0f921"
             ]
            ],
            "type": "histogram2d"
           }
          ],
          "histogram2dcontour": [
           {
            "colorbar": {
             "outlinewidth": 0,
             "ticks": ""
            },
            "colorscale": [
             [
              0,
              "#0d0887"
             ],
             [
              0.1111111111111111,
              "#46039f"
             ],
             [
              0.2222222222222222,
              "#7201a8"
             ],
             [
              0.3333333333333333,
              "#9c179e"
             ],
             [
              0.4444444444444444,
              "#bd3786"
             ],
             [
              0.5555555555555556,
              "#d8576b"
             ],
             [
              0.6666666666666666,
              "#ed7953"
             ],
             [
              0.7777777777777778,
              "#fb9f3a"
             ],
             [
              0.8888888888888888,
              "#fdca26"
             ],
             [
              1,
              "#f0f921"
             ]
            ],
            "type": "histogram2dcontour"
           }
          ],
          "mesh3d": [
           {
            "colorbar": {
             "outlinewidth": 0,
             "ticks": ""
            },
            "type": "mesh3d"
           }
          ],
          "parcoords": [
           {
            "line": {
             "colorbar": {
              "outlinewidth": 0,
              "ticks": ""
             }
            },
            "type": "parcoords"
           }
          ],
          "pie": [
           {
            "automargin": true,
            "type": "pie"
           }
          ],
          "scatter": [
           {
            "fillpattern": {
             "fillmode": "overlay",
             "size": 10,
             "solidity": 0.2
            },
            "type": "scatter"
           }
          ],
          "scatter3d": [
           {
            "line": {
             "colorbar": {
              "outlinewidth": 0,
              "ticks": ""
             }
            },
            "marker": {
             "colorbar": {
              "outlinewidth": 0,
              "ticks": ""
             }
            },
            "type": "scatter3d"
           }
          ],
          "scattercarpet": [
           {
            "marker": {
             "colorbar": {
              "outlinewidth": 0,
              "ticks": ""
             }
            },
            "type": "scattercarpet"
           }
          ],
          "scattergeo": [
           {
            "marker": {
             "colorbar": {
              "outlinewidth": 0,
              "ticks": ""
             }
            },
            "type": "scattergeo"
           }
          ],
          "scattergl": [
           {
            "marker": {
             "colorbar": {
              "outlinewidth": 0,
              "ticks": ""
             }
            },
            "type": "scattergl"
           }
          ],
          "scattermap": [
           {
            "marker": {
             "colorbar": {
              "outlinewidth": 0,
              "ticks": ""
             }
            },
            "type": "scattermap"
           }
          ],
          "scattermapbox": [
           {
            "marker": {
             "colorbar": {
              "outlinewidth": 0,
              "ticks": ""
             }
            },
            "type": "scattermapbox"
           }
          ],
          "scatterpolar": [
           {
            "marker": {
             "colorbar": {
              "outlinewidth": 0,
              "ticks": ""
             }
            },
            "type": "scatterpolar"
           }
          ],
          "scatterpolargl": [
           {
            "marker": {
             "colorbar": {
              "outlinewidth": 0,
              "ticks": ""
             }
            },
            "type": "scatterpolargl"
           }
          ],
          "scatterternary": [
           {
            "marker": {
             "colorbar": {
              "outlinewidth": 0,
              "ticks": ""
             }
            },
            "type": "scatterternary"
           }
          ],
          "surface": [
           {
            "colorbar": {
             "outlinewidth": 0,
             "ticks": ""
            },
            "colorscale": [
             [
              0,
              "#0d0887"
             ],
             [
              0.1111111111111111,
              "#46039f"
             ],
             [
              0.2222222222222222,
              "#7201a8"
             ],
             [
              0.3333333333333333,
              "#9c179e"
             ],
             [
              0.4444444444444444,
              "#bd3786"
             ],
             [
              0.5555555555555556,
              "#d8576b"
             ],
             [
              0.6666666666666666,
              "#ed7953"
             ],
             [
              0.7777777777777778,
              "#fb9f3a"
             ],
             [
              0.8888888888888888,
              "#fdca26"
             ],
             [
              1,
              "#f0f921"
             ]
            ],
            "type": "surface"
           }
          ],
          "table": [
           {
            "cells": {
             "fill": {
              "color": "#EBF0F8"
             },
             "line": {
              "color": "white"
             }
            },
            "header": {
             "fill": {
              "color": "#C8D4E3"
             },
             "line": {
              "color": "white"
             }
            },
            "type": "table"
           }
          ]
         },
         "layout": {
          "annotationdefaults": {
           "arrowcolor": "#2a3f5f",
           "arrowhead": 0,
           "arrowwidth": 1
          },
          "autotypenumbers": "strict",
          "coloraxis": {
           "colorbar": {
            "outlinewidth": 0,
            "ticks": ""
           }
          },
          "colorscale": {
           "diverging": [
            [
             0,
             "#8e0152"
            ],
            [
             0.1,
             "#c51b7d"
            ],
            [
             0.2,
             "#de77ae"
            ],
            [
             0.3,
             "#f1b6da"
            ],
            [
             0.4,
             "#fde0ef"
            ],
            [
             0.5,
             "#f7f7f7"
            ],
            [
             0.6,
             "#e6f5d0"
            ],
            [
             0.7,
             "#b8e186"
            ],
            [
             0.8,
             "#7fbc41"
            ],
            [
             0.9,
             "#4d9221"
            ],
            [
             1,
             "#276419"
            ]
           ],
           "sequential": [
            [
             0,
             "#0d0887"
            ],
            [
             0.1111111111111111,
             "#46039f"
            ],
            [
             0.2222222222222222,
             "#7201a8"
            ],
            [
             0.3333333333333333,
             "#9c179e"
            ],
            [
             0.4444444444444444,
             "#bd3786"
            ],
            [
             0.5555555555555556,
             "#d8576b"
            ],
            [
             0.6666666666666666,
             "#ed7953"
            ],
            [
             0.7777777777777778,
             "#fb9f3a"
            ],
            [
             0.8888888888888888,
             "#fdca26"
            ],
            [
             1,
             "#f0f921"
            ]
           ],
           "sequentialminus": [
            [
             0,
             "#0d0887"
            ],
            [
             0.1111111111111111,
             "#46039f"
            ],
            [
             0.2222222222222222,
             "#7201a8"
            ],
            [
             0.3333333333333333,
             "#9c179e"
            ],
            [
             0.4444444444444444,
             "#bd3786"
            ],
            [
             0.5555555555555556,
             "#d8576b"
            ],
            [
             0.6666666666666666,
             "#ed7953"
            ],
            [
             0.7777777777777778,
             "#fb9f3a"
            ],
            [
             0.8888888888888888,
             "#fdca26"
            ],
            [
             1,
             "#f0f921"
            ]
           ]
          },
          "colorway": [
           "#636efa",
           "#EF553B",
           "#00cc96",
           "#ab63fa",
           "#FFA15A",
           "#19d3f3",
           "#FF6692",
           "#B6E880",
           "#FF97FF",
           "#FECB52"
          ],
          "font": {
           "color": "#2a3f5f"
          },
          "geo": {
           "bgcolor": "white",
           "lakecolor": "white",
           "landcolor": "#E5ECF6",
           "showlakes": true,
           "showland": true,
           "subunitcolor": "white"
          },
          "hoverlabel": {
           "align": "left"
          },
          "hovermode": "closest",
          "mapbox": {
           "style": "light"
          },
          "paper_bgcolor": "white",
          "plot_bgcolor": "#E5ECF6",
          "polar": {
           "angularaxis": {
            "gridcolor": "white",
            "linecolor": "white",
            "ticks": ""
           },
           "bgcolor": "#E5ECF6",
           "radialaxis": {
            "gridcolor": "white",
            "linecolor": "white",
            "ticks": ""
           }
          },
          "scene": {
           "xaxis": {
            "backgroundcolor": "#E5ECF6",
            "gridcolor": "white",
            "gridwidth": 2,
            "linecolor": "white",
            "showbackground": true,
            "ticks": "",
            "zerolinecolor": "white"
           },
           "yaxis": {
            "backgroundcolor": "#E5ECF6",
            "gridcolor": "white",
            "gridwidth": 2,
            "linecolor": "white",
            "showbackground": true,
            "ticks": "",
            "zerolinecolor": "white"
           },
           "zaxis": {
            "backgroundcolor": "#E5ECF6",
            "gridcolor": "white",
            "gridwidth": 2,
            "linecolor": "white",
            "showbackground": true,
            "ticks": "",
            "zerolinecolor": "white"
           }
          },
          "shapedefaults": {
           "line": {
            "color": "#2a3f5f"
           }
          },
          "ternary": {
           "aaxis": {
            "gridcolor": "white",
            "linecolor": "white",
            "ticks": ""
           },
           "baxis": {
            "gridcolor": "white",
            "linecolor": "white",
            "ticks": ""
           },
           "bgcolor": "#E5ECF6",
           "caxis": {
            "gridcolor": "white",
            "linecolor": "white",
            "ticks": ""
           }
          },
          "title": {
           "x": 0.05
          },
          "xaxis": {
           "automargin": true,
           "gridcolor": "white",
           "linecolor": "white",
           "ticks": "",
           "title": {
            "standoff": 15
           },
           "zerolinecolor": "white",
           "zerolinewidth": 2
          },
          "yaxis": {
           "automargin": true,
           "gridcolor": "white",
           "linecolor": "white",
           "ticks": "",
           "title": {
            "standoff": 15
           },
           "zerolinecolor": "white",
           "zerolinewidth": 2
          }
         }
        },
        "title": {
         "text": "Contagem corrigida – count_14"
        },
        "width": 1900,
        "xaxis": {
         "anchor": "y",
         "domain": [
          0,
          1
         ],
         "title": {
          "text": "detected"
         }
        },
        "yaxis": {
         "anchor": "x",
         "domain": [
          0,
          1
         ],
         "title": {
          "text": "Contagem"
         }
        }
       }
      }
     },
     "metadata": {},
     "output_type": "display_data"
    }
   ],
   "source": [
    "# Selecionar os três primeiros contadores (podes trocar os nomes)\n",
    "contadores_para_mostrar = ['count_34', 'count_13', 'count_14']\n",
    "\n",
    "for contador in contadores_para_mostrar:\n",
    "    fig = px.line(\n",
    "        df_corrigido_total,\n",
    "        y=contador,\n",
    "        title=f\"Contagem corrigida – {contador}\",\n",
    "        labels={\"index\": \"Data\", contador: \"Contagem\"},\n",
    "    )\n",
    "    fig.update_layout(width=1900, height=350)\n",
    "    fig.show()\n",
    "\n"
   ]
  },
  {
   "cell_type": "markdown",
   "id": "2559bf92",
   "metadata": {},
   "source": [
    "### Métodos tradicionais"
   ]
  },
  {
   "cell_type": "code",
   "execution_count": 104,
   "id": "b736dd16",
   "metadata": {},
   "outputs": [],
   "source": [
    "def calcular_sr_si(df, coluna='count_', plotar=True):\n",
    "    df = df.copy()\n",
    "    df.columns = ['datetime', coluna]\n",
    "    df['datetime'] = pd.to_datetime(df['datetime'])\n",
    "\n",
    "    # Extrair ano e semana ISO\n",
    "    df['ano'] = df['datetime'].dt.isocalendar().year\n",
    "    df['semana'] = df['datetime'].dt.isocalendar().week\n",
    "\n",
    "    # 1) SR agregado por semana (todos os anos juntos)\n",
    "    df_sr_semana = df.groupby('semana')[coluna].agg(['mean', 'max']).reset_index()\n",
    "    df_sr_semana.rename(columns={'mean': 'media_semanal', 'max': 'max_semanal'}, inplace=True)\n",
    "    df_sr_semana['SR'] = df_sr_semana['max_semanal'] / df_sr_semana['media_semanal']\n",
    "\n",
    "    # df_semana agora tem SR para cada semana, agregado (todos os anos juntos)\n",
    "\n",
    "    # 2) SR separado por ano e semana\n",
    "    df_sr_ano_semana = df.groupby(['ano', 'semana'])[coluna].agg(['mean', 'max']).reset_index()\n",
    "    df_sr_ano_semana.rename(columns={'mean': 'media_semanal', 'max': 'max_semanal'}, inplace=True)\n",
    "    df_sr_ano_semana['SR'] = df_sr_ano_semana['max_semanal'] / df_sr_ano_semana['media_semanal']\n",
    "\n",
    "    # df_ano_semana tem SR para cada semana de cada ano separado\n",
    "\n",
    "\n",
    "\n",
    "    resultados_si = []\n",
    "    for ano, grupo in df_sr_ano_semana.groupby('ano'):\n",
    "        media_sr = grupo['SR'].mean()\n",
    "        max_sr = grupo['SR'].max()\n",
    "        si = media_sr / max_sr if max_sr != 0 else None\n",
    "        resultados_si.append({\n",
    "            'ano': ano,\n",
    "            'SI': round(si, 4) if si is not None else None,\n",
    "            'SR_medio': round(media_sr, 4),\n",
    "            'SR_max': round(max_sr, 4)\n",
    "        })\n",
    "\n",
    "    df_si = pd.DataFrame(resultados_si).sort_values('ano').reset_index(drop=True)\n",
    "\n",
    "\n",
    "    if plotar:\n",
    "        plt.figure(figsize=(12, 12))\n",
    "\n",
    "        plt.subplot(3, 1, 1)\n",
    "        for ano in sorted(df_sr_ano_semana['ano'].unique()):\n",
    "            subset = df_sr_ano_semana[df_sr_ano_semana['ano'] == ano].sort_values('semana')\n",
    "            plt.plot(subset['semana'], subset['SR'], marker='o', linestyle='-', label=f'Ano {ano}', alpha=0.7)\n",
    "        plt.axhline(1, color='red', linestyle='--', label='SR = 1 (sem sazonalidade)')\n",
    "        plt.xlim(1, 53)\n",
    "        plt.title('Seasonality Ratio (SR) por Semana e Ano')\n",
    "        plt.xlabel('Semana do Ano')\n",
    "        plt.ylabel('SR')\n",
    "        plt.grid(True)\n",
    "        plt.legend()\n",
    "\n",
    "        plt.subplot(3, 1, 2)\n",
    "        plt.plot(df_sr_semana['semana'], df_sr_semana['SR'], marker='o', color='black')\n",
    "        plt.axhline(1, color='red', linestyle='--', label='SR = 1 (sem sazonalidade)')\n",
    "        plt.title('Seasonality Ratio (SR) semanal (máximo/média)')\n",
    "        plt.xlabel('Semana do Ano')\n",
    "        plt.ylabel('SR')\n",
    "        plt.grid(True)\n",
    "        plt.legend()\n",
    "\n",
    "        plt.subplot(3, 1, 3)\n",
    "        plt.plot(df_si['ano'], df_si['SI'], marker='o', color='green', label='Seasonality Indicator (SI)')\n",
    "        plt.axhline(1, color='red', linestyle='--', label='SI = 1 (sem sazonalidade)')\n",
    "        plt.title('Seasonality Indicator (SI) por Ano')\n",
    "        plt.xlabel('Ano')\n",
    "        plt.ylabel('SI')\n",
    "        plt.ylim(0, 1.05)\n",
    "        plt.grid(True)\n",
    "        plt.legend()\n",
    "        plt.tight_layout()\n",
    "        plt.show()\n",
    "\n",
    "    return df_sr_ano_semana, df_sr_semana, df_si"
   ]
  },
  {
   "cell_type": "code",
   "execution_count": 226,
   "id": "a029f5bb",
   "metadata": {},
   "outputs": [
    {
     "data": {
      "image/png": "[encoded data removed]",
      "text/plain": [
       "<Figure size 1200x1200 with 3 Axes>"
      ]
     },
     "metadata": {},
     "output_type": "display_data"
    },
    {
     "name": "stdout",
     "output_type": "stream",
     "text": [
      "      ano  semana  media_semanal  max_semanal        SR\n",
      "0    2021      30     691.000000        691.0  1.000000\n",
      "1    2021      31     790.428571        894.0  1.131032\n",
      "2    2021      32     830.857143        950.0  1.143398\n",
      "3    2021      33     809.571429        897.0  1.107994\n",
      "4    2021      34     919.000000       1057.0  1.150163\n",
      "..    ...     ...            ...          ...       ...\n",
      "131  2024       5    1120.428571       1468.0  1.310213\n",
      "132  2024       6     978.857143       1361.0  1.390397\n",
      "133  2024       7    1229.857143       1435.0  1.166802\n",
      "134  2024       8    1198.000000       1467.0  1.224541\n",
      "135  2024       9    1315.500000       1399.0  1.063474\n",
      "\n",
      "[136 rows x 5 columns]\n",
      " \n",
      "    semana  media_semanal  max_semanal        SR\n",
      "0        1    1116.913116  2398.131887  2.147107\n",
      "1        2    1103.189416  1588.000000  1.439463\n",
      "2        3    1168.662566  1928.913884  1.650531\n",
      "3        4    1193.047619  1476.000000  1.237168\n",
      "4        5    1292.000000  1585.000000  1.226780\n",
      "5        6    1296.285714  2285.000000  1.762729\n",
      "6        7    1414.285714  1732.000000  1.224646\n",
      "7        8    1396.190476  1852.000000  1.326467\n",
      "8        9    1354.722222  1672.000000  1.234201\n",
      "9       10    1278.857143  1654.000000  1.293342\n",
      "10      11    1481.384988  1836.000000  1.239381\n",
      "11      12    1451.142857  1772.000000  1.221107\n",
      "12      13    1584.000000  1805.000000  1.139520\n",
      "13      14    1562.928571  1825.000000  1.167680\n",
      "14      15    1595.928571  1915.000000  1.199928\n",
      "15      16    1505.642857  1943.000000  1.290479\n",
      "16      17    1772.559902  2285.000000  1.289096\n",
      "17      18    1875.571429  2141.000000  1.141519\n",
      "18      19    1772.214286  2013.000000  1.135867\n",
      "19      20    1803.214286  2063.000000  1.144068\n",
      "20      21    1875.928571  2285.000000  1.218063\n",
      "21      22    1857.928571  2210.000000  1.189497\n",
      "22      23    1814.285714  2145.000000  1.182283\n",
      "23      24    1692.071429  2285.000000  1.350416\n",
      "24      25    1737.642857  2088.000000  1.201628\n",
      "25      26    1686.357143  1878.000000  1.113643\n",
      "26      27    1782.642857  2055.000000  1.152783\n",
      "27      28    1693.357143  2082.000000  1.229510\n",
      "28      29    1702.714286  2015.000000  1.183405\n",
      "29      30    1551.200000  1884.000000  1.214544\n",
      "30      31    1563.335680  3130.000000  2.002129\n",
      "31      32    1334.486908  2063.000000  1.545913\n",
      "32      33    1302.000000  1700.000000  1.305684\n",
      "33      34    1327.333333  1700.000000  1.280763\n",
      "34      35    1508.000000  1987.000000  1.317639\n",
      "35      36    1566.095238  2285.000000  1.459043\n",
      "36      37    1504.071175  2018.000000  1.341692\n",
      "37      38    1536.476190  1966.000000  1.279551\n",
      "38      39    1456.806399  1908.000000  1.309714\n",
      "39      40    1424.593657  1908.000000  1.339329\n",
      "40      41    1394.428571  1899.000000  1.361848\n",
      "41      42    1170.316858  1826.000000  1.560261\n",
      "42      43    1189.476190  1757.000000  1.477121\n",
      "43      44    1267.373653  1889.000000  1.490484\n",
      "44      45    1271.380952  1725.000000  1.356792\n",
      "45      46    1176.204313  1612.000000  1.370510\n",
      "46      47    1121.238095  1513.000000  1.349401\n",
      "47      48    1441.535470  3130.000000  2.171296\n",
      "48      49    1692.903276  3130.000000  1.848895\n",
      "49      50    1706.379158  3130.000000  1.834293\n",
      "50      51    1447.382545  2491.000000  1.721038\n",
      "51      52    1607.414200  2737.000000  1.702735\n",
      " \n",
      "    ano      SI  SR_medio  SR_max\n",
      "0  2021  0.7948    1.2286  1.5458\n",
      "1  2022  0.7522    1.1631  1.5461\n",
      "2  2023  0.6345    1.1922  1.8790\n",
      "3  2024  0.6862    1.3016  1.8969\n"
     ]
    }
   ],
   "source": [
    "df_diario = df_corrigido_total['count_34'].reset_index()\n",
    "df_diario.columns = ['datetime', 'count_34']\n",
    "df_sr_ano_semana, df_sr_semana, df_si = calcular_sr_si(df_diario, coluna='count_34', plotar=True)\n",
    "\n",
    "print(df_sr_ano_semana)\n",
    "print(' ')        \n",
    "print(df_sr_semana)    \n",
    "print(' ')  \n",
    "print(df_si)  "
   ]
  },
  {
   "cell_type": "code",
   "execution_count": 193,
   "id": "24f518e1",
   "metadata": {},
   "outputs": [],
   "source": [
    "y = df_corrigido_total['count_29']\n",
    "y_boxcox = boxcox(y, lmbda=0)\n",
    "best_lambda = boxcox_lambda(y, method='guerrero', season_length=7)\n",
    "y_boxcox = boxcox(y, best_lambda)"
   ]
  },
  {
   "cell_type": "code",
   "execution_count": 194,
   "id": "3859ecc4",
   "metadata": {},
   "outputs": [
    {
     "data": {
      "text/plain": [
       "array([ 356.,  341.,  315.,  354.,  349.,  361.,  308.,  299.,  348.,\n",
       "        420.,  425.,  376.,  407.,  362.,  343.,  386.,  399.,  404.,\n",
       "        383.,  388.,  378.,  344.,  363.,  427.,  459.,  433.,  434.,\n",
       "        367.,  333.,  442.,  512.,  577.,  507.,  507.,  438.,  407.,\n",
       "        502.,  530.,  487.,  508.,  493.,  408.,  434.,  436.,  470.,\n",
       "        433.,  500.,  500.,  447.,  352.,  434.,  526.,  462.,  532.,\n",
       "        486.,  423.,  379.,  511.,  498.,  527.,  584.,  580.,  460.,\n",
       "        401.,  552.,  420.,  585.,  578.,  608.,  511.,  440.,  532.,\n",
       "        543.,  573.,  580.,  558.,  535.,  435.,  577.,  688.,  637.,\n",
       "        530.,  673.,  512.,  451.,  599.,  592.,  573.,  645.,  487.,\n",
       "        359.,  372.,  484.,  514.,  557.,  713.,  637.,  469.,  493.,\n",
       "        513.,  535.,  599.,  568.,  592.,  499.,  424.,  569.,  532.,\n",
       "        585.,  582.,  641.,  523.,  442.,  437.,  549.,  523.,  486.,\n",
       "        607.,  474.,  415.,  554.,  614.,  503.,  571.,  602.,  519.,\n",
       "        431.,  587.,  454.,  466.,  592.,  574.,  577.,  468.,  588.,\n",
       "        613.,  585.,  607.,  580.,  571.,  450.,  320.,  454.,  433.,\n",
       "        444.,  315.,  251.,  211.,  398.,  428.,  491.,  508.,  482.,\n",
       "        382.,  455.,  467.,  466.,  464.,  536.,  553.,  569.,  425.,\n",
       "        538.,  587.,  619.,  597.,  593.,  467.,  456.,  507.,  518.,\n",
       "        515.,  564.,  622.,  524.,  436.,  534.,  567.,  607.,  570.,\n",
       "        644.,  579.,  492.,  572.,  631.,  632.,  599.,  676.,  546.,\n",
       "        542.,  625.,  652.,  617.,  636.,  622.,  581.,  340.,  726.,\n",
       "        715.,  475.,  283.,  318.,  208.,  201.,  293.,  319.,  323.,\n",
       "        299.,  293.,  244.,  215.,  314.,  262.,  281.,  243.,  337.,\n",
       "        208.,  208.,  272.,  358.,  338.,  249.,  340.,  208.,  237.,\n",
       "        237.,  298.,  226.,  296.,  340.,  245.,  139.,  294.,  258.,\n",
       "        231.,  265.,  298.,  230.,  208.,  249.,  297.,  276.,  285.,\n",
       "        350.,  249.,  202.,  252.,  236.,  315.,  314.,  388.,  253.,\n",
       "        258.,  314.,  268.,  292.,  312.,  237.,  243.,  160.,  263.,\n",
       "        238.,  237.,  268.,  268.,  270.,  219.,  204.,  287.,  287.,\n",
       "        310.,  406.,  292.,  207.,  268.,  323.,  373.,  299.,  369.,\n",
       "        300.,  268.,  350.,  370.,  358.,  363.,  344.,  281.,  224.,\n",
       "        319.,  375.,  374.,  350.,  383.,  288.,  202.,  326.,  274.,\n",
       "        284.,  584.,  726.,  726.,  726.,  726.,  726.,  726.,  726.,\n",
       "        726.,  726.,  726., 1389., 1291., 1389., 1498., 1336., 1272.,\n",
       "       1292., 1062., 1390., 1377., 1127., 1423., 1179., 1077., 1227.,\n",
       "       1275., 1380., 1351., 1352., 1299., 1525., 1418., 1323., 1310.,\n",
       "       1315., 1494., 1249., 1082., 1395., 1479., 1488., 1432., 1636.,\n",
       "       1236., 1144., 1388., 1309., 1324., 1391., 1400., 1137., 1068.,\n",
       "       1378., 1325., 1401., 1387., 1401., 1195., 1072., 1364., 1341.,\n",
       "       1324., 1262., 1405., 1267., 1162., 1405., 1328., 1384., 1334.,\n",
       "       1279., 1218., 1152.,  867., 1064., 1394., 1361., 1371., 1048.,\n",
       "        957., 1022., 1092.,  938., 1303., 1371., 1048.,  957., 1022.,\n",
       "       1092.,  938., 1340., 1371., 1048.,  957., 1150., 1295., 1304.,\n",
       "       1289., 1358., 1207., 1134., 1255., 1300., 1405., 1291., 1346.,\n",
       "       1122.,  993.,  973., 1123., 1191., 1349., 1287., 1148., 1163.,\n",
       "       1375., 1457., 1319., 1348., 1357., 1143., 1039., 1221., 1214.,\n",
       "       1219., 1101., 1268., 1178., 1110., 1263., 1295., 1149., 1181.,\n",
       "       1388., 1213., 1009.,  959., 1149., 1267., 1183., 1292., 1093.,\n",
       "        987., 1193., 1137.,  866., 1010., 1158.,  856.,  804., 1105.,\n",
       "       1404., 1099., 1285., 1272.,  991.,  993., 1213., 1094., 1280.,\n",
       "        944., 1272., 1192.,  916., 1059.,  928.,  955., 1178., 1164.,\n",
       "        935.,  808., 1004.,  902., 1038., 1403., 1186., 1013.,  842.,\n",
       "        953., 1455., 1091.,  974., 1242.,  944.,  746., 1105., 1122.,\n",
       "        850., 1023., 1151.,  914.,  713.,  989., 1038.,  885.,  777.,\n",
       "       1032.,  815.,  671.,  889.,  697.,  864., 1099.,  964., 1027.,\n",
       "        780.,  887.,  966., 1068., 1085., 1078.,  713.,  332.,  746.,\n",
       "        873.,  916.,  824.,  942.,  918.,  581.,  964., 1006.,  949.,\n",
       "       1164., 1083.,  724.,  645.,  993.,  844., 1084., 1068., 1191.,\n",
       "        931.,  699.,  882.,  940.,  925.,  950., 1191.,  866.,  718.,\n",
       "       1297., 1010.,  930.,  868.,  972.,  804.,  704.,  882.,  962.,\n",
       "        974., 1007., 1052.,  975.,  790., 1001.,  962.,  867., 1002.,\n",
       "       1046.,  832.,  718.,  947., 1049., 1001., 1025., 1021.,  931.,\n",
       "        683.,  909.,  863.,  964.,  957., 1025.,  829.,  668., 1007.,\n",
       "        988., 1056., 1046., 1105.,  870.,  692.,  929.,  984.,  975.,\n",
       "       1253., 1090.,  888.,  753.,  931.,  981., 1037.,  996., 1095.,\n",
       "        865.,  701., 1044., 1012., 1017.,  928., 1000.,  764.,  734.,\n",
       "        971., 1131., 1077., 1049.,  988.,  840.,  768.,  931., 1035.,\n",
       "       1038., 1001.,  780.,  717.,  674.,  914., 1048.,  938.,  908.,\n",
       "       1007.,  841.,  753., 1108., 1079., 1045., 1054.,  869.,  780.,\n",
       "        696.,  943.,  860., 1071., 1055., 1128.,  924.,  737.,  725.,\n",
       "       1169., 1178., 1114., 1126.,  849.,  815., 1010., 1093., 1167.,\n",
       "       1111., 1072.,  859.,  783., 1037., 1014., 1185., 1123., 1087.,\n",
       "        905.,  705.,  956.,  980., 1132., 1181., 1102., 1052.,  775.,\n",
       "       1063., 1159., 1102., 1136., 1227., 1064.,  903., 1137., 1066.,\n",
       "       1152.,  815., 1077.,  966.,  894., 1115.,  811., 1186., 1072.,\n",
       "       1189.,  983.,  807., 1049., 1110., 1031., 1054., 1106.,  894.,\n",
       "        901., 1094., 1123., 1037., 1099., 1075.,  962.,  797.,  992.,\n",
       "       1118., 1051., 1090., 1179., 1076.,  716., 1127., 1110., 1176.,\n",
       "       1066., 1115.,  913.,  729., 1086., 1118., 1106., 1122., 1285.,\n",
       "        833.,  698., 1001.,  949., 1007.,  975., 1013.,  843.,  731.,\n",
       "        996., 1099., 1045., 1068., 1124.,  902.,  747., 1009., 1030.,\n",
       "       1096., 1017., 1059.,  817.,  750.,  905.,  794.,  996.,  998.,\n",
       "       1073.,  760.,  764., 1017., 1065., 1111.,  994., 1076.,  897.,\n",
       "        779., 1022.,  981., 1061., 1075., 1048.,  915.,  783., 1041.,\n",
       "       1159., 1176., 1081., 1060.,  956.,  843., 1211., 1218., 1111.,\n",
       "       1102., 1224., 1070.,  792., 1184., 1290., 1199., 1061., 1230.,\n",
       "        974.,  935., 1186., 1220., 1295., 1222., 1363., 1054.,  919.,\n",
       "       1295., 1236., 1336., 1041., 1302., 1038.,  901., 1188., 1347.,\n",
       "       1290., 1313., 1265., 1125.,  927., 1212.,  996., 1144.,  926.,\n",
       "       1265., 1125.,  927., 1036.,  891., 1208., 1115., 1195.,  971.,\n",
       "        819., 1146., 1144.,  963., 1050., 1150.,  902.,  869., 1127.,\n",
       "       1094., 1103., 1141., 1152.,  998.,  864., 1158., 1225., 1177.,\n",
       "       1221., 1165., 1063.,  898., 1096., 1177., 1120., 1199., 1259.,\n",
       "       1094.,  848., 1107., 1037., 1154.,  854., 1026.,  933.,  865.,\n",
       "       1137.,  957., 1070., 1162., 1057., 1014.,  866., 1139., 1134.,\n",
       "       1136., 1173., 1138., 1027.,  805., 1059., 1025., 1079., 1105.,\n",
       "       1117.,  815.,  600.,  660.,  825.,  881.,  969.,  919.,  821.,\n",
       "        877.,  766.,  961.,  942., 1070., 1159.,  944.,  788.,  848.,\n",
       "        991.,  932., 1089., 1119.,  913.,  788.,  955.,  978., 1073.,\n",
       "       1033., 1119.,  962.,  838., 1072., 1133., 1081., 1103., 1191.,\n",
       "        908.,  820., 1108., 1033., 1086., 1138., 1158., 1045.,  956.,\n",
       "       1118., 1167., 1136.,  934., 1114.,  922.,  763., 1163.,  939.,\n",
       "       1193., 1109., 1109.,  982.,  923., 1089., 1179., 1141., 1073.,\n",
       "        996.,  918.,  886.,  970., 1045., 1056., 1120.], dtype=float32)"
      ]
     },
     "execution_count": 194,
     "metadata": {},
     "output_type": "execute_result"
    }
   ],
   "source": [
    "inv_boxcox(y_boxcox, best_lambda).round(0)"
   ]
  },
  {
   "cell_type": "code",
   "execution_count": 195,
   "id": "24af0a3c",
   "metadata": {},
   "outputs": [
    {
     "data": {
      "text/html": [
       "<div>\n",
       "<style scoped>\n",
       "    .dataframe tbody tr th:only-of-type {\n",
       "        vertical-align: middle;\n",
       "    }\n",
       "\n",
       "    .dataframe tbody tr th {\n",
       "        vertical-align: top;\n",
       "    }\n",
       "\n",
       "    .dataframe thead th {\n",
       "        text-align: right;\n",
       "    }\n",
       "</style>\n",
       "<table border=\"1\" class=\"dataframe\">\n",
       "  <thead>\n",
       "    <tr style=\"text-align: right;\">\n",
       "      <th></th>\n",
       "      <th>observed</th>\n",
       "      <th>trend</th>\n",
       "      <th>seasonal</th>\n",
       "      <th>residual</th>\n",
       "    </tr>\n",
       "    <tr>\n",
       "      <th>detected</th>\n",
       "      <th></th>\n",
       "      <th></th>\n",
       "      <th></th>\n",
       "      <th></th>\n",
       "    </tr>\n",
       "  </thead>\n",
       "  <tbody>\n",
       "    <tr>\n",
       "      <th>2021-08-01</th>\n",
       "      <td>356.000732</td>\n",
       "      <td>332.816270</td>\n",
       "      <td>0.999956</td>\n",
       "      <td>1.000415</td>\n",
       "    </tr>\n",
       "    <tr>\n",
       "      <th>2021-08-02</th>\n",
       "      <td>340.996429</td>\n",
       "      <td>334.448901</td>\n",
       "      <td>1.000025</td>\n",
       "      <td>1.000083</td>\n",
       "    </tr>\n",
       "    <tr>\n",
       "      <th>2021-08-03</th>\n",
       "      <td>314.998322</td>\n",
       "      <td>336.393518</td>\n",
       "      <td>0.999992</td>\n",
       "      <td>0.999628</td>\n",
       "    </tr>\n",
       "    <tr>\n",
       "      <th>2021-08-04</th>\n",
       "      <td>353.998169</td>\n",
       "      <td>338.597068</td>\n",
       "      <td>1.000346</td>\n",
       "      <td>0.999898</td>\n",
       "    </tr>\n",
       "    <tr>\n",
       "      <th>2021-08-05</th>\n",
       "      <td>349.000366</td>\n",
       "      <td>341.053492</td>\n",
       "      <td>1.000027</td>\n",
       "      <td>1.000100</td>\n",
       "    </tr>\n",
       "    <tr>\n",
       "      <th>2021-08-06</th>\n",
       "      <td>360.998260</td>\n",
       "      <td>343.799131</td>\n",
       "      <td>1.000263</td>\n",
       "      <td>1.000000</td>\n",
       "    </tr>\n",
       "    <tr>\n",
       "      <th>2021-08-07</th>\n",
       "      <td>307.997925</td>\n",
       "      <td>346.916565</td>\n",
       "      <td>0.999531</td>\n",
       "      <td>0.999784</td>\n",
       "    </tr>\n",
       "    <tr>\n",
       "      <th>2021-08-08</th>\n",
       "      <td>299.004028</td>\n",
       "      <td>351.238904</td>\n",
       "      <td>0.999676</td>\n",
       "      <td>0.999389</td>\n",
       "    </tr>\n",
       "    <tr>\n",
       "      <th>2021-08-09</th>\n",
       "      <td>348.001312</td>\n",
       "      <td>357.363882</td>\n",
       "      <td>0.999973</td>\n",
       "      <td>0.999884</td>\n",
       "    </tr>\n",
       "    <tr>\n",
       "      <th>2021-08-10</th>\n",
       "      <td>419.997131</td>\n",
       "      <td>363.361049</td>\n",
       "      <td>1.000151</td>\n",
       "      <td>1.000561</td>\n",
       "    </tr>\n",
       "    <tr>\n",
       "      <th>2021-08-11</th>\n",
       "      <td>425.001038</td>\n",
       "      <td>369.648384</td>\n",
       "      <td>1.000429</td>\n",
       "      <td>1.000249</td>\n",
       "    </tr>\n",
       "    <tr>\n",
       "      <th>2021-08-12</th>\n",
       "      <td>375.996094</td>\n",
       "      <td>375.802832</td>\n",
       "      <td>1.000086</td>\n",
       "      <td>0.999917</td>\n",
       "    </tr>\n",
       "    <tr>\n",
       "      <th>2021-08-13</th>\n",
       "      <td>407.002228</td>\n",
       "      <td>380.399813</td>\n",
       "      <td>1.000244</td>\n",
       "      <td>1.000086</td>\n",
       "    </tr>\n",
       "    <tr>\n",
       "      <th>2021-08-14</th>\n",
       "      <td>362.004578</td>\n",
       "      <td>382.305524</td>\n",
       "      <td>0.999567</td>\n",
       "      <td>1.000153</td>\n",
       "    </tr>\n",
       "    <tr>\n",
       "      <th>2021-08-15</th>\n",
       "      <td>342.994904</td>\n",
       "      <td>381.823849</td>\n",
       "      <td>0.999396</td>\n",
       "      <td>1.000040</td>\n",
       "    </tr>\n",
       "  </tbody>\n",
       "</table>\n",
       "</div>"
      ],
      "text/plain": [
       "              observed       trend  seasonal  residual\n",
       "detected                                              \n",
       "2021-08-01  356.000732  332.816270  0.999956  1.000415\n",
       "2021-08-02  340.996429  334.448901  1.000025  1.000083\n",
       "2021-08-03  314.998322  336.393518  0.999992  0.999628\n",
       "2021-08-04  353.998169  338.597068  1.000346  0.999898\n",
       "2021-08-05  349.000366  341.053492  1.000027  1.000100\n",
       "2021-08-06  360.998260  343.799131  1.000263  1.000000\n",
       "2021-08-07  307.997925  346.916565  0.999531  0.999784\n",
       "2021-08-08  299.004028  351.238904  0.999676  0.999389\n",
       "2021-08-09  348.001312  357.363882  0.999973  0.999884\n",
       "2021-08-10  419.997131  363.361049  1.000151  1.000561\n",
       "2021-08-11  425.001038  369.648384  1.000429  1.000249\n",
       "2021-08-12  375.996094  375.802832  1.000086  0.999917\n",
       "2021-08-13  407.002228  380.399813  1.000244  1.000086\n",
       "2021-08-14  362.004578  382.305524  0.999567  1.000153\n",
       "2021-08-15  342.994904  381.823849  0.999396  1.000040"
      ]
     },
     "execution_count": 195,
     "metadata": {},
     "output_type": "execute_result"
    }
   ],
   "source": [
    "stl = STL(y_boxcox, period=7)\n",
    "decomp_stl = stl.fit()\n",
    "df_decomp_stl = pd.DataFrame({\n",
    "    'observed': inv_boxcox(decomp_stl.observed, best_lambda),\n",
    "    'trend': inv_boxcox(decomp_stl.trend, best_lambda),\n",
    "    'seasonal': inv_boxcox(decomp_stl.seasonal, best_lambda),\n",
    "    'residual': inv_boxcox(decomp_stl.resid, best_lambda)\n",
    "}, index=df_corrigido_total.index)\n",
    "\n",
    "df_decomp_stl.head(15)"
   ]
  },
  {
   "cell_type": "code",
   "execution_count": 196,
   "id": "4d049839",
   "metadata": {},
   "outputs": [
    {
     "data": {
      "text/html": [
       "<div>\n",
       "<style scoped>\n",
       "    .dataframe tbody tr th:only-of-type {\n",
       "        vertical-align: middle;\n",
       "    }\n",
       "\n",
       "    .dataframe tbody tr th {\n",
       "        vertical-align: top;\n",
       "    }\n",
       "\n",
       "    .dataframe thead th {\n",
       "        text-align: right;\n",
       "    }\n",
       "</style>\n",
       "<table border=\"1\" class=\"dataframe\">\n",
       "  <thead>\n",
       "    <tr style=\"text-align: right;\">\n",
       "      <th></th>\n",
       "      <th>observed</th>\n",
       "      <th>trend</th>\n",
       "      <th>seasonal</th>\n",
       "      <th>residual</th>\n",
       "      <th>seasonadjust</th>\n",
       "    </tr>\n",
       "    <tr>\n",
       "      <th>detected</th>\n",
       "      <th></th>\n",
       "      <th></th>\n",
       "      <th></th>\n",
       "      <th></th>\n",
       "      <th></th>\n",
       "    </tr>\n",
       "  </thead>\n",
       "  <tbody>\n",
       "    <tr>\n",
       "      <th>2021-08-01</th>\n",
       "      <td>356.000732</td>\n",
       "      <td>332.816270</td>\n",
       "      <td>0.999956</td>\n",
       "      <td>1.000415</td>\n",
       "      <td>1.069661</td>\n",
       "    </tr>\n",
       "    <tr>\n",
       "      <th>2021-08-02</th>\n",
       "      <td>340.996429</td>\n",
       "      <td>334.448901</td>\n",
       "      <td>1.000025</td>\n",
       "      <td>1.000083</td>\n",
       "      <td>1.019577</td>\n",
       "    </tr>\n",
       "    <tr>\n",
       "      <th>2021-08-03</th>\n",
       "      <td>314.998322</td>\n",
       "      <td>336.393518</td>\n",
       "      <td>0.999992</td>\n",
       "      <td>0.999628</td>\n",
       "      <td>0.936398</td>\n",
       "    </tr>\n",
       "    <tr>\n",
       "      <th>2021-08-04</th>\n",
       "      <td>353.998169</td>\n",
       "      <td>338.597068</td>\n",
       "      <td>1.000346</td>\n",
       "      <td>0.999898</td>\n",
       "      <td>1.045485</td>\n",
       "    </tr>\n",
       "    <tr>\n",
       "      <th>2021-08-05</th>\n",
       "      <td>349.000366</td>\n",
       "      <td>341.053492</td>\n",
       "      <td>1.000027</td>\n",
       "      <td>1.000100</td>\n",
       "      <td>1.023301</td>\n",
       "    </tr>\n",
       "    <tr>\n",
       "      <th>...</th>\n",
       "      <td>...</td>\n",
       "      <td>...</td>\n",
       "      <td>...</td>\n",
       "      <td>...</td>\n",
       "      <td>...</td>\n",
       "    </tr>\n",
       "    <tr>\n",
       "      <th>2024-02-25</th>\n",
       "      <td>885.991089</td>\n",
       "      <td>998.884423</td>\n",
       "      <td>0.999688</td>\n",
       "      <td>1.000042</td>\n",
       "      <td>0.886981</td>\n",
       "    </tr>\n",
       "    <tr>\n",
       "      <th>2024-02-26</th>\n",
       "      <td>970.025818</td>\n",
       "      <td>990.564901</td>\n",
       "      <td>1.000015</td>\n",
       "      <td>0.999940</td>\n",
       "      <td>0.979265</td>\n",
       "    </tr>\n",
       "    <tr>\n",
       "      <th>2024-02-27</th>\n",
       "      <td>1045.017456</td>\n",
       "      <td>982.564939</td>\n",
       "      <td>1.000127</td>\n",
       "      <td>1.000003</td>\n",
       "      <td>1.063561</td>\n",
       "    </tr>\n",
       "    <tr>\n",
       "      <th>2024-02-28</th>\n",
       "      <td>1056.033813</td>\n",
       "      <td>974.918226</td>\n",
       "      <td>1.000201</td>\n",
       "      <td>0.999967</td>\n",
       "      <td>1.083202</td>\n",
       "    </tr>\n",
       "    <tr>\n",
       "      <th>2024-02-29</th>\n",
       "      <td>1120.010010</td>\n",
       "      <td>967.667105</td>\n",
       "      <td>1.000226</td>\n",
       "      <td>1.000075</td>\n",
       "      <td>1.157433</td>\n",
       "    </tr>\n",
       "  </tbody>\n",
       "</table>\n",
       "<p>943 rows × 5 columns</p>\n",
       "</div>"
      ],
      "text/plain": [
       "               observed       trend  seasonal  residual  seasonadjust\n",
       "detected                                                             \n",
       "2021-08-01   356.000732  332.816270  0.999956  1.000415      1.069661\n",
       "2021-08-02   340.996429  334.448901  1.000025  1.000083      1.019577\n",
       "2021-08-03   314.998322  336.393518  0.999992  0.999628      0.936398\n",
       "2021-08-04   353.998169  338.597068  1.000346  0.999898      1.045485\n",
       "2021-08-05   349.000366  341.053492  1.000027  1.000100      1.023301\n",
       "...                 ...         ...       ...       ...           ...\n",
       "2024-02-25   885.991089  998.884423  0.999688  1.000042      0.886981\n",
       "2024-02-26   970.025818  990.564901  1.000015  0.999940      0.979265\n",
       "2024-02-27  1045.017456  982.564939  1.000127  1.000003      1.063561\n",
       "2024-02-28  1056.033813  974.918226  1.000201  0.999967      1.083202\n",
       "2024-02-29  1120.010010  967.667105  1.000226  1.000075      1.157433\n",
       "\n",
       "[943 rows x 5 columns]"
      ]
     },
     "execution_count": 196,
     "metadata": {},
     "output_type": "execute_result"
    },
    {
     "data": {
      "image/png": "[encoded data removed]",
      "text/plain": [
       "<Figure size 2000x500 with 1 Axes>"
      ]
     },
     "metadata": {},
     "output_type": "display_data"
    }
   ],
   "source": [
    "df_season_stl = df_decomp_stl.assign(seasonadjust = df_decomp_stl.observed / df_decomp_stl.trend)\n",
    "df_season_stl.seasonadjust.plot(figsize=(20,5));\n",
    "df_season_stl"
   ]
  },
  {
   "cell_type": "code",
   "execution_count": 197,
   "id": "dcc2970c",
   "metadata": {},
   "outputs": [],
   "source": [
    "df_sem_tendencia = pd.DataFrame({\n",
    "    'datetime': df_decomp_stl.index,\n",
    "    'count_29': df_season_stl['seasonadjust']\n",
    "})"
   ]
  },
  {
   "cell_type": "code",
   "execution_count": 198,
   "id": "5f3607cf",
   "metadata": {},
   "outputs": [
    {
     "data": {
      "image/png": "[encoded data removed]",
      "text/plain": [
       "<Figure size 1200x1200 with 3 Axes>"
      ]
     },
     "metadata": {},
     "output_type": "display_data"
    }
   ],
   "source": [
    "df_sr_ano_semana, df_sr_semana, df_si = calcular_sr_si(df_sem_tendencia, coluna='count_29', plotar=True)"
   ]
  }
 ],
 "metadata": {
  "kernelspec": {
   "display_name": "Python 3",
   "language": "python",
   "name": "python3"
  },
  "language_info": {
   "codemirror_mode": {
    "name": "ipython",
    "version": 3
   },
   "file_extension": ".py",
   "mimetype": "text/x-python",
   "name": "python",
   "nbconvert_exporter": "python",
   "pygments_lexer": "ipython3",
   "version": "3.12.8"
  }
 },
 "nbformat": 4,
 "nbformat_minor": 5
}
